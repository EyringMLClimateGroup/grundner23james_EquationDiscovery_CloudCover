{
 "cells": [
  {
   "cell_type": "markdown",
   "id": "a17cfb10-cb26-4a31-b80b-74691e5aa40e",
   "metadata": {},
   "source": [
    "### Check some of the most promising equations and possibly optimize their coefficients"
   ]
  },
  {
   "cell_type": "code",
   "execution_count": 1,
   "id": "cf98bcfb-318d-4c82-83b6-c271721f15b2",
   "metadata": {},
   "outputs": [],
   "source": [
    "import numpy as np\n",
    "import sympy as sp\n",
    "import pandas as pd\n",
    "import matplotlib.pyplot as plt\n",
    "import json\n",
    "import sys\n",
    "import os\n",
    "import gc\n",
    "\n",
    "np.random.seed(10)"
   ]
  },
  {
   "cell_type": "markdown",
   "id": "3f60cb70-9b40-440d-a9c8-7133b0ab7c53",
   "metadata": {},
   "source": [
    "**Read data**"
   ]
  },
  {
   "cell_type": "code",
   "execution_count": 25,
   "id": "8342015a-1d75-48f2-904d-7fd72b051963",
   "metadata": {},
   "outputs": [],
   "source": [
    "all_possible_features = ['hus', 'clw', 'cli', 'ta', 'pa', 'zg', 'fr_land', 'U', 'rh', 'ps', 'hus_z', 'hus_zz', 'clw_z', 'clw_zz', 'cli_z',\\\n",
    "            'cli_zz', 'ta_z', 'ta_zz', 'pa_z', 'pa_zz', 'U_z', 'U_zz', 'rh_z', 'rh_zz']\n",
    "\n",
    "loc_all = {}\n",
    "for i in range(len(all_possible_features)):\n",
    "    loc_all[all_possible_features[i]] = i\n",
    "    \n",
    "# Features\n",
    "features = ['rh', 'ta', 'clw', 'cli', 'rh_z']\n",
    "no_features = len(features)\n",
    "\n",
    "loc = {}\n",
    "for i in range(len(features)):\n",
    "    loc[features[i]] = i"
   ]
  },
  {
   "cell_type": "code",
   "execution_count": 4,
   "id": "a787da85-f3ba-4beb-bb65-e0ac664eeaf7",
   "metadata": {},
   "outputs": [],
   "source": [
    "path_data = os.path.join('/home/b/b309170/my_work/icon-ml_data/cloud_cover_parameterization/neighborhood_based_SR_DYAMOND')\n",
    "\n",
    "# Load the input data and pick the five best features (rh, ta, clw, cli, rh_z)\n",
    "input_data = np.load(path_data + '/cloud_cover_input_dyamond.npy')\n",
    "input_data = np.concatenate([np.expand_dims(input_data[:, loc_all[sel_var]], axis=1) for sel_var in features], axis = 1)\n",
    "\n",
    "output_data = np.load(path_data + '/cloud_area_output_dyamond.npy')"
   ]
  },
  {
   "cell_type": "code",
   "execution_count": 5,
   "id": "e13cf189-3780-47b5-a88a-ccfa7e8a39bc",
   "metadata": {},
   "outputs": [
    {
     "data": {
      "text/plain": [
       "(285179494, 5)"
      ]
     },
     "execution_count": 5,
     "metadata": {},
     "output_type": "execute_result"
    }
   ],
   "source": [
    "(samples_total, no_of_features) = input_data.shape\n",
    "(samples_total, no_of_features)"
   ]
  },
  {
   "cell_type": "code",
   "execution_count": 6,
   "id": "da5fe220-7609-4d8e-a5ed-94e6ddcdf2ec",
   "metadata": {
    "tags": []
   },
   "outputs": [],
   "source": [
    "# Construct training and validation data\n",
    "training_folds = []\n",
    "validation_folds = []\n",
    "two_week_incr = samples_total//6\n",
    "\n",
    "for i in range(3):\n",
    "    # Note that this is a temporal split since time was the first dimension in the original tensor\n",
    "    first_incr = np.arange(samples_total//6*i, samples_total//6*(i+1))\n",
    "    second_incr = np.arange(samples_total//6*(i+3), samples_total//6*(i+4))\n",
    "\n",
    "    validation_folds.append(np.append(first_incr, second_incr))\n",
    "    training_folds.append(np.arange(samples_total))\n",
    "    training_folds[i] = np.delete(training_folds[i], validation_folds[i])"
   ]
  },
  {
   "cell_type": "code",
   "execution_count": 7,
   "id": "515a3d8b-6683-4670-b88c-921af46d32c5",
   "metadata": {},
   "outputs": [
    {
     "data": {
      "text/plain": [
       "0"
      ]
     },
     "execution_count": 7,
     "metadata": {},
     "output_type": "execute_result"
    }
   ],
   "source": [
    "# The second fold yields the best model\n",
    "flattened_input_train = input_data[training_folds[1]]\n",
    "flattened_input_valid = input_data[validation_folds[1]]\n",
    "flattened_output_train = output_data[training_folds[1]]\n",
    "flattened_output_valid = output_data[validation_folds[1]]\n",
    "    \n",
    "# Remove input_data, output_data\n",
    "del input_data, output_data, training_folds, validation_folds\n",
    "gc.collect()"
   ]
  },
  {
   "cell_type": "markdown",
   "id": "ea8964f3-0f23-4c08-a123-873428d5cb10",
   "metadata": {},
   "source": [
    "**Already remove the regime with clw + cli = 0**"
   ]
  },
  {
   "cell_type": "code",
   "execution_count": 26,
   "id": "3c49bd41-a66f-40b5-9944-96f3e73e5059",
   "metadata": {},
   "outputs": [],
   "source": [
    "reg_not_0_train = np.where(flattened_input_train[:, loc['clw']] + flattened_input_train[:, loc['cli']] != 0)[0]\n",
    "flattened_input_train = flattened_input_train[reg_not_0_train]\n",
    "flattened_output_train = flattened_output_train[reg_not_0_train]\n",
    "\n",
    "reg_not_0_valid = np.where(flattened_input_valid[:, loc['clw']] + flattened_input_valid[:, loc['cli']] != 0)[0]\n",
    "reg_0_valid = np.where(flattened_input_valid[:, loc['clw']] + flattened_input_valid[:, loc['cli']] == 0)[0]\n",
    "\n",
    "# Relevant values to compute final MSE/R2-scores\n",
    "mse_reg_0 = np.mean(flattened_output_valid[reg_0_valid]**2)\n",
    "len_reg_0 = len(reg_0_valid)\n",
    "len_reg_not_0 = len(reg_not_0_valid)\n",
    "len_data_output = len(flattened_output_valid)\n",
    "var_data_output = np.var(flattened_output_valid)\n",
    "\n",
    "flattened_input_valid = flattened_input_valid[reg_not_0_valid]\n",
    "flattened_output_valid = flattened_output_valid[reg_not_0_valid]"
   ]
  },
  {
   "cell_type": "markdown",
   "id": "413263dc-6008-47b7-825d-ddccdac1fdac",
   "metadata": {},
   "source": [
    "**Normalize the features**"
   ]
  },
  {
   "cell_type": "code",
   "execution_count": 28,
   "id": "7165b109-3a19-4314-aca6-32a61801f80c",
   "metadata": {
    "tags": []
   },
   "outputs": [],
   "source": [
    "# Scale the data\n",
    "mean_all = [4.12205844e-03,2.25493498e-05,3.38180032e-06,2.57065512e+02,6.00030443e+04,5.64080139e+03,2.35046400e-01,1.32776682e+01,6.02512234e-01,9.86270417e+04,-1.27545273e-06,-4.02484958e-10,1.65204582e-08,-4.34660202e-11,4.29441131e-10,-1.82817316e-12,-4.68742483e-03,-7.54899040e-07,-7.51544542e+00,-1.06989723e-04,1.65615172e-03,-9.27604679e-06,-4.76200071e-05,-1.32246548e-07]\n",
    "std_all = [5.07648249e-03,5.69702638e-05,1.01308124e-05,3.00533874e+01,3.12514292e+04,5.66963918e+03,4.11184302e-01,1.11389888e+01,3.32494615e-01,6.24039256e+03,2.03179260e-06,1.17041141e-08,1.33311867e-07,1.42840744e-09,6.73384546e-09,5.07424672e-11,5.82875686e-03,6.34826092e-05,3.53136052e+00,1.13215264e-02,6.62892130e-03,6.08144307e-05,2.58065098e-04,2.49552692e-06]\n",
    "\n",
    "mean = np.concatenate([np.expand_dims(mean_all[loc_all[sel_var]], axis=0) for sel_var in features], axis = 0)\n",
    "std = np.concatenate([np.expand_dims(std_all[loc_all[sel_var]], axis=0) for sel_var in features], axis = 0)\n",
    "\n",
    "# Work with scaled training folds\n",
    "train_data_scaled = (flattened_input_train - mean)/std\n",
    "valid_data_scaled = (flattened_input_valid - mean)/std"
   ]
  },
  {
   "cell_type": "markdown",
   "id": "4b01a6ca-8a79-4140-b692-28bff4f4fe1b",
   "metadata": {},
   "source": [
    "**Define and evaluate equations**"
   ]
  },
  {
   "cell_type": "code",
   "execution_count": 35,
   "id": "765d1c53-292a-43bd-8d47-4787db74e86c",
   "metadata": {},
   "outputs": [],
   "source": [
    "def eq_1(X):\n",
    "    x0 = X[:, 0]; x1 = X[:, 1]; x2 = X[:, 2]; x3 = X[:, 3]; x4 = X[:, 4]\n",
    "    return 52.6708 - 23.4291*(-np.exp(x0) + np.sin(119.675 + x1) + (np.sin(np.sqrt(np.abs(x3))))/(x2 + x3 + np.cos(x2)))\n",
    "\n",
    "def eq_2(X):\n",
    "    x0 = X[:, 0]; x1 = X[:, 1]; x2 = X[:, 2]; x3 = X[:, 3]; x4 = X[:, 4]\n",
    "    return 1531.13 + 2.53774*(-np.sqrt(np.abs(-89.99 + x1))*(60.204 - x0 + x1) + 4.60663/(-0.89465 - x2 - x3))\n",
    "\n",
    "def eq_3(X):\n",
    "    x0 = X[:, 0]; x1 = X[:, 1]; x2 = X[:, 2]; x3 = X[:, 3]; x4 = X[:, 4]\n",
    "    return 49.9941 + 13.4357*(np.exp(x0) - x2 + np.log(np.exp(x2) + 2*x3))\n",
    "\n",
    "def eq_4(X):\n",
    "    x0 = X[:, 0]; x1 = X[:, 1]; x2 = X[:, 2]; x3 = X[:, 3]; x4 = X[:, 4]\n",
    "    return 91.3875 - (1.7767*(9.03952 - np.exp(2*x0) + x0 + x1))/(np.exp(x2 + x3) + x3)"
   ]
  },
  {
   "cell_type": "code",
   "execution_count": 47,
   "id": "c0fe87bd-0d83-4624-b186-b6824496dd3a",
   "metadata": {},
   "outputs": [
    {
     "name": "stdout",
     "output_type": "stream",
     "text": [
      "150.33498795650283 171.60863073784284 179.24163023825918 177.589459368471\n",
      "0.9129810190019828 0.9006671142875085 0.8962488757422884 0.8972052081801183\n"
     ]
    }
   ],
   "source": [
    "# Evaluate on validation data -- unbounded validation loss\n",
    "preds_valid_1 = eq_1(valid_data_scaled)\n",
    "preds_valid_2 = eq_2(valid_data_scaled)\n",
    "preds_valid_3 = eq_3(valid_data_scaled)\n",
    "preds_valid_4 = eq_4(valid_data_scaled)\n",
    "\n",
    "mse_reg_1_valid_eq_1 = np.mean((flattened_output_valid - preds_valid_1)**2, dtype=np.float64)\n",
    "mse_reg_1_valid_eq_2 = np.mean((flattened_output_valid - preds_valid_2)**2, dtype=np.float64)\n",
    "mse_reg_1_valid_eq_3 = np.mean((flattened_output_valid - preds_valid_3)**2, dtype=np.float64)\n",
    "mse_reg_1_valid_eq_4 = np.mean((flattened_output_valid - preds_valid_4)**2, dtype=np.float64)\n",
    "\n",
    "mse_total_eq_1 = (mse_reg_0*len_reg_0 + mse_reg_1_valid_eq_1*len_reg_not_0)/len_data_output\n",
    "mse_total_eq_2 = (mse_reg_0*len_reg_0 + mse_reg_1_valid_eq_2*len_reg_not_0)/len_data_output\n",
    "mse_total_eq_3 = (mse_reg_0*len_reg_0 + mse_reg_1_valid_eq_3*len_reg_not_0)/len_data_output\n",
    "mse_total_eq_4 = (mse_reg_0*len_reg_0 + mse_reg_1_valid_eq_4*len_reg_not_0)/len_data_output\n",
    "\n",
    "r2_total_eq_1 = 1 - mse_total_eq_1/var_data_output\n",
    "r2_total_eq_2 = 1 - mse_total_eq_2/var_data_output\n",
    "r2_total_eq_3 = 1 - mse_total_eq_3/var_data_output\n",
    "r2_total_eq_4 = 1 - mse_total_eq_4/var_data_output\n",
    "\n",
    "print(mse_total_eq_1, mse_total_eq_2, mse_total_eq_3, mse_total_eq_4)\n",
    "print(r2_total_eq_1, r2_total_eq_2, r2_total_eq_3, r2_total_eq_4)"
   ]
  },
  {
   "cell_type": "code",
   "execution_count": 50,
   "id": "4633f7ed-bfb4-4553-8473-40a73fa16d98",
   "metadata": {},
   "outputs": [
    {
     "name": "stdout",
     "output_type": "stream",
     "text": [
      "144.82318624317864 168.31594233476454 173.4763427725344 173.85727224500943\n",
      "0.9161714364495525 0.9025730338174502 0.8995860193257447 0.8993655244497516\n"
     ]
    }
   ],
   "source": [
    "# Evaluate on validation data -- bounded validation loss\n",
    "preds_valid_1 = np.minimum(np.maximum(eq_1(valid_data_scaled), 0), 100)\n",
    "preds_valid_2 = np.minimum(np.maximum(eq_2(valid_data_scaled), 0), 100)\n",
    "preds_valid_3 = np.minimum(np.maximum(eq_3(valid_data_scaled), 0), 100)\n",
    "preds_valid_4 = np.minimum(np.maximum(eq_4(valid_data_scaled), 0), 100)\n",
    "\n",
    "mse_reg_1_valid_eq_1 = np.mean((flattened_output_valid - preds_valid_1)**2, dtype=np.float64)\n",
    "mse_reg_1_valid_eq_2 = np.mean((flattened_output_valid - preds_valid_2)**2, dtype=np.float64)\n",
    "mse_reg_1_valid_eq_3 = np.mean((flattened_output_valid - preds_valid_3)**2, dtype=np.float64)\n",
    "mse_reg_1_valid_eq_4 = np.mean((flattened_output_valid - preds_valid_4)**2, dtype=np.float64)\n",
    "\n",
    "mse_total_eq_1 = (mse_reg_0*len_reg_0 + mse_reg_1_valid_eq_1*len_reg_not_0)/len_data_output\n",
    "mse_total_eq_2 = (mse_reg_0*len_reg_0 + mse_reg_1_valid_eq_2*len_reg_not_0)/len_data_output\n",
    "mse_total_eq_3 = (mse_reg_0*len_reg_0 + mse_reg_1_valid_eq_3*len_reg_not_0)/len_data_output\n",
    "mse_total_eq_4 = (mse_reg_0*len_reg_0 + mse_reg_1_valid_eq_4*len_reg_not_0)/len_data_output\n",
    "\n",
    "r2_total_eq_1 = 1 - mse_total_eq_1/var_data_output\n",
    "r2_total_eq_2 = 1 - mse_total_eq_2/var_data_output\n",
    "r2_total_eq_3 = 1 - mse_total_eq_3/var_data_output\n",
    "r2_total_eq_4 = 1 - mse_total_eq_4/var_data_output\n",
    "\n",
    "print(mse_total_eq_1, mse_total_eq_2, mse_total_eq_3, mse_total_eq_4)\n",
    "print(r2_total_eq_1, r2_total_eq_2, r2_total_eq_3, r2_total_eq_4)"
   ]
  },
  {
   "cell_type": "code",
   "execution_count": 51,
   "id": "0b4a9cd3-525b-43d4-8756-781d125005ce",
   "metadata": {},
   "outputs": [
    {
     "name": "stdout",
     "output_type": "stream",
     "text": [
      "221.96726618493997 219.75643642813347\n",
      "258.2413318887508 255.40759306220806\n",
      "266.1967115099247 263.23869825839114\n",
      "267.3748143037159 263.81677331424237\n"
     ]
    }
   ],
   "source": [
    "# Test generalization skill on regime 1: The skill is even better on the validation set!\n",
    "preds_train_1 = np.minimum(np.maximum(eq_1(train_data_scaled), 0), 100)\n",
    "preds_train_2 = np.minimum(np.maximum(eq_2(train_data_scaled), 0), 100)\n",
    "preds_train_3 = np.minimum(np.maximum(eq_3(train_data_scaled), 0), 100)\n",
    "preds_train_4 = np.minimum(np.maximum(eq_4(train_data_scaled), 0), 100)\n",
    "\n",
    "mse_reg_1_train_eq_1 = np.mean((flattened_output_train - preds_train_1)**2, dtype=np.float64)\n",
    "mse_reg_1_train_eq_2 = np.mean((flattened_output_train - preds_train_2)**2, dtype=np.float64)\n",
    "mse_reg_1_train_eq_3 = np.mean((flattened_output_train - preds_train_3)**2, dtype=np.float64)\n",
    "mse_reg_1_train_eq_4 = np.mean((flattened_output_train - preds_train_4)**2, dtype=np.float64)\n",
    "\n",
    "print(mse_reg_1_train_eq_1, mse_reg_1_valid_eq_1)\n",
    "print(mse_reg_1_train_eq_2, mse_reg_1_valid_eq_2)\n",
    "print(mse_reg_1_train_eq_3, mse_reg_1_valid_eq_3)\n",
    "print(mse_reg_1_train_eq_4, mse_reg_1_valid_eq_4)"
   ]
  },
  {
   "cell_type": "markdown",
   "id": "a6fe38df-93d7-40d7-8b18-8433215f5a19",
   "metadata": {},
   "source": [
    "**Define and optimize equations**"
   ]
  },
  {
   "cell_type": "code",
   "execution_count": 63,
   "id": "544e3b1d-e161-44f1-b8b0-57367dd467ac",
   "metadata": {},
   "outputs": [],
   "source": [
    "# Complexity = 11\n",
    "def eq_1(X, a=52.6708, b=23.4291, c=1, d=1, e=1, f=119.675, g=1, h=1, i=1, j=1, k=1):\n",
    "    x0 = X[:, 0]; x1 = X[:, 1]; x2 = X[:, 2]; x3 = X[:, 3]; x4 = X[:, 4]\n",
    "    return a - b*(-c*np.exp(d*x0) + e*np.sin(f + g*x1) + (np.sin(np.sqrt(np.abs(h*x3))))/(i*x2 + j*x3 + np.cos(k*x2)))\n",
    "\n",
    "# Complexity = 9\n",
    "def eq_2(X, a=1531.13, b=2.53774, c=-89.99, d=1, e=60.204, f=1, g=4.60663, h=-0.89465, i=1):\n",
    "    x0 = X[:, 0]; x1 = X[:, 1]; x2 = X[:, 2]; x3 = X[:, 3]; x4 = X[:, 4]\n",
    "    return a + b*(-np.sqrt(np.abs(c + d*x1))*(e - f*x0 + x1) + g/(h - i*x2 - x3))\n",
    "\n",
    "# Complexity = 7\n",
    "def eq_3(X, a=49.9941, b=13.4357, c=1, d=1, e=1, f=1, g=2):\n",
    "    x0 = X[:, 0]; x1 = X[:, 1]; x2 = X[:, 2]; x3 = X[:, 3]; x4 = X[:, 4]\n",
    "    return a + b*(np.exp(c*x0) - d*x2 + e*np.log(np.abs(np.exp(f*x2) + g*x3)))\n",
    "\n",
    "# Complexity = 10\n",
    "def eq_4(X, a=91.3875, b=1.7767, c=9.03952, d=1, e=2, f=1, g=1, h=1, i=1, j=1):\n",
    "    x0 = X[:, 0]; x1 = X[:, 1]; x2 = X[:, 2]; x3 = X[:, 3]; x4 = X[:, 4]\n",
    "    return a - (b*(c - d*np.exp(e*x0) + f*x0 + x1))/(g*np.exp(h*x2 + i*x3) + j*x3)"
   ]
  },
  {
   "cell_type": "code",
   "execution_count": null,
   "id": "83182a1f-e579-497a-b3ca-bdbc8e83c880",
   "metadata": {},
   "outputs": [],
   "source": [
    "import scipy as sci\n",
    "from scipy.optimize import minimize\n",
    "\n",
    "T_subset = 10**6\n",
    "inds = np.random.randint(0, train_data_scaled.shape[0], T_subset)"
   ]
  },
  {
   "cell_type": "code",
   "execution_count": 60,
   "id": "0d51bf4d-09de-4d87-83bb-c8a63640717e",
   "metadata": {
    "collapsed": true,
    "jupyter": {
     "outputs_hidden": true
    },
    "tags": []
   },
   "outputs": [
    {
     "name": "stdout",
     "output_type": "stream",
     "text": [
      "Warning: Desired error not necessarily achieved due to precision loss.\n",
      "         Current function value: 186.649310\n",
      "         Iterations: 498\n",
      "         Function evaluations: 6912\n",
      "         Gradient evaluations: 576\n"
     ]
    },
    {
     "data": {
      "text/plain": [
       "      fun: 186.6493100195604\n",
       " hess_inv: array([[ 2.59399036e+01, -2.52961623e+00, -4.56969841e+00,\n",
       "         9.34943876e-01,  9.81607048e+00, -1.61350996e-01,\n",
       "        -2.00669976e-01,  4.09999616e+01,  2.08767247e-01,\n",
       "         1.70902315e-01, -8.54107708e+00],\n",
       "       [-2.52961623e+00,  4.47559664e-01,  9.23442243e-02,\n",
       "        -9.88884058e-02, -1.38847775e+00,  2.17086083e-02,\n",
       "         1.98590890e-02, -4.42317239e+00, -3.94037350e-02,\n",
       "        -5.24199437e-03,  7.16956938e-01],\n",
       "       [-4.56969841e+00,  9.23442243e-02,  1.61879747e+00,\n",
       "        -1.69193143e-01, -9.31704331e-01,  3.18137950e-02,\n",
       "         1.85628125e-02, -6.40609765e+00,  4.86409147e-03,\n",
       "        -5.77384393e-02,  1.64308702e+00],\n",
       "       [ 9.34943876e-01, -9.88884058e-02, -1.69193143e-01,\n",
       "         3.63170482e-02,  3.77196768e-01, -6.79319069e-03,\n",
       "        -6.18768587e-03,  1.49054388e+00,  7.55250556e-03,\n",
       "         6.44307554e-03, -2.96436760e-01],\n",
       "       [ 9.81607048e+00, -1.38847775e+00, -9.31704331e-01,\n",
       "         3.77196768e-01,  4.90262872e+00, -6.64780311e-02,\n",
       "        -9.45616689e-02,  1.64987129e+01,  1.43982830e-01,\n",
       "         1.35669300e-02, -2.97638086e+00],\n",
       "       [-1.61350996e-01,  2.17086083e-02,  3.18137950e-02,\n",
       "        -6.79319069e-03, -6.64780311e-02,  4.27437558e-03,\n",
       "         5.43005069e-04, -2.59493829e-01, -3.68842639e-03,\n",
       "         1.64016597e-03,  4.54615183e-02],\n",
       "       [-2.00669976e-01,  1.98590890e-02,  1.85628125e-02,\n",
       "        -6.18768587e-03, -9.45616689e-02,  5.43005069e-04,\n",
       "         7.76365592e-03, -3.31881059e-01, -2.75277132e-03,\n",
       "        -2.93353839e-04,  7.15092535e-02],\n",
       "       [ 4.09999616e+01, -4.42317239e+00, -6.40609765e+00,\n",
       "         1.49054388e+00,  1.64987129e+01, -2.59493829e-01,\n",
       "        -3.31881059e-01,  6.57576335e+01,  3.64619663e-01,\n",
       "         2.53952777e-01, -1.32796982e+01],\n",
       "       [ 2.08767247e-01, -3.94037350e-02,  4.86409147e-03,\n",
       "         7.55250556e-03,  1.43982830e-01, -3.68842639e-03,\n",
       "        -2.75277132e-03,  3.64619663e-01,  2.28344357e-02,\n",
       "        -2.25959809e-02, -5.14755856e-02],\n",
       "       [ 1.70902315e-01, -5.24199437e-03, -5.77384393e-02,\n",
       "         6.44307554e-03,  1.35669300e-02,  1.64016597e-03,\n",
       "        -2.93353839e-04,  2.53952777e-01, -2.25959809e-02,\n",
       "         2.89625280e-02, -7.06446035e-02],\n",
       "       [-8.54107708e+00,  7.16956938e-01,  1.64308702e+00,\n",
       "        -2.96436760e-01, -2.97638086e+00,  4.54615183e-02,\n",
       "         7.15092535e-02, -1.32796982e+01, -5.14755856e-02,\n",
       "        -7.06446035e-02,  4.50155286e+00]])\n",
       "      jac: array([-5.72204590e-06,  5.72204590e-05,  2.47955322e-05,  2.47955322e-04,\n",
       "       -5.72204590e-06, -1.33514404e-05,  1.90734863e-06,  1.33514404e-05,\n",
       "       -9.53674316e-05, -8.20159912e-05,  0.00000000e+00])\n",
       "  message: 'Desired error not necessarily achieved due to precision loss.'\n",
       "     nfev: 6912\n",
       "      nit: 498\n",
       "     njev: 576\n",
       "   status: 2\n",
       "  success: False\n",
       "        x: array([ 2.41841920e+01,  4.19176885e+00,  9.43228787e+00,  8.50845854e-01,\n",
       "        7.92502924e+00,  1.19732476e+02,  1.15204279e+00,  1.41873548e+01,\n",
       "        1.34409929e+00,  1.27593199e+00, -3.54980215e-06])"
      ]
     },
     "execution_count": 60,
     "metadata": {},
     "output_type": "execute_result"
    }
   ],
   "source": [
    "# Equation 1\n",
    "def objective_eq_1(P, X,Y):\n",
    "    '''\n",
    "        The objective function.\n",
    "    '''\n",
    "    a,b,c,d,e,f,g,h,i,j,k = P\n",
    "    train_preds = np.minimum(np.maximum(eq_1(X, a,b,c,d,e,f,g,h,i,j,k), 0), 100)\n",
    "    train_mse = np.mean((train_preds - Y)**2, dtype=np.float64)\n",
    "    return train_mse\n",
    "\n",
    "(a,b,c,d,e,f,g,h,i,j,k) = (52.6708, 23.4291, 1, 1, 1, 119.675, 1, 1, 1, 1, 1)\n",
    "res_1 = minimize(objective_eq_1, (a,b,c,d,e,f,g,h,i,j,k), args=(train_data_scaled[inds], flattened_output_train[inds]), \\\n",
    "               method='BFGS', options={'disp': True})\n",
    "res_1"
   ]
  },
  {
   "cell_type": "code",
   "execution_count": 61,
   "id": "8df00a7f-0b1a-4b31-a741-88e0d00fac8e",
   "metadata": {
    "collapsed": true,
    "jupyter": {
     "outputs_hidden": true
    },
    "tags": []
   },
   "outputs": [
    {
     "name": "stdout",
     "output_type": "stream",
     "text": [
      "Warning: Desired error not necessarily achieved due to precision loss.\n",
      "         Current function value: 208.608058\n",
      "         Iterations: 302\n",
      "         Function evaluations: 3972\n",
      "         Gradient evaluations: 396\n"
     ]
    },
    {
     "data": {
      "text/plain": [
       "      fun: 208.60805773930016\n",
       " hess_inv: array([[ 1.04051879e+04,  3.20832160e+01, -1.44030201e+03,\n",
       "         1.62352310e+02, -6.67591145e+01, -1.12124844e-01,\n",
       "        -6.51084719e+00, -2.84596568e+00,  8.39402733e+00],\n",
       "       [ 3.20832160e+01,  9.92079482e-02, -4.42088311e+00,\n",
       "         5.03855750e-01, -2.06062435e-01, -5.71472167e-04,\n",
       "        -1.98755559e-02, -8.46270522e-03,  2.50209224e-02],\n",
       "       [-1.44030201e+03, -4.42088311e+00,  2.00875360e+02,\n",
       "        -2.22251397e+01,  9.22879852e+00, -1.48880859e-03,\n",
       "         9.13971354e-01,  4.23663096e-01, -1.24204878e+00],\n",
       "       [ 1.62352310e+02,  5.03855750e-01, -2.22251397e+01,\n",
       "         2.71254057e+00, -1.04768516e+00, -1.14777896e-02,\n",
       "        -1.00435231e-01, -1.64511882e-02,  5.86969652e-02],\n",
       "       [-6.67591145e+01, -2.06062435e-01,  9.22879852e+00,\n",
       "        -1.04768516e+00,  4.29076883e-01,  1.32833201e-03,\n",
       "         4.04442415e-02,  1.81231962e-02, -5.32239855e-02],\n",
       "       [-1.12124844e-01, -5.71472168e-04, -1.48880859e-03,\n",
       "        -1.14777896e-02,  1.32833201e-03,  9.18635602e-04,\n",
       "        -8.30223048e-04, -7.15985036e-04,  2.01752668e-03],\n",
       "       [-6.51084719e+00, -1.98755559e-02,  9.13971354e-01,\n",
       "        -1.00435231e-01,  4.04442415e-02, -8.30223048e-04,\n",
       "         1.25078502e-02, -1.62295160e-03,  1.64735433e-03],\n",
       "       [-2.84596568e+00, -8.46270523e-03,  4.23663096e-01,\n",
       "        -1.64511882e-02,  1.81231962e-02, -7.15985036e-04,\n",
       "        -1.62295160e-03,  9.85257114e-03, -2.49261140e-02],\n",
       "       [ 8.39402733e+00,  2.50209224e-02, -1.24204878e+00,\n",
       "         5.86969652e-02, -5.32239855e-02,  2.01752668e-03,\n",
       "         1.64735433e-03, -2.49261140e-02,  6.36056316e-02]])\n",
       "      jac: array([-6.29425049e-05,  1.42765045e-02, -1.75476074e-04, -2.19345093e-04,\n",
       "        5.14984131e-05, -1.78337097e-03, -1.10626221e-04,  3.82041931e-03,\n",
       "        1.25312805e-03])\n",
       "  message: 'Desired error not necessarily achieved due to precision loss.'\n",
       "     nfev: 3972\n",
       "      nit: 302\n",
       "     njev: 396\n",
       "   status: 2\n",
       "  success: False\n",
       "        x: array([ 2.36859876e+03,  6.61113626e+00, -2.55889867e+02,  1.85108805e+01,\n",
       "        2.18536689e+01,  4.34587237e-01,  5.20883273e-01, -7.48802350e-01,\n",
       "        9.49229529e-01])"
      ]
     },
     "execution_count": 61,
     "metadata": {},
     "output_type": "execute_result"
    }
   ],
   "source": [
    "# Equation 2\n",
    "def objective_eq_2(P, X,Y):\n",
    "    '''\n",
    "        The objective function.\n",
    "    '''\n",
    "    a,b,c,d,e,f,g,h,i = P\n",
    "    train_preds = np.minimum(np.maximum(eq_2(X, a,b,c,d,e,f,g,h,i), 0), 100)\n",
    "    train_mse = np.mean((train_preds - Y)**2, dtype=np.float64)\n",
    "    return train_mse\n",
    "\n",
    "(a,b,c,d,e,f,g,h,i) = (1531.13, 2.53774, -89.99, 1, 60.204, 1, 4.60663, -0.89465, 1)\n",
    "res_2 = minimize(objective_eq_2, (a,b,c,d,e,f,g,h,i), args=(train_data_scaled[inds], flattened_output_train[inds]), \\\n",
    "               method='BFGS', options={'disp': True})\n",
    "res_2"
   ]
  },
  {
   "cell_type": "code",
   "execution_count": 64,
   "id": "b8ec3f1e-cc9d-4ffb-b30d-47ad08182db2",
   "metadata": {
    "collapsed": true,
    "jupyter": {
     "outputs_hidden": true
    },
    "tags": []
   },
   "outputs": [
    {
     "name": "stdout",
     "output_type": "stream",
     "text": [
      "Warning: Desired error not necessarily achieved due to precision loss.\n",
      "         Current function value: 246.206770\n",
      "         Iterations: 105\n",
      "         Function evaluations: 1314\n",
      "         Gradient evaluations: 163\n"
     ]
    },
    {
     "data": {
      "text/plain": [
       "      fun: 246.20676969429084\n",
       " hess_inv: array([[ 2.13587976, -0.79515861,  0.66920225, -1.18455357,  2.54482588,\n",
       "        -0.64070437,  0.58766217],\n",
       "       [-0.79515861,  0.31542437, -0.26570797,  0.47750374, -0.99824192,\n",
       "         0.25347294, -0.23251238],\n",
       "       [ 0.66920225, -0.26570797,  0.22645227, -0.40821399,  0.84567481,\n",
       "        -0.21600032,  0.19811717],\n",
       "       [-1.18455357,  0.47750374, -0.40821399,  0.74230866, -1.52568572,\n",
       "         0.3907416 , -0.3583636 ],\n",
       "       [ 2.54482588, -0.99824192,  0.84567481, -1.52568572,  3.21272803,\n",
       "        -0.80727422,  0.74035752],\n",
       "       [-0.64070437,  0.25347294, -0.21600032,  0.3907416 , -0.80727422,\n",
       "         0.20755857, -0.19036537],\n",
       "       [ 0.58766217, -0.23251238,  0.19811717, -0.3583636 ,  0.74035752,\n",
       "        -0.19036537,  0.17460174]])\n",
       "      jac: array([-5.72204590e-06,  4.38690186e-05,  4.19616699e-05,  1.14440918e-05,\n",
       "       -3.81469727e-06, -8.20159912e-05,  8.01086426e-05])\n",
       "  message: 'Desired error not necessarily achieved due to precision loss.'\n",
       "     nfev: 1314\n",
       "      nit: 105\n",
       "     njev: 163\n",
       "   status: 2\n",
       "  success: False\n",
       "        x: array([62.00729768,  1.7589182 ,  2.90097803,  5.77320293,  7.27372609,\n",
       "        0.64682214,  2.31973957])"
      ]
     },
     "execution_count": 64,
     "metadata": {},
     "output_type": "execute_result"
    }
   ],
   "source": [
    "# Equation 3\n",
    "def objective_eq_3(P, X,Y):\n",
    "    '''\n",
    "        The objective function.\n",
    "    '''\n",
    "    a,b,c,d,e,f,g = P\n",
    "    train_preds = np.minimum(np.maximum(eq_3(X, a,b,c,d,e,f,g), 0), 100)\n",
    "    train_mse = np.mean((train_preds - Y)**2, dtype=np.float64)\n",
    "    return train_mse\n",
    "\n",
    "(a,b,c,d,e,f,g) = (49.9941,13.4357,1,1,1,1,2)\n",
    "res_3 = minimize(objective_eq_3, (a,b,c,d,e,f,g), args=(train_data_scaled[inds], flattened_output_train[inds]), \\\n",
    "               method='BFGS', options={'disp': True})\n",
    "res_3"
   ]
  },
  {
   "cell_type": "code",
   "execution_count": 65,
   "id": "409b8b11-94fd-4970-aa75-f9a2264830b9",
   "metadata": {
    "collapsed": true,
    "jupyter": {
     "outputs_hidden": true
    },
    "tags": []
   },
   "outputs": [
    {
     "name": "stdout",
     "output_type": "stream",
     "text": [
      "Warning: Desired error not necessarily achieved due to precision loss.\n",
      "         Current function value: 247.874392\n",
      "         Iterations: 68\n",
      "         Function evaluations: 1056\n",
      "         Gradient evaluations: 95\n"
     ]
    },
    {
     "data": {
      "text/plain": [
       "      fun: 247.8743917072119\n",
       " hess_inv: array([[ 1.34077360e-01,  2.85608723e-02, -2.05675025e-01,\n",
       "        -1.45826836e-01,  1.79249696e-01, -2.16533076e-01,\n",
       "         9.36637407e-04, -1.29440378e-02, -1.11233936e-01,\n",
       "         9.27057658e-02],\n",
       "       [ 2.85608723e-02,  2.97353157e-01, -6.41928471e-01,\n",
       "        -1.71115889e-01,  1.33822676e-01, -3.19847390e-01,\n",
       "         2.20973872e-03,  3.03630669e-02,  1.24667451e-01,\n",
       "        -1.23155455e-01],\n",
       "       [-2.05675025e-01, -6.41928471e-01,  1.58285316e+00,\n",
       "         4.48034672e-01, -3.65611613e-01,  8.11218527e-01,\n",
       "         4.28779793e-03, -5.11970748e-02, -1.32998281e-01,\n",
       "         1.78145959e-01],\n",
       "       [-1.45826836e-01, -1.71115889e-01,  4.48034672e-01,\n",
       "         4.32898527e-01, -5.81771835e-01,  6.06354614e-01,\n",
       "        -4.00171630e-02, -6.54497673e-03, -1.39411366e-02,\n",
       "        -9.16399942e-02],\n",
       "       [ 1.79249696e-01,  1.33822676e-01, -3.65611613e-01,\n",
       "        -5.81771835e-01,  8.41100310e-01, -7.48344022e-01,\n",
       "         6.30310759e-02, -1.49102180e-03, -1.67037765e-02,\n",
       "         1.87453540e-01],\n",
       "       [-2.16533076e-01, -3.19847390e-01,  8.11218527e-01,\n",
       "         6.06354614e-01, -7.48344022e-01,  9.84136081e-01,\n",
       "        -5.21384548e-02, -1.88394997e-02, -1.03121298e-01,\n",
       "        -4.70438048e-02],\n",
       "       [ 9.36637407e-04,  2.20973872e-03,  4.28779793e-03,\n",
       "        -4.00171630e-02,  6.30310759e-02, -5.21384548e-02,\n",
       "         7.71660730e-03,  1.46269888e-03,  1.97176342e-02,\n",
       "         7.19314292e-03],\n",
       "       [-1.29440378e-02,  3.03630669e-02, -5.11970748e-02,\n",
       "        -6.54497673e-03, -1.49102180e-03, -1.88394997e-02,\n",
       "         1.46269888e-03,  7.98834412e-03,  3.37910517e-02,\n",
       "        -2.75688404e-02],\n",
       "       [-1.11233936e-01,  1.24667451e-01, -1.32998281e-01,\n",
       "        -1.39411366e-02, -1.67037765e-02, -1.03121298e-01,\n",
       "         1.97176342e-02,  3.37910517e-02,  2.85687340e-01,\n",
       "        -1.77287035e-01],\n",
       "       [ 9.27057658e-02, -1.23155455e-01,  1.78145959e-01,\n",
       "        -9.16399942e-02,  1.87453540e-01, -4.70438048e-02,\n",
       "         7.19314292e-03, -2.75688404e-02, -1.77287035e-01,\n",
       "         1.74696228e-01]])\n",
       "      jac: array([ 3.81469727e-06,  2.32696533e-04,  8.58306885e-05, -2.04086304e-04,\n",
       "       -1.08718872e-04,  4.19616699e-05, -2.21824646e-03,  5.91278076e-04,\n",
       "        5.43594360e-04,  8.54492188e-04])\n",
       "  message: 'Desired error not necessarily achieved due to precision loss.'\n",
       "     nfev: 1056\n",
       "      nit: 68\n",
       "     njev: 95\n",
       "   status: 2\n",
       "  success: False\n",
       "        x: array([92.25527017,  2.31050007,  5.51950245,  0.50547579,  2.0794074 ,\n",
       "       -0.72430035,  0.62305574,  0.37395391, -0.92350436,  1.86339747])"
      ]
     },
     "execution_count": 65,
     "metadata": {},
     "output_type": "execute_result"
    }
   ],
   "source": [
    "# Equation 4\n",
    "def objective_eq_4(P, X,Y):\n",
    "    '''\n",
    "        The objective function.\n",
    "    '''\n",
    "    a,b,c,d,e,f,g,h,i,j = P\n",
    "    train_preds = np.minimum(np.maximum(eq_4(X, a,b,c,d,e,f,g,h,i,j), 0), 100)\n",
    "    train_mse = np.mean((train_preds - Y)**2, dtype=np.float64)\n",
    "    return train_mse\n",
    "\n",
    "(a,b,c,d,e,f,g,h,i,j) = (91.3875,1.7767,9.03952,1,2,1,1,1,1,1)\n",
    "res_4 = minimize(objective_eq_4, (a,b,c,d,e,f,g,h,i,j), args=(train_data_scaled[inds], flattened_output_train[inds]), \\\n",
    "               method='BFGS', options={'disp': True})\n",
    "res_4"
   ]
  },
  {
   "cell_type": "code",
   "execution_count": 70,
   "id": "b2ba63df-5482-420b-bf3e-b40b6924e762",
   "metadata": {},
   "outputs": [
    {
     "name": "stdout",
     "output_type": "stream",
     "text": [
      "121.88511471084269 136.63732578874766 159.804892162015 161.45029573528936\n",
      "0.9294487688785211 0.920909689633453 0.9074995178204286 0.9065471025229447\n"
     ]
    }
   ],
   "source": [
    "# Evaluate optimized equations on validation data -- bounded validation loss\n",
    "preds_valid_1 = np.minimum(np.maximum(eq_1(valid_data_scaled, *res_1.x), 0), 100)\n",
    "preds_valid_2 = np.minimum(np.maximum(eq_2(valid_data_scaled, *res_2.x), 0), 100)\n",
    "preds_valid_3 = np.minimum(np.maximum(eq_3(valid_data_scaled, *res_3.x), 0), 100)\n",
    "preds_valid_4 = np.minimum(np.maximum(eq_4(valid_data_scaled, *res_4.x), 0), 100)\n",
    "\n",
    "mse_reg_1_valid_eq_1 = np.mean((flattened_output_valid - preds_valid_1)**2, dtype=np.float64)\n",
    "mse_reg_1_valid_eq_2 = np.mean((flattened_output_valid - preds_valid_2)**2, dtype=np.float64)\n",
    "mse_reg_1_valid_eq_3 = np.mean((flattened_output_valid - preds_valid_3)**2, dtype=np.float64)\n",
    "mse_reg_1_valid_eq_4 = np.mean((flattened_output_valid - preds_valid_4)**2, dtype=np.float64)\n",
    "\n",
    "mse_total_eq_1 = (mse_reg_0*len_reg_0 + mse_reg_1_valid_eq_1*len_reg_not_0)/len_data_output\n",
    "mse_total_eq_2 = (mse_reg_0*len_reg_0 + mse_reg_1_valid_eq_2*len_reg_not_0)/len_data_output\n",
    "mse_total_eq_3 = (mse_reg_0*len_reg_0 + mse_reg_1_valid_eq_3*len_reg_not_0)/len_data_output\n",
    "mse_total_eq_4 = (mse_reg_0*len_reg_0 + mse_reg_1_valid_eq_4*len_reg_not_0)/len_data_output\n",
    "\n",
    "r2_total_eq_1 = 1 - mse_total_eq_1/var_data_output\n",
    "r2_total_eq_2 = 1 - mse_total_eq_2/var_data_output\n",
    "r2_total_eq_3 = 1 - mse_total_eq_3/var_data_output\n",
    "r2_total_eq_4 = 1 - mse_total_eq_4/var_data_output\n",
    "\n",
    "print(mse_total_eq_1, mse_total_eq_2, mse_total_eq_3, mse_total_eq_4)\n",
    "print(r2_total_eq_1, r2_total_eq_2, r2_total_eq_3, r2_total_eq_4)"
   ]
  },
  {
   "cell_type": "code",
   "execution_count": 80,
   "id": "7a9d26b5-7850-4d9c-b058-0fef81f28c33",
   "metadata": {},
   "outputs": [
    {
     "name": "stdout",
     "output_type": "stream",
     "text": [
      "186.4366625924015 184.94703484515756\n",
      "208.6343839832529 207.33407984690123\n",
      "246.5238147978788 242.49174863568558\n",
      "248.0013052965759 244.98871154154406\n"
     ]
    }
   ],
   "source": [
    "# Test generalization skill on regime 1: The skill is even better on the validation set!\n",
    "preds_train_1 = np.minimum(np.maximum(eq_1(train_data_scaled, *res_1.x), 0), 100)\n",
    "preds_train_2 = np.minimum(np.maximum(eq_2(train_data_scaled, *res_2.x), 0), 100)\n",
    "preds_train_3 = np.minimum(np.maximum(eq_3(train_data_scaled, *res_3.x), 0), 100)\n",
    "preds_train_4 = np.minimum(np.maximum(eq_4(train_data_scaled, *res_4.x), 0), 100)\n",
    "\n",
    "mse_reg_1_train_eq_1 = np.mean((flattened_output_train - preds_train_1)**2, dtype=np.float64)\n",
    "mse_reg_1_train_eq_2 = np.mean((flattened_output_train - preds_train_2)**2, dtype=np.float64)\n",
    "mse_reg_1_train_eq_3 = np.mean((flattened_output_train - preds_train_3)**2, dtype=np.float64)\n",
    "mse_reg_1_train_eq_4 = np.mean((flattened_output_train - preds_train_4)**2, dtype=np.float64)\n",
    "\n",
    "print(mse_reg_1_train_eq_1, mse_reg_1_valid_eq_1)\n",
    "print(mse_reg_1_train_eq_2, mse_reg_1_valid_eq_2)\n",
    "print(mse_reg_1_train_eq_3, mse_reg_1_valid_eq_3)\n",
    "print(mse_reg_1_train_eq_4, mse_reg_1_valid_eq_4)"
   ]
  },
  {
   "cell_type": "markdown",
   "id": "8368b1b0-024f-4604-8830-e75cb3afa760",
   "metadata": {},
   "source": [
    "**Save results**"
   ]
  },
  {
   "cell_type": "code",
   "execution_count": 82,
   "id": "dc954ac8-9bb1-4e8e-b53b-fa15ffe7957d",
   "metadata": {},
   "outputs": [],
   "source": [
    "all_possible_features = ['hus', 'clw', 'cli', 'ta', 'pa', 'zg', 'fr_land', 'U', 'rh', 'ps', 'hus_z', 'hus_zz', 'clw_z', 'clw_zz', 'cli_z',\\\n",
    "            'cli_zz', 'ta_z', 'ta_zz', 'pa_z', 'pa_zz', 'U_z', 'U_zz', 'rh_z', 'rh_zz']\n",
    "\n",
    "loc = {}\n",
    "for i in range(len(all_possible_features)):\n",
    "    loc[all_possible_features[i]] = i\n",
    "    \n",
    "# Features\n",
    "features = ['rh', 'ta', 'clw', 'cli', 'rh_z']\n",
    "no_features = len(features)\n",
    "\n",
    "# mean and std\n",
    "mean_all = [4.12205844e-03,2.25493498e-05,3.38180032e-06,2.57065512e+02,6.00030443e+04,5.64080139e+03,2.35046400e-01,1.32776682e+01,6.02512234e-01,9.86270417e+04,-1.27545273e-06,-4.02484958e-10,1.65204582e-08,-4.34660202e-11,4.29441131e-10,-1.82817316e-12,-4.68742483e-03,-7.54899040e-07,-7.51544542e+00,-1.06989723e-04,1.65615172e-03,-9.27604679e-06,-4.76200071e-05,-1.32246548e-07]\n",
    "std_all = [5.07648249e-03,5.69702638e-05,1.01308124e-05,3.00533874e+01,3.12514292e+04,5.66963918e+03,4.11184302e-01,1.11389888e+01,3.32494615e-01,6.24039256e+03,2.03179260e-06,1.17041141e-08,1.33311867e-07,1.42840744e-09,6.73384546e-09,5.07424672e-11,5.82875686e-03,6.34826092e-05,3.53136052e+00,1.13215264e-02,6.62892130e-03,6.08144307e-05,2.58065098e-04,2.49552692e-06]\n",
    "\n",
    "mean = np.concatenate([np.expand_dims(mean_all[loc[sel_var]], axis=0) for sel_var in features], axis = 0)\n",
    "std = np.concatenate([np.expand_dims(std_all[loc[sel_var]], axis=0) for sel_var in features], axis = 0)\n",
    "\n",
    "# Introduce variables\n",
    "a, b, c, d, e, f, g, h, i, j, k = sp.symbols('a b c d e f g h i j k')\n",
    "x0, x1, x2, x3, x4 = sp.symbols('x0 x1 x2 x3 x4')\n",
    "rh, ta, clw, cli, rh_z = sp.symbols('rh ta clw cli rh_z')\n",
    "\n",
    "X0 = (rh - mean[0])/std[0]\n",
    "X1 = (ta - mean[1])/std[1]\n",
    "X2 = (clw - mean[2])/std[2]\n",
    "X3 = (cli - mean[3])/std[3]\n",
    "X4 = (rh_z - mean[4])/std[4]\n",
    "\n",
    "def round_expr(expr, num_digits):\n",
    "    return expr.xreplace({n : round(n, num_digits) for n in expr.atoms(sp.Number)})"
   ]
  },
  {
   "cell_type": "code",
   "execution_count": 86,
   "id": "00368cc5-caea-4981-a0d5-b82746ed96aa",
   "metadata": {},
   "outputs": [],
   "source": [
    "optimized_eqns = {}\n",
    "\n",
    "exp_1 = a - b*(-c*sp.exp(d*x0) + e*sp.sin(f + g*x1) + (sp.sin(sp.sqrt(sp.Abs(h*x3))))/(i*x2 + j*x3 + sp.cos(k*x2)))\n",
    "exp_2 = a + b*(-sp.sqrt(sp.Abs(c + d*x1))*(e - f*x0 + x1) + g/(h - i*x2 - x3))\n",
    "exp_3 = a + b*(sp.exp(c*x0) - d*x2 + e*sp.log(sp.Abs(sp.exp(f*x2) + g*x3)))\n",
    "exp_4 = a - (b*(c - d*sp.exp(e*x0) + f*x0 + x1))/(g*sp.exp(h*x2 + i*x3) + j*x3)\n",
    "\n",
    "eq_1_sp = sp.sympify(exp_1)\n",
    "eq_2_sp = sp.sympify(exp_2)\n",
    "eq_3_sp = sp.sympify(exp_3)\n",
    "eq_4_sp = sp.sympify(exp_4)\n",
    "\n",
    "eq_1_lb = sp.lambdify((x0, x1, x2, x3, x4), eq_1_sp)\n",
    "eq_2_lb = sp.lambdify((x0, x1, x2, x3, x4), eq_2_sp)\n",
    "eq_3_lb = sp.lambdify((x0, x1, x2, x3, x4), eq_3_sp)\n",
    "eq_4_lb = sp.lambdify((x0, x1, x2, x3, x4), eq_4_sp)\n",
    "\n",
    "subs_dict_1 = {key : val for (key,val) in zip([a, b, c, d, e, f, g, h, i, j, k], np.round(res_1.x, 3))}\n",
    "subs_dict_2 = {key : val for (key,val) in zip([a, b, c, d, e, f, g, h, i], np.round(res_2.x, 3))}\n",
    "subs_dict_3 = {key : val for (key,val) in zip([a, b, c, d, e, f, g], np.round(res_3.x, 3))}\n",
    "subs_dict_4 = {key : val for (key,val) in zip([a, b, c, d, e, f, g, h, i, j], np.round(res_4.x, 3))}\n",
    "\n",
    "eq_1_sp = eq_1_sp.subs(subs_dict_1)\n",
    "eq_2_sp = eq_2_sp.subs(subs_dict_2)\n",
    "eq_3_sp = eq_3_sp.subs(subs_dict_3)\n",
    "eq_4_sp = eq_4_sp.subs(subs_dict_4)\n",
    "\n",
    "eq_1_sp_orig_inputs = eq_1_sp.subs({(x0,X0), (x1,X1), (x2,X2), (x3,X3), (x4,X4)})\n",
    "eq_2_sp_orig_inputs = eq_2_sp.subs({(x0,X0), (x1,X1), (x2,X2), (x3,X3), (x4,X4)})\n",
    "eq_3_sp_orig_inputs = eq_3_sp.subs({(x0,X0), (x1,X1), (x2,X2), (x3,X3), (x4,X4)})\n",
    "eq_4_sp_orig_inputs = eq_4_sp.subs({(x0,X0), (x1,X1), (x2,X2), (x3,X3), (x4,X4)})\n",
    "\n",
    "# Write to dict\n",
    "optimized_eqns['Equation 1'] = {}\n",
    "optimized_eqns['Equation 1']['Equation w.r.t. normalized vars'] = str(round_expr(eq_1_sp, 2))\n",
    "optimized_eqns['Equation 1']['Equation w.r.t. physical vars'] = str(round_expr(eq_1_sp_orig_inputs, 3))\n",
    "optimized_eqns['Equation 1']['$df/dclw$'] = '%s'%eq_1_sp_orig_inputs.diff('clw')\n",
    "optimized_eqns['Equation 1']['$df/dcli$'] = '%s'%eq_1_sp_orig_inputs.diff('cli')\n",
    "optimized_eqns['Equation 1']['$df/dT$'] = '%s'%eq_1_sp_orig_inputs.diff('ta')\n",
    "optimized_eqns['Equation 1']['Train MSE in regime'] = mse_reg_1_train_eq_1\n",
    "optimized_eqns['Equation 1']['Valid MSE in regime'] = mse_reg_1_valid_eq_1\n",
    "optimized_eqns['Equation 1']['Valid MSE'] = mse_total_eq_1\n",
    "optimized_eqns['Equation 1']['Number of parameters (for reg 1)'] = 12\n",
    "optimized_eqns['Equation 1']['PCs'] = 'w.r.t. clw'\n",
    "\n",
    "optimized_eqns['Equation 2'] = {}\n",
    "optimized_eqns['Equation 2']['Equation w.r.t. normalized vars'] = str(round_expr(eq_2_sp, 2))\n",
    "optimized_eqns['Equation 2']['Equation w.r.t. physical vars'] = str(round_expr(eq_2_sp_orig_inputs, 3))\n",
    "optimized_eqns['Equation 2']['$df/dclw$'] = '%s'%eq_2_sp_orig_inputs.diff('clw')\n",
    "optimized_eqns['Equation 2']['$df/dcli$'] = '%s'%eq_2_sp_orig_inputs.diff('cli')\n",
    "optimized_eqns['Equation 2']['$df/dT$'] = '%s'%eq_2_sp_orig_inputs.diff('ta')\n",
    "optimized_eqns['Equation 2']['Train MSE in regime'] = mse_reg_1_train_eq_2\n",
    "optimized_eqns['Equation 2']['Valid MSE in regime'] = mse_reg_1_valid_eq_2\n",
    "optimized_eqns['Equation 2']['Valid MSE'] = mse_total_eq_2\n",
    "optimized_eqns['Equation 2']['Number of parameters (for reg 1)'] = 10\n",
    "optimized_eqns['Equation 2']['PCs'] = 'w.r.t. T, cli'\n",
    "\n",
    "optimized_eqns['Equation 3'] = {}\n",
    "optimized_eqns['Equation 3']['Equation w.r.t. normalized vars'] = str(round_expr(eq_3_sp, 2))\n",
    "optimized_eqns['Equation 3']['Equation w.r.t. physical vars'] = str(round_expr(eq_3_sp_orig_inputs, 3))\n",
    "optimized_eqns['Equation 3']['$df/dclw$'] = '%s'%eq_3_sp_orig_inputs.diff('clw')\n",
    "optimized_eqns['Equation 3']['$df/dcli$'] = '%s'%eq_3_sp_orig_inputs.diff('cli')\n",
    "optimized_eqns['Equation 3']['$df/dT$'] = '%s'%eq_3_sp_orig_inputs.diff('ta')\n",
    "optimized_eqns['Equation 3']['Train MSE in regime'] = mse_reg_1_train_eq_3\n",
    "optimized_eqns['Equation 3']['Valid MSE in regime'] = mse_reg_1_valid_eq_3\n",
    "optimized_eqns['Equation 3']['Valid MSE'] = mse_total_eq_3\n",
    "optimized_eqns['Equation 3']['Number of parameters (for reg 1)'] = 8\n",
    "optimized_eqns['Equation 3']['PCs'] = 'w.r.t. T, cli'\n",
    "\n",
    "optimized_eqns['Equation 4'] = {}\n",
    "optimized_eqns['Equation 4']['Equation w.r.t. normalized vars'] = str(round_expr(eq_4_sp, 2))\n",
    "optimized_eqns['Equation 4']['Equation w.r.t. physical vars'] = str(round_expr(eq_4_sp_orig_inputs, 3))\n",
    "optimized_eqns['Equation 4']['$df/dclw$'] = '%s'%eq_4_sp_orig_inputs.diff('clw')\n",
    "optimized_eqns['Equation 4']['$df/dcli$'] = '%s'%eq_4_sp_orig_inputs.diff('cli')\n",
    "optimized_eqns['Equation 4']['$df/dT$'] = '%s'%eq_4_sp_orig_inputs.diff('ta')\n",
    "optimized_eqns['Equation 4']['Train MSE in regime'] = mse_reg_1_train_eq_4\n",
    "optimized_eqns['Equation 4']['Valid MSE in regime'] = mse_reg_1_valid_eq_4\n",
    "optimized_eqns['Equation 4']['Valid MSE'] = mse_total_eq_4\n",
    "optimized_eqns['Equation 4']['Number of parameters (for reg 1)'] = 11\n",
    "optimized_eqns['Equation 4']['PCs'] = 'w.r.t. cli'\n",
    "\n",
    "# Save output\n",
    "with open('optimized_eqns.json', 'w') as file:\n",
    "    json.dump(optimized_eqns, file)"
   ]
  },
  {
   "cell_type": "code",
   "execution_count": null,
   "id": "954644e5-3d71-4ccf-b648-010178e43f0b",
   "metadata": {},
   "outputs": [],
   "source": []
  }
 ],
 "metadata": {
  "kernelspec": {
   "display_name": "Python 3 (based on the module python3/2022.01)",
   "language": "python",
   "name": "python3_2022_01"
  },
  "language_info": {
   "codemirror_mode": {
    "name": "ipython",
    "version": 3
   },
   "file_extension": ".py",
   "mimetype": "text/x-python",
   "name": "python",
   "nbconvert_exporter": "python",
   "pygments_lexer": "ipython3",
   "version": "3.9.9"
  }
 },
 "nbformat": 4,
 "nbformat_minor": 5
}
