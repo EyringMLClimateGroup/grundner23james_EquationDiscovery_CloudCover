{
 "cells": [
  {
   "cell_type": "markdown",
   "id": "2e1eb9b8-ef59-40d3-854d-91ee4f68fa7a",
   "metadata": {},
   "source": [
    "**tmpw0h7p9s5, equation 19**\n",
    "\n",
    "**Modified to satisfy RH-constraint**\n",
    "\n",
    "By enforcing the RH-constraint, we reduce the valid_mse from 106.98907 to 106.94799. <br>\n",
    "By further optimizing the coefficients we can decrease the valid_mse to 106.93606.\n",
    "\n",
    "--> I think we can communicate the first optimized set of coefficients, because the improvement of the mse is very small"
   ]
  },
  {
   "cell_type": "code",
   "execution_count": 1,
   "id": "56e4d405-d113-4c27-965b-bb01807ad169",
   "metadata": {},
   "outputs": [],
   "source": [
    "import numpy as np\n",
    "import sympy as sp\n",
    "import pandas as pd\n",
    "import matplotlib.pyplot as plt\n",
    "import json\n",
    "import sys\n",
    "import os\n",
    "import gc\n",
    "\n",
    "sys.path.insert(0, '/home/b/b309170/workspace_icon-ml/symbolic_regression')\n",
    "from functions import append_dict_to_json\n",
    "from sklearn import tree\n",
    "\n",
    "np.random.seed(10)"
   ]
  },
  {
   "cell_type": "code",
   "execution_count": 2,
   "id": "dd38bf0e-4407-4709-a661-41216c023ceb",
   "metadata": {},
   "outputs": [],
   "source": [
    "no_of_regimes = 2\n",
    "regime = 1"
   ]
  },
  {
   "cell_type": "markdown",
   "id": "af2f9173-f118-4d30-803c-db6b13cc05f5",
   "metadata": {},
   "source": [
    "**Read data**"
   ]
  },
  {
   "cell_type": "code",
   "execution_count": 3,
   "id": "9cb7228f-5656-4737-b862-c0072551e8bb",
   "metadata": {},
   "outputs": [],
   "source": [
    "all_possible_features = ['hus', 'clw', 'cli', 'ta', 'pa', 'zg', 'fr_land', 'U', 'rh', 'ps', 'hus_z', 'hus_zz', 'clw_z', 'clw_zz', 'cli_z',\\\n",
    "            'cli_zz', 'ta_z', 'ta_zz', 'pa_z', 'pa_zz', 'U_z', 'U_zz', 'rh_z', 'rh_zz']\n",
    "\n",
    "loc_all = {}\n",
    "for i in range(len(all_possible_features)):\n",
    "    loc_all[all_possible_features[i]] = i\n",
    "    \n",
    "# Features\n",
    "features = ['rh', 'ta', 'clw', 'cli', 'rh_z']\n",
    "no_features = len(features)\n",
    "\n",
    "loc = {}\n",
    "for i in range(len(features)):\n",
    "    loc[features[i]] = i"
   ]
  },
  {
   "cell_type": "code",
   "execution_count": 4,
   "id": "b8462c5d-87c6-4d8d-983f-7daf8582855a",
   "metadata": {},
   "outputs": [],
   "source": [
    "path_data = os.path.join('/home/b/b309170/my_work/icon-ml_data/cloud_cover_parameterization/neighborhood_based_SR_DYAMOND')\n",
    "\n",
    "# Load the input data and pick the five best features (rh, ta, clw, cli, rh_z)\n",
    "input_data = np.load(path_data + '/cloud_cover_input_dyamond.npy')\n",
    "input_data = np.concatenate([np.expand_dims(input_data[:, loc_all[sel_var]], axis=1) for sel_var in features], axis = 1)\n",
    "\n",
    "output_data = np.load(path_data + '/cloud_area_output_dyamond.npy')"
   ]
  },
  {
   "cell_type": "code",
   "execution_count": 5,
   "id": "6831a5fb-6fcb-4785-86a9-700a0fe82730",
   "metadata": {},
   "outputs": [
    {
     "data": {
      "text/plain": [
       "(285179494, 5)"
      ]
     },
     "execution_count": 5,
     "metadata": {},
     "output_type": "execute_result"
    }
   ],
   "source": [
    "(samples_total, no_of_features) = input_data.shape\n",
    "(samples_total, no_of_features)"
   ]
  },
  {
   "cell_type": "code",
   "execution_count": 6,
   "id": "9b0eaa09-11a3-485e-b9ff-6befe674d5b0",
   "metadata": {
    "tags": []
   },
   "outputs": [],
   "source": [
    "# Construct training and validation data\n",
    "training_folds = []\n",
    "validation_folds = []\n",
    "two_week_incr = samples_total//6\n",
    "\n",
    "for i in range(3):\n",
    "    # Note that this is a temporal split since time was the first dimension in the original tensor\n",
    "    first_incr = np.arange(samples_total//6*i, samples_total//6*(i+1))\n",
    "    second_incr = np.arange(samples_total//6*(i+3), samples_total//6*(i+4))\n",
    "\n",
    "    validation_folds.append(np.append(first_incr, second_incr))\n",
    "    training_folds.append(np.arange(samples_total))\n",
    "    training_folds[i] = np.delete(training_folds[i], validation_folds[i])"
   ]
  },
  {
   "cell_type": "code",
   "execution_count": 7,
   "id": "ff49c846-d3de-4b64-b8d5-42f1db80e37d",
   "metadata": {},
   "outputs": [
    {
     "data": {
      "text/plain": [
       "24"
      ]
     },
     "execution_count": 7,
     "metadata": {},
     "output_type": "execute_result"
    }
   ],
   "source": [
    "# The second fold yields the best model\n",
    "flattened_input_train = input_data[training_folds[1]]\n",
    "flattened_input_valid = input_data[validation_folds[1]]\n",
    "flattened_output_train = output_data[training_folds[1]]\n",
    "flattened_output_valid = output_data[validation_folds[1]]\n",
    "    \n",
    "# Remove input_data, output_data\n",
    "del input_data, output_data, training_folds, validation_folds\n",
    "gc.collect()"
   ]
  },
  {
   "cell_type": "code",
   "execution_count": 8,
   "id": "18a94f27-da39-4411-9bf0-d139e8fc4c4c",
   "metadata": {},
   "outputs": [],
   "source": [
    "if no_of_regimes > 1:\n",
    "    # Already remove the regime with clw + cli = 0\n",
    "    reg_not_0_train = np.where(flattened_input_train[:, loc['clw']] + flattened_input_train[:, loc['cli']] > 1e-20)[0]\n",
    "    flattened_input_train = flattened_input_train[reg_not_0_train]\n",
    "    flattened_output_train = flattened_output_train[reg_not_0_train]\n",
    "\n",
    "    reg_not_0_valid = np.where(flattened_input_valid[:, loc['clw']] + flattened_input_valid[:, loc['cli']] > 1e-20)[0]\n",
    "    flattened_input_valid = flattened_input_valid[reg_not_0_valid]\n",
    "    flattened_output_valid = flattened_output_valid[reg_not_0_valid]"
   ]
  },
  {
   "cell_type": "markdown",
   "id": "dd5711b1-f92c-47db-bef5-f162a9559355",
   "metadata": {},
   "source": [
    "**Normalize the features**"
   ]
  },
  {
   "cell_type": "code",
   "execution_count": 9,
   "id": "f7d119dc-7b3a-4fa0-974c-a1b755b7b40b",
   "metadata": {
    "tags": []
   },
   "outputs": [],
   "source": [
    "# Scale the data\n",
    "mean_all = [4.12205844e-03,2.25493498e-05,3.38180032e-06,2.57065512e+02,6.00030443e+04,5.64080139e+03,2.35046400e-01,1.32776682e+01,6.02512234e-01,9.86270417e+04,-1.27545273e-06,-4.02484958e-10,1.65204582e-08,-4.34660202e-11,4.29441131e-10,-1.82817316e-12,-4.68742483e-03,-7.54899040e-07,-7.51544542e+00,-1.06989723e-04,1.65615172e-03,-9.27604679e-06,-4.76200071e-05,-1.32246548e-07]\n",
    "std_all = [5.07648249e-03,5.69702638e-05,1.01308124e-05,3.00533874e+01,3.12514292e+04,5.66963918e+03,4.11184302e-01,1.11389888e+01,3.32494615e-01,6.24039256e+03,2.03179260e-06,1.17041141e-08,1.33311867e-07,1.42840744e-09,6.73384546e-09,5.07424672e-11,5.82875686e-03,6.34826092e-05,3.53136052e+00,1.13215264e-02,6.62892130e-03,6.08144307e-05,2.58065098e-04,2.49552692e-06]\n",
    "\n",
    "mean = np.concatenate([np.expand_dims(mean_all[loc_all[sel_var]], axis=0) for sel_var in features], axis = 0)\n",
    "std = np.concatenate([np.expand_dims(std_all[loc_all[sel_var]], axis=0) for sel_var in features], axis = 0)\n",
    "\n",
    "# Work with scaled training folds\n",
    "train_data_scaled = (flattened_input_train - mean)/std\n",
    "valid_data_scaled = (flattened_input_valid - mean)/std"
   ]
  },
  {
   "cell_type": "markdown",
   "id": "51702441-2dbb-4e54-ab31-796a587b2fb7",
   "metadata": {},
   "source": [
    "Optimize coefficients"
   ]
  },
  {
   "cell_type": "code",
   "execution_count": 10,
   "id": "26e734a3-580a-48e4-b2c4-a891a42b5685",
   "metadata": {},
   "outputs": [],
   "source": [
    "# See ~/workspace_icon-ml/symbolic_regression/finding_symmetries/pysr_results_dyamond_on_regimes/no_of_regimes_2/notes.txt\n",
    "def func(X, a,b,c,d,e,f,g,h,i):\n",
    "    x0 = X[:, 0] \n",
    "    x1 = X[:, 1] \n",
    "    x2 = X[:, 2] \n",
    "    x3 = X[:, 3]\n",
    "    x4 = X[:, 4]\n",
    "    \n",
    "    # Modified to always satisfy RH-constrain\n",
    "    x0 = np.maximum(x0, 1/(2*c*d)*(-c*x1**2-a))\n",
    "    \n",
    "    return a*x0 - b*x1 + c*x0*(d*x0 + x1**2) + e*x4**2 + f - g/(x2 + h*x3 + i)"
   ]
  },
  {
   "cell_type": "code",
   "execution_count": 11,
   "id": "5e1685e5-d5ee-4ea7-b4e5-af0566792377",
   "metadata": {},
   "outputs": [],
   "source": [
    "import scipy as sci\n",
    "from scipy.optimize import minimize"
   ]
  },
  {
   "cell_type": "code",
   "execution_count": 12,
   "id": "6f1fdcef-6f16-45f7-a22c-17e90674665e",
   "metadata": {},
   "outputs": [
    {
     "name": "stdout",
     "output_type": "stream",
     "text": [
      "Warning: Desired error not necessarily achieved due to precision loss.\n",
      "         Current function value: 163.932873\n",
      "         Iterations: 29\n",
      "         Function evaluations: 592\n",
      "         Gradient evaluations: 58\n"
     ]
    }
   ],
   "source": [
    "def objective(P, X,Y):\n",
    "    '''\n",
    "        The objective function.\n",
    "    '''\n",
    "    a,b,c,d,e,f,g,h,i = P\n",
    "    train_preds = np.minimum(np.maximum(func(X, a,b,c,d,e,f,g,h,i), 0), 100) \n",
    "    train_mse = np.mean((train_preds - Y)**2, dtype=np.float64)\n",
    "\n",
    "    return train_mse\n",
    "\n",
    "T_subset = 10**6\n",
    "inds = np.random.randint(0, train_data_scaled.shape[0], T_subset)\n",
    "\n",
    "(a,b,c,d,e,f,g,h,i) = (37.8, 37.8, 16.54, 1, 1.91, 49.57, 2.66, 1, 0.76)\n",
    "\n",
    "res = minimize(objective, (a,b,c,d,e,f,g,h,i), args=(train_data_scaled[inds], flattened_output_train[inds]), \\\n",
    "               method='BFGS', options={'disp': True})"
   ]
  },
  {
   "cell_type": "code",
   "execution_count": 13,
   "id": "373a1caf-7c49-4937-8e50-11f244f3a26c",
   "metadata": {},
   "outputs": [
    {
     "name": "stdout",
     "output_type": "stream",
     "text": [
      "[38.32793014 42.68906959 19.33085921  1.14265465  2.36366234 45.02410441\n",
      "  1.89923988  0.65398285  0.63478314]\n"
     ]
    }
   ],
   "source": [
    "print(res.x)"
   ]
  },
  {
   "cell_type": "markdown",
   "id": "dbac627b-d802-40a4-b8fc-dec3e8b334de",
   "metadata": {},
   "source": [
    "New values"
   ]
  },
  {
   "cell_type": "code",
   "execution_count": 14,
   "id": "c8317219-1fba-4bad-ba82-744af9100e0b",
   "metadata": {},
   "outputs": [
    {
     "data": {
      "text/plain": [
       "163.49384344973103"
      ]
     },
     "execution_count": 14,
     "metadata": {},
     "output_type": "execute_result"
    }
   ],
   "source": [
    "objective(res.x, train_data_scaled, flattened_output_train)"
   ]
  },
  {
   "cell_type": "code",
   "execution_count": 15,
   "id": "d51a188e-a6de-4bac-9e37-02e359bd2449",
   "metadata": {
    "tags": []
   },
   "outputs": [
    {
     "data": {
      "text/plain": [
       "162.2612913972502"
      ]
     },
     "execution_count": 15,
     "metadata": {},
     "output_type": "execute_result"
    }
   ],
   "source": [
    "objective(res.x, valid_data_scaled, flattened_output_valid)"
   ]
  },
  {
   "cell_type": "code",
   "execution_count": 18,
   "id": "5839c18d-1ac8-45fc-b23a-35442bf2c737",
   "metadata": {},
   "outputs": [
    {
     "name": "stdout",
     "output_type": "stream",
     "text": [
      "On the entire dataset\n",
      "Valid MSE: 106.93606\n"
     ]
    }
   ],
   "source": [
    "# From finding_symmetries/pysr_results_dyamond_on_regimes/save_optimized_eqns.ipynb\n",
    "mse_reg_0 = 0.0353\n",
    "n_0 = 32419018\n",
    "n_21 = 62640812\n",
    "N = n_0 + n_21\n",
    "\n",
    "valid_reg_mse = 162.2612913972502\n",
    "\n",
    "print('On the entire dataset')\n",
    "print('Valid MSE: %.5f'%((n_0*mse_reg_0 + n_21*valid_reg_mse)/N))"
   ]
  },
  {
   "cell_type": "markdown",
   "id": "5b433f17-3886-4a92-b7df-91a9fd396b85",
   "metadata": {},
   "source": [
    "Old values"
   ]
  },
  {
   "cell_type": "code",
   "execution_count": 21,
   "id": "5e3f0ce6-d7a1-434d-b163-b98bfbc11652",
   "metadata": {
    "tags": []
   },
   "outputs": [
    {
     "data": {
      "text/plain": [
       "162.27939688193675"
      ]
     },
     "execution_count": 21,
     "metadata": {},
     "output_type": "execute_result"
    }
   ],
   "source": [
    "objective([38.85954116, 42.70818472, 19.34746465, 1.11321032, 2.36741444, 44.99763015, 1.90033063, 0.65718667, 0.63587944], valid_data_scaled, flattened_output_valid)"
   ]
  },
  {
   "cell_type": "code",
   "execution_count": 22,
   "id": "a12024a3-9f69-4ab9-a1c6-3c0f1a744b11",
   "metadata": {},
   "outputs": [
    {
     "name": "stdout",
     "output_type": "stream",
     "text": [
      "On the entire dataset\n",
      "Valid MSE: 106.94799\n"
     ]
    }
   ],
   "source": [
    "# From finding_symmetries/pysr_results_dyamond_on_regimes/save_optimized_eqns.ipynb\n",
    "mse_reg_0 = 0.0353\n",
    "n_0 = 32419018\n",
    "n_21 = 62640812\n",
    "N = n_0 + n_21\n",
    "\n",
    "valid_reg_mse = 162.27939688193675\n",
    "\n",
    "print('On the entire dataset')\n",
    "print('Valid MSE: %.5f'%((n_0*mse_reg_0 + n_21*valid_reg_mse)/N))"
   ]
  },
  {
   "cell_type": "markdown",
   "id": "0348cef6-dc4d-403c-9859-b21631e8a55e",
   "metadata": {},
   "source": [
    "How often do we need to artificially increase the RH?"
   ]
  },
  {
   "cell_type": "code",
   "execution_count": 19,
   "id": "e5af0199-9cab-4eb3-8560-0f7629867829",
   "metadata": {},
   "outputs": [
    {
     "data": {
      "text/plain": [
       "0.00844691127213774"
      ]
     },
     "execution_count": 19,
     "metadata": {},
     "output_type": "execute_result"
    }
   ],
   "source": [
    "# Optimal params without the RH-modification\n",
    "(a,b,c,d) = (38.85954116, 42.70818472, 19.34746465, 1.11321032)\n",
    "\n",
    "# In roughly 1% of all cases\n",
    "len(np.where(train_data_scaled[:, 0] < 1/(2*c*d)*(-c*train_data_scaled[:, 1]**2-a))[0])/len(train_data_scaled[:, 0])"
   ]
  },
  {
   "cell_type": "code",
   "execution_count": 20,
   "id": "5b37e215-85d8-478a-8db4-f440f12ca622",
   "metadata": {},
   "outputs": [
    {
     "data": {
      "text/plain": [
       "0.009379558645668763"
      ]
     },
     "execution_count": 20,
     "metadata": {},
     "output_type": "execute_result"
    }
   ],
   "source": [
    "# Optimal params with the RH-modification\n",
    "(a,b,c,d) = (38.32793014, 42.68906959, 19.33085921, 1.14265465)\n",
    "\n",
    "# In roughly 1% of all cases\n",
    "len(np.where(train_data_scaled[:, 0] < 1/(2*c*d)*(-c*train_data_scaled[:, 1]**2-a))[0])/len(train_data_scaled[:, 0])"
   ]
  }
 ],
 "metadata": {
  "kernelspec": {
   "display_name": "sherpa",
   "language": "python",
   "name": "sherpa"
  },
  "language_info": {
   "codemirror_mode": {
    "name": "ipython",
    "version": 3
   },
   "file_extension": ".py",
   "mimetype": "text/x-python",
   "name": "python",
   "nbconvert_exporter": "python",
   "pygments_lexer": "ipython3",
   "version": "3.7.10"
  }
 },
 "nbformat": 4,
 "nbformat_minor": 5
}
