{
 "cells": [
  {
   "cell_type": "code",
   "execution_count": 84,
   "id": "d4239dad-0abd-4845-bc40-a4959650294f",
   "metadata": {},
   "outputs": [],
   "source": [
    "import json\n",
    "import sympy as sp\n",
    "import numpy as np"
   ]
  },
  {
   "cell_type": "code",
   "execution_count": 85,
   "id": "9de78211-2b71-4ef7-a937-fc8321ecc04b",
   "metadata": {},
   "outputs": [],
   "source": [
    "def round_expr(expr):\n",
    "    d = {}\n",
    "    for n in expr.atoms(sp.Number):\n",
    "        d[n] = sp.Number('%.6g'%n)\n",
    "    return expr.xreplace(d)"
   ]
  },
  {
   "cell_type": "code",
   "execution_count": 86,
   "id": "85d016b4-a167-40b2-bf1a-79a218d219f2",
   "metadata": {},
   "outputs": [],
   "source": [
    "# Can be used to quickly compute the mse on all regimes!\n",
    "def mse_all_regimes(M):\n",
    "    '''\n",
    "        M: Contains [mse_reg_1, mse_reg_2, ...] depending on no_regimes\n",
    "        Computes the validation error on all regimes knowing the ones on the single regimes\n",
    "    '''\n",
    "\n",
    "    # Known parameters\n",
    "    mse_reg_0 = 0.0353\n",
    "    n_0 = 32419018\n",
    "\n",
    "    n_21 = 62640812\n",
    "\n",
    "    n_31 = 5742663\n",
    "    n_32 = 56898149\n",
    "\n",
    "    n_41 = 5742663\n",
    "    n_42 = 18367245\n",
    "    n_43 = 38530904\n",
    "\n",
    "    N = n_0 + n_21\n",
    "    \n",
    "    # Two regimes\n",
    "    if len(M) == 1:\n",
    "        return (n_0*mse_reg_0 + n_21*M[0])/N\n",
    "        \n",
    "    # Three regimes\n",
    "    if len(M) == 2:\n",
    "        return (n_0*mse_reg_0 + n_31*M[0] + n_32*M[1])/N\n",
    "        \n",
    "    # Four regimes:\n",
    "    if len(M) == 3:\n",
    "        return (n_0*mse_reg_0 + n_41*M[0] + n_42*M[1] + n_43*M[2])/N        \n",
    "    "
   ]
  },
  {
   "cell_type": "code",
   "execution_count": 87,
   "id": "88bca3f4-b578-466e-bde6-e48d04720456",
   "metadata": {},
   "outputs": [
    {
     "data": {
      "text/plain": [
       "187.40306513974517"
      ]
     },
     "execution_count": 87,
     "metadata": {},
     "output_type": "execute_result"
    }
   ],
   "source": [
    "# One regime\n",
    "mse_all_regimes([195])\n",
    "\n",
    "# Two regimes\n",
    "mse_all_regimes([(69*58 + 50*35 + 38*35 + 27*58)/(58+35+35+58)])\n",
    "\n",
    "# Three regimes\n",
    "mse_all_regimes([68.821, 342.9278])\n",
    "\n",
    "# Four regimes\n",
    "mse_all_regimes([111.57860, 94.6587, 400.5611])"
   ]
  },
  {
   "cell_type": "markdown",
   "id": "6bac3dcb-df12-464f-9f3d-eea85b64a986",
   "metadata": {},
   "source": [
    "**Save the optimized equations in the usual format**"
   ]
  },
  {
   "cell_type": "code",
   "execution_count": 88,
   "id": "98e9344d-b3b8-4240-8e9f-478924261515",
   "metadata": {},
   "outputs": [],
   "source": [
    "# To save the output.\n",
    "optimized_eqns = {}\n",
    "optimized_eqns['EQ1'] = {}\n",
    "optimized_eqns['EQ2'] = {}\n",
    "optimized_eqns['EQ3'] = {}\n",
    "optimized_eqns['EQ4'] = {}\n",
    "optimized_eqns['EQ5'] = {}\n",
    "optimized_eqns['EQC'] = {}"
   ]
  },
  {
   "cell_type": "code",
   "execution_count": 89,
   "id": "5020fcae-6563-4b7d-ae31-f36c0e97313e",
   "metadata": {},
   "outputs": [],
   "source": [
    "all_possible_features = ['hus', 'clw', 'cli', 'ta', 'pa', 'zg', 'fr_land', 'U', 'rh', 'ps', 'hus_z', 'hus_zz', 'clw_z', 'clw_zz', 'cli_z',\\\n",
    "            'cli_zz', 'ta_z', 'ta_zz', 'pa_z', 'pa_zz', 'U_z', 'U_zz', 'rh_z', 'rh_zz']\n",
    "\n",
    "loc = {}\n",
    "for i in range(len(all_possible_features)):\n",
    "    loc[all_possible_features[i]] = i\n",
    "    \n",
    "# Features\n",
    "features = ['rh', 'ta', 'clw', 'cli', 'rh_z']\n",
    "no_features = len(features)"
   ]
  },
  {
   "cell_type": "code",
   "execution_count": 90,
   "id": "99ac6110-f380-42f6-ba6d-bc40b2979a65",
   "metadata": {},
   "outputs": [],
   "source": [
    "# mean and std\n",
    "mean_all = [4.12205844e-03,2.25493498e-05,3.38180032e-06,2.57065512e+02,6.00030443e+04,5.64080139e+03,2.35046400e-01,1.32776682e+01,6.02512234e-01,9.86270417e+04,-1.27545273e-06,-4.02484958e-10,1.65204582e-08,-4.34660202e-11,4.29441131e-10,-1.82817316e-12,-4.68742483e-03,-7.54899040e-07,-7.51544542e+00,-1.06989723e-04,1.65615172e-03,-9.27604679e-06,-4.76200071e-05,-1.32246548e-07]\n",
    "std_all = [5.07648249e-03,5.69702638e-05,1.01308124e-05,3.00533874e+01,3.12514292e+04,5.66963918e+03,4.11184302e-01,1.11389888e+01,3.32494615e-01,6.24039256e+03,2.03179260e-06,1.17041141e-08,1.33311867e-07,1.42840744e-09,6.73384546e-09,5.07424672e-11,5.82875686e-03,6.34826092e-05,3.53136052e+00,1.13215264e-02,6.62892130e-03,6.08144307e-05,2.58065098e-04,2.49552692e-06]\n",
    "\n",
    "mean = np.concatenate([np.expand_dims(mean_all[loc[sel_var]], axis=0) for sel_var in features], axis = 0)\n",
    "std = np.concatenate([np.expand_dims(std_all[loc[sel_var]], axis=0) for sel_var in features], axis = 0)"
   ]
  },
  {
   "cell_type": "code",
   "execution_count": 91,
   "id": "f5a6f526-483c-4686-88d6-0c7a590ed97c",
   "metadata": {},
   "outputs": [],
   "source": [
    "# Introduce variables\n",
    "a, b, c, d, e, f, g, h, i, j, k, l, m, n, o, p, q, r = sp.symbols('a b c d e f g h i j k l m n o p q r')\n",
    "x0, x1, x2, x3, x4 = sp.symbols('x0 x1 x2 x3 x4')\n",
    "rh, ta, clw, cli, rh_z = sp.symbols('rh ta clw cli rh_z')\n",
    "\n",
    "X0 = (rh - mean[0])/std[0]\n",
    "X1 = (ta - mean[1])/std[1]\n",
    "X2 = (clw - mean[2])/std[2]\n",
    "X3 = (cli - mean[3])/std[3]\n",
    "X4 = (rh_z - mean[4])/std[4]"
   ]
  },
  {
   "cell_type": "markdown",
   "id": "09ee18a7-6706-4a9d-b959-3da275a0a347",
   "metadata": {},
   "source": [
    "**The optimized equations**\n",
    "\n",
    "All optimized equations do not always satisfy the RH-constraint any longer!!\n",
    "Although, this is not because of the new coefficients, but due to the rounding function that was used in read_results.ipynb.\n",
    "\n",
    "Note that Nelder-Mead and CG did not yield better results than BFGS. \n",
    "CG additionally took much longer."
   ]
  },
  {
   "cell_type": "code",
   "execution_count": 92,
   "id": "9a789b75-6755-47fd-93a5-6c89fe7af6b1",
   "metadata": {},
   "outputs": [],
   "source": [
    "EQ1 = a*x0 - b*x1 + c*x0*(d*x0 + x1**2) + e*x4**2 + f - g/(x2 + h*x3 + i)\n",
    "EQ2 = a*x0 - b*x1 + c*x0*(d*x0 + x1**2) + x4**2*(-e*x0 + f) + g - h/(x2 + i*x3 + j)\n",
    "EQ3 = a*x0 - b*x1 + c*x0*(d*x0 + x1**2) + x4**2*(-e*x0 + f*x2 + g) + h - i/(x2 + j*x3 + k)\n",
    "EQ4 = a*x0 - b*x1 + c*x0*(d*x0 + x1**2) + x4**2*(e*x4 + f) + g - h/(x2 + i*x3 + j)\n",
    "EQ5 = a*x0 - b*x1 + c*(x0 - d)*(e*x1 + f)*(g*x1 + h*x4 + i) + j*x3 + k - l/(x2 + m*x3 + n)\n",
    "EQC = a*x0 - b*x1 + c*(x0 - d)*(e*x1 + f)*(g*x1 + h*x4 + i) + j*x3 + k - l/(x2 + m*x3 + n) + o*x0**2 + x4**2*(-p*x0 + q*x2 + r)\n",
    "\n",
    "coefs = {}\n",
    "coefs['EQ1'] = [38.85954116,42.70818472,19.34746465,1.11321032,2.36741444,44.99763015,1.90033063,0.65718667,0.63587944]\n",
    "coefs['EQ2'] = [39.43056288,42.76501721,19.3884905,1.09140881,0.3367936,2.40223919,44.89356218,1.88236593,0.65477071,0.63495087]\n",
    "coefs['EQ3'] = [40.95496237,42.34790137,19.02132676,1.03023501,1.63436586,0.60497085,1.99558239,45.07426184,1.69308033,0.61643344,0.62041551]\n",
    "coefs['EQ4'] = [38.6562122,43.53500518,19.78403208,1.13637902,0.35299939,4.04888686,44.21730274,2.03128527,0.66971589,0.6409019]\n",
    "coefs['EQ5'] = [32.44329895,19.70440805,1.0861006,0.91481989,1.30598435,2.1434675,9.05590254,4.14792458,8.26124985,1.2544264,65.70232142,1.78147668,0.66383166,0.63743728]\n",
    "coefs['EQC'] = [57.17670262,44.19363628,0.34458399,0.15621854,1.74556606,-1.25748431,34.51082029,-11.51991327,35.15804056,0.94539871,42.06607242,1.44965323,0.58103565,0.60581514,17.51519417,1.81237248,0.72810479,2.18378277]\n",
    "\n",
    "train_mses_per_regime = {}\n",
    "train_mses_per_regime['EQ1'] = 163.564\n",
    "train_mses_per_regime['EQ2'] = 163.467\n",
    "train_mses_per_regime['EQ3'] = 162.671\n",
    "train_mses_per_regime['EQ4'] = 159.336\n",
    "train_mses_per_regime['EQ5'] = 170.916\n",
    "train_mses_per_regime['EQC'] = 159.320\n",
    "\n",
    "valid_mses_per_regime = {}\n",
    "valid_mses_per_regime['EQ1'] = 162.342\n",
    "valid_mses_per_regime['EQ2'] = 162.277\n",
    "valid_mses_per_regime['EQ3'] = 161.634\n",
    "valid_mses_per_regime['EQ4'] = 157.725\n",
    "valid_mses_per_regime['EQ5'] = 169.586\n",
    "valid_mses_per_regime['EQC'] = 158.198\n",
    "\n",
    "parameters = {}\n",
    "parameters['EQ1'] = 9\n",
    "parameters['EQ2'] = 10\n",
    "parameters['EQ3'] = 11\n",
    "parameters['EQ4'] = 10\n",
    "parameters['EQ5'] = 14\n",
    "parameters['EQC'] = 18\n",
    "\n",
    "for eq_num in ['1','2','3','4','5','C']:\n",
    "    EQ = locals()['EQ%s'%eq_num]\n",
    "    eq_sp = sp.sympify(EQ)\n",
    "\n",
    "    # Taken from optimize_coefs_EQ1.ipynb\n",
    "    new_coefs = coefs['EQ%s'%eq_num]\n",
    "\n",
    "    subs_dict = {key : val for (key,val) in zip([a,b,c,d,e,f,g,h,i,j,k,l,m,n,o,p,q,r][:len(new_coefs)], new_coefs)}\n",
    "\n",
    "    eq_sp = eq_sp.subs(subs_dict)\n",
    "\n",
    "    eq_sp_orig_inputs = eq_sp.subs({(x0,X0), (x1,X1), (x2,X2), (x3,X3), (x4,X4)})\n",
    "\n",
    "    optimized_eqns['EQ%s'%eq_num]['Equation w.r.t. normalized vars'] = str(round_expr(eq_sp))\n",
    "    optimized_eqns['EQ%s'%eq_num]['Equation w.r.t. physical vars'] = str(round_expr(eq_sp_orig_inputs))\n",
    "    optimized_eqns['EQ%s'%eq_num]['$df/drh$'] = '%s'%str(round_expr(eq_sp_orig_inputs.diff('rh')))\n",
    "    optimized_eqns['EQ%s'%eq_num]['$df/dclw$'] = '%s'%str(round_expr(eq_sp_orig_inputs.diff('clw')))\n",
    "    optimized_eqns['EQ%s'%eq_num]['$df/dcli$'] = '%s'%str(round_expr(eq_sp_orig_inputs.diff('cli')))\n",
    "    optimized_eqns['EQ%s'%eq_num]['$df/dT$'] = '%s'%str(round_expr(eq_sp_orig_inputs.diff('ta')))\n",
    "    # Taken from optimize_coefs_EQ1.ipynb\n",
    "    optimized_eqns['EQ%s'%eq_num]['Train MSE in regime'] = train_mses_per_regime['EQ%s'%eq_num]\n",
    "    optimized_eqns['EQ%s'%eq_num]['Valid MSE in regime'] = valid_mses_per_regime['EQ%s'%eq_num]\n",
    "    optimized_eqns['EQ%s'%eq_num]['Valid MSE'] = mse_all_regimes([valid_mses_per_regime['EQ%s'%eq_num]])\n",
    "    optimized_eqns['EQ%s'%eq_num]['Complexity'] = parameters['EQ%s'%eq_num]\n",
    "\n",
    "    round_expr(eq_sp_orig_inputs)"
   ]
  },
  {
   "cell_type": "code",
   "execution_count": 93,
   "id": "adfb1677-129b-45bc-a7e3-e2e46a280e79",
   "metadata": {},
   "outputs": [],
   "source": [
    "# Dump the output\n",
    "with open('./no_of_regimes_2/optimized_eqns.json', 'w') as file:\n",
    "    json.dump(optimized_eqns, file)"
   ]
  },
  {
   "cell_type": "markdown",
   "id": "2f85976f-f985-4512-8efd-6ce8fc6839dd",
   "metadata": {},
   "source": [
    "**Sympy simplify making expressions more complicated**"
   ]
  },
  {
   "cell_type": "code",
   "execution_count": 515,
   "id": "baaf3270-f3af-4c75-9758-ea6add902491",
   "metadata": {
    "tags": []
   },
   "outputs": [
    {
     "data": {
      "text/latex": [
       "$\\displaystyle \\frac{\\left(a + b\\right) \\left(2 d + 3\\right) - 3}{a + b}$"
      ],
      "text/plain": [
       "((a + b)*(2*d + 3) - 3)/(a + b)"
      ]
     },
     "execution_count": 515,
     "metadata": {},
     "output_type": "execute_result"
    }
   ],
   "source": [
    "expr = '((a + b)*(3 + 2*d) - 3)/(a + b)'\n",
    "sp.simplify(sp.sympify(expr))"
   ]
  },
  {
   "cell_type": "code",
   "execution_count": 516,
   "id": "de890369-9833-48a6-a295-6796c180e3b9",
   "metadata": {},
   "outputs": [
    {
     "name": "stdout",
     "output_type": "stream",
     "text": [
      "3*ADD + DIV + 2*MUL + SUB\n",
      "7\n"
     ]
    }
   ],
   "source": [
    "print(sp.count_ops(expr, visual=True))\n",
    "print(sp.count_ops(expr, visual=False))"
   ]
  },
  {
   "cell_type": "code",
   "execution_count": 517,
   "id": "dc9982ca-2ea1-4de6-8ab3-e7f81ea0af32",
   "metadata": {},
   "outputs": [
    {
     "data": {
      "text/latex": [
       "$\\displaystyle 2 d + 3 - \\frac{3}{a + b}$"
      ],
      "text/plain": [
       "2*d + 3 - 3/(a + b)"
      ]
     },
     "execution_count": 517,
     "metadata": {},
     "output_type": "execute_result"
    }
   ],
   "source": [
    "expr_desired = '(3 + 2*d) - 3/(a + b)'\n",
    "sp.sympify(expr_desired)"
   ]
  },
  {
   "cell_type": "code",
   "execution_count": 518,
   "id": "eae87667-3aaa-4b4c-8922-689015c5e7e5",
   "metadata": {},
   "outputs": [
    {
     "name": "stdout",
     "output_type": "stream",
     "text": [
      "2*ADD + DIV + MUL + SUB\n",
      "5\n"
     ]
    }
   ],
   "source": [
    "print(sp.count_ops(expr_desired, visual=True))\n",
    "print(sp.count_ops(expr_desired, visual=False))"
   ]
  },
  {
   "cell_type": "code",
   "execution_count": 519,
   "id": "c7754242-d201-4aff-af76-a1937fc9098a",
   "metadata": {},
   "outputs": [
    {
     "data": {
      "text/latex": [
       "$\\displaystyle \\frac{\\left(a + b\\right) \\left(2 d + 3\\right) - 3}{a + b}$"
      ],
      "text/plain": [
       "((a + b)*(2*d + 3) - 3)/(a + b)"
      ]
     },
     "execution_count": 519,
     "metadata": {},
     "output_type": "execute_result"
    }
   ],
   "source": [
    "def my_measure(expr):\n",
    "    return sp.count_ops(expr)\n",
    "\n",
    "sp.simplify(expr, ratio=0.9, measure=my_measure)"
   ]
  },
  {
   "cell_type": "code",
   "execution_count": 520,
   "id": "fefc7283-ae0f-4cdf-85f4-13e243f574ba",
   "metadata": {},
   "outputs": [
    {
     "data": {
      "text/latex": [
       "$\\displaystyle \\frac{2 a d + 3 a + 2 b d + 3 b - 3}{a + b}$"
      ],
      "text/plain": [
       "(2*a*d + 3*a + 2*b*d + 3*b - 3)/(a + b)"
      ]
     },
     "execution_count": 520,
     "metadata": {},
     "output_type": "execute_result"
    }
   ],
   "source": [
    "sp.apart(expr, 2*d+3)"
   ]
  },
  {
   "cell_type": "code",
   "execution_count": 521,
   "id": "731bb52e-a848-4699-ac03-d631a4451bf2",
   "metadata": {},
   "outputs": [
    {
     "data": {
      "text/latex": [
       "$\\displaystyle \\frac{2 a d}{a + b} + \\frac{3 a}{a + b} + \\frac{2 b d}{a + b} + \\frac{3 b}{a + b} - \\frac{3}{a + b}$"
      ],
      "text/plain": [
       "2*a*d/(a + b) + 3*a/(a + b) + 2*b*d/(a + b) + 3*b/(a + b) - 3/(a + b)"
      ]
     },
     "execution_count": 521,
     "metadata": {},
     "output_type": "execute_result"
    }
   ],
   "source": [
    "sp.expand(expr)"
   ]
  },
  {
   "cell_type": "code",
   "execution_count": 522,
   "id": "3442840b-09f9-4274-a702-9a41993cf0f6",
   "metadata": {
    "tags": []
   },
   "outputs": [
    {
     "ename": "NotImplementedError",
     "evalue": "multivariate partial fraction decomposition",
     "output_type": "error",
     "traceback": [
      "\u001b[0;31m---------------------------------------------------------------------------\u001b[0m",
      "\u001b[0;31mNotImplementedError\u001b[0m                       Traceback (most recent call last)",
      "Input \u001b[0;32mIn [522]\u001b[0m, in \u001b[0;36m<cell line: 1>\u001b[0;34m()\u001b[0m\n\u001b[0;32m----> 1\u001b[0m \u001b[43msp\u001b[49m\u001b[38;5;241;43m.\u001b[39;49m\u001b[43mapart\u001b[49m\u001b[43m(\u001b[49m\u001b[43mexpr\u001b[49m\u001b[43m)\u001b[49m\n",
      "File \u001b[0;32m/sw/spack-levante/mambaforge-4.11.0-0-Linux-x86_64-sobz6z/lib/python3.9/site-packages/sympy/utilities/decorator.py:35\u001b[0m, in \u001b[0;36mthreaded_factory.<locals>.threaded_func\u001b[0;34m(expr, *args, **kwargs)\u001b[0m\n\u001b[1;32m     32\u001b[0m     \u001b[38;5;28;01mreturn\u001b[39;00m expr\u001b[38;5;241m.\u001b[39m\u001b[38;5;18m__class__\u001b[39m(func(expr\u001b[38;5;241m.\u001b[39mlhs, \u001b[38;5;241m*\u001b[39margs, \u001b[38;5;241m*\u001b[39m\u001b[38;5;241m*\u001b[39mkwargs),\n\u001b[1;32m     33\u001b[0m                           func(expr\u001b[38;5;241m.\u001b[39mrhs, \u001b[38;5;241m*\u001b[39margs, \u001b[38;5;241m*\u001b[39m\u001b[38;5;241m*\u001b[39mkwargs))\n\u001b[1;32m     34\u001b[0m \u001b[38;5;28;01melse\u001b[39;00m:\n\u001b[0;32m---> 35\u001b[0m     \u001b[38;5;28;01mreturn\u001b[39;00m \u001b[43mfunc\u001b[49m\u001b[43m(\u001b[49m\u001b[43mexpr\u001b[49m\u001b[43m,\u001b[49m\u001b[43m \u001b[49m\u001b[38;5;241;43m*\u001b[39;49m\u001b[43margs\u001b[49m\u001b[43m,\u001b[49m\u001b[43m \u001b[49m\u001b[38;5;241;43m*\u001b[39;49m\u001b[38;5;241;43m*\u001b[39;49m\u001b[43mkwargs\u001b[49m\u001b[43m)\u001b[49m\n",
      "File \u001b[0;32m/sw/spack-levante/mambaforge-4.11.0-0-Linux-x86_64-sobz6z/lib/python3.9/site-packages/sympy/polys/partfrac.py:121\u001b[0m, in \u001b[0;36mapart\u001b[0;34m(f, x, full, **options)\u001b[0m\n\u001b[1;32m    119\u001b[0m     fc \u001b[38;5;241m=\u001b[39m f\u001b[38;5;241m.\u001b[39mcancel()\n\u001b[1;32m    120\u001b[0m     \u001b[38;5;28;01mif\u001b[39;00m fc \u001b[38;5;241m!=\u001b[39m f:\n\u001b[0;32m--> 121\u001b[0m         \u001b[38;5;28;01mreturn\u001b[39;00m \u001b[43mapart\u001b[49m\u001b[43m(\u001b[49m\u001b[43mfc\u001b[49m\u001b[43m,\u001b[49m\u001b[43m \u001b[49m\u001b[43mx\u001b[49m\u001b[38;5;241;43m=\u001b[39;49m\u001b[43mx\u001b[49m\u001b[43m,\u001b[49m\u001b[43m \u001b[49m\u001b[43mfull\u001b[49m\u001b[38;5;241;43m=\u001b[39;49m\u001b[43mfull\u001b[49m\u001b[43m,\u001b[49m\u001b[43m \u001b[49m\u001b[38;5;241;43m*\u001b[39;49m\u001b[38;5;241;43m*\u001b[39;49m\u001b[43m_options\u001b[49m\u001b[43m)\u001b[49m\n\u001b[1;32m    123\u001b[0m     \u001b[38;5;28;01mraise\u001b[39;00m \u001b[38;5;167;01mNotImplementedError\u001b[39;00m(\n\u001b[1;32m    124\u001b[0m         \u001b[38;5;124m\"\u001b[39m\u001b[38;5;124mmultivariate partial fraction decomposition\u001b[39m\u001b[38;5;124m\"\u001b[39m)\n\u001b[1;32m    126\u001b[0m common, P, Q \u001b[38;5;241m=\u001b[39m P\u001b[38;5;241m.\u001b[39mcancel(Q)\n",
      "File \u001b[0;32m/sw/spack-levante/mambaforge-4.11.0-0-Linux-x86_64-sobz6z/lib/python3.9/site-packages/sympy/utilities/decorator.py:35\u001b[0m, in \u001b[0;36mthreaded_factory.<locals>.threaded_func\u001b[0;34m(expr, *args, **kwargs)\u001b[0m\n\u001b[1;32m     32\u001b[0m     \u001b[38;5;28;01mreturn\u001b[39;00m expr\u001b[38;5;241m.\u001b[39m\u001b[38;5;18m__class__\u001b[39m(func(expr\u001b[38;5;241m.\u001b[39mlhs, \u001b[38;5;241m*\u001b[39margs, \u001b[38;5;241m*\u001b[39m\u001b[38;5;241m*\u001b[39mkwargs),\n\u001b[1;32m     33\u001b[0m                           func(expr\u001b[38;5;241m.\u001b[39mrhs, \u001b[38;5;241m*\u001b[39margs, \u001b[38;5;241m*\u001b[39m\u001b[38;5;241m*\u001b[39mkwargs))\n\u001b[1;32m     34\u001b[0m \u001b[38;5;28;01melse\u001b[39;00m:\n\u001b[0;32m---> 35\u001b[0m     \u001b[38;5;28;01mreturn\u001b[39;00m \u001b[43mfunc\u001b[49m\u001b[43m(\u001b[49m\u001b[43mexpr\u001b[49m\u001b[43m,\u001b[49m\u001b[43m \u001b[49m\u001b[38;5;241;43m*\u001b[39;49m\u001b[43margs\u001b[49m\u001b[43m,\u001b[49m\u001b[43m \u001b[49m\u001b[38;5;241;43m*\u001b[39;49m\u001b[38;5;241;43m*\u001b[39;49m\u001b[43mkwargs\u001b[49m\u001b[43m)\u001b[49m\n",
      "File \u001b[0;32m/sw/spack-levante/mambaforge-4.11.0-0-Linux-x86_64-sobz6z/lib/python3.9/site-packages/sympy/polys/partfrac.py:123\u001b[0m, in \u001b[0;36mapart\u001b[0;34m(f, x, full, **options)\u001b[0m\n\u001b[1;32m    120\u001b[0m     \u001b[38;5;28;01mif\u001b[39;00m fc \u001b[38;5;241m!=\u001b[39m f:\n\u001b[1;32m    121\u001b[0m         \u001b[38;5;28;01mreturn\u001b[39;00m apart(fc, x\u001b[38;5;241m=\u001b[39mx, full\u001b[38;5;241m=\u001b[39mfull, \u001b[38;5;241m*\u001b[39m\u001b[38;5;241m*\u001b[39m_options)\n\u001b[0;32m--> 123\u001b[0m     \u001b[38;5;28;01mraise\u001b[39;00m \u001b[38;5;167;01mNotImplementedError\u001b[39;00m(\n\u001b[1;32m    124\u001b[0m         \u001b[38;5;124m\"\u001b[39m\u001b[38;5;124mmultivariate partial fraction decomposition\u001b[39m\u001b[38;5;124m\"\u001b[39m)\n\u001b[1;32m    126\u001b[0m common, P, Q \u001b[38;5;241m=\u001b[39m P\u001b[38;5;241m.\u001b[39mcancel(Q)\n\u001b[1;32m    128\u001b[0m poly, P \u001b[38;5;241m=\u001b[39m P\u001b[38;5;241m.\u001b[39mdiv(Q, auto\u001b[38;5;241m=\u001b[39m\u001b[38;5;28;01mTrue\u001b[39;00m)\n",
      "\u001b[0;31mNotImplementedError\u001b[0m: multivariate partial fraction decomposition"
     ]
    }
   ],
   "source": [
    "sp.apart(expr)"
   ]
  },
  {
   "cell_type": "markdown",
   "id": "ed67cfa7-7356-4445-965f-3474dcfd66ce",
   "metadata": {},
   "source": [
    "Only solution to yield the desired expression I have found:"
   ]
  },
  {
   "cell_type": "code",
   "execution_count": null,
   "id": "13417fd5-55e8-4821-aa55-e0edaa662954",
   "metadata": {},
   "outputs": [],
   "source": [
    "expr + ' + 3/(a+b)'\n",
    "sp.sympify(str(sp.simplify(expr + ' + 3/(a+b)')) + '- 3/(a+b)')"
   ]
  }
 ],
 "metadata": {
  "kernelspec": {
   "display_name": "Python 3 (based on the module python3/2022.01)",
   "language": "python",
   "name": "python3_2022_01"
  },
  "language_info": {
   "codemirror_mode": {
    "name": "ipython",
    "version": 3
   },
   "file_extension": ".py",
   "mimetype": "text/x-python",
   "name": "python",
   "nbconvert_exporter": "python",
   "pygments_lexer": "ipython3",
   "version": "3.9.9"
  }
 },
 "nbformat": 4,
 "nbformat_minor": 5
}
