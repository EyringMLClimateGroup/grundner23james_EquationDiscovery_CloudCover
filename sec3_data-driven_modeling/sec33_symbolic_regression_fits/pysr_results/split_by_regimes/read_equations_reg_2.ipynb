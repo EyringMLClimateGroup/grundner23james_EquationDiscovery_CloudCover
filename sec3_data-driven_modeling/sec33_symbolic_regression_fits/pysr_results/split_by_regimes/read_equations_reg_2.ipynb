{
 "cells": [
  {
   "cell_type": "markdown",
   "id": "0f34d229-2535-468b-93b7-a32110b04212",
   "metadata": {},
   "source": [
    "**Translate PySR equations into physical form**"
   ]
  },
  {
   "cell_type": "code",
   "execution_count": 1,
   "id": "f6cbf414-24b0-4a99-85ae-ecf3b66d378b",
   "metadata": {},
   "outputs": [],
   "source": [
    "import sympy as sp\n",
    "import numpy as np\n",
    "import json\n",
    "import os"
   ]
  },
  {
   "cell_type": "code",
   "execution_count": 2,
   "id": "16eb4919-f58d-4b6d-af08-0a1ef12277e0",
   "metadata": {},
   "outputs": [],
   "source": [
    "# Choose between 1,2,3,4\n",
    "regime = 2"
   ]
  },
  {
   "cell_type": "code",
   "execution_count": 3,
   "id": "feb54080-0107-4fd1-bf78-6ace210326c8",
   "metadata": {},
   "outputs": [],
   "source": [
    "mean_all = [4.12205844e-03,2.25493498e-05,3.38180032e-06,2.57065512e+02,6.00030443e+04,5.64080139e+03,2.35046400e-01,1.32776682e+01,6.02512234e-01,9.86270417e+04,-1.27545273e-06,-4.02484958e-10,1.65204582e-08,-4.34660202e-11,4.29441131e-10,-1.82817316e-12,-4.68742483e-03,-7.54899040e-07,-7.51544542e+00,-1.06989723e-04,1.65615172e-03,-9.27604679e-06,-4.76200071e-05,-1.32246548e-07]\n",
    "std_all = [5.07648249e-03,5.69702638e-05,1.01308124e-05,3.00533874e+01,3.12514292e+04,5.66963918e+03,4.11184302e-01,1.11389888e+01,3.32494615e-01,6.24039256e+03,2.03179260e-06,1.17041141e-08,1.33311867e-07,1.42840744e-09,6.73384546e-09,5.07424672e-11,5.82875686e-03,6.34826092e-05,3.53136052e+00,1.13215264e-02,6.62892130e-03,6.08144307e-05,2.58065098e-04,2.49552692e-06]\n",
    "\n",
    "all_possible_features = ['hus', 'qc', 'qi', 't', 'pa', 'zg', 'fr_land', 'U', 'rh', 'ps', 'hus_z', 'hus_zz', 'clw_z', 'clw_zz', 'cli_z',\\\n",
    "            'cli_zz', 'ta_z', 'ta_zz', 'pa_z', 'pa_zz', 'U_z', 'U_zz', 'rh_z', 'rh_zz']\n",
    "\n",
    "loc_all = {}\n",
    "for i in range(len(all_possible_features)):\n",
    "    loc_all[all_possible_features[i]] = i"
   ]
  },
  {
   "cell_type": "code",
   "execution_count": 4,
   "id": "8510f918-f035-47f0-a143-91ae704034ff",
   "metadata": {},
   "outputs": [],
   "source": [
    "rh, t, qc, qi, rh_z, rh_zz, pa_zz, ps = sp.symbols('rh t qc qi rh_z rh_zz pa_zz ps')\n",
    "\n",
    "# Based on the regime the features have different meanings\n",
    "if regime == 1:\n",
    "    features = ['qi', 'rh', 't', 'rh_z', 'rh_zz']\n",
    "    mean = np.concatenate([np.expand_dims(mean_all[loc_all[sel_var]], axis=0) for sel_var in features], axis = 0)\n",
    "    std = np.concatenate([np.expand_dims(std_all[loc_all[sel_var]], axis=0) for sel_var in features], axis = 0)\n",
    "\n",
    "    x0 = (qi - mean[0])/std[0]\n",
    "    x1 = (rh - mean[1])/std[1]\n",
    "    x2 = (t - mean[2])/std[2]\n",
    "    x3 = (rh_z - mean[3])/std[3]\n",
    "    x4 = (rh_zz - mean[4])/std[4]\n",
    "    \n",
    "elif regime == 2:\n",
    "    features = ['qi', 'qc', 'rh', 'rh_z', 'pa_zz']\n",
    "    mean = np.concatenate([np.expand_dims(mean_all[loc_all[sel_var]], axis=0) for sel_var in features], axis = 0)\n",
    "    std = np.concatenate([np.expand_dims(std_all[loc_all[sel_var]], axis=0) for sel_var in features], axis = 0)\n",
    "\n",
    "    x0 = (qi - mean[0])/std[0]\n",
    "    x1 = (qc - mean[1])/std[1]\n",
    "    x2 = (rh - mean[2])/std[2]\n",
    "    x3 = (rh_z - mean[3])/std[3]\n",
    "    x4 = (pa_zz - mean[4])/std[4]\n",
    "    \n",
    "elif regime == 3:\n",
    "    features = ['rh', 't', 'rh_z', 'ps', 'rh_zz']\n",
    "    mean = np.concatenate([np.expand_dims(mean_all[loc_all[sel_var]], axis=0) for sel_var in features], axis = 0)\n",
    "    std = np.concatenate([np.expand_dims(std_all[loc_all[sel_var]], axis=0) for sel_var in features], axis = 0)\n",
    "\n",
    "    x0 = (rh - mean[0])/std[0]\n",
    "    x1 = (t - mean[1])/std[1]\n",
    "    x2 = (rh_z - mean[2])/std[2]\n",
    "    x3 = (ps - mean[3])/std[3]\n",
    "    x4 = (rh_zz - mean[4])/std[4]\n",
    "    \n",
    "elif regime == 4:\n",
    "    features = ['rh', 'rh_z', 'pa_zz', 'rh_zz', 'qc']\n",
    "    mean = np.concatenate([np.expand_dims(mean_all[loc_all[sel_var]], axis=0) for sel_var in features], axis = 0)\n",
    "    std = np.concatenate([np.expand_dims(std_all[loc_all[sel_var]], axis=0) for sel_var in features], axis = 0)\n",
    "\n",
    "    x0 = (rh - mean[0])/std[0]\n",
    "    x1 = (rh_z - mean[1])/std[1]\n",
    "    x2 = (pa_zz - mean[2])/std[2]\n",
    "    x3 = (rh_zz - mean[3])/std[3]\n",
    "    x4 = (qc - mean[4])/std[4]"
   ]
  },
  {
   "cell_type": "markdown",
   "id": "6007541f-46ec-4078-8312-29e4f27fc881",
   "metadata": {},
   "source": [
    "**Plot distributions of predictions and compute the Hellinger score for four candidate equations per regime**"
   ]
  },
  {
   "cell_type": "code",
   "execution_count": 5,
   "id": "6cb28809-d119-4933-a25d-ae2a7128d864",
   "metadata": {},
   "outputs": [
    {
     "name": "stdout",
     "output_type": "stream",
     "text": [
      "(58421418, 24)\n",
      "(58421418,)\n",
      "(35374362, 24)\n",
      "(35374362,)\n",
      "(35374356, 24)\n",
      "(35374356,)\n",
      "(58421401, 24)\n",
      "(58421401,)\n"
     ]
    }
   ],
   "source": [
    "## Load data\n",
    "path_data = os.path.join('/home/b/b309170/', 'my_work/icon-ml_data/cloud_cover_parameterization/neighborhood_based_SR_DYAMOND')\n",
    "input_data = np.load(path_data + '/cloud_cover_input_dyamond.npy')\n",
    "output_data = np.load(path_data + '/cloud_area_output_dyamond.npy')\n",
    "\n",
    "(samples_total, no_of_features) = input_data.shape\n",
    "(samples_total, no_of_features)\n",
    "\n",
    "# Split into cloud regimes\n",
    "cod_subs = input_data[:, loc_all['qi']] + input_data[:, loc_all['qc']]\n",
    "cod_subs_med = np.median(cod_subs[cod_subs != 0])\n",
    "\n",
    "pa_med = np.median(input_data[cod_subs != 0, loc_all['pa']])\n",
    "\n",
    "## For the training data\n",
    "input_data_reg_1 = input_data[(0 < cod_subs) & (cod_subs < cod_subs_med) & (input_data[:, loc_all['pa']] < pa_med)]\n",
    "input_data_reg_2 = input_data[(0 < cod_subs) & (cod_subs < cod_subs_med) & (input_data[:, loc_all['pa']] > pa_med)]\n",
    "input_data_reg_3 = input_data[(cod_subs > cod_subs_med) & (input_data[:, loc_all['pa']] < pa_med)]\n",
    "input_data_reg_4 = input_data[(cod_subs > cod_subs_med) & (input_data[:, loc_all['pa']] > pa_med)]\n",
    "\n",
    "output_data_reg_1 = output_data[(0 < cod_subs) & (cod_subs < cod_subs_med) & (input_data[:, loc_all['pa']] < pa_med)]\n",
    "output_data_reg_2 = output_data[(0 < cod_subs) & (cod_subs < cod_subs_med) & (input_data[:, loc_all['pa']] > pa_med)]\n",
    "output_data_reg_3 = output_data[(cod_subs > cod_subs_med) & (input_data[:, loc_all['pa']] < pa_med)]\n",
    "output_data_reg_4 = output_data[(cod_subs > cod_subs_med) & (input_data[:, loc_all['pa']] > pa_med)]\n",
    "\n",
    "# Do the regimes have a similar size?\n",
    "for i in range(1, 5):\n",
    "    print(locals()['input_data_reg_%d'%i].shape)\n",
    "    print(locals()['output_data_reg_%d'%i].shape)\n",
    "    \n",
    "## Keeping only the relevant features and the appropriate regime\n",
    "inds = [loc_all[feat] for feat in features]\n",
    "input_data = locals()['input_data_reg_%d'%regime][:, inds]\n",
    "output_data = locals()['output_data_reg_%d'%regime]\n",
    "\n",
    "# Update loc\n",
    "loc = {}\n",
    "for i in range(len(features)):\n",
    "    loc[features[i]] = i"
   ]
  },
  {
   "cell_type": "code",
   "execution_count": 6,
   "id": "1a6656dd-f798-4bf2-9111-f1d4a38b5603",
   "metadata": {},
   "outputs": [],
   "source": [
    "def cube(x):\n",
    "    return x**3"
   ]
  },
  {
   "cell_type": "code",
   "execution_count": 7,
   "id": "c394982a-3dcf-496b-8d88-3ad0f4eb4d3d",
   "metadata": {},
   "outputs": [],
   "source": [
    "# See also grundner23james_EquationDiscovery_CloudCover_addressing_reviews/sec3_data-driven_modeling/sec33_symbolic_regression_fits/pysr_results/read_results.ipynb\n",
    "\n",
    "# Equations copied manually from the hof files.\n",
    "if regime == 1:\n",
    "    # tmp20m0tjio (2 hour PySR run)\n",
    "    eq_1 = ((((x1 * 1.3106004) - -1.1215717) - x2) * (((((x1 - -0.6921713) * x1) - 1.7383649) / (x0 - -0.36915675)) + 42.141277)) #15\n",
    "    eq_2 = ((((x1 * 1.306444) - -1.1760198) - x2) * ((x3 * -1.9334707) + (((((x1 * (x2 - -1.8897678)) * x1) - 2.2833774) / (x0 - -0.38175905)) + 42.141277))) #18\n",
    "    eq_3 = ((((x1 * 1.3021564) - -1.1323451) - x2) * ((((1.551526 - x4) - x3) * (0.5124828 - x3)) + (((((x1 * (x2 - -1.8496528)) * x1) - 2.2833774) / (x0 - -0.38175905)) + 42.141277))) #21\n",
    "    eq_4 = (((x1 - -1.1366048) - x2) * ((x1 * ((x1 - (x2 * (x0 + (x0 - -0.3500207)))) * 14.167247)) + ((x3 * (((x4 + -0.5412056) + x3) * ((3.9946866 - x1) + x4))) + (((x1 - 1.8120887) / (x0 - -0.37567925)) + 39.724678)))) #25  \n",
    "elif regime == 2:\n",
    "    # tmpmiqpx6bv (2 hour PySR run)\n",
    "    eq_1 = ((x3 * (((x3 - (x0 * 6.799734)) * 1.7811792) - x4)) + ((-2.3767745 / (x0 + (x1 + 0.75745434))) + (((x0 + x2) + (0.7239992 - x1)) * 47.40556))) #19\n",
    "    eq_2 = ((x3 * ((x0 / -0.052681193) - (x4 - (-2.324556 - (x3 * -1.7513764))))) + ((-2.4570863 / (x0 + (x1 + 0.75807023))) + (((x0 + x2) + (0.75413656 - x1)) * 46.906483))) #22\n",
    "    eq_3 = (((x3 + x2) * (((x3 - (((x2 * x2) * 19.919544) * x0)) - 2.2018232) - (x4 * 0.6125975))) + ((-2.6769364 / (x0 + (x1 + 0.7600043))) + (((x0 + x2) + (0.726002 - x1)) * 47.45945))) #25\n",
    "    eq_4 = (((x3 + x2) * (((x3 - (((((x2 * x2) * 10.444129) + x3) * 1.8946401) * x0)) - (x2 / 0.3643506)) - x4)) + ((-2.6736925 / (x0 + (x1 + 0.759241))) + (((x0 + x2) + (0.69706964 - x1)) * 48.26185))) #28\n",
    "elif regime == 3:\n",
    "    # tmp3z3h0kcw (2 hour PySR run)\n",
    "    eq_1 = ((31.554926 - ((((x2 - x4) * (x2 * -0.22029664)) - x0) * ((x3 + (x1 * (x1 * 23.797224))) + 22.081907))) - ((x1 - x0) * 52.949085)) #16\n",
    "    eq_2 = ((32.2391 - ((((((x2 * (x2 - x4)) - x1) - x1) * -0.22545883) - x0) * (36.055973 - (((x0 * x1) * x1) / -0.023353526)))) - ((x1 - x0) * 35.68587)) #19\n",
    "    eq_3 = ((31.335789 - (((((((-0.3968279 - ((x4 * x3) - x2)) * (x2 - x4)) - x1) - x1) * -0.21527791) - x0) * (34.05128 - (((x0 * x1) * x1) / -0.021614589)))) - ((x1 - x0) * 38.341293)) #22\n",
    "    eq_4 = ((32.58458 - ((((((x2 - x4) * (x2 - x1)) - x1) * -0.2463431) - x0) * (34.918007 - (((((x1 * (x0 + x1)) * x0) - x1) / -0.0390085) + (((x4 * x4) - x3) * 2.4084032))))) - ((x1 - x0) * 36.055973)) #25\n",
    "elif regime == 4:\n",
    "    # tmp73yn1r63 (2 hour PySR run)\n",
    "    eq_1 = (((x0 * cube(x0 + 3.274838)) - (-0.7680213 / (x2 + 0.1449628))) - (x1 * (((x3 - (x1 * x0)) - x1) * 2.6486895))) #22\n",
    "    eq_2 = ((((x0 * cube(x0 + 3.274838)) - x3) - (-0.7783678 / (x2 + 0.14510825))) - ((x1 - (x3 - (x1 * x0))) * (x3 - ((0.6005053 - x1) * -2.3964152)))) #25\n",
    "    eq_3 = (((x0 * cube(x0 + 3.336222)) + ((((x0 / (x4 + 0.40092596)) + (x2 * -12.724496)) - x1) - x3)) - ((x1 - (x3 - (x1 * x0))) * (x3 - ((x2 - x1) * -2.617773)))) #28\n",
    "    eq_4 = (((((x0 * cube(x0 + 3.328933)) + (x4 - x3)) + (x0 / (x4 + 0.39951217))) - (x2 / ((x2 + 0.14571956) * 0.17005807))) - ((x1 - (x3 - (x1 * x0))) * (x3 - ((0.5444056 - x1) * -2.6454537)))) #31\n",
    "    \n",
    "# Convert equations into functions\n",
    "eq_1_lb = sp.lambdify(features, eq_1)\n",
    "preds_eq_1 = np.maximum(np.minimum(eq_1_lb(*input_data.T), 100), 0)  \n",
    "\n",
    "eq_2_lb = sp.lambdify(features, eq_2)\n",
    "preds_eq_2 = np.maximum(np.minimum(eq_2_lb(*input_data.T), 100), 0)\n",
    "\n",
    "eq_3_lb = sp.lambdify(features, eq_3)\n",
    "preds_eq_3 = np.maximum(np.minimum(eq_3_lb(*input_data.T), 100), 0)\n",
    "\n",
    "eq_4_lb = sp.lambdify(features, eq_4)\n",
    "preds_eq_4 = np.maximum(np.minimum(eq_4_lb(*input_data.T), 100), 0)\n",
    "\n",
    "## Load ground truth distribution\n",
    "# See also grundner23james_EquationDiscovery_CloudCover_addressing_reviews/sec5_results/sec52_split_by_cloud_regimes/evaluate_pysr_EQ4.ipynb\n",
    "\n",
    "with open(os.environ['HOME'] + '/my_work/published_code/grundner23james_EquationDiscovery_CloudCover_addressing_reviews/sec5_results/sec52_split_by_cloud_regimes/results/evaluate_wang_scheme.json', 'r') as file:\n",
    "    d_wang = json.load(file)\n",
    "    \n",
    "d_wang['Data_reg_%d_x'%(regime - 1)] = d_wang['Data_reg_%d_x'%(regime - 1)]/(100*np.mean(d_wang['Data_reg_%d_x'%(regime - 1)]))"
   ]
  },
  {
   "cell_type": "code",
   "execution_count": 8,
   "id": "615d27f6-a2cc-4a8c-9584-245ba1bfe286",
   "metadata": {},
   "outputs": [],
   "source": [
    "def hellinger(p,q):\n",
    "    \"\"\"Hellinger distance between distributions\"\"\"\n",
    "    return sum([(np.sqrt(t[0])-np.sqrt(t[1]))*(np.sqrt(t[0])-np.sqrt(t[1])) for t in zip(p,q)])/np.sqrt(2.)"
   ]
  },
  {
   "cell_type": "code",
   "execution_count": 73,
   "id": "6e199258-ce47-47c3-b302-c6a87adb0f67",
   "metadata": {},
   "outputs": [
    {
     "data": {
      "image/png": "[encoded data removed]",
      "text/plain": [
       "<Figure size 760x435 with 1 Axes>"
      ]
     },
     "metadata": {},
     "output_type": "display_data"
    }
   ],
   "source": [
    "# Increase the general font size\n",
    "import matplotlib as mpl\n",
    "import matplotlib.pyplot as plt\n",
    "\n",
    "mpl.rcParams['legend.fontsize'] = 'x-large'\n",
    "mpl.rcParams['axes.labelsize'] = 'x-large' # For an axes xlabel and ylabel\n",
    "mpl.rcParams['axes.titlesize'] = 'xx-large'\n",
    "mpl.rcParams['xtick.labelsize'] = 'xx-large'\n",
    "mpl.rcParams['ytick.labelsize'] = 'xx-large'\n",
    "\n",
    "plt.figure(figsize=(7.6, 4.35))\n",
    "# plt.suptitle(\"Distributions on all validation data vs on the subset\", fontsize=18, y=.91)\n",
    "\n",
    "plot_titles = ['Cirrus regime (low $p$, low $q_t$)', 'Cumulus regime (high $p$, low $q_t$)', \\\n",
    "               'Deep convective regime (low $p$, high $q_t$)', 'Stratus regime (high $p$, high $q_t$)']\n",
    "\n",
    "plot_title = plot_titles[regime - 1]\n",
    "\n",
    "hist_data = {}\n",
    "hist_preds = {}\n",
    "\n",
    "axes = (0)\n",
    "\n",
    "# Add new subplot iteratively\n",
    "ax = plt.subplot(1, 1, 1)\n",
    "\n",
    "BINS = 80\n",
    "assert BINS == 80\n",
    "\n",
    "plt.title(plot_title)\n",
    "hist_data = plt.stairs(d_wang['Data_reg_%d_x'%(regime - 1)], d_wang['Data_reg_%d_y'%(regime - 1)], linewidth=3, color='black')\n",
    "hist_eq_1 = plt.hist(preds_eq_1, linewidth=4, color='olive', density=True, fill=True, alpha=.5, bins=BINS)\n",
    "hist_eq_2 = plt.hist(preds_eq_2, linewidth=4, color='brown', density=True, fill=True, alpha=.5, bins=BINS)\n",
    "hist_eq_3 = plt.hist(preds_eq_3, linewidth=4, color='blue', density=True, fill=True, alpha=.5, bins=BINS)\n",
    "hist_eq_4 = plt.hist(preds_eq_4, linewidth=4, color='cyan', density=True, fill=True, alpha=.5, bins=BINS)\n",
    "\n",
    "eq_1_hel = hellinger(hist_eq_1[0], d_wang['Data_reg_%d_x'%(regime - 1)])\n",
    "eq_2_hel = hellinger(hist_eq_2[0], d_wang['Data_reg_%d_x'%(regime - 1)])\n",
    "eq_3_hel = hellinger(hist_eq_3[0], d_wang['Data_reg_%d_x'%(regime - 1)])\n",
    "eq_4_hel = hellinger(hist_eq_4[0], d_wang['Data_reg_%d_x'%(regime - 1)])\n",
    "\n",
    "plt.rc('font', size=16)\n",
    "plt.text(7, 0.22 - 0.07, np.round(eq_1_hel, 3), color='olive')\n",
    "plt.text(7, 0.2 - 0.1, np.round(eq_2_hel, 3), color='brown')\n",
    "plt.text(7, 0.18 - 0.114, np.round(eq_3_hel, 3), color='blue')\n",
    "plt.text(7, 0.16 - 0.117, np.round(eq_4_hel, 3), color='cyan')\n",
    "plt.rc('font', size=10)\n",
    "\n",
    "ax.legend(['DYAMOND clc', 'Equation I', 'Equation II', 'Equation III', 'Equation IV'], loc='upper center')\n",
    "\n",
    "plt.ylabel('Probability Density')\n",
    "# plt.ylim((0, 0.25))\n",
    "plt.yscale('log')\n",
    "plt.ylim([0.001, 0.25])\n",
    "    \n",
    "plt.savefig('regime_%d/evaluate_eqns.pdf'%regime)"
   ]
  },
  {
   "cell_type": "markdown",
   "id": "21aa7308-8d84-4ffc-ad4b-45090f11afe0",
   "metadata": {},
   "source": [
    "**Print equations**"
   ]
  },
  {
   "cell_type": "code",
   "execution_count": 63,
   "id": "48f7e8ec-3e48-431e-8d88-a9ff1ad4c116",
   "metadata": {},
   "outputs": [],
   "source": [
    "# def round_expr(expr, num_digits):\n",
    "#     return expr.xreplace({n : round(n, num_digits) for n in expr.atoms(sp.Number)})\n",
    "\n",
    "# dig = 2"
   ]
  },
  {
   "cell_type": "code",
   "execution_count": 64,
   "id": "c4a9d68d-2b28-4217-a451-f5351c6aab08",
   "metadata": {},
   "outputs": [],
   "source": [
    "def round_expr(expr, num_digits=2):\n",
    "    def format_number(n):\n",
    "        if isinstance(n, (int, float)):\n",
    "            return '{:.{}e}'.format(n, num_digits)\n",
    "        elif isinstance(n, sp.Number):\n",
    "            return '{:.{}e}'.format(n.evalf(), num_digits)\n",
    "        else:\n",
    "            return n\n",
    "\n",
    "    converted_expr = expr.xreplace({\n",
    "        n: sp.sympify(format_number(n)) for n in expr.atoms()\n",
    "    })\n",
    "    return converted_expr\n",
    "\n",
    "dig = 3"
   ]
  },
  {
   "cell_type": "code",
   "execution_count": 65,
   "id": "111992a7-1375-4cb6-ace2-96fa036c104c",
   "metadata": {},
   "outputs": [
    {
     "data": {
      "text/latex": [
       "$\\displaystyle \\frac{\\left(17553.0168424461 q_{c} + 98708.7669296887 q_{i} + 0.0278318835847637\\right) \\left(142.575421860592 RH - 832110.593105591 q_{c} + 4679344.37321137 q_{i} + \\left(3874.99126286345 RH_{z} + 0.184527111449995\\right) \\left(6902.05383759411 RH_{z} - 88.3273124726362 p_{zz} - 1195515.64949843 q_{i} + 4.36222094409485\\right) - 48.6429038856585\\right) - 2.3767745}{17553.0168424461 q_{c} + 98708.7669296887 q_{i} + 0.0278318835847637}$"
      ],
      "text/plain": [
       "((17553.0168424461*q_c + 98708.7669296887*q_i + 0.0278318835847637)*(142.575421860592*RH - 832110.593105591*q_c + 4679344.37321137*q_i + (3874.99126286345*RH_z + 0.184527111449995)*(6902.05383759411*RH_z - 88.3273124726362*p_zz - 1195515.64949843*q_i + 4.36222094409485) - 48.6429038856585) - 2.3767745)/(17553.0168424461*q_c + 98708.7669296887*q_i + 0.0278318835847637)"
      ]
     },
     "execution_count": 65,
     "metadata": {},
     "output_type": "execute_result"
    }
   ],
   "source": [
    "# Equation 1\n",
    "sp.simplify(eq_1.subs({'t':'T', 'qi':'q_i', 'qc':'q_c', 'rh':'RH', 'rh_z': 'RH_z', 'qc': 'q_c', 'pa_zz': 'p_zz', 'ps': 'p_s', 'rh_zz': 'RH_zz'}))"
   ]
  },
  {
   "cell_type": "code",
   "execution_count": 66,
   "id": "e0d823fc-527a-4e72-bbeb-fc1dd836f7ee",
   "metadata": {},
   "outputs": [
    {
     "data": {
      "text/latex": [
       "$\\displaystyle \\frac{\\left(17550.0 q_{c} + 98710.0 q_{i} + 0.02783\\right) \\left(142.6 RH - 832100.0 q_{c} + 4679000.0 q_{i} + \\left(3875.0 RH_{z} + 0.1845\\right) \\left(6902.0 RH_{z} - 88.33 p_{zz} - 1196000.0 q_{i} + 4.362\\right) - 48.64\\right) - 2.377}{\\left(17550.0 q_{c} + 98710.0 q_{i} + 0.02783\\right)^{1.0}}$"
      ],
      "text/plain": [
       "((17550.0*q_c + 98710.0*q_i + 0.02783)*(142.6*RH - 832100.0*q_c + 4679000.0*q_i + (3875.0*RH_z + 0.1845)*(6902.0*RH_z - 88.33*p_zz - 1196000.0*q_i + 4.362) - 48.64) - 2.377)/(17550.0*q_c + 98710.0*q_i + 0.02783)**1.0"
      ]
     },
     "execution_count": 66,
     "metadata": {},
     "output_type": "execute_result"
    }
   ],
   "source": [
    "round_expr(sp.simplify(eq_1.subs({'t':'T', 'qi':'q_i', 'qc':'q_c', 'rh':'RH', 'rh_z': 'RH_z', 'qc': 'q_c', 'pa_zz': 'p_zz', 'ps': 'p_s', 'rh_zz': 'RH_zz'})), dig)"
   ]
  },
  {
   "cell_type": "code",
   "execution_count": 67,
   "id": "126770f4-8cf9-4089-b56d-3f2ce7302005",
   "metadata": {},
   "outputs": [
    {
     "data": {
      "text/latex": [
       "$\\displaystyle \\frac{\\left(17553.0168424461 q_{c} + 98708.7669296887 q_{i} + 0.0284477735847637\\right) \\left(141.074414092391 RH - 823350.286118914 q_{c} + 4630081.0979384 q_{i} + \\left(3874.99126286345 RH_{z} + 0.184527111449995\\right) \\left(6786.56824798524 RH_{z} - 88.3273124726362 p_{zz} - 1873700.29622694 q_{i} + 4.32565057482327\\right) - 46.7171627927375\\right) - 2.4570863}{17553.0168424461 q_{c} + 98708.7669296887 q_{i} + 0.0284477735847637}$"
      ],
      "text/plain": [
       "((17553.0168424461*q_c + 98708.7669296887*q_i + 0.0284477735847637)*(141.074414092391*RH - 823350.286118914*q_c + 4630081.0979384*q_i + (3874.99126286345*RH_z + 0.184527111449995)*(6786.56824798524*RH_z - 88.3273124726362*p_zz - 1873700.29622694*q_i + 4.32565057482327) - 46.7171627927375) - 2.4570863)/(17553.0168424461*q_c + 98708.7669296887*q_i + 0.0284477735847637)"
      ]
     },
     "execution_count": 67,
     "metadata": {},
     "output_type": "execute_result"
    }
   ],
   "source": [
    "# Equation 2\n",
    "sp.simplify(eq_2.subs({'t':'T', 'qi':'q_i', 'qc':'q_c', 'rh':'RH', 'rh_z': 'RH_z', 'qc': 'q_c', 'pa_zz': 'p_zz', 'ps': 'p_s', 'rh_zz': 'RH_zz'}))"
   ]
  },
  {
   "cell_type": "code",
   "execution_count": 68,
   "id": "91bfa5c1-1a6a-4647-9882-ae590ec38829",
   "metadata": {},
   "outputs": [
    {
     "data": {
      "text/latex": [
       "$\\displaystyle \\frac{\\left(17550.0 q_{c} + 98710.0 q_{i} + 0.02845\\right) \\left(141.1 RH - 823400.0 q_{c} + 4630000.0 q_{i} + \\left(3875.0 RH_{z} + 0.1845\\right) \\left(6787.0 RH_{z} - 88.33 p_{zz} - 1874000.0 q_{i} + 4.326\\right) - 46.72\\right) - 2.457}{\\left(17550.0 q_{c} + 98710.0 q_{i} + 0.02845\\right)^{1.0}}$"
      ],
      "text/plain": [
       "((17550.0*q_c + 98710.0*q_i + 0.02845)*(141.1*RH - 823400.0*q_c + 4630000.0*q_i + (3875.0*RH_z + 0.1845)*(6787.0*RH_z - 88.33*p_zz - 1874000.0*q_i + 4.326) - 46.72) - 2.457)/(17550.0*q_c + 98710.0*q_i + 0.02845)**1.0"
      ]
     },
     "execution_count": 68,
     "metadata": {},
     "output_type": "execute_result"
    }
   ],
   "source": [
    "round_expr(sp.simplify(eq_2.subs({'t':'T', 'qi':'q_i', 'qc':'q_c', 'rh':'RH', 'rh_z': 'RH_z', 'qc': 'q_c', 'pa_zz': 'p_zz', 'ps': 'p_s', 'rh_zz': 'RH_zz'})), dig)"
   ]
  },
  {
   "cell_type": "code",
   "execution_count": 69,
   "id": "8e183e00-1d42-4983-ac34-46eeb58b4296",
   "metadata": {},
   "outputs": [
    {
     "data": {
      "text/latex": [
       "$\\displaystyle \\frac{\\left(17553.0168424461 q_{c} + 98708.7669296887 q_{i} + 0.0303818435847637\\right) \\left(142.737499673491 RH - 833056.525183231 q_{c} + 4684663.78866121 q_{i} - \\left(3.00756750601811 RH + 3874.99126286345 RH_{z} - 1.62756910550678\\right) \\left(- 3874.99126286345 RH_{z} + 54.1090908024558 p_{zz} + \\left(RH - 0.602512234\\right)^{2} \\cdot \\left(17785492.1437543 q_{i} - 60.1469830231057\\right) + 2.02308520518674\\right) - 48.603148695007\\right) - 2.6769364}{17553.0168424461 q_{c} + 98708.7669296887 q_{i} + 0.0303818435847637}$"
      ],
      "text/plain": [
       "((17553.0168424461*q_c + 98708.7669296887*q_i + 0.0303818435847637)*(142.737499673491*RH - 833056.525183231*q_c + 4684663.78866121*q_i - (3.00756750601811*RH + 3874.99126286345*RH_z - 1.62756910550678)*(-3874.99126286345*RH_z + 54.1090908024558*p_zz + (RH - 0.602512234)**2*(17785492.1437543*q_i - 60.1469830231057) + 2.02308520518674) - 48.603148695007) - 2.6769364)/(17553.0168424461*q_c + 98708.7669296887*q_i + 0.0303818435847637)"
      ]
     },
     "execution_count": 69,
     "metadata": {},
     "output_type": "execute_result"
    }
   ],
   "source": [
    "# Equation 3\n",
    "sp.simplify(eq_3.subs({'t':'T', 'qi':'q_i', 'qc':'q_c', 'rh':'RH', 'rh_z': 'RH_z', 'qc': 'q_c', 'pa_zz': 'p_zz', 'ps': 'p_s', 'rh_zz': 'RH_zz'}))"
   ]
  },
  {
   "cell_type": "code",
   "execution_count": 70,
   "id": "11d52a4b-3bc4-420c-80ab-3e92c1b1d14e",
   "metadata": {},
   "outputs": [
    {
     "data": {
      "text/latex": [
       "$\\displaystyle \\frac{\\left(17550.0 q_{c} + 98710.0 q_{i} + 0.03038\\right) \\left(142.7 RH - 833100.0 q_{c} + 4685000.0 q_{i} - 1.0 \\cdot \\left(3.008 RH + 3875.0 RH_{z} - 1.628\\right) \\left(- 3875.0 RH_{z} + 54.11 p_{zz} + \\left(RH - 0.6025\\right)^{2.0} \\cdot \\left(17790000.0 q_{i} - 60.15\\right) + 2.023\\right) - 48.6\\right) - 2.677}{\\left(17550.0 q_{c} + 98710.0 q_{i} + 0.03038\\right)^{1.0}}$"
      ],
      "text/plain": [
       "((17550.0*q_c + 98710.0*q_i + 0.03038)*(142.7*RH - 833100.0*q_c + 4685000.0*q_i - 1.0*(3.008*RH + 3875.0*RH_z - 1.628)*(-3875.0*RH_z + 54.11*p_zz + (RH - 0.6025)**2.0*(17790000.0*q_i - 60.15) + 2.023) - 48.6) - 2.677)/(17550.0*q_c + 98710.0*q_i + 0.03038)**1.0"
      ]
     },
     "execution_count": 70,
     "metadata": {},
     "output_type": "execute_result"
    }
   ],
   "source": [
    "round_expr(sp.simplify(eq_3.subs({'t':'T', 'qi':'q_i', 'qc':'q_c', 'rh':'RH', 'rh_z': 'RH_z', 'qc': 'q_c', 'pa_zz': 'p_zz', 'ps': 'p_s', 'rh_zz': 'RH_zz'})), dig)"
   ]
  },
  {
   "cell_type": "code",
   "execution_count": 71,
   "id": "ea703319-697b-42d6-8c20-1fece8e244e4",
   "metadata": {},
   "outputs": [
    {
     "data": {
      "text/latex": [
       "$\\displaystyle \\frac{\\left(17553.0168424461 q_{c} + 98708.7669296887 q_{i} + 0.0296185435847638\\right) \\left(145.15077184032 RH - 847141.06589761 q_{c} + 4763867.7032456 q_{i} - \\left(3.00756750601811 RH + 3874.99126286345 RH_{z} - 1.62756910550678\\right) \\left(8.25459737411741 RH - 3874.99126286345 RH_{z} + 88.3273124726362 p_{zz} + \\left(98708.7669296887 q_{i} - 0.333813339589627\\right) \\left(7341.71383377073 RH_{z} + 178.990392464041 \\left(RH - 0.602512234\\right)^{2} + 0.34961246489033\\right) - 5.14857290140523\\right) - 50.821214501505\\right) - 2.6736925}{17553.0168424461 q_{c} + 98708.7669296887 q_{i} + 0.0296185435847638}$"
      ],
      "text/plain": [
       "((17553.0168424461*q_c + 98708.7669296887*q_i + 0.0296185435847638)*(145.15077184032*RH - 847141.06589761*q_c + 4763867.7032456*q_i - (3.00756750601811*RH + 3874.99126286345*RH_z - 1.62756910550678)*(8.25459737411741*RH - 3874.99126286345*RH_z + 88.3273124726362*p_zz + (98708.7669296887*q_i - 0.333813339589627)*(7341.71383377073*RH_z + 178.990392464041*(RH - 0.602512234)**2 + 0.34961246489033) - 5.14857290140523) - 50.821214501505) - 2.6736925)/(17553.0168424461*q_c + 98708.7669296887*q_i + 0.0296185435847638)"
      ]
     },
     "execution_count": 71,
     "metadata": {},
     "output_type": "execute_result"
    }
   ],
   "source": [
    "# Equation 4\n",
    "sp.simplify(eq_4.subs({'t':'T', 'qi':'q_i', 'qc':'q_c', 'rh':'RH', 'rh_z': 'RH_z', 'qc': 'q_c', 'pa_zz': 'p_zz', 'ps': 'p_s', 'rh_zz': 'RH_zz'}))"
   ]
  },
  {
   "cell_type": "code",
   "execution_count": 72,
   "id": "c1ed1f22-3931-4c47-9ce1-26b450bcf965",
   "metadata": {},
   "outputs": [
    {
     "data": {
      "text/latex": [
       "$\\displaystyle \\frac{\\left(17550.0 q_{c} + 98710.0 q_{i} + 0.02962\\right) \\left(145.2 RH - 847100.0 q_{c} + 4764000.0 q_{i} - 1.0 \\cdot \\left(3.008 RH + 3875.0 RH_{z} - 1.628\\right) \\left(8.255 RH - 3875.0 RH_{z} + 88.33 p_{zz} + \\left(98710.0 q_{i} - 0.3338\\right) \\left(7342.0 RH_{z} + 179.0 \\left(RH - 0.6025\\right)^{2.0} + 0.3496\\right) - 5.149\\right) - 50.82\\right) - 2.674}{\\left(17550.0 q_{c} + 98710.0 q_{i} + 0.02962\\right)^{1.0}}$"
      ],
      "text/plain": [
       "((17550.0*q_c + 98710.0*q_i + 0.02962)*(145.2*RH - 847100.0*q_c + 4764000.0*q_i - 1.0*(3.008*RH + 3875.0*RH_z - 1.628)*(8.255*RH - 3875.0*RH_z + 88.33*p_zz + (98710.0*q_i - 0.3338)*(7342.0*RH_z + 179.0*(RH - 0.6025)**2.0 + 0.3496) - 5.149) - 50.82) - 2.674)/(17550.0*q_c + 98710.0*q_i + 0.02962)**1.0"
      ]
     },
     "execution_count": 72,
     "metadata": {},
     "output_type": "execute_result"
    }
   ],
   "source": [
    "round_expr(sp.simplify(eq_4.subs({'t':'T', 'qi':'q_i', 'qc':'q_c', 'rh':'RH', 'rh_z': 'RH_z', 'qc': 'q_c', 'pa_zz': 'p_zz', 'ps': 'p_s', 'rh_zz': 'RH_zz'})), dig)"
   ]
  },
  {
   "cell_type": "code",
   "execution_count": null,
   "id": "0b48450d-d6e2-4ec6-9195-5ac50de459b9",
   "metadata": {},
   "outputs": [],
   "source": []
  },
  {
   "cell_type": "code",
   "execution_count": null,
   "id": "ce505ce0-9f44-45de-8779-a49c9de5b0f6",
   "metadata": {},
   "outputs": [],
   "source": []
  }
 ],
 "metadata": {
  "kernelspec": {
   "display_name": "Python 3 (based on the module python3/unstable",
   "language": "python",
   "name": "python3_unstable"
  },
  "language_info": {
   "codemirror_mode": {
    "name": "ipython",
    "version": 3
   },
   "file_extension": ".py",
   "mimetype": "text/x-python",
   "name": "python",
   "nbconvert_exporter": "python",
   "pygments_lexer": "ipython3",
   "version": "3.10.10"
  }
 },
 "nbformat": 4,
 "nbformat_minor": 5
}
