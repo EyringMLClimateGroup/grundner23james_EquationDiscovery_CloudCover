{
 "cells": [
  {
   "cell_type": "markdown",
   "id": "0f34d229-2535-468b-93b7-a32110b04212",
   "metadata": {},
   "source": [
    "**Translate PySR equations into physical form**"
   ]
  },
  {
   "cell_type": "code",
   "execution_count": 2,
   "id": "f6cbf414-24b0-4a99-85ae-ecf3b66d378b",
   "metadata": {},
   "outputs": [],
   "source": [
    "import sympy as sp\n",
    "import numpy as np\n",
    "import json\n",
    "import os"
   ]
  },
  {
   "cell_type": "code",
   "execution_count": 3,
   "id": "16eb4919-f58d-4b6d-af08-0a1ef12277e0",
   "metadata": {},
   "outputs": [],
   "source": [
    "# Choose between 1,2,3,4\n",
    "regime = 2"
   ]
  },
  {
   "cell_type": "code",
   "execution_count": 4,
   "id": "feb54080-0107-4fd1-bf78-6ace210326c8",
   "metadata": {},
   "outputs": [],
   "source": [
    "mean_all = [4.12205844e-03,2.25493498e-05,3.38180032e-06,2.57065512e+02,6.00030443e+04,5.64080139e+03,2.35046400e-01,1.32776682e+01,6.02512234e-01,9.86270417e+04,-1.27545273e-06,-4.02484958e-10,1.65204582e-08,-4.34660202e-11,4.29441131e-10,-1.82817316e-12,-4.68742483e-03,-7.54899040e-07,-7.51544542e+00,-1.06989723e-04,1.65615172e-03,-9.27604679e-06,-4.76200071e-05,-1.32246548e-07]\n",
    "std_all = [5.07648249e-03,5.69702638e-05,1.01308124e-05,3.00533874e+01,3.12514292e+04,5.66963918e+03,4.11184302e-01,1.11389888e+01,3.32494615e-01,6.24039256e+03,2.03179260e-06,1.17041141e-08,1.33311867e-07,1.42840744e-09,6.73384546e-09,5.07424672e-11,5.82875686e-03,6.34826092e-05,3.53136052e+00,1.13215264e-02,6.62892130e-03,6.08144307e-05,2.58065098e-04,2.49552692e-06]\n",
    "\n",
    "all_possible_features = ['hus', 'qc', 'qi', 't', 'pa', 'zg', 'fr_land', 'U', 'rh', 'ps', 'hus_z', 'hus_zz', 'clw_z', 'clw_zz', 'cli_z',\\\n",
    "            'cli_zz', 'ta_z', 'ta_zz', 'pa_z', 'pa_zz', 'U_z', 'U_zz', 'rh_z', 'rh_zz']\n",
    "\n",
    "loc_all = {}\n",
    "for i in range(len(all_possible_features)):\n",
    "    loc_all[all_possible_features[i]] = i"
   ]
  },
  {
   "cell_type": "code",
   "execution_count": 5,
   "id": "8510f918-f035-47f0-a143-91ae704034ff",
   "metadata": {},
   "outputs": [],
   "source": [
    "rh, t, qc, qi, rh_z, rh_zz, pa_zz, ps = sp.symbols('rh t qc qi rh_z rh_zz pa_zz ps')\n",
    "\n",
    "# Based on the regime the features have different meanings\n",
    "if regime == 1:\n",
    "    features = ['qi', 'rh', 't', 'rh_z', 'rh_zz']\n",
    "    mean = np.concatenate([np.expand_dims(mean_all[loc_all[sel_var]], axis=0) for sel_var in features], axis = 0)\n",
    "    std = np.concatenate([np.expand_dims(std_all[loc_all[sel_var]], axis=0) for sel_var in features], axis = 0)\n",
    "\n",
    "    x0 = (qi - mean[0])/std[0]\n",
    "    x1 = (rh - mean[1])/std[1]\n",
    "    x2 = (t - mean[2])/std[2]\n",
    "    x3 = (rh_z - mean[3])/std[3]\n",
    "    x4 = (rh_zz - mean[4])/std[4]\n",
    "    \n",
    "elif regime == 2:\n",
    "    features = ['qi', 'qc', 'rh', 'rh_z', 'pa_zz']\n",
    "    mean = np.concatenate([np.expand_dims(mean_all[loc_all[sel_var]], axis=0) for sel_var in features], axis = 0)\n",
    "    std = np.concatenate([np.expand_dims(std_all[loc_all[sel_var]], axis=0) for sel_var in features], axis = 0)\n",
    "\n",
    "    x0 = (qi - mean[0])/std[0]\n",
    "    x1 = (qc - mean[1])/std[1]\n",
    "    x2 = (rh - mean[2])/std[2]\n",
    "    x3 = (rh_z - mean[3])/std[3]\n",
    "    x4 = (pa_zz - mean[4])/std[4]\n",
    "    \n",
    "elif regime == 3:\n",
    "    features = ['rh', 't', 'rh_z', 'ps', 'rh_zz']\n",
    "    mean = np.concatenate([np.expand_dims(mean_all[loc_all[sel_var]], axis=0) for sel_var in features], axis = 0)\n",
    "    std = np.concatenate([np.expand_dims(std_all[loc_all[sel_var]], axis=0) for sel_var in features], axis = 0)\n",
    "\n",
    "    x0 = (rh - mean[0])/std[0]\n",
    "    x1 = (t - mean[1])/std[1]\n",
    "    x2 = (rh_z - mean[2])/std[2]\n",
    "    x3 = (ps - mean[3])/std[3]\n",
    "    x4 = (rh_zz - mean[4])/std[4]\n",
    "    \n",
    "elif regime == 4:\n",
    "    features = ['rh', 'rh_z', 'pa_zz', 'rh_zz', 'qc']\n",
    "    mean = np.concatenate([np.expand_dims(mean_all[loc_all[sel_var]], axis=0) for sel_var in features], axis = 0)\n",
    "    std = np.concatenate([np.expand_dims(std_all[loc_all[sel_var]], axis=0) for sel_var in features], axis = 0)\n",
    "\n",
    "    x0 = (rh - mean[0])/std[0]\n",
    "    x1 = (rh_z - mean[1])/std[1]\n",
    "    x2 = (pa_zz - mean[2])/std[2]\n",
    "    x3 = (rh_zz - mean[3])/std[3]\n",
    "    x4 = (qc - mean[4])/std[4]"
   ]
  },
  {
   "cell_type": "markdown",
   "id": "6007541f-46ec-4078-8312-29e4f27fc881",
   "metadata": {},
   "source": [
    "**Plot distributions of predictions and compute the Hellinger score for four candidate equations per regime**"
   ]
  },
  {
   "cell_type": "code",
   "execution_count": 6,
   "id": "6cb28809-d119-4933-a25d-ae2a7128d864",
   "metadata": {},
   "outputs": [
    {
     "name": "stdout",
     "output_type": "stream",
     "text": [
      "(58421418, 24)\n",
      "(58421418,)\n",
      "(35374362, 24)\n",
      "(35374362,)\n",
      "(35374356, 24)\n",
      "(35374356,)\n",
      "(58421401, 24)\n",
      "(58421401,)\n"
     ]
    }
   ],
   "source": [
    "## Load data\n",
    "path_data = os.path.join('/home/b/b309170/', 'my_work/icon-ml_data/cloud_cover_parameterization/neighborhood_based_SR_DYAMOND')\n",
    "input_data = np.load(path_data + '/cloud_cover_input_dyamond.npy')\n",
    "output_data = np.load(path_data + '/cloud_area_output_dyamond.npy')\n",
    "\n",
    "(samples_total, no_of_features) = input_data.shape\n",
    "(samples_total, no_of_features)\n",
    "\n",
    "# Split into cloud regimes\n",
    "cod_subs = input_data[:, loc_all['qi']] + input_data[:, loc_all['qc']]\n",
    "cod_subs_med = np.median(cod_subs[cod_subs != 0])\n",
    "\n",
    "pa_med = np.median(input_data[cod_subs != 0, loc_all['pa']])\n",
    "\n",
    "## For the training data\n",
    "input_data_reg_1 = input_data[(0 < cod_subs) & (cod_subs < cod_subs_med) & (input_data[:, loc_all['pa']] < pa_med)]\n",
    "input_data_reg_2 = input_data[(0 < cod_subs) & (cod_subs < cod_subs_med) & (input_data[:, loc_all['pa']] > pa_med)]\n",
    "input_data_reg_3 = input_data[(cod_subs > cod_subs_med) & (input_data[:, loc_all['pa']] < pa_med)]\n",
    "input_data_reg_4 = input_data[(cod_subs > cod_subs_med) & (input_data[:, loc_all['pa']] > pa_med)]\n",
    "\n",
    "output_data_reg_1 = output_data[(0 < cod_subs) & (cod_subs < cod_subs_med) & (input_data[:, loc_all['pa']] < pa_med)]\n",
    "output_data_reg_2 = output_data[(0 < cod_subs) & (cod_subs < cod_subs_med) & (input_data[:, loc_all['pa']] > pa_med)]\n",
    "output_data_reg_3 = output_data[(cod_subs > cod_subs_med) & (input_data[:, loc_all['pa']] < pa_med)]\n",
    "output_data_reg_4 = output_data[(cod_subs > cod_subs_med) & (input_data[:, loc_all['pa']] > pa_med)]\n",
    "\n",
    "# Do the regimes have a similar size?\n",
    "for i in range(1, 5):\n",
    "    print(locals()['input_data_reg_%d'%i].shape)\n",
    "    print(locals()['output_data_reg_%d'%i].shape)\n",
    "    \n",
    "## Keeping only the relevant features and the appropriate regime\n",
    "inds = [loc_all[feat] for feat in features]\n",
    "input_data = locals()['input_data_reg_%d'%regime][:, inds]\n",
    "output_data = locals()['output_data_reg_%d'%regime]\n",
    "\n",
    "# Update loc\n",
    "loc = {}\n",
    "for i in range(len(features)):\n",
    "    loc[features[i]] = i"
   ]
  },
  {
   "cell_type": "code",
   "execution_count": 7,
   "id": "1a6656dd-f798-4bf2-9111-f1d4a38b5603",
   "metadata": {},
   "outputs": [],
   "source": [
    "def cube(x):\n",
    "    return x**3"
   ]
  },
  {
   "cell_type": "code",
   "execution_count": 8,
   "id": "c394982a-3dcf-496b-8d88-3ad0f4eb4d3d",
   "metadata": {},
   "outputs": [],
   "source": [
    "# See also grundner23james_EquationDiscovery_CloudCover_addressing_reviews/sec3_data-driven_modeling/sec33_symbolic_regression_fits/pysr_results/read_results.ipynb\n",
    "\n",
    "# Equations copied manually from the hof files.\n",
    "if regime == 1:\n",
    "    # tmp20m0tjio (2 hour PySR run)\n",
    "    eq_1 = ((((x1 * 1.3106004) - -1.1215717) - x2) * (((((x1 - -0.6921713) * x1) - 1.7383649) / (x0 - -0.36915675)) + 42.141277)) #15\n",
    "    eq_2 = ((((x1 * 1.306444) - -1.1760198) - x2) * ((x3 * -1.9334707) + (((((x1 * (x2 - -1.8897678)) * x1) - 2.2833774) / (x0 - -0.38175905)) + 42.141277))) #18\n",
    "    eq_3 = ((((x1 * 1.3021564) - -1.1323451) - x2) * ((((1.551526 - x4) - x3) * (0.5124828 - x3)) + (((((x1 * (x2 - -1.8496528)) * x1) - 2.2833774) / (x0 - -0.38175905)) + 42.141277))) #21\n",
    "    eq_4 = (((x1 - -1.1366048) - x2) * ((x1 * ((x1 - (x2 * (x0 + (x0 - -0.3500207)))) * 14.167247)) + ((x3 * (((x4 + -0.5412056) + x3) * ((3.9946866 - x1) + x4))) + (((x1 - 1.8120887) / (x0 - -0.37567925)) + 39.724678)))) #25  \n",
    "elif regime == 2:\n",
    "    # tmp2j9mlyvv (8 hour PySR run)\n",
    "    eq_1 = ((-5.214526 / (x0 + (x1 + 0.7817401))) + ((x2 + (0.6155333 - (x1 * 2.5389922))) * 41.99143)) #11\n",
    "    eq_2 = ((-4.120212 / (x0 + (x1 + 0.7699784))) + ((x2 + (0.45379096 / (x1 + 0.70647675))) * (x4 + 44.908348))) #13\n",
    "    eq_3 = (((x3 - x4) * x3) + ((-4.1526475 / (x1 + (x0 + 0.7699371))) + ((x2 + (0.52115756 / (x1 + 0.7257146))) * 41.99143))) #16\n",
    "    eq_4 = ((((cube(x2 * 1.787016) + x3) - x4) * x3) + ((-4.24455 / (x0 + (x1 + 0.7699371))) + ((x2 + (0.5181329 / (x1 + 0.7323576))) * 41.847927))) #20\n",
    "elif regime == 3:\n",
    "    # tmp3z3h0kcw (2 hour PySR run)\n",
    "    eq_1 = ((31.554926 - ((((x2 - x4) * (x2 * -0.22029664)) - x0) * ((x3 + (x1 * (x1 * 23.797224))) + 22.081907))) - ((x1 - x0) * 52.949085)) #16\n",
    "    eq_2 = ((32.2391 - ((((((x2 * (x2 - x4)) - x1) - x1) * -0.22545883) - x0) * (36.055973 - (((x0 * x1) * x1) / -0.023353526)))) - ((x1 - x0) * 35.68587)) #19\n",
    "    eq_3 = ((31.335789 - (((((((-0.3968279 - ((x4 * x3) - x2)) * (x2 - x4)) - x1) - x1) * -0.21527791) - x0) * (34.05128 - (((x0 * x1) * x1) / -0.021614589)))) - ((x1 - x0) * 38.341293)) #22\n",
    "    eq_4 = ((32.58458 - ((((((x2 - x4) * (x2 - x1)) - x1) * -0.2463431) - x0) * (34.918007 - (((((x1 * (x0 + x1)) * x0) - x1) / -0.0390085) + (((x4 * x4) - x3) * 2.4084032))))) - ((x1 - x0) * 36.055973)) #25\n",
    "elif regime == 4:\n",
    "    # tmp73yn1r63 (2 hour PySR run)\n",
    "    eq_1 = (((x0 * cube(x0 + 3.274838)) - (-0.7680213 / (x2 + 0.1449628))) - (x1 * (((x3 - (x1 * x0)) - x1) * 2.6486895))) #22\n",
    "    eq_2 = ((((x0 * cube(x0 + 3.274838)) - x3) - (-0.7783678 / (x2 + 0.14510825))) - ((x1 - (x3 - (x1 * x0))) * (x3 - ((0.6005053 - x1) * -2.3964152)))) #25\n",
    "    eq_3 = (((x0 * cube(x0 + 3.336222)) + ((((x0 / (x4 + 0.40092596)) + (x2 * -12.724496)) - x1) - x3)) - ((x1 - (x3 - (x1 * x0))) * (x3 - ((x2 - x1) * -2.617773)))) #28\n",
    "    eq_4 = (((((x0 * cube(x0 + 3.328933)) + (x4 - x3)) + (x0 / (x4 + 0.39951217))) - (x2 / ((x2 + 0.14571956) * 0.17005807))) - ((x1 - (x3 - (x1 * x0))) * (x3 - ((0.5444056 - x1) * -2.6454537)))) #31\n",
    "    \n",
    "# Convert equations into functions\n",
    "eq_1_lb = sp.lambdify(features, eq_1)\n",
    "preds_eq_1 = np.maximum(np.minimum(eq_1_lb(*input_data.T), 100), 0)  \n",
    "\n",
    "eq_2_lb = sp.lambdify(features, eq_2)\n",
    "preds_eq_2 = np.maximum(np.minimum(eq_2_lb(*input_data.T), 100), 0)\n",
    "\n",
    "eq_3_lb = sp.lambdify(features, eq_3)\n",
    "preds_eq_3 = np.maximum(np.minimum(eq_3_lb(*input_data.T), 100), 0)\n",
    "\n",
    "eq_4_lb = sp.lambdify(features, eq_4)\n",
    "preds_eq_4 = np.maximum(np.minimum(eq_4_lb(*input_data.T), 100), 0)\n",
    "\n",
    "## Load ground truth distribution\n",
    "# See also grundner23james_EquationDiscovery_CloudCover_addressing_reviews/sec5_results/sec52_split_by_cloud_regimes/evaluate_pysr_EQ4.ipynb\n",
    "\n",
    "with open(os.environ['HOME'] + '/my_work/published_code/grundner23james_EquationDiscovery_CloudCover_addressing_reviews/sec5_results/sec52_split_by_cloud_regimes/results/evaluate_wang_scheme.json', 'r') as file:\n",
    "    d_wang = json.load(file)\n",
    "    \n",
    "with open(os.environ['HOME'] + '/my_work/published_code/grundner23james_EquationDiscovery_CloudCover_addressing_reviews/sec5_results/sec52_split_by_cloud_regimes/results/evaluate_EQ4.json', 'r') as file:\n",
    "    d_pysr = json.load(file)\n",
    "    \n",
    "d_wang['Data_reg_%d_x'%(regime - 1)] = d_wang['Data_reg_%d_x'%(regime - 1)]/(100*np.mean(d_wang['Data_reg_%d_x'%(regime - 1)]))\n",
    "d_pysr['Preds_reg_%d_x'%(regime - 1)] = d_pysr['Preds_reg_%d_x'%(regime - 1)]/(100*np.mean(d_pysr['Preds_reg_%d_x'%(regime - 1)]))"
   ]
  },
  {
   "cell_type": "code",
   "execution_count": 9,
   "id": "615d27f6-a2cc-4a8c-9584-245ba1bfe286",
   "metadata": {},
   "outputs": [],
   "source": [
    "def hellinger(p,q):\n",
    "    \"\"\"Hellinger distance between distributions\"\"\"\n",
    "    return sum([(np.sqrt(t[0])-np.sqrt(t[1]))*(np.sqrt(t[0])-np.sqrt(t[1])) for t in zip(p,q)])/np.sqrt(2.)"
   ]
  },
  {
   "cell_type": "code",
   "execution_count": 10,
   "id": "6e199258-ce47-47c3-b302-c6a87adb0f67",
   "metadata": {},
   "outputs": [
    {
     "data": {
      "image/png": "[encoded data removed]",
      "text/plain": [
       "<Figure size 760x435 with 1 Axes>"
      ]
     },
     "metadata": {},
     "output_type": "display_data"
    }
   ],
   "source": [
    "# Increase the general font size\n",
    "import matplotlib as mpl\n",
    "import matplotlib.pyplot as plt\n",
    "\n",
    "mpl.rcParams['legend.fontsize'] = 'x-large'\n",
    "mpl.rcParams['axes.labelsize'] = 'x-large' # For an axes xlabel and ylabel\n",
    "mpl.rcParams['axes.titlesize'] = 'xx-large'\n",
    "mpl.rcParams['xtick.labelsize'] = 'xx-large'\n",
    "mpl.rcParams['ytick.labelsize'] = 'xx-large'\n",
    "\n",
    "plt.figure(figsize=(7.6, 4.35))\n",
    "# plt.suptitle(\"Distributions on all validation data vs on the subset\", fontsize=18, y=.91)\n",
    "\n",
    "plot_titles = ['Cirrus regime (low $p$, low $q_t$)', 'Cumulus regime (high $p$, low $q_t$)', \\\n",
    "               'Deep convective regime (low $p$, high $q_t$)', 'Stratus regime (high $p$, high $q_t$)']\n",
    "\n",
    "plot_title = plot_titles[regime - 1]\n",
    "\n",
    "hist_data = {}\n",
    "hist_preds = {}\n",
    "\n",
    "axes = (0)\n",
    "\n",
    "# Add new subplot iteratively\n",
    "ax = plt.subplot(1, 1, 1)\n",
    "\n",
    "BINS = 80\n",
    "assert BINS == 80\n",
    "\n",
    "plt.title(plot_title)\n",
    "hist_data = plt.stairs(d_wang['Data_reg_%d_x'%(regime - 1)], d_wang['Data_reg_%d_y'%(regime - 1)], linewidth=3, color='black')\n",
    "hist_eq_1 = plt.hist(preds_eq_1, linewidth=4, color='olive', density=True, fill=True, alpha=.5, bins=BINS)\n",
    "hist_eq_2 = plt.hist(preds_eq_2, linewidth=4, color='brown', density=True, fill=True, alpha=.5, bins=BINS)\n",
    "hist_eq_3 = plt.hist(preds_eq_3, linewidth=4, color='blue', density=True, fill=True, alpha=.5, bins=BINS)\n",
    "hist_eq_4 = plt.hist(preds_eq_4, linewidth=4, color='cyan', density=True, fill=True, alpha=.5, bins=BINS)\n",
    "\n",
    "eq_1_hel = hellinger(hist_eq_1[0], d_wang['Data_reg_%d_x'%(regime - 1)])\n",
    "eq_2_hel = hellinger(hist_eq_2[0], d_wang['Data_reg_%d_x'%(regime - 1)])\n",
    "eq_3_hel = hellinger(hist_eq_3[0], d_wang['Data_reg_%d_x'%(regime - 1)])\n",
    "eq_4_hel = hellinger(hist_eq_4[0], d_wang['Data_reg_%d_x'%(regime - 1)])\n",
    "\n",
    "plt.rc('font', size=16)\n",
    "plt.text(7, 0.22 - 0.07, np.round(eq_1_hel, 3), color='olive')\n",
    "plt.text(7, 0.2 - 0.1, np.round(eq_2_hel, 3), color='brown')\n",
    "plt.text(7, 0.18 - 0.114, np.round(eq_3_hel, 3), color='blue')\n",
    "plt.text(7, 0.16 - 0.117, np.round(eq_4_hel, 3), color='cyan')\n",
    "plt.rc('font', size=10)\n",
    "\n",
    "ax.legend(['DYAMOND clc', 'Equation I', 'Equation II', 'Equation III', 'Equation IV'], loc='upper center')\n",
    "\n",
    "plt.ylabel('Probability Density')\n",
    "# plt.ylim((0, 0.25))\n",
    "plt.yscale('log')\n",
    "plt.ylim([0.001, 0.25])\n",
    "    \n",
    "plt.savefig('regime_%d/evaluate_eqns_8_hrs.pdf'%regime)"
   ]
  },
  {
   "cell_type": "code",
   "execution_count": 22,
   "id": "f42ebdf5-1294-4cac-be7d-ebab74b99ae4",
   "metadata": {},
   "outputs": [
    {
     "data": {
      "image/png": "[encoded data removed]",
      "text/plain": [
       "<Figure size 640x480 with 1 Axes>"
      ]
     },
     "metadata": {},
     "output_type": "display_data"
    }
   ],
   "source": [
    "hist_eq_1 = plt.hist(preds_eq_1, linewidth=4, color='olive', density=True, fill=True, alpha=.5, bins=BINS)"
   ]
  },
  {
   "cell_type": "code",
   "execution_count": 25,
   "id": "4f9f2492-30fe-47e2-b13c-cb8ddcddc0c3",
   "metadata": {},
   "outputs": [
    {
     "data": {
      "image/png": "[encoded data removed]",
      "text/plain": [
       "<Figure size 760x435 with 1 Axes>"
      ]
     },
     "metadata": {},
     "output_type": "display_data"
    }
   ],
   "source": [
    "# Increase the general font size\n",
    "import matplotlib as mpl\n",
    "import matplotlib.pyplot as plt\n",
    "\n",
    "mpl.rcParams['legend.fontsize'] = 'x-large'\n",
    "mpl.rcParams['axes.labelsize'] = 'x-large' # For an axes xlabel and ylabel\n",
    "mpl.rcParams['axes.titlesize'] = 'xx-large'\n",
    "mpl.rcParams['xtick.labelsize'] = 'xx-large'\n",
    "mpl.rcParams['ytick.labelsize'] = 'xx-large'\n",
    "\n",
    "plt.figure(figsize=(7.6, 4.35))\n",
    "# plt.suptitle(\"Distributions on all validation data vs on the subset\", fontsize=18, y=.91)\n",
    "\n",
    "plot_titles = ['Cirrus regime (low $p$, low $q_t$)', 'Cumulus regime (high $p$, low $q_t$)', \\\n",
    "               'Deep convective regime (low $p$, high $q_t$)', 'Stratus regime (high $p$, high $q_t$)']\n",
    "\n",
    "plot_title = plot_titles[regime - 1]\n",
    "\n",
    "hist_data = {}\n",
    "hist_preds = {}\n",
    "\n",
    "axes = (0)\n",
    "\n",
    "# Add new subplot iteratively\n",
    "ax = plt.subplot(1, 1, 1)\n",
    "\n",
    "BINS = 80\n",
    "assert BINS == 80\n",
    "\n",
    "plt.title(plot_title)\n",
    "hist_data = plt.stairs(d_wang['Data_reg_%d_x'%(regime - 1)], d_wang['Data_reg_%d_y'%(regime - 1)], linewidth=3, color='black')\n",
    "hist_pysr = plt.stairs(d_pysr['Preds_reg_%d_x'%(regime - 1)], d_pysr['Preds_reg_%d_y'%(regime - 1)], linewidth=3, color='brown')\n",
    "plt.stairs(hist_eq_1[0], hist_eq_1[1], linewidth=3, color='green')\n",
    "# hist_eq_2 = plt.hist(preds_eq_2, linewidth=4, color='brown', density=True, fill=True, alpha=.5, bins=BINS)\n",
    "# hist_eq_3 = plt.hist(preds_eq_3, linewidth=4, color='blue', density=True, fill=True, alpha=.5, bins=BINS)\n",
    "# hist_eq_4 = plt.hist(preds_eq_4, linewidth=4, color='cyan', density=True, fill=True, alpha=.5, bins=BINS)\n",
    "\n",
    "eq_1_hel = hellinger(hist_eq_1[0], d_wang['Data_reg_%d_x'%(regime - 1)])\n",
    "# eq_2_hel = hellinger(hist_eq_2[0], d_wang['Data_reg_%d_x'%(regime - 1)])\n",
    "# eq_3_hel = hellinger(hist_eq_3[0], d_wang['Data_reg_%d_x'%(regime - 1)])\n",
    "# eq_4_hel = hellinger(hist_eq_4[0], d_wang['Data_reg_%d_x'%(regime - 1)])\n",
    "\n",
    "plt.rc('font', size=16)\n",
    "plt.text(5, 0.22 - 0.07, 0.049, color='brown')\n",
    "plt.text(5, 0.2 - 0.1, np.round(eq_1_hel, 3), color='green')\n",
    "# plt.text(7, 0.18 - 0.114, np.round(eq_3_hel, 3), color='blue')\n",
    "# plt.text(7, 0.16 - 0.117, np.round(eq_4_hel, 3), color='cyan')\n",
    "plt.rc('font', size=10)\n",
    "\n",
    "# ax.legend(['DYAMOND clc', 'PySR equation', 'Regime-specific (PySR) eq.'])\n",
    "\n",
    "plt.ylabel('Probability Density')\n",
    "# plt.ylim((0, 0.25))\n",
    "plt.yscale('log')\n",
    "plt.ylim([0.001, 0.25])\n",
    "    \n",
    "plt.savefig('regime_%d/evaluate_eqns_one_eq.pdf'%regime)"
   ]
  },
  {
   "cell_type": "markdown",
   "id": "21aa7308-8d84-4ffc-ad4b-45090f11afe0",
   "metadata": {},
   "source": [
    "**Print equations**"
   ]
  },
  {
   "cell_type": "code",
   "execution_count": 11,
   "id": "48f7e8ec-3e48-431e-8d88-a9ff1ad4c116",
   "metadata": {},
   "outputs": [],
   "source": [
    "# def round_expr(expr, num_digits):\n",
    "#     return expr.xreplace({n : round(n, num_digits) for n in expr.atoms(sp.Number)})\n",
    "\n",
    "# dig = 2"
   ]
  },
  {
   "cell_type": "code",
   "execution_count": 12,
   "id": "c4a9d68d-2b28-4217-a451-f5351c6aab08",
   "metadata": {},
   "outputs": [],
   "source": [
    "def round_expr(expr, num_digits=2):\n",
    "    def format_number(n):\n",
    "        if isinstance(n, (int, float)):\n",
    "            return '{:.{}e}'.format(n, num_digits)\n",
    "        elif isinstance(n, sp.Number):\n",
    "            return '{:.{}e}'.format(n.evalf(), num_digits)\n",
    "        else:\n",
    "            return n\n",
    "\n",
    "    converted_expr = expr.xreplace({\n",
    "        n: sp.sympify(format_number(n)) for n in expr.atoms()\n",
    "    })\n",
    "    return converted_expr\n",
    "\n",
    "dig = 3"
   ]
  },
  {
   "cell_type": "code",
   "execution_count": 13,
   "id": "111992a7-1375-4cb6-ace2-96fa036c104c",
   "metadata": {},
   "outputs": [
    {
     "data": {
      "text/latex": [
       "$\\displaystyle \\frac{\\left(126.292060399234 RH - 1871430.92071914 q_{c} - 8.04583751015447\\right) \\left(17553.0168424461 q_{c} + 98708.7669296887 q_{i} + 0.0521176435847638\\right) - 5.214526}{17553.0168424461 q_{c} + 98708.7669296887 q_{i} + 0.0521176435847638}$"
      ],
      "text/plain": [
       "((126.292060399234*RH - 1871430.92071914*q_c - 8.04583751015447)*(17553.0168424461*q_c + 98708.7669296887*q_i + 0.0521176435847638) - 5.214526)/(17553.0168424461*q_c + 98708.7669296887*q_i + 0.0521176435847638)"
      ]
     },
     "execution_count": 13,
     "metadata": {},
     "output_type": "execute_result"
    }
   ],
   "source": [
    "# Equation 1\n",
    "sp.simplify(eq_1.subs({'t':'T', 'qi':'q_i', 'qc':'q_c', 'rh':'RH', 'rh_z': 'RH_z', 'qc': 'q_c', 'pa_zz': 'p_zz', 'ps': 'p_s', 'rh_zz': 'RH_zz'}))"
   ]
  },
  {
   "cell_type": "code",
   "execution_count": 14,
   "id": "e0d823fc-527a-4e72-bbeb-fc1dd836f7ee",
   "metadata": {},
   "outputs": [
    {
     "data": {
      "text/latex": [
       "$\\displaystyle \\frac{\\left(126.3 RH - 1871000.0 q_{c} - 8.046\\right) \\left(17550.0 q_{c} + 98710.0 q_{i} + 0.05212\\right) - 5.215}{\\left(17550.0 q_{c} + 98710.0 q_{i} + 0.05212\\right)^{1.0}}$"
      ],
      "text/plain": [
       "((126.3*RH - 1871000.0*q_c - 8.046)*(17550.0*q_c + 98710.0*q_i + 0.05212) - 5.215)/(17550.0*q_c + 98710.0*q_i + 0.05212)**1.0"
      ]
     },
     "execution_count": 14,
     "metadata": {},
     "output_type": "execute_result"
    }
   ],
   "source": [
    "round_expr(sp.simplify(eq_1.subs({'t':'T', 'qi':'q_i', 'qc':'q_c', 'rh':'RH', 'rh_z': 'RH_z', 'qc': 'q_c', 'pa_zz': 'p_zz', 'ps': 'p_s', 'rh_zz': 'RH_zz'})), dig)"
   ]
  },
  {
   "cell_type": "code",
   "execution_count": 15,
   "id": "126770f4-8cf9-4089-b56d-3f2ce7302005",
   "metadata": {},
   "outputs": [
    {
     "data": {
      "text/latex": [
       "$\\displaystyle \\frac{- 72322.1506304487 q_{c} + \\left(88.3273124726362 p_{zz} + 44.9177981146948\\right) \\left(\\left(3.00756750601811 RH - 1.81209621695678\\right) \\left(17553.0168424461 q_{c} + 0.31066763317439\\right) + 0.45379096\\right) \\left(17553.0168424461 q_{c} + 98708.7669296887 q_{i} + 0.0403559435847637\\right) - 1.28001651021672}{\\left(17553.0168424461 q_{c} + 0.31066763317439\\right) \\left(17553.0168424461 q_{c} + 98708.7669296887 q_{i} + 0.0403559435847637\\right)}$"
      ],
      "text/plain": [
       "(-72322.1506304487*q_c + (88.3273124726362*p_zz + 44.9177981146948)*((3.00756750601811*RH - 1.81209621695678)*(17553.0168424461*q_c + 0.31066763317439) + 0.45379096)*(17553.0168424461*q_c + 98708.7669296887*q_i + 0.0403559435847637) - 1.28001651021672)/((17553.0168424461*q_c + 0.31066763317439)*(17553.0168424461*q_c + 98708.7669296887*q_i + 0.0403559435847637))"
      ]
     },
     "execution_count": 15,
     "metadata": {},
     "output_type": "execute_result"
    }
   ],
   "source": [
    "# Equation 2\n",
    "sp.simplify(eq_2.subs({'t':'T', 'qi':'q_i', 'qc':'q_c', 'rh':'RH', 'rh_z': 'RH_z', 'qc': 'q_c', 'pa_zz': 'p_zz', 'ps': 'p_s', 'rh_zz': 'RH_zz'}))"
   ]
  },
  {
   "cell_type": "code",
   "execution_count": 16,
   "id": "91bfa5c1-1a6a-4647-9882-ae590ec38829",
   "metadata": {},
   "outputs": [
    {
     "data": {
      "text/latex": [
       "$\\displaystyle \\frac{- 72320.0 q_{c} + \\left(88.33 p_{zz} + 44.92\\right) \\left(\\left(3.008 RH - 1.812\\right) \\left(17550.0 q_{c} + 0.3107\\right) + 0.4538\\right) \\left(17550.0 q_{c} + 98710.0 q_{i} + 0.04036\\right) - 1.28}{\\left(17550.0 q_{c} + 0.3107\\right)^{1.0} \\left(17550.0 q_{c} + 98710.0 q_{i} + 0.04036\\right)^{1.0}}$"
      ],
      "text/plain": [
       "(-72320.0*q_c + (88.33*p_zz + 44.92)*((3.008*RH - 1.812)*(17550.0*q_c + 0.3107) + 0.4538)*(17550.0*q_c + 98710.0*q_i + 0.04036) - 1.28)/((17550.0*q_c + 0.3107)**1.0*(17550.0*q_c + 98710.0*q_i + 0.04036)**1.0)"
      ]
     },
     "execution_count": 16,
     "metadata": {},
     "output_type": "execute_result"
    }
   ],
   "source": [
    "round_expr(sp.simplify(eq_2.subs({'t':'T', 'qi':'q_i', 'qc':'q_c', 'rh':'RH', 'rh_z': 'RH_z', 'qc': 'q_c', 'pa_zz': 'p_zz', 'ps': 'p_s', 'rh_zz': 'RH_zz'})), dig)"
   ]
  },
  {
   "cell_type": "code",
   "execution_count": 17,
   "id": "8e183e00-1d42-4983-ac34-46eeb58b4296",
   "metadata": {},
   "outputs": [
    {
     "data": {
      "text/latex": [
       "$\\displaystyle \\frac{311241.38308292 q_{c} + 2160157.58022632 q_{i} + \\left(17553.0168424461 q_{c} + 0.32990548317439\\right) \\left(126.292060399234 RH + \\left(3874.99126286345 RH_{z} + 0.184527111449995\\right) \\left(3874.99126286345 RH_{z} - 88.3273124726362 p_{zz} + 0.175076996755214\\right) - 76.0925114476053\\right) \\left(17553.0168424461 q_{c} + 98708.7669296887 q_{i} + 0.0403146435847638\\right) - 0.487729424169002}{\\left(17553.0168424461 q_{c} + 0.32990548317439\\right) \\left(17553.0168424461 q_{c} + 98708.7669296887 q_{i} + 0.0403146435847638\\right)}$"
      ],
      "text/plain": [
       "(311241.38308292*q_c + 2160157.58022632*q_i + (17553.0168424461*q_c + 0.32990548317439)*(126.292060399234*RH + (3874.99126286345*RH_z + 0.184527111449995)*(3874.99126286345*RH_z - 88.3273124726362*p_zz + 0.175076996755214) - 76.0925114476053)*(17553.0168424461*q_c + 98708.7669296887*q_i + 0.0403146435847638) - 0.487729424169002)/((17553.0168424461*q_c + 0.32990548317439)*(17553.0168424461*q_c + 98708.7669296887*q_i + 0.0403146435847638))"
      ]
     },
     "execution_count": 17,
     "metadata": {},
     "output_type": "execute_result"
    }
   ],
   "source": [
    "# Equation 3\n",
    "sp.simplify(eq_3.subs({'t':'T', 'qi':'q_i', 'qc':'q_c', 'rh':'RH', 'rh_z': 'RH_z', 'qc': 'q_c', 'pa_zz': 'p_zz', 'ps': 'p_s', 'rh_zz': 'RH_zz'}))"
   ]
  },
  {
   "cell_type": "code",
   "execution_count": 18,
   "id": "11d52a4b-3bc4-420c-80ab-3e92c1b1d14e",
   "metadata": {},
   "outputs": [
    {
     "data": {
      "text/latex": [
       "$\\displaystyle \\frac{311200.0 q_{c} + 2160000.0 q_{i} + \\left(17550.0 q_{c} + 0.3299\\right) \\left(126.3 RH + \\left(3875.0 RH_{z} + 0.1845\\right) \\left(3875.0 RH_{z} - 88.33 p_{zz} + 0.1751\\right) - 76.09\\right) \\left(17550.0 q_{c} + 98710.0 q_{i} + 0.04031\\right) - 0.4877}{\\left(17550.0 q_{c} + 0.3299\\right)^{1.0} \\left(17550.0 q_{c} + 98710.0 q_{i} + 0.04031\\right)^{1.0}}$"
      ],
      "text/plain": [
       "(311200.0*q_c + 2160000.0*q_i + (17550.0*q_c + 0.3299)*(126.3*RH + (3875.0*RH_z + 0.1845)*(3875.0*RH_z - 88.33*p_zz + 0.1751) - 76.09)*(17550.0*q_c + 98710.0*q_i + 0.04031) - 0.4877)/((17550.0*q_c + 0.3299)**1.0*(17550.0*q_c + 98710.0*q_i + 0.04031)**1.0)"
      ]
     },
     "execution_count": 18,
     "metadata": {},
     "output_type": "execute_result"
    }
   ],
   "source": [
    "round_expr(sp.simplify(eq_3.subs({'t':'T', 'qi':'q_i', 'qc':'q_c', 'rh':'RH', 'rh_z': 'RH_z', 'qc': 'q_c', 'pa_zz': 'p_zz', 'ps': 'p_s', 'rh_zz': 'RH_zz'})), dig)"
   ]
  },
  {
   "cell_type": "code",
   "execution_count": 19,
   "id": "ea703319-697b-42d6-8c20-1fece8e244e4",
   "metadata": {},
   "outputs": [
    {
     "data": {
      "text/latex": [
       "$\\displaystyle \\frac{306093.681375902 q_{c} + 2140281.24491756 q_{i} + \\left(17553.0168424461 q_{c} + 0.33654848317439\\right) \\left(125.860465439418 RH + \\left(3874.99126286345 RH_{z} + 0.184527111449995\\right) \\left(3874.99126286345 RH_{z} - 88.3273124726362 p_{zz} + 155.249952148333 \\left(RH - 0.602512234\\right)^{3} + 0.175076996755214\\right) - 75.8324702041834\\right) \\left(17553.0168424461 q_{c} + 98708.7669296887 q_{i} + 0.0403146435847638\\right) - 0.554363003164572}{\\left(17553.0168424461 q_{c} + 0.33654848317439\\right) \\left(17553.0168424461 q_{c} + 98708.7669296887 q_{i} + 0.0403146435847638\\right)}$"
      ],
      "text/plain": [
       "(306093.681375902*q_c + 2140281.24491756*q_i + (17553.0168424461*q_c + 0.33654848317439)*(125.860465439418*RH + (3874.99126286345*RH_z + 0.184527111449995)*(3874.99126286345*RH_z - 88.3273124726362*p_zz + 155.249952148333*(RH - 0.602512234)**3 + 0.175076996755214) - 75.8324702041834)*(17553.0168424461*q_c + 98708.7669296887*q_i + 0.0403146435847638) - 0.554363003164572)/((17553.0168424461*q_c + 0.33654848317439)*(17553.0168424461*q_c + 98708.7669296887*q_i + 0.0403146435847638))"
      ]
     },
     "execution_count": 19,
     "metadata": {},
     "output_type": "execute_result"
    }
   ],
   "source": [
    "# Equation 4\n",
    "sp.simplify(eq_4.subs({'t':'T', 'qi':'q_i', 'qc':'q_c', 'rh':'RH', 'rh_z': 'RH_z', 'qc': 'q_c', 'pa_zz': 'p_zz', 'ps': 'p_s', 'rh_zz': 'RH_zz'}))"
   ]
  },
  {
   "cell_type": "code",
   "execution_count": 20,
   "id": "c1ed1f22-3931-4c47-9ce1-26b450bcf965",
   "metadata": {},
   "outputs": [
    {
     "data": {
      "text/latex": [
       "$\\displaystyle \\frac{306100.0 q_{c} + 2140000.0 q_{i} + \\left(17550.0 q_{c} + 0.3365\\right) \\left(125.9 RH + \\left(3875.0 RH_{z} + 0.1845\\right) \\left(3875.0 RH_{z} - 88.33 p_{zz} + 155.2 \\left(RH - 0.6025\\right)^{3.0} + 0.1751\\right) - 75.83\\right) \\left(17550.0 q_{c} + 98710.0 q_{i} + 0.04031\\right) - 0.5544}{\\left(17550.0 q_{c} + 0.3365\\right)^{1.0} \\left(17550.0 q_{c} + 98710.0 q_{i} + 0.04031\\right)^{1.0}}$"
      ],
      "text/plain": [
       "(306100.0*q_c + 2140000.0*q_i + (17550.0*q_c + 0.3365)*(125.9*RH + (3875.0*RH_z + 0.1845)*(3875.0*RH_z - 88.33*p_zz + 155.2*(RH - 0.6025)**3.0 + 0.1751) - 75.83)*(17550.0*q_c + 98710.0*q_i + 0.04031) - 0.5544)/((17550.0*q_c + 0.3365)**1.0*(17550.0*q_c + 98710.0*q_i + 0.04031)**1.0)"
      ]
     },
     "execution_count": 20,
     "metadata": {},
     "output_type": "execute_result"
    }
   ],
   "source": [
    "round_expr(sp.simplify(eq_4.subs({'t':'T', 'qi':'q_i', 'qc':'q_c', 'rh':'RH', 'rh_z': 'RH_z', 'qc': 'q_c', 'pa_zz': 'p_zz', 'ps': 'p_s', 'rh_zz': 'RH_zz'})), dig)"
   ]
  },
  {
   "cell_type": "code",
   "execution_count": null,
   "id": "0b48450d-d6e2-4ec6-9195-5ac50de459b9",
   "metadata": {},
   "outputs": [],
   "source": []
  },
  {
   "cell_type": "code",
   "execution_count": null,
   "id": "ce505ce0-9f44-45de-8779-a49c9de5b0f6",
   "metadata": {},
   "outputs": [],
   "source": []
  }
 ],
 "metadata": {
  "kernelspec": {
   "display_name": "Python 3 (based on the module python3/unstable",
   "language": "python",
   "name": "python3_unstable"
  },
  "language_info": {
   "codemirror_mode": {
    "name": "ipython",
    "version": 3
   },
   "file_extension": ".py",
   "mimetype": "text/x-python",
   "name": "python",
   "nbconvert_exporter": "python",
   "pygments_lexer": "ipython3",
   "version": "3.10.10"
  }
 },
 "nbformat": 4,
 "nbformat_minor": 5
}
