{
 "cells": [
  {
   "cell_type": "markdown",
   "id": "2e1eb9b8-ef59-40d3-854d-91ee4f68fa7a",
   "metadata": {},
   "source": [
    "**tmpw0h7p9s5, equation 22**"
   ]
  },
  {
   "cell_type": "markdown",
   "id": "a758a875-1c32-45f6-b133-702feb45b76f",
   "metadata": {},
   "source": [
    "**Modified to satisfy RH-constraint**\n",
    "\n",
    "By enforcing the RH-constraint, we reduce the valid_mse from 103.94659 to 103.88895. <br>\n",
    "By further optimizing the coefficients we can decrease the valid_mse to 103.86753.\n",
    "\n",
    "--> I think we can communicate the first optimized set of coefficients, because the improvement of the mse is very small"
   ]
  },
  {
   "cell_type": "code",
   "execution_count": 1,
   "id": "56e4d405-d113-4c27-965b-bb01807ad169",
   "metadata": {},
   "outputs": [],
   "source": [
    "import numpy as np\n",
    "import sympy as sp\n",
    "import pandas as pd\n",
    "import matplotlib\n",
    "import matplotlib.pyplot as plt\n",
    "import json\n",
    "import sys\n",
    "import os\n",
    "import gc\n",
    "\n",
    "sys.path.insert(0, '~/workspace_icon-ml/symbolic_regression')\n",
    "from functions import append_dict_to_json\n",
    "from sklearn import tree\n",
    "\n",
    "np.random.seed(10)"
   ]
  },
  {
   "cell_type": "code",
   "execution_count": 2,
   "id": "67f91be4-799d-4915-8f85-4a3327ce92ee",
   "metadata": {},
   "outputs": [],
   "source": [
    "def round_expr(expr):\n",
    "    d = {}\n",
    "    for n in expr.atoms(sp.Number):\n",
    "        d[n] = sp.Number('%.6g'%n)\n",
    "    return expr.xreplace(d)"
   ]
  },
  {
   "cell_type": "code",
   "execution_count": 3,
   "id": "dd38bf0e-4407-4709-a661-41216c023ceb",
   "metadata": {},
   "outputs": [],
   "source": [
    "no_of_regimes = 2\n",
    "regime = 1"
   ]
  },
  {
   "cell_type": "markdown",
   "id": "af2f9173-f118-4d30-803c-db6b13cc05f5",
   "metadata": {},
   "source": [
    "**Read data**"
   ]
  },
  {
   "cell_type": "code",
   "execution_count": 4,
   "id": "9cb7228f-5656-4737-b862-c0072551e8bb",
   "metadata": {},
   "outputs": [],
   "source": [
    "all_possible_features = ['hus', 'clw', 'cli', 'ta', 'pa', 'zg', 'fr_land', 'U', 'rh', 'ps', 'hus_z', 'hus_zz', 'clw_z', 'clw_zz', 'cli_z',\\\n",
    "            'cli_zz', 'ta_z', 'ta_zz', 'pa_z', 'pa_zz', 'U_z', 'U_zz', 'rh_z', 'rh_zz']\n",
    "\n",
    "loc_all = {}\n",
    "for i in range(len(all_possible_features)):\n",
    "    loc_all[all_possible_features[i]] = i\n",
    "    \n",
    "# Features\n",
    "features = ['rh', 'ta', 'clw', 'cli', 'rh_z']\n",
    "no_features = len(features)\n",
    "\n",
    "loc = {}\n",
    "for i in range(len(features)):\n",
    "    loc[features[i]] = i"
   ]
  },
  {
   "cell_type": "code",
   "execution_count": 5,
   "id": "b8462c5d-87c6-4d8d-983f-7daf8582855a",
   "metadata": {},
   "outputs": [],
   "source": [
    "path_data = os.path.join('~/my_work/icon-ml_data/cloud_cover_parameterization/neighborhood_based_SR_DYAMOND')\n",
    "\n",
    "# Load the input data and pick the five best features (rh, ta, clw, cli, rh_z)\n",
    "input_data = np.load(path_data + '/cloud_cover_input_dyamond.npy')\n",
    "input_data = np.concatenate([np.expand_dims(input_data[:, loc_all[sel_var]], axis=1) for sel_var in features], axis = 1)\n",
    "\n",
    "output_data = np.load(path_data + '/cloud_area_output_dyamond.npy')"
   ]
  },
  {
   "cell_type": "code",
   "execution_count": 6,
   "id": "6831a5fb-6fcb-4785-86a9-700a0fe82730",
   "metadata": {},
   "outputs": [
    {
     "data": {
      "text/plain": [
       "(285179494, 5)"
      ]
     },
     "execution_count": 6,
     "metadata": {},
     "output_type": "execute_result"
    }
   ],
   "source": [
    "(samples_total, no_of_features) = input_data.shape\n",
    "(samples_total, no_of_features)"
   ]
  },
  {
   "cell_type": "code",
   "execution_count": 7,
   "id": "9b0eaa09-11a3-485e-b9ff-6befe674d5b0",
   "metadata": {
    "tags": []
   },
   "outputs": [],
   "source": [
    "# Construct training and validation data\n",
    "training_folds = []\n",
    "validation_folds = []\n",
    "two_week_incr = samples_total//6\n",
    "\n",
    "for i in range(3):\n",
    "    # Note that this is a temporal split since time was the first dimension in the original tensor\n",
    "    first_incr = np.arange(samples_total//6*i, samples_total//6*(i+1))\n",
    "    second_incr = np.arange(samples_total//6*(i+3), samples_total//6*(i+4))\n",
    "\n",
    "    validation_folds.append(np.append(first_incr, second_incr))\n",
    "    training_folds.append(np.arange(samples_total))\n",
    "    training_folds[i] = np.delete(training_folds[i], validation_folds[i])"
   ]
  },
  {
   "cell_type": "code",
   "execution_count": 8,
   "id": "ff49c846-d3de-4b64-b8d5-42f1db80e37d",
   "metadata": {},
   "outputs": [
    {
     "data": {
      "text/plain": [
       "127"
      ]
     },
     "execution_count": 8,
     "metadata": {},
     "output_type": "execute_result"
    }
   ],
   "source": [
    "# The second fold yields the best model\n",
    "flattened_input_train = input_data[training_folds[1]]\n",
    "flattened_input_valid = input_data[validation_folds[1]]\n",
    "flattened_output_train = output_data[training_folds[1]]\n",
    "flattened_output_valid = output_data[validation_folds[1]]\n",
    "    \n",
    "# Remove input_data, output_data\n",
    "del input_data, output_data, training_folds, validation_folds\n",
    "gc.collect()"
   ]
  },
  {
   "cell_type": "code",
   "execution_count": 9,
   "id": "18a94f27-da39-4411-9bf0-d139e8fc4c4c",
   "metadata": {},
   "outputs": [],
   "source": [
    "if no_of_regimes > 1:\n",
    "    # Already remove the regime with clw + cli = 0\n",
    "    reg_not_0_train = np.where(flattened_input_train[:, loc['clw']] + flattened_input_train[:, loc['cli']] > 1e-20)[0]\n",
    "    flattened_input_train = flattened_input_train[reg_not_0_train]\n",
    "    flattened_output_train = flattened_output_train[reg_not_0_train]\n",
    "\n",
    "    reg_not_0_valid = np.where(flattened_input_valid[:, loc['clw']] + flattened_input_valid[:, loc['cli']] > 1e-20)[0]\n",
    "    flattened_input_valid = flattened_input_valid[reg_not_0_valid]\n",
    "    flattened_output_valid = flattened_output_valid[reg_not_0_valid]"
   ]
  },
  {
   "cell_type": "markdown",
   "id": "dd5711b1-f92c-47db-bef5-f162a9559355",
   "metadata": {},
   "source": [
    "**Normalize the features**"
   ]
  },
  {
   "cell_type": "code",
   "execution_count": 10,
   "id": "f7d119dc-7b3a-4fa0-974c-a1b755b7b40b",
   "metadata": {
    "tags": []
   },
   "outputs": [],
   "source": [
    "# Scale the data\n",
    "mean_all = [4.12205844e-03,2.25493498e-05,3.38180032e-06,2.57065512e+02,6.00030443e+04,5.64080139e+03,2.35046400e-01,1.32776682e+01,6.02512234e-01,9.86270417e+04,-1.27545273e-06,-4.02484958e-10,1.65204582e-08,-4.34660202e-11,4.29441131e-10,-1.82817316e-12,-4.68742483e-03,-7.54899040e-07,-7.51544542e+00,-1.06989723e-04,1.65615172e-03,-9.27604679e-06,-4.76200071e-05,-1.32246548e-07]\n",
    "std_all = [5.07648249e-03,5.69702638e-05,1.01308124e-05,3.00533874e+01,3.12514292e+04,5.66963918e+03,4.11184302e-01,1.11389888e+01,3.32494615e-01,6.24039256e+03,2.03179260e-06,1.17041141e-08,1.33311867e-07,1.42840744e-09,6.73384546e-09,5.07424672e-11,5.82875686e-03,6.34826092e-05,3.53136052e+00,1.13215264e-02,6.62892130e-03,6.08144307e-05,2.58065098e-04,2.49552692e-06]\n",
    "\n",
    "mean = np.concatenate([np.expand_dims(mean_all[loc_all[sel_var]], axis=0) for sel_var in features], axis = 0)\n",
    "std = np.concatenate([np.expand_dims(std_all[loc_all[sel_var]], axis=0) for sel_var in features], axis = 0)\n",
    "\n",
    "# Work with scaled training folds\n",
    "train_data_scaled = (flattened_input_train - mean)/std\n",
    "valid_data_scaled = (flattened_input_valid - mean)/std"
   ]
  },
  {
   "cell_type": "markdown",
   "id": "7886e0e1-49bd-4c87-bdb2-09d260e12710",
   "metadata": {},
   "source": [
    "**The condition for the artificial increase of RH**"
   ]
  },
  {
   "cell_type": "code",
   "execution_count": 11,
   "id": "3fa28bf5-52b9-4b97-afad-8e94d26782f4",
   "metadata": {},
   "outputs": [
    {
     "name": "stdout",
     "output_type": "stream",
     "text": [
      "If the following term is greater than 0, then RH is increased:\n"
     ]
    },
    {
     "data": {
      "text/latex": [
       "$\\displaystyle - 3.00757 rh - 32.192 \\left(0.00389006 ta - 1\\right)^{2} + 0.952388$"
      ],
      "text/plain": [
       "-3.00757*rh - 32.192*(0.00389006*ta - 1)**2 + 0.952388"
      ]
     },
     "execution_count": 11,
     "metadata": {},
     "output_type": "execute_result"
    }
   ],
   "source": [
    "x0, x1 = sp.symbols('x0 x1')\n",
    "rh, ta = sp.symbols('rh ta')\n",
    "\n",
    "(a,b,c,d) = (38.6562122, 43.53500518, 19.78403208, 1.13637902)\n",
    "\n",
    "cond = 1/(2*c*d)*(-c*x1**2-a) - x0\n",
    "\n",
    "X0 = (rh - mean_all[loc_all['rh']])/std_all[loc_all['rh']]\n",
    "X1 = (ta - mean_all[loc_all['ta']])/std_all[loc_all['ta']]\n",
    "\n",
    "subs_set = []\n",
    "for k in range(2):\n",
    "    subs_set.append((locals()['x%d'%k], globals()['X%d'%k]))\n",
    "subs_set = set(subs_set)\n",
    "cond_orig_inputs = cond.subs(subs_set)\n",
    "\n",
    "print('If the following term is greater than 0, then RH is increased:')\n",
    "round_expr(cond_orig_inputs)"
   ]
  },
  {
   "cell_type": "code",
   "execution_count": 12,
   "id": "3a9cde1c-09ee-4204-ab7b-8af76b6a2144",
   "metadata": {},
   "outputs": [
    {
     "name": "stdout",
     "output_type": "stream",
     "text": [
      "That means whenever RH < 0.3269 - 10.5359*(0.00389006*T-1)^2\n"
     ]
    }
   ],
   "source": [
    "print('That means whenever RH < 0.3269 - 10.5359*(0.00389006*T-1)^2')"
   ]
  },
  {
   "cell_type": "code",
   "execution_count": 13,
   "id": "c17d0c8d-8b35-438f-8896-80355bf2d8c1",
   "metadata": {},
   "outputs": [
    {
     "data": {
      "text/latex": [
       "$\\displaystyle - 0.000159435210586049 T^{2} + 0.081970566308 T - 10.209$"
      ],
      "text/plain": [
       "-0.000159435210586049*T**2 + 0.081970566308*T - 10.209"
      ]
     },
     "execution_count": 13,
     "metadata": {},
     "output_type": "execute_result"
    }
   ],
   "source": [
    "sp.expand('0.3269 - 10.5359*(0.00389006*T-1)**2')"
   ]
  },
  {
   "cell_type": "code",
   "execution_count": 14,
   "id": "8dd2d168-726a-45b7-831e-340d47e982e9",
   "metadata": {},
   "outputs": [
    {
     "data": {
      "text/plain": [
       "3.2459051125995657"
      ]
     },
     "execution_count": 14,
     "metadata": {},
     "output_type": "execute_result"
    }
   ],
   "source": [
    "np.sqrt(10.5359)"
   ]
  },
  {
   "cell_type": "code",
   "execution_count": 15,
   "id": "4f7ff279-8f32-4ed8-b26f-9de93018ddd5",
   "metadata": {},
   "outputs": [
    {
     "data": {
      "text/plain": [
       "0.012626765642319066"
      ]
     },
     "execution_count": 15,
     "metadata": {},
     "output_type": "execute_result"
    }
   ],
   "source": [
    "np.sqrt(10.5359)*0.00389006"
   ]
  },
  {
   "cell_type": "code",
   "execution_count": 18,
   "id": "c0d3d1e4-dd98-4ab1-b977-4e54c1e488e7",
   "metadata": {},
   "outputs": [
    {
     "data": {
      "image/png": "[encoded data removed]",
      "text/plain": [
       "<Figure size 800x500 with 2 Axes>"
      ]
     },
     "metadata": {},
     "output_type": "display_data"
    }
   ],
   "source": [
    "from pylab import meshgrid,cm,imshow,contour,clabel,colorbar,axis,title,show\n",
    "from matplotlib import colors\n",
    "\n",
    "fig = plt.figure(figsize=(8, 5))\n",
    "\n",
    "# Define the bounds\n",
    "rh_min = np.min(flattened_input_train[:, loc['rh']])\n",
    "rh_max = np.max(flattened_input_train[:, loc['rh']])\n",
    "ta_min = np.min(flattened_input_train[:, loc['ta']])\n",
    "ta_max = np.max(flattened_input_train[:, loc['ta']])\n",
    "\n",
    "# Number of pixels in x- and y-direction\n",
    "N_x = 50\n",
    "N_y = 50\n",
    " \n",
    "x = np.linspace(rh_min, rh_max, N_x)\n",
    "y = np.linspace(ta_min, ta_max, N_y)\n",
    "X,Y = meshgrid(x, y)\n",
    "\n",
    "Z = -(-3.00757*X-31.6875*(0.00389006*Y-1)**2+0.983277)\n",
    "\n",
    "ax = plt.subplot(111, xticks=[0,10,20,30,40,49], yticks=[0,10,20,30,40,49])\n",
    "ax.set_xticklabels(['%.1f'%val for val in [x[0],x[10],x[20],x[30],x[40],x[49]]])\n",
    "ax.set_yticklabels(['%d'%val for val in [y[0],y[10],y[20],y[30],y[40],y[49]]])\n",
    "\n",
    "# plt.xticks(np.arange(0, N_x, N_x/5), ['%.1f'%val for val in np.linspace(min(x), max(x), 5)])\n",
    "# plt.yticks(np.arange(0, N_y, N_y/5), ['%d'%val for val in np.linspace(min(y), max(y), 5)])\n",
    "\n",
    "plt.title('a) $\\partial f/\\partial RH$')\n",
    "\n",
    "im = ax.imshow(Z, cmap='PRGn', vmin=-8, vmax=8) \n",
    "cset = ax.contour(Z, [0], linewidths=3,cmap=cm.Set2)\n",
    "plt.clabel(cset,inline=True,fmt='%1.1f',fontsize=10)\n",
    "colorbar(im)\n",
    "\n",
    "plt.xlabel('Relative Humidity')\n",
    "plt.ylabel('Temperature [K]')\n",
    "plt.savefig('derivative_of_f_wrt_rh.pdf')"
   ]
  },
  {
   "cell_type": "code",
   "execution_count": 121,
   "id": "5279512a-b7c2-4892-a543-792fb6bbbd20",
   "metadata": {},
   "outputs": [
    {
     "name": "stdout",
     "output_type": "stream",
     "text": [
      "0.983277\n",
      "0.3269340364480295\n"
     ]
    }
   ],
   "source": [
    "T_opt = 1/0.00389006\n",
    "cond_max = -31.6875*(0.00389006*T_opt-1)**2+0.983277\n",
    "rh_max_increase = cond_max/3.00757\n",
    "\n",
    "print(cond_max)\n",
    "print(rh_max_increase)"
   ]
  },
  {
   "cell_type": "code",
   "execution_count": 130,
   "id": "157113d7-c53d-4152-9c37-e4e40629eb72",
   "metadata": {},
   "outputs": [
    {
     "name": "stdout",
     "output_type": "stream",
     "text": [
      "The condition can only trigger for T between 211.861 and 302.278.\n",
      "The condition sets RH to be at least 0.3269 - 10.5359(0.00389T - 1)^2 (which decreases cloud cover)\n",
      "The condition is most active for T = 257.0654 and RH = 0. It then sets RH to 0.3269.\n"
     ]
    }
   ],
   "source": [
    "print('The condition can only trigger for T between %.3f and %.3f.'%((-np.sqrt(0.98/31.6875) + 1)/0.00389, (np.sqrt(0.98/31.6875) + 1)/0.00389))\n",
    "print('The condition sets RH to be at least 0.3269 - 10.5359(0.00389T - 1)^2 (which decreases cloud cover)')\n",
    "print('The condition is most active for T = 257.0654 and RH = 0. It then sets RH to 0.3269.')"
   ]
  },
  {
   "cell_type": "markdown",
   "id": "51702441-2dbb-4e54-ab31-796a587b2fb7",
   "metadata": {},
   "source": [
    "Optimize coefficients"
   ]
  },
  {
   "cell_type": "code",
   "execution_count": 38,
   "id": "26e734a3-580a-48e4-b2c4-a891a42b5685",
   "metadata": {},
   "outputs": [],
   "source": [
    "# See ~/workspace_icon-ml/symbolic_regression/finding_symmetries/pysr_results_dyamond_on_regimes/no_of_regimes_2/notes.txt\n",
    "def func(X, a,b,c,d,e,f,g,h,i,j):\n",
    "    x0 = X[:, 0] \n",
    "    x1 = X[:, 1] \n",
    "    x2 = X[:, 2] \n",
    "    x3 = X[:, 3]\n",
    "    x4 = X[:, 4]\n",
    "    \n",
    "    # Modified to always satisfy RH-constraint\n",
    "    x0 = np.maximum(x0, 1/(2*c*d)*(-c*x1**2-a))\n",
    "    \n",
    "    return a*x0 - b*x1 + c*x0*(d*x0 + x1**2) + x4**2*(e*x4 + f) + g - h/(x2 + i*x3 + j)"
   ]
  },
  {
   "cell_type": "code",
   "execution_count": 39,
   "id": "5e1685e5-d5ee-4ea7-b4e5-af0566792377",
   "metadata": {},
   "outputs": [],
   "source": [
    "import scipy as sci\n",
    "from scipy.optimize import minimize"
   ]
  },
  {
   "cell_type": "code",
   "execution_count": 40,
   "id": "6f1fdcef-6f16-45f7-a22c-17e90674665e",
   "metadata": {},
   "outputs": [
    {
     "name": "stdout",
     "output_type": "stream",
     "text": [
      "Warning: Desired error not necessarily achieved due to precision loss.\n",
      "         Current function value: 158.700476\n",
      "         Iterations: 30\n",
      "         Function evaluations: 484\n",
      "         Gradient evaluations: 44\n"
     ]
    }
   ],
   "source": [
    "def objective(P, X,Y):\n",
    "    '''\n",
    "        The objective function.\n",
    "    '''\n",
    "    a,b,c,d,e,f,g,h,i,j = P\n",
    "    train_preds = np.minimum(np.maximum(func(X, a,b,c,d,e,f,g,h,i,j), 0), 100) \n",
    "    train_mse = np.mean((train_preds - Y)**2, dtype=np.float64)\n",
    "\n",
    "    return train_mse\n",
    "\n",
    "T_subset = 10**6\n",
    "inds = np.random.randint(0, train_data_scaled.shape[0], T_subset)\n",
    "\n",
    "(a,b,c,d,e,f,g,h,i,j) = (36.69, 36.69, 16.48, 1, 0.21, 2.76, 50.29, 2.86, 1, 0.76)\n",
    "\n",
    "# Nelder-Mead gives me the same result\n",
    "res = minimize(objective, (a,b,c,d,e,f,g,h,i,j), args=(train_data_scaled[inds], flattened_output_train[inds]), \\\n",
    "               method='BFGS', options={'disp': True})"
   ]
  },
  {
   "cell_type": "code",
   "execution_count": 41,
   "id": "373a1caf-7c49-4937-8e50-11f244f3a26c",
   "metadata": {},
   "outputs": [
    {
     "name": "stdout",
     "output_type": "stream",
     "text": [
      "[38.15388776 43.63539083 19.93732831  1.15446879  0.35551696  4.06188388\n",
      " 44.23799326  2.03600412  0.66480254  0.63943517]\n"
     ]
    }
   ],
   "source": [
    "print(res.x)"
   ]
  },
  {
   "cell_type": "markdown",
   "id": "7878720f-5901-44d6-b696-efa29667c02b",
   "metadata": {},
   "source": [
    "New values"
   ]
  },
  {
   "cell_type": "code",
   "execution_count": 42,
   "id": "65f8d6d2-042e-4e35-938d-9c791591f698",
   "metadata": {},
   "outputs": [
    {
     "data": {
      "text/plain": [
       "159.23523622241254"
      ]
     },
     "execution_count": 42,
     "metadata": {},
     "output_type": "execute_result"
    }
   ],
   "source": [
    "objective(res.x, train_data_scaled, flattened_output_train)"
   ]
  },
  {
   "cell_type": "code",
   "execution_count": 43,
   "id": "5fa3fb5b-c1bf-4d1b-bc40-1b72ceab13af",
   "metadata": {
    "tags": []
   },
   "outputs": [
    {
     "data": {
      "text/plain": [
       "157.60467889204403"
      ]
     },
     "execution_count": 43,
     "metadata": {},
     "output_type": "execute_result"
    }
   ],
   "source": [
    "objective(res.x, valid_data_scaled, flattened_output_valid)"
   ]
  },
  {
   "cell_type": "code",
   "execution_count": 48,
   "id": "0bb7874c-7ed5-4cb6-ae61-1a660393c97b",
   "metadata": {},
   "outputs": [
    {
     "name": "stdout",
     "output_type": "stream",
     "text": [
      "On the entire dataset\n",
      "Valid MSE: 103.86753\n"
     ]
    }
   ],
   "source": [
    "# From finding_symmetries/pysr_results_dyamond_on_regimes/save_optimized_eqns.ipynb\n",
    "mse_reg_0 = 0.0353\n",
    "n_0 = 32419018\n",
    "n_21 = 62640812\n",
    "N = n_0 + n_21\n",
    "\n",
    "valid_reg_mse = 157.60467889204403\n",
    "\n",
    "print('On the entire dataset')\n",
    "print('Valid MSE: %.5f'%((n_0*mse_reg_0 + n_21*valid_reg_mse)/N))"
   ]
  },
  {
   "cell_type": "code",
   "execution_count": 49,
   "id": "f26f558e-c50a-41c4-82bf-9d8a4b0a161e",
   "metadata": {
    "tags": []
   },
   "outputs": [
    {
     "data": {
      "text/plain": [
       "157.63718734237756"
      ]
     },
     "execution_count": 49,
     "metadata": {},
     "output_type": "execute_result"
    }
   ],
   "source": [
    "objective([38.6562122, 43.53500518, 19.78403208, 1.13637902, 0.35299939, 4.04888686, 44.21730274, 2.03128527, 0.66971589, 0.6409019 ], \\\n",
    "          valid_data_scaled, flattened_output_valid)"
   ]
  },
  {
   "cell_type": "code",
   "execution_count": 50,
   "id": "101e7cad-761a-414a-b5a1-88daee663d9b",
   "metadata": {},
   "outputs": [
    {
     "name": "stdout",
     "output_type": "stream",
     "text": [
      "On the entire dataset\n",
      "Valid MSE: 103.88895\n"
     ]
    }
   ],
   "source": [
    "# From finding_symmetries/pysr_results_dyamond_on_regimes/save_optimized_eqns.ipynb\n",
    "mse_reg_0 = 0.0353\n",
    "n_0 = 32419018\n",
    "n_21 = 62640812\n",
    "N = n_0 + n_21\n",
    "\n",
    "valid_reg_mse = 157.63718734237756\n",
    "\n",
    "print('On the entire dataset')\n",
    "print('Valid MSE: %.5f'%((n_0*mse_reg_0 + n_21*valid_reg_mse)/N))"
   ]
  },
  {
   "cell_type": "markdown",
   "id": "1993d671-c8c0-49e4-8064-7e275269ad7c",
   "metadata": {},
   "source": [
    "How often do we need to artificially increase the RH?"
   ]
  },
  {
   "cell_type": "code",
   "execution_count": 45,
   "id": "b555d65d-8fac-4c62-8be3-191176a599ab",
   "metadata": {},
   "outputs": [
    {
     "data": {
      "text/plain": [
       "0.009560125771782007"
      ]
     },
     "execution_count": 45,
     "metadata": {},
     "output_type": "execute_result"
    }
   ],
   "source": [
    "# Optimal params without the RH-modification\n",
    "(a,b,c,d) = (38.6562122, 43.53500518, 19.78403208, 1.13637902)\n",
    "\n",
    "# In roughly 1% of all cases\n",
    "len(np.where(train_data_scaled[:, 0] < 1/(2*c*d)*(-c*train_data_scaled[:, 1]**2-a))[0])/len(train_data_scaled[:, 0])"
   ]
  },
  {
   "cell_type": "code",
   "execution_count": 47,
   "id": "2b65f161-7fd5-4e71-a874-fc3eb19d4b20",
   "metadata": {},
   "outputs": [
    {
     "data": {
      "text/plain": [
       "0.010437487368024214"
      ]
     },
     "execution_count": 47,
     "metadata": {},
     "output_type": "execute_result"
    }
   ],
   "source": [
    "# Optimal params with the RH-modification\n",
    "(a,b,c,d) = (38.15388776, 43.63539083, 19.93732831, 1.15446879)\n",
    "\n",
    "# In roughly 1% of all cases\n",
    "len(np.where(train_data_scaled[:, 0] < 1/(2*c*d)*(-c*train_data_scaled[:, 1]**2-a))[0])/len(train_data_scaled[:, 0])"
   ]
  }
 ],
 "metadata": {
  "kernelspec": {
   "display_name": "sherpa",
   "language": "python",
   "name": "sherpa"
  },
  "language_info": {
   "codemirror_mode": {
    "name": "ipython",
    "version": 3
   },
   "file_extension": ".py",
   "mimetype": "text/x-python",
   "name": "python",
   "nbconvert_exporter": "python",
   "pygments_lexer": "ipython3",
   "version": "3.7.10"
  }
 },
 "nbformat": 4,
 "nbformat_minor": 5
}
