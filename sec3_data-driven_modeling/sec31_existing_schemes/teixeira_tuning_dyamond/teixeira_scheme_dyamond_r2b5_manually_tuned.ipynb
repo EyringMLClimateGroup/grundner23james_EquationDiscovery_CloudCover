{
 "cells": [
  {
   "cell_type": "markdown",
   "metadata": {},
   "source": [
    "### Teixeira Scheme\n",
    "\n",
    "Do not spawn more than 20 processes! The job will just hang."
   ]
  },
  {
   "cell_type": "code",
   "execution_count": 1,
   "metadata": {
    "tags": []
   },
   "outputs": [],
   "source": [
    "# All samples (190119664): 5.5s per entry of the tensor"
   ]
  },
  {
   "cell_type": "code",
   "execution_count": 2,
   "metadata": {},
   "outputs": [],
   "source": [
    "import os\n",
    "import gc\n",
    "import sys\n",
    "import time\n",
    "import numpy as np\n",
    "import datetime\n",
    "import matplotlib\n",
    "import matplotlib.pyplot as plt\n",
    "\n",
    "sys.path.insert(0, '~/workspace_icon-ml/symbolic_regression/')\n",
    "from functions import evaluate_sundqvist\n",
    "\n",
    "# Shall we use the tuned hyperparameters?\n",
    "tuned = False\n",
    "\n",
    "# Added to the PDF name\n",
    "hour_min = '%d_%d'%(datetime.datetime.now().hour, datetime.datetime.now().minute)\n",
    "\n",
    "matplotlib.use('PDF')\n",
    "output_var = sys.argv[1] "
   ]
  },
  {
   "cell_type": "code",
   "execution_count": null,
   "metadata": {},
   "outputs": [],
   "source": [
    "# Load columns of data\n",
    "folder_data = '~/my_work/icon-ml_data/cloud_cover_parameterization/neighborhood_based_SR_DYAMOND/'\n",
    "\n",
    "input_data = np.load(os.path.join(folder_data, 'cloud_cover_input_dyamond.npy'))\n",
    "if output_var == 'cl_volume':\n",
    "    output_data = np.load(os.path.join(folder_data, 'cloud_cover_output_dyamond.npy'))\n",
    "elif output_var == 'cl_area':\n",
    "    output_data = np.load(os.path.join(folder_data, 'cloud_area_output_dyamond.npy'))\n",
    "\n",
    "new_features = ['hus', 'clw', 'cli', 'ta', 'pa', 'zg', 'fr_land', 'U', 'rh', 'ps', 'hus_z', 'hus_zz', 'clw_z', 'clw_zz', 'cli_z',\\\n",
    "                'cli_zz', 'ta_z', 'ta_zz', 'pa_z', 'pa_zz', 'U_z', 'U_zz', 'rh_z', 'rh_zz']"
   ]
  },
  {
   "cell_type": "code",
   "execution_count": null,
   "metadata": {
    "tags": []
   },
   "outputs": [],
   "source": [
    "samples_total, no_of_features = input_data.shape\n",
    "\n",
    "# Split into train/valid\n",
    "training_folds = []\n",
    "validation_folds = []\n",
    "two_week_incr = samples_total//6\n",
    "\n",
    "for i in range(3):\n",
    "    # Note that this is a temporal split since time was the first dimension in the original tensor\n",
    "    first_incr = np.arange(samples_total//6*i, samples_total//6*(i+1))\n",
    "    second_incr = np.arange(samples_total//6*(i+3), samples_total//6*(i+4))\n",
    "\n",
    "    validation_folds.append(np.append(first_incr, second_incr))\n",
    "    training_folds.append(np.arange(samples_total))\n",
    "    training_folds[i] = np.delete(training_folds[i], validation_folds[i])\n",
    "\n",
    "# The second fold yields the best model\n",
    "input_train = input_data[training_folds[1]]\n",
    "input_valid = input_data[validation_folds[1]]\n",
    "output_train = output_data[training_folds[1]]\n",
    "output_valid = output_data[validation_folds[1]]\n",
    "\n",
    "# Remove input_data, output_data\n",
    "del input_data, output_data, training_folds, validation_folds\n",
    "gc.collect()"
   ]
  },
  {
   "cell_type": "code",
   "execution_count": null,
   "metadata": {},
   "outputs": [],
   "source": [
    "# To locate variables\n",
    "loc = {}\n",
    "for i in range(len(new_features)):\n",
    "    loc[new_features[i]] = i\n",
    "    \n",
    "input_train.shape"
   ]
  },
  {
   "cell_type": "code",
   "execution_count": null,
   "metadata": {
    "tags": []
   },
   "outputs": [],
   "source": [
    "# First try (20/400):\n",
    "D_range = np.linspace(10**(-9), 10**(-2), 20)\n",
    "K_range = np.linspace(10**(-9), 10**(-2), 400)\n",
    "\n",
    "# Time for len(D_range)/len(K_range) = 3/2: 49s\n",
    "# Time for len(D_range)/len(K_range) = 20/2: 82s\n",
    "# Time for len(D_range)/len(K_range) = 3/100: 2192s\n",
    "\n",
    "# Time for len(D_range)/len(K_range) = 50/2: Doesn't terminate\n",
    "# Time for len(D_range)/len(K_range) = 100/2: Doesn't terminate\n",
    "# Time for len(D_range)/len(K_range) = 30/2: Doesn't terminate\n",
    "# Time for len(D_range)/len(K_range) = 40/2: Doesn't terminate"
   ]
  },
  {
   "cell_type": "code",
   "execution_count": null,
   "metadata": {},
   "outputs": [],
   "source": [
    "# Estimated required time to run the notebook in hours\n",
    "# Factor of 10 instead of len(rsat_range_land) due to multiprocessing\n",
    "print('Estimated required time to run the notebook: %.1f hours'%((5.5*(10*len(K_range)))/3600))"
   ]
  },
  {
   "cell_type": "code",
   "execution_count": null,
   "metadata": {},
   "outputs": [],
   "source": [
    "def search_hyperparams_outer(D):\n",
    "    return search_hyperparams_inner(D, K_range)"
   ]
  },
  {
   "cell_type": "code",
   "execution_count": null,
   "metadata": {
    "tags": []
   },
   "outputs": [],
   "source": [
    "from contextlib import contextmanager\n",
    "import multiprocessing as mlp\n",
    "import gc\n",
    "\n",
    "@contextmanager\n",
    "def poolcontext(*args, **kwargs):\n",
    "    pool = mlp.Pool(*args, **kwargs)\n",
    "    yield pool\n",
    "    pool.terminate()"
   ]
  },
  {
   "cell_type": "code",
   "execution_count": null,
   "metadata": {},
   "outputs": [],
   "source": [
    "def search_hyperparams_inner(D, K_range):\n",
    "    mse_tensor = -np.ones((1, len(K_range)))\n",
    "    i2 = -1\n",
    "    for K in K_range:\n",
    "        i2 += 1\n",
    "        \n",
    "        # What is the average error with this set of tuning parameters?\n",
    "        clw = input_train[:, loc['clw']]\n",
    "        cli = input_train[:, loc['cli']]\n",
    "        ta = input_train[:, loc['ta']]\n",
    "        r = input_train[:, loc['rh']]\n",
    "        p = input_train[:, loc['pa']]\n",
    "\n",
    "        # Clausius-Clapeyron assuming a constant latent heat of vaporization and the ideal gas law (Lohmann, eq. 2.60)\n",
    "        e0 = 611.2\n",
    "        Lv = 2.5*10**6\n",
    "        Rv = 461.5\n",
    "        T0 = 273.15\n",
    "        e = e0*np.exp(Lv/Rv*(1/T0-1/ta))\n",
    "        \n",
    "        # q_s (Saturation specific humidity): The specific humidity of water vapor corresponding to the saturation mixing ratio\n",
    "        # Assuming the water pressure to be much smaller than the atmospheric pressure (Lohmann, eq. 2.80)\n",
    "        eps = 0.622\n",
    "        qs = eps*e/p\n",
    "        \n",
    "        # According to Teixeira, for qs/clw values of 50, 100 and 200 are realistic\n",
    "        # We have: np.mean(qs)/np.mean(clw) = 241, np.max(qs)/np.max(clw) = 36 which fits nicely\n",
    "        \n",
    "        # Small threshold to avoid division by zero\n",
    "        thr = 1e-9\n",
    "        c = D*clw/(2*qs*(1-np.minimum(r, 1-thr))*K)*(np.sqrt(np.maximum(0, 1 + (4*qs*(1-np.minimum(r, 1-thr))*K)/(D*np.maximum(clw, thr)))) - 1)\n",
    "        \n",
    "        # c can exceed 1 very slightly\n",
    "        c = np.minimum(c, 1)\n",
    "        \n",
    "        mse_tensor[0, i2] = np.mean((100*c - output_train)**2)\n",
    "                    \n",
    "    return mse_tensor"
   ]
  },
  {
   "cell_type": "markdown",
   "metadata": {},
   "source": [
    "### Fitting hyperparameters\n",
    "Originally: $D = 4e-6, K = 10e-6$"
   ]
  },
  {
   "cell_type": "code",
   "execution_count": null,
   "metadata": {},
   "outputs": [],
   "source": [
    "t0 = time.time()"
   ]
  },
  {
   "cell_type": "code",
   "execution_count": null,
   "metadata": {
    "tags": []
   },
   "outputs": [],
   "source": [
    "procs = len(D_range)\n",
    "with poolcontext(processes=procs) as pool:\n",
    "    # Every process received a part of data_dict\n",
    "    mse_tensor = pool.map(search_hyperparams_outer, D_range)\n",
    "    \n",
    "mse_tensor = np.squeeze(np.array(mse_tensor))\n",
    "                \n",
    "# assert np.all(mse_tensor >= 0)\n",
    "np.save('~/workspace_icon-ml/symbolic_regression/baselines/teixeira_tuning_dyamond/mse_tensor_%s.npy'%hour_min, mse_tensor)"
   ]
  },
  {
   "cell_type": "code",
   "execution_count": null,
   "metadata": {},
   "outputs": [],
   "source": [
    "min_mse = 10**10\n",
    "for i in range(mse_tensor.shape[0]):\n",
    "    for j in range(mse_tensor.shape[1]):\n",
    "        if mse_tensor[i,j] < min_mse:\n",
    "            min_mse = mse_tensor[i,j]\n",
    "            opt_ind = [i,j]                    \n",
    "                    \n",
    "with open('~/workspace_icon-ml/symbolic_regression/baselines/teixeira_tuning_dyamond/best_results.txt', 'a') as file:\n",
    "    file.write('Time it took: %.3f\\n'%(time.time() - t0))\n",
    "    file.write('Output variable: %s\\n'%output_var)\n",
    "    file.write('Best values: %s\\n'%str([D_range[opt_ind[0]], K_range[opt_ind[1]]]))"
   ]
  },
  {
   "cell_type": "markdown",
   "metadata": {},
   "source": [
    "### Plotting the results (To run)"
   ]
  },
  {
   "cell_type": "code",
   "execution_count": null,
   "metadata": {},
   "outputs": [],
   "source": [
    "import numpy as np\n",
    "import matplotlib.pyplot as plt\n",
    "\n",
    "mse_tensor = np.load('~/workspace_icon-ml/symbolic_regression/baselines/teixeira_tuning_dyamond/mse_tensor_9_42.npy')\n",
    "plt.imshow(mse_tensor)"
   ]
  },
  {
   "cell_type": "markdown",
   "metadata": {},
   "source": [
    "### Performance with the best hyperparameter setting (To run)"
   ]
  },
  {
   "cell_type": "code",
   "execution_count": 22,
   "metadata": {},
   "outputs": [],
   "source": [
    "def teixeira_eval(input_data, output_data, loc, D, K):\n",
    "    # What is the average error with this set of tuning parameters?\n",
    "    clw = input_data[:, loc['clw']]\n",
    "    cli = input_data[:, loc['cli']]\n",
    "    ta = input_data[:, loc['ta']]\n",
    "    r = input_data[:, loc['rh']]\n",
    "    p = input_data[:, loc['pa']]\n",
    "\n",
    "    # Clausius-Clapeyron assuming a constant latent heat of vaporization and the ideal gas law (Lohmann, eq. 2.60)\n",
    "    e0 = 611.2\n",
    "    Lv = 2.5*10**6\n",
    "    Rv = 461.5\n",
    "    T0 = 273.15\n",
    "    e = e0*np.exp(Lv/Rv*(1/T0-1/ta))\n",
    "\n",
    "    # q_s (Saturation specific humidity): The specific humidity of water vapor corresponding to the saturation mixing ratio\n",
    "    # Assuming the water pressure to be much smaller than the atmospheric pressure (Lohmann, eq. 2.80)\n",
    "    eps = 0.622\n",
    "    qs = eps*e/p\n",
    "\n",
    "    # Small threshold to avoid division by zero\n",
    "    thr = 1e-9\n",
    "    c = D*clw/(2*qs*(1-np.minimum(r, 1-thr))*K)*(np.sqrt(np.maximum(0, 1 + (4*qs*(1-np.minimum(r, 1-thr))*K)/(D*np.maximum(clw, thr)))) - 1)\n",
    "\n",
    "    # c can exceed 1 very slightly\n",
    "    c = np.minimum(c, 1)\n",
    "\n",
    "    mse = np.mean((100*c - output_data)**2)\n",
    "    var = np.var(output_data)\n",
    "    r2 = 1-mse/var\n",
    "    \n",
    "    return mse, r2"
   ]
  },
  {
   "cell_type": "code",
   "execution_count": 19,
   "metadata": {},
   "outputs": [],
   "source": [
    "if output_var == 'cl_volume':\n",
    "    D_opt = 0.0031578954210526315\n",
    "    K_opt = 0.00012531427067669174\n",
    "elif output_var == 'cl_area':\n",
    "    D_opt = 0.01\n",
    "    K_opt = 0.0001002516165413534"
   ]
  },
  {
   "cell_type": "code",
   "execution_count": 24,
   "metadata": {},
   "outputs": [],
   "source": [
    "mse_train, r2_train = teixeira_eval(input_train, output_train, loc, D_opt, K_opt)\n",
    "mse_valid, r2_valid = teixeira_eval(input_valid, output_valid, loc, D_opt, K_opt)"
   ]
  },
  {
   "cell_type": "code",
   "execution_count": 25,
   "metadata": {},
   "outputs": [],
   "source": [
    "with open('~/workspace_icon-ml/symbolic_regression/baselines/teixeira_tuning_dyamond/best_results.txt', 'a') as file:\n",
    "    file.write('Output variable: %s\\n'%output_var)\n",
    "    file.write('Training score:\\n')\n",
    "    file.write('MSE: %.3f, R2: %.3f\\n'%(mse_train, r2_train))\n",
    "    file.write('Validation score:\\n')\n",
    "    file.write('MSE: %.3f, R2: %.3f\\n\\n'%(mse_valid, r2_valid))"
   ]
  }
 ],
 "metadata": {
  "kernelspec": {
   "display_name": "clouds",
   "language": "python",
   "name": "clouds"
  },
  "language_info": {
   "codemirror_mode": {
    "name": "ipython",
    "version": 3
   },
   "file_extension": ".py",
   "mimetype": "text/x-python",
   "name": "python",
   "nbconvert_exporter": "python",
   "pygments_lexer": "ipython3",
   "version": "3.7.10"
  }
 },
 "nbformat": 4,
 "nbformat_minor": 4
}
