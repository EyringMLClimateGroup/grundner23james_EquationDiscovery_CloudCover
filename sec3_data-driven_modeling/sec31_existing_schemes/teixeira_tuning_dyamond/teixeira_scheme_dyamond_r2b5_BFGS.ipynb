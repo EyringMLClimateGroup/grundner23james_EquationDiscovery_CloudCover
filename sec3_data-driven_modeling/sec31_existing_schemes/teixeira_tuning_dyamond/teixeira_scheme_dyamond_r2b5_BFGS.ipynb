{
 "cells": [
  {
   "cell_type": "markdown",
   "metadata": {
    "tags": []
   },
   "source": [
    "### Teixeira Scheme\n",
    "\n",
    "Parameters optimized in two steps: 1) Manual optimization, 2) BFGS\n",
    "\n",
    "--> I use the best set of parameters from the manually tuned code as a starting point"
   ]
  },
  {
   "cell_type": "code",
   "execution_count": 182,
   "metadata": {},
   "outputs": [],
   "source": [
    "import numpy as np\n",
    "import sympy as sp\n",
    "import pandas as pd\n",
    "import matplotlib.pyplot as plt\n",
    "import json\n",
    "import sys\n",
    "import os\n",
    "import gc\n",
    "\n",
    "sys.path.insert(0, '~/workspace_icon-ml/symbolic_regression')\n",
    "from functions import append_dict_to_json\n",
    "from sklearn import tree\n",
    "\n",
    "subset_size = 10**8\n",
    "\n",
    "np.random.seed(10)"
   ]
  },
  {
   "cell_type": "markdown",
   "metadata": {},
   "source": [
    "**Read data**"
   ]
  },
  {
   "cell_type": "code",
   "execution_count": 183,
   "metadata": {},
   "outputs": [],
   "source": [
    "all_possible_features = ['hus', 'clw', 'cli', 'ta', 'pa', 'zg', 'fr_land', 'U', 'rh', 'ps', 'hus_z', 'hus_zz', 'clw_z', 'clw_zz', 'cli_z',\\\n",
    "            'cli_zz', 'ta_z', 'ta_zz', 'pa_z', 'pa_zz', 'U_z', 'U_zz', 'rh_z', 'rh_zz']\n",
    "\n",
    "loc_all = {}\n",
    "for i in range(len(all_possible_features)):\n",
    "    loc_all[all_possible_features[i]] = i\n",
    "    \n",
    "# Features\n",
    "features = ['clw', 'cli', 'ta', 'rh', 'pa']\n",
    "no_features = len(features)\n",
    "\n",
    "loc = {}\n",
    "for i in range(len(features)):\n",
    "    loc[features[i]] = i"
   ]
  },
  {
   "cell_type": "code",
   "execution_count": 184,
   "metadata": {},
   "outputs": [],
   "source": [
    "path_data = os.path.join('~/my_work/icon-ml_data/cloud_cover_parameterization/neighborhood_based_SR_DYAMOND')\n",
    "\n",
    "input_data = np.load(path_data + '/cloud_cover_input_dyamond.npy')\n",
    "input_data = np.concatenate([np.expand_dims(input_data[:, loc_all[sel_var]], axis=1) for sel_var in features], axis = 1)\n",
    "\n",
    "output_data = np.load(path_data + '/cloud_area_output_dyamond.npy')"
   ]
  },
  {
   "cell_type": "code",
   "execution_count": 185,
   "metadata": {},
   "outputs": [
    {
     "data": {
      "text/plain": [
       "(285179494, 5)"
      ]
     },
     "execution_count": 185,
     "metadata": {},
     "output_type": "execute_result"
    }
   ],
   "source": [
    "(samples_total, no_of_features) = input_data.shape\n",
    "(samples_total, no_of_features)"
   ]
  },
  {
   "cell_type": "code",
   "execution_count": 186,
   "metadata": {
    "tags": []
   },
   "outputs": [],
   "source": [
    "# Construct training and validation data\n",
    "training_folds = []\n",
    "validation_folds = []\n",
    "two_week_incr = samples_total//6\n",
    "\n",
    "for i in range(3):\n",
    "    # Note that this is a temporal split since time was the first dimension in the original tensor\n",
    "    first_incr = np.arange(samples_total//6*i, samples_total//6*(i+1))\n",
    "    second_incr = np.arange(samples_total//6*(i+3), samples_total//6*(i+4))\n",
    "\n",
    "    validation_folds.append(np.append(first_incr, second_incr))\n",
    "    training_folds.append(np.arange(samples_total))\n",
    "    training_folds[i] = np.delete(training_folds[i], validation_folds[i])"
   ]
  },
  {
   "cell_type": "code",
   "execution_count": 187,
   "metadata": {},
   "outputs": [
    {
     "data": {
      "text/plain": [
       "7983"
      ]
     },
     "execution_count": 187,
     "metadata": {},
     "output_type": "execute_result"
    }
   ],
   "source": [
    "# The second fold yields the best model\n",
    "flattened_input_train = input_data[training_folds[1]]\n",
    "flattened_input_valid = input_data[validation_folds[1]]\n",
    "flattened_output_train = output_data[training_folds[1]]\n",
    "flattened_output_valid = output_data[validation_folds[1]]\n",
    "    \n",
    "# Remove input_data, output_data\n",
    "del input_data, output_data, training_folds, validation_folds\n",
    "gc.collect()"
   ]
  },
  {
   "cell_type": "markdown",
   "metadata": {},
   "source": [
    "**Already remove the regime with clw + cli = 0**"
   ]
  },
  {
   "cell_type": "code",
   "execution_count": 188,
   "metadata": {},
   "outputs": [],
   "source": [
    "reg_0_train = np.where(flattened_input_train[:, loc['clw']] + flattened_input_train[:, loc['cli']] <= 1e-20)[0]\n",
    "reg_not_0_train = np.where(flattened_input_train[:, loc['clw']] + flattened_input_train[:, loc['cli']] > 1e-20)[0]\n",
    "flattened_input_train = flattened_input_train[reg_not_0_train]\n",
    "flattened_output_train = flattened_output_train[reg_not_0_train]\n",
    "\n",
    "reg_0_valid = np.where(flattened_input_valid[:, loc['clw']] + flattened_input_valid[:, loc['cli']] <= 1e-20)[0]\n",
    "reg_not_0_valid = np.where(flattened_input_valid[:, loc['clw']] + flattened_input_valid[:, loc['cli']] > 1e-20)[0]\n",
    "\n",
    "# Relevant values to compute final MSE/R2-scores\n",
    "mse_reg_0 = np.mean(flattened_output_valid[reg_0_valid]**2)\n",
    "len_reg_0 = len(reg_0_valid)\n",
    "len_reg_not_0 = len(reg_not_0_valid)\n",
    "len_data_output = len(flattened_output_valid)\n",
    "var_data_output = np.var(flattened_output_valid)\n",
    "\n",
    "flattened_input_valid = flattened_input_valid[reg_not_0_valid]\n",
    "flattened_output_valid = flattened_output_valid[reg_not_0_valid]"
   ]
  },
  {
   "cell_type": "markdown",
   "metadata": {},
   "source": [
    "**Pick the subset**"
   ]
  },
  {
   "cell_type": "code",
   "execution_count": 189,
   "metadata": {},
   "outputs": [],
   "source": [
    "subset = np.random.randint(0, len(flattened_output_train), subset_size)"
   ]
  },
  {
   "cell_type": "markdown",
   "metadata": {},
   "source": [
    "Optimize coefficients"
   ]
  },
  {
   "cell_type": "code",
   "execution_count": 190,
   "metadata": {},
   "outputs": [],
   "source": [
    "def func(X, D, K):\n",
    "    x0 = X[:, 0] # clw\n",
    "    x1 = X[:, 1] # cli\n",
    "    x2 = X[:, 2] # ta\n",
    "    x3 = X[:, 3] # RH\n",
    "    x4 = X[:, 4] # P\n",
    "\n",
    "    # Clausius-Clapeyron assuming a constant latent heat of vaporization and the ideal gas law (Lohmann, eq. 2.60)\n",
    "    e0 = 611.2\n",
    "    Lv = 2.5*10**6\n",
    "    Rv = 461.5\n",
    "    T0 = 273.15\n",
    "    e = e0*np.exp(Lv/Rv*(1/T0-1/x2))\n",
    "\n",
    "    # q_s (Saturation specific humidity): The specific humidity of water vapor corresponding to the saturation mixing ratio\n",
    "    # Assuming the water pressure to be much smaller than the atmospheric pressure (Lohmann, eq. 2.80)\n",
    "    eps = 0.622\n",
    "    qs = eps*e/x4\n",
    "\n",
    "    # Small threshold to avoid division by zero\n",
    "    thr = 1e-9\n",
    "    c = D*x0/(2*qs*(1-np.minimum(x3, 1-thr))*K)*(np.sqrt(np.maximum(0, 1 + (4*qs*(1-np.minimum(x3, 1-thr))*K)/(D*np.maximum(x0, thr)))) - 1)\n",
    "\n",
    "    # c can exceed 1 very slightly\n",
    "    c = np.minimum(c, 1)\n",
    "    \n",
    "    return 100*c"
   ]
  },
  {
   "cell_type": "code",
   "execution_count": 191,
   "metadata": {},
   "outputs": [],
   "source": [
    "import scipy as sci\n",
    "from scipy.optimize import minimize"
   ]
  },
  {
   "cell_type": "code",
   "execution_count": 192,
   "metadata": {},
   "outputs": [
    {
     "name": "stdout",
     "output_type": "stream",
     "text": [
      "Warning: Desired error not necessarily achieved due to precision loss.\n",
      "         Current function value: 2080.174128\n",
      "         Iterations: 1\n",
      "         Function evaluations: 98\n",
      "         Gradient evaluations: 29\n"
     ]
    }
   ],
   "source": [
    "def objective(P, X,Y):\n",
    "    '''\n",
    "        The objective function.\n",
    "    '''\n",
    "    D, K = P\n",
    "    train_preds = np.minimum(np.maximum(func(X, D, K), 0), 100)\n",
    "    train_mse = np.mean((train_preds - Y)**2, dtype=np.float64)\n",
    "    return train_mse\n",
    "\n",
    "(D, K) = (0.01, 0.0001002516165413534)\n",
    "\n",
    "res = minimize(objective, (D, K), \\\n",
    "               args=(flattened_input_train[subset], flattened_output_train[subset]), \\\n",
    "               method='BFGS', options={'disp': True})"
   ]
  },
  {
   "cell_type": "code",
   "execution_count": 193,
   "metadata": {},
   "outputs": [
    {
     "name": "stdout",
     "output_type": "stream",
     "text": [
      "[1.00000042e-02 9.98214001e-05]\n"
     ]
    }
   ],
   "source": [
    "print(res.x)"
   ]
  },
  {
   "cell_type": "markdown",
   "metadata": {},
   "source": [
    "Original values"
   ]
  },
  {
   "cell_type": "code",
   "execution_count": 194,
   "metadata": {
    "tags": []
   },
   "outputs": [
    {
     "data": {
      "text/plain": [
       "2080.175408425879"
      ]
     },
     "execution_count": 194,
     "metadata": {},
     "output_type": "execute_result"
    }
   ],
   "source": [
    "objective((D, K), flattened_input_train[subset], \\\n",
    "          flattened_output_train[subset])"
   ]
  },
  {
   "cell_type": "code",
   "execution_count": 195,
   "metadata": {
    "tags": []
   },
   "outputs": [
    {
     "name": "stdout",
     "output_type": "stream",
     "text": [
      "1373.4962001209562 0.2049738962046832\n"
     ]
    }
   ],
   "source": [
    "mse_reg_1 = objective((D, K), flattened_input_valid, flattened_output_valid)\n",
    "\n",
    "mse_orig_total = (mse_reg_0*len_reg_0 + mse_reg_1*len_reg_not_0)/len_data_output\n",
    "r2_orig_total = 1 - mse_orig_total/var_data_output\n",
    "\n",
    "print(mse_orig_total, r2_orig_total)"
   ]
  },
  {
   "cell_type": "markdown",
   "metadata": {},
   "source": [
    "New values"
   ]
  },
  {
   "cell_type": "code",
   "execution_count": 196,
   "metadata": {},
   "outputs": [
    {
     "data": {
      "text/plain": [
       "2080.174127846792"
      ]
     },
     "execution_count": 196,
     "metadata": {},
     "output_type": "execute_result"
    }
   ],
   "source": [
    "objective(res.x, flattened_input_train[subset], flattened_output_train[subset])"
   ]
  },
  {
   "cell_type": "code",
   "execution_count": 197,
   "metadata": {},
   "outputs": [],
   "source": [
    "mse_reg_1 = objective(res.x, flattened_input_valid, flattened_output_valid)"
   ]
  },
  {
   "cell_type": "code",
   "execution_count": 198,
   "metadata": {},
   "outputs": [
    {
     "name": "stdout",
     "output_type": "stream",
     "text": [
      "1373.4968154531512 0.20497354002957524\n"
     ]
    }
   ],
   "source": [
    "results = {}\n",
    "\n",
    "mse_new_total = (mse_reg_0*len_reg_0 + mse_reg_1*len_reg_not_0)/len_data_output\n",
    "r2_new_total = 1 - mse_new_total/var_data_output\n",
    "\n",
    "print(mse_new_total, r2_new_total)\n",
    "\n",
    "results['MSE'] = mse_new_total\n",
    "results['R2'] = r2_new_total"
   ]
  },
  {
   "cell_type": "markdown",
   "metadata": {},
   "source": [
    "**Save results**"
   ]
  },
  {
   "cell_type": "code",
   "execution_count": 199,
   "metadata": {},
   "outputs": [],
   "source": [
    "# Dump results\n",
    "with open('results_BFGS_tuned_cl_area.json', 'w') as file:\n",
    "    json.dump(results, file)"
   ]
  },
  {
   "cell_type": "code",
   "execution_count": 200,
   "metadata": {},
   "outputs": [
    {
     "data": {
      "image/png": "[encoded data removed]",
      "text/plain": [
       "<Figure size 432x288 with 1 Axes>"
      ]
     },
     "metadata": {
      "needs_background": "light"
     },
     "output_type": "display_data"
    }
   ],
   "source": [
    "def predict(P,X):\n",
    "    '''\n",
    "        The objective function.\n",
    "    '''\n",
    "    D, K = P\n",
    "    preds = np.minimum(np.maximum(func(X, D, K), 0), 100)\n",
    "\n",
    "    return preds\n",
    "\n",
    "plt.hist(flattened_output_valid,bins=100, histtype='step', color='k')\n",
    "plt.hist(predict(res.x, flattened_input_valid),bins=100, histtype='step')\n",
    "\n",
    "plt.yscale('log')\n",
    "plt.legend(['DYAMOND', 'Teixeira'])\n",
    "plt.savefig('results_BFGS_tuned_cl_area.pdf')"
   ]
  },
  {
   "cell_type": "markdown",
   "metadata": {},
   "source": [
    "**Testing**"
   ]
  },
  {
   "cell_type": "code",
   "execution_count": 201,
   "metadata": {},
   "outputs": [],
   "source": [
    "# From the other notebook\n",
    "def teixeira_eval(input_data, output_data, loc, D, K):\n",
    "    # What is the average error with this set of tuning parameters?\n",
    "    clw = input_data[:, loc['clw']]\n",
    "    cli = input_data[:, loc['cli']]\n",
    "    ta = input_data[:, loc['ta']]\n",
    "    r = input_data[:, loc['rh']]\n",
    "    p = input_data[:, loc['pa']]\n",
    "\n",
    "    # Clausius-Clapeyron assuming a constant latent heat of vaporization and the ideal gas law (Lohmann, eq. 2.60)\n",
    "    e0 = 611.2\n",
    "    Lv = 2.5*10**6\n",
    "    Rv = 461.5\n",
    "    T0 = 273.15\n",
    "    e = e0*np.exp(Lv/Rv*(1/T0-1/ta))\n",
    "\n",
    "    # q_s (Saturation specific humidity): The specific humidity of water vapor corresponding to the saturation mixing ratio\n",
    "    # Assuming the water pressure to be much smaller than the atmospheric pressure (Lohmann, eq. 2.80)\n",
    "    eps = 0.622\n",
    "    qs = eps*e/p\n",
    "\n",
    "    # Small threshold to avoid division by zero\n",
    "    thr = 1e-9\n",
    "    c = D*clw/(2*qs*(1-np.minimum(r, 1-thr))*K)*(np.sqrt(np.maximum(0, 1 + (4*qs*(1-np.minimum(r, 1-thr))*K)/(D*np.maximum(clw, thr)))) - 1)\n",
    "\n",
    "    # c can exceed 1 very slightly\n",
    "    c = np.minimum(c, 1)\n",
    "\n",
    "    mse = np.mean((100*c - output_data)**2)\n",
    "    var = np.var(output_data)\n",
    "    r2 = 1-mse/var\n",
    "    \n",
    "    return mse, r2\n",
    "\n",
    "D_opt = 0.01\n",
    "K_opt = 0.0001002516165413534\n",
    "mse_reg_1,_ = teixeira_eval(flattened_input_valid, flattened_output_valid, loc, D_opt, K_opt)"
   ]
  },
  {
   "cell_type": "code",
   "execution_count": 202,
   "metadata": {},
   "outputs": [
    {
     "name": "stdout",
     "output_type": "stream",
     "text": [
      "1373.4962001209562 0.2049738962046832\n"
     ]
    }
   ],
   "source": [
    "mse_orig_total = (mse_reg_0*len_reg_0 + mse_reg_1*len_reg_not_0)/len_data_output\n",
    "r2_orig_total = 1 - mse_orig_total/var_data_output\n",
    "\n",
    "print(mse_orig_total, r2_orig_total)"
   ]
  }
 ],
 "metadata": {
  "kernelspec": {
   "display_name": "Python 3 (based on the module python3/2022.01)",
   "language": "python",
   "name": "python3_2022_01"
  },
  "language_info": {
   "codemirror_mode": {
    "name": "ipython",
    "version": 3
   },
   "file_extension": ".py",
   "mimetype": "text/x-python",
   "name": "python",
   "nbconvert_exporter": "python",
   "pygments_lexer": "ipython3",
   "version": "3.9.9"
  }
 },
 "nbformat": 4,
 "nbformat_minor": 4
}
