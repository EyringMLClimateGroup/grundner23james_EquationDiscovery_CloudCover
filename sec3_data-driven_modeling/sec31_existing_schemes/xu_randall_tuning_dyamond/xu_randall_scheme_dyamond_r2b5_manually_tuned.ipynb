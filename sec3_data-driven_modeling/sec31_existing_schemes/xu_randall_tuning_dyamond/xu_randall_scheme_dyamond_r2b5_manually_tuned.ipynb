{
 "cells": [
  {
   "cell_type": "markdown",
   "metadata": {},
   "source": [
    "### Wang Scheme\n",
    "\n",
    "Do not start more than 20 processes! The job will just hang."
   ]
  },
  {
   "cell_type": "code",
   "execution_count": 1,
   "metadata": {
    "tags": []
   },
   "outputs": [],
   "source": [
    "# All samples (190119664): 5.5s per entry of the tensor"
   ]
  },
  {
   "cell_type": "code",
   "execution_count": 2,
   "metadata": {},
   "outputs": [],
   "source": [
    "import os\n",
    "import gc\n",
    "import sys\n",
    "import time\n",
    "import numpy as np\n",
    "import datetime\n",
    "import matplotlib\n",
    "import matplotlib.pyplot as plt\n",
    "\n",
    "sys.path.insert(0, '~/workspace_icon-ml/symbolic_regression/')\n",
    "from functions import evaluate_sundqvist\n",
    "\n",
    "# Shall we use the tuned hyperparameters?\n",
    "tuned = False\n",
    "\n",
    "# Added to the PDF name\n",
    "hour_min = '%d_%d'%(datetime.datetime.now().hour, datetime.datetime.now().minute)\n",
    "\n",
    "matplotlib.use('PDF')\n",
    "output_var = sys.argv[1] "
   ]
  },
  {
   "cell_type": "code",
   "execution_count": 3,
   "metadata": {},
   "outputs": [],
   "source": [
    "output_var = 'cl_volume'"
   ]
  },
  {
   "cell_type": "code",
   "execution_count": 4,
   "metadata": {},
   "outputs": [],
   "source": [
    "# Load columns of data\n",
    "folder_data = '~/my_work/icon-ml_data/cloud_cover_parameterization/neighborhood_based_SR_DYAMOND/'\n",
    "\n",
    "input_data = np.load(os.path.join(folder_data, 'cloud_cover_input_dyamond.npy'))\n",
    "if output_var == 'cl_volume':\n",
    "    output_data = np.load(os.path.join(folder_data, 'cloud_cover_output_dyamond.npy'))\n",
    "elif output_var == 'cl_area':\n",
    "    output_data = np.load(os.path.join(folder_data, 'cloud_area_output_dyamond.npy'))\n",
    "\n",
    "new_features = ['hus', 'clw', 'cli', 'ta', 'pa', 'zg', 'fr_land', 'U', 'rh', 'ps', 'hus_z', 'hus_zz', 'clw_z', 'clw_zz', 'cli_z',\\\n",
    "                'cli_zz', 'ta_z', 'ta_zz', 'pa_z', 'pa_zz', 'U_z', 'U_zz', 'rh_z', 'rh_zz']"
   ]
  },
  {
   "cell_type": "code",
   "execution_count": 5,
   "metadata": {
    "tags": []
   },
   "outputs": [
    {
     "data": {
      "text/plain": [
       "42"
      ]
     },
     "execution_count": 5,
     "metadata": {},
     "output_type": "execute_result"
    }
   ],
   "source": [
    "samples_total, no_of_features = input_data.shape\n",
    "\n",
    "# Split into train/valid\n",
    "training_folds = []\n",
    "validation_folds = []\n",
    "two_week_incr = samples_total//6\n",
    "\n",
    "for i in range(3):\n",
    "    # Note that this is a temporal split since time was the first dimension in the original tensor\n",
    "    first_incr = np.arange(samples_total//6*i, samples_total//6*(i+1))\n",
    "    second_incr = np.arange(samples_total//6*(i+3), samples_total//6*(i+4))\n",
    "\n",
    "    validation_folds.append(np.append(first_incr, second_incr))\n",
    "    training_folds.append(np.arange(samples_total))\n",
    "    training_folds[i] = np.delete(training_folds[i], validation_folds[i])\n",
    "\n",
    "# The second fold yields the best model\n",
    "input_train = input_data[training_folds[1]]\n",
    "input_valid = input_data[validation_folds[1]]\n",
    "output_train = output_data[training_folds[1]]\n",
    "output_valid = output_data[validation_folds[1]]\n",
    "\n",
    "# Remove input_data, output_data\n",
    "del input_data, output_data, training_folds, validation_folds\n",
    "gc.collect()"
   ]
  },
  {
   "cell_type": "code",
   "execution_count": 6,
   "metadata": {},
   "outputs": [
    {
     "data": {
      "text/plain": [
       "(190119664, 24)"
      ]
     },
     "execution_count": 6,
     "metadata": {},
     "output_type": "execute_result"
    }
   ],
   "source": [
    "# To locate variables\n",
    "loc = {}\n",
    "for i in range(len(new_features)):\n",
    "    loc[new_features[i]] = i\n",
    "    \n",
    "input_train.shape"
   ]
  },
  {
   "cell_type": "code",
   "execution_count": 7,
   "metadata": {
    "tags": []
   },
   "outputs": [],
   "source": [
    "# # First try (20/400):\n",
    "# par_range = np.linspace(0.05, 1, 20)\n",
    "# alpha_range = np.linspace(20, 200, 400)\n",
    "\n",
    "# # Second try\n",
    "# par_range = np.linspace(0.01, 0.4, 20)\n",
    "# alpha_range = np.linspace(1000, 200000, 400)\n",
    "\n",
    "# # Third try\n",
    "# par_range = np.linspace(0.35, 0.8, 20)\n",
    "# alpha_range = np.linspace(80000, 400000, 400)\n",
    "\n",
    "# Forth try\n",
    "par_range = np.linspace(0.7, 1.2, 20)\n",
    "alpha_range = np.linspace(120000, 1000000, 400)"
   ]
  },
  {
   "cell_type": "code",
   "execution_count": 8,
   "metadata": {},
   "outputs": [
    {
     "name": "stdout",
     "output_type": "stream",
     "text": [
      "Estimated required time to run the notebook: 3.1 hours\n"
     ]
    }
   ],
   "source": [
    "# Estimated required time to run the notebook in hours\n",
    "# Factor of 5 instead of len(par_range) due to multiprocessing\n",
    "print('Estimated required time to run the notebook: %.1f hours'%((5.5*(5*len(alpha_range)))/3600))"
   ]
  },
  {
   "cell_type": "code",
   "execution_count": 10,
   "metadata": {},
   "outputs": [],
   "source": [
    "def search_hyperparams_outer(par):\n",
    "    return search_hyperparams_inner(par, alpha_range)"
   ]
  },
  {
   "cell_type": "code",
   "execution_count": 11,
   "metadata": {
    "tags": []
   },
   "outputs": [],
   "source": [
    "from contextlib import contextmanager\n",
    "import multiprocessing as mlp\n",
    "import gc\n",
    "\n",
    "@contextmanager\n",
    "def poolcontext(*args, **kwargs):\n",
    "    pool = mlp.Pool(*args, **kwargs)\n",
    "    yield pool\n",
    "    pool.terminate()"
   ]
  },
  {
   "cell_type": "code",
   "execution_count": 12,
   "metadata": {},
   "outputs": [],
   "source": [
    "def search_hyperparams_inner(par, alpha_range):\n",
    "    mse_tensor = -np.ones((1, len(alpha_range)))\n",
    "    i2 = -1\n",
    "    for alpha in alpha_range:\n",
    "        i2 += 1\n",
    "        \n",
    "        # What is the average error with this set of tuning parameters?\n",
    "        clw = input_train[:, loc['clw']]\n",
    "        cli = input_train[:, loc['cli']]\n",
    "        r = input_train[:, loc['rh']]\n",
    "\n",
    "        c = r**par*(1-np.exp(-alpha*(cli+clw)))\n",
    "        \n",
    "        # c can exceed 1 very slightly\n",
    "        c = np.minimum(c, 1)\n",
    "\n",
    "        mse_tensor[0, i2] = np.mean((100*c - output_train)**2)\n",
    "                    \n",
    "    return mse_tensor"
   ]
  },
  {
   "cell_type": "markdown",
   "metadata": {},
   "source": [
    "### Fitting hyperparameters\n",
    "Originally: $p = 0.25, \\alpha = 10^5$ (Note that in Wang the cloud condensates are given in g/kg!)"
   ]
  },
  {
   "cell_type": "code",
   "execution_count": 13,
   "metadata": {},
   "outputs": [],
   "source": [
    "t0 = time.time()"
   ]
  },
  {
   "cell_type": "code",
   "execution_count": null,
   "metadata": {
    "collapsed": true,
    "jupyter": {
     "outputs_hidden": true
    },
    "tags": []
   },
   "outputs": [
    {
     "name": "stderr",
     "output_type": "stream",
     "text": [
      "Process ForkPoolWorker-51:\n",
      "Process ForkPoolWorker-56:\n",
      "Process ForkPoolWorker-23:\n",
      "Process ForkPoolWorker-97:\n",
      "Process ForkPoolWorker-71:\n",
      "Process ForkPoolWorker-19:\n",
      "Process ForkPoolWorker-134:\n",
      "Process ForkPoolWorker-102:\n",
      "Process ForkPoolWorker-91:\n",
      "Process ForkPoolWorker-95:\n",
      "Process ForkPoolWorker-106:\n",
      "Process ForkPoolWorker-124:\n",
      "Process ForkPoolWorker-52:\n",
      "Process ForkPoolWorker-111:\n",
      "Process ForkPoolWorker-73:\n",
      "Process ForkPoolWorker-65:\n",
      "Process ForkPoolWorker-83:\n",
      "Process ForkPoolWorker-117:\n",
      "Process ForkPoolWorker-110:\n",
      "Process ForkPoolWorker-89:\n",
      "Process ForkPoolWorker-104:\n",
      "Process ForkPoolWorker-7:\n",
      "Process ForkPoolWorker-9:\n",
      "Process ForkPoolWorker-31:\n",
      "Process ForkPoolWorker-45:\n",
      "Process ForkPoolWorker-14:\n",
      "Process ForkPoolWorker-123:\n",
      "Process ForkPoolWorker-103:\n",
      "Process ForkPoolWorker-100:\n",
      "Process ForkPoolWorker-101:\n",
      "Process ForkPoolWorker-68:\n",
      "Process ForkPoolWorker-39:\n",
      "Process ForkPoolWorker-66:\n",
      "Process ForkPoolWorker-44:\n",
      "Process ForkPoolWorker-85:\n",
      "Process ForkPoolWorker-3:\n",
      "Process ForkPoolWorker-121:\n",
      "Process ForkPoolWorker-35:\n",
      "Process ForkPoolWorker-43:\n",
      "Process ForkPoolWorker-81:\n",
      "Process ForkPoolWorker-137:\n",
      "Process ForkPoolWorker-96:\n",
      "Process ForkPoolWorker-24:\n",
      "Process ForkPoolWorker-128:\n",
      "Process ForkPoolWorker-22:\n",
      "Process ForkPoolWorker-40:\n",
      "Process ForkPoolWorker-26:\n",
      "Process ForkPoolWorker-70:\n",
      "Process ForkPoolWorker-38:\n",
      "Process ForkPoolWorker-98:\n",
      "Process ForkPoolWorker-25:\n",
      "Process ForkPoolWorker-99:\n",
      "Process ForkPoolWorker-37:\n",
      "Process ForkPoolWorker-32:\n",
      "Process ForkPoolWorker-34:\n",
      "Process ForkPoolWorker-136:\n",
      "Process ForkPoolWorker-115:\n",
      "Process ForkPoolWorker-139:\n",
      "Process ForkPoolWorker-108:\n",
      "Process ForkPoolWorker-61:\n",
      "Process ForkPoolWorker-138:\n",
      "Process ForkPoolWorker-79:\n",
      "Process ForkPoolWorker-80:\n",
      "Process ForkPoolWorker-18:\n",
      "Process ForkPoolWorker-84:\n",
      "Process ForkPoolWorker-46:\n",
      "Process ForkPoolWorker-60:\n",
      "Process ForkPoolWorker-72:\n",
      "Process ForkPoolWorker-53:\n",
      "Process ForkPoolWorker-105:\n",
      "Process ForkPoolWorker-2:\n",
      "Process ForkPoolWorker-133:\n",
      "Process ForkPoolWorker-54:\n",
      "Process ForkPoolWorker-5:\n",
      "Process ForkPoolWorker-113:\n",
      "Process ForkPoolWorker-129:\n",
      "Process ForkPoolWorker-55:\n",
      "Process ForkPoolWorker-16:\n",
      "Process ForkPoolWorker-36:\n",
      "Process ForkPoolWorker-17:\n",
      "Process ForkPoolWorker-107:\n",
      "Process ForkPoolWorker-4:\n",
      "Process ForkPoolWorker-135:\n",
      "Process ForkPoolWorker-33:\n",
      "Process ForkPoolWorker-29:\n",
      "Process ForkPoolWorker-125:\n",
      "Process ForkPoolWorker-120:\n",
      "Process ForkPoolWorker-49:\n",
      "Process ForkPoolWorker-90:\n",
      "Process ForkPoolWorker-63:\n",
      "Process ForkPoolWorker-131:\n",
      "Process ForkPoolWorker-88:\n",
      "Process ForkPoolWorker-86:\n",
      "Process ForkPoolWorker-82:\n",
      "Process ForkPoolWorker-109:\n",
      "Process ForkPoolWorker-94:\n",
      "Process ForkPoolWorker-92:\n",
      "Process ForkPoolWorker-132:\n",
      "Process ForkPoolWorker-114:\n",
      "Process ForkPoolWorker-116:\n",
      "Process ForkPoolWorker-50:\n",
      "Process ForkPoolWorker-58:\n",
      "Process ForkPoolWorker-48:\n",
      "Process ForkPoolWorker-41:\n",
      "Process ForkPoolWorker-118:\n",
      "Process ForkPoolWorker-126:\n",
      "Process ForkPoolWorker-30:\n",
      "Process ForkPoolWorker-130:\n",
      "Process ForkPoolWorker-119:\n",
      "Process ForkPoolWorker-87:\n",
      "Process ForkPoolWorker-42:\n",
      "Process ForkPoolWorker-6:\n",
      "Process ForkPoolWorker-122:\n",
      "Process ForkPoolWorker-112:\n",
      "Process ForkPoolWorker-62:\n",
      "Process ForkPoolWorker-127:\n",
      "Process ForkPoolWorker-15:\n",
      "Process ForkPoolWorker-28:\n",
      "Process ForkPoolWorker-93:\n",
      "Process ForkPoolWorker-11:\n",
      "Process ForkPoolWorker-77:\n",
      "Process ForkPoolWorker-76:\n",
      "Process ForkPoolWorker-75:\n",
      "Process ForkPoolWorker-13:\n",
      "Process ForkPoolWorker-12:\n",
      "Process ForkPoolWorker-74:\n",
      "Process ForkPoolWorker-10:\n",
      "Traceback (most recent call last):\n",
      "Traceback (most recent call last):\n",
      "Traceback (most recent call last):\n",
      "Traceback (most recent call last):\n",
      "Traceback (most recent call last):\n",
      "Traceback (most recent call last):\n",
      "Traceback (most recent call last):\n",
      "Traceback (most recent call last):\n",
      "Traceback (most recent call last):\n",
      "Process ForkPoolWorker-69:\n",
      "Traceback (most recent call last):\n",
      "Traceback (most recent call last):\n"
     ]
    }
   ],
   "source": [
    "procs = len(par_range)\n",
    "with poolcontext(processes=procs) as pool:\n",
    "    # Every process received a part of data_dict\n",
    "    mse_tensor = pool.map(search_hyperparams_outer, par_range)\n",
    "    \n",
    "mse_tensor = np.squeeze(np.array(mse_tensor))\n",
    "                \n",
    "# assert np.all(mse_tensor >= 0)\n",
    "np.save('~/workspace_icon-ml/symbolic_regression/baselines/wang_tuning_dyamond/mse_tensor_%s.npy'%hour_min, mse_tensor)"
   ]
  },
  {
   "cell_type": "code",
   "execution_count": null,
   "metadata": {},
   "outputs": [],
   "source": [
    "min_mse = 10**10\n",
    "for i in range(mse_tensor.shape[0]):\n",
    "    for j in range(mse_tensor.shape[1]):\n",
    "        if mse_tensor[i,j] < min_mse:\n",
    "            min_mse = mse_tensor[i,j]\n",
    "            opt_ind = [i,j]                  \n",
    "                    \n",
    "with open('~/workspace_icon-ml/symbolic_regression/baselines/wang_tuning_dyamond/best_results.txt', 'a') as file:\n",
    "    file.write('Time it took: %.3f\\n'%(time.time() - t0))\n",
    "    file.write('Output variable: %s\\n'%output_var)\n",
    "    file.write('Best values: %s\\n'%str([par_range[opt_ind[0]], alpha_range[opt_ind[1]]]))"
   ]
  },
  {
   "cell_type": "markdown",
   "metadata": {},
   "source": [
    "### Plotting the results (To run)"
   ]
  },
  {
   "cell_type": "code",
   "execution_count": 2,
   "metadata": {},
   "outputs": [
    {
     "name": "stdout",
     "output_type": "stream",
     "text": [
      "3626.6205753929526\n"
     ]
    },
    {
     "data": {
      "image/png": "[encoded data removed]",
      "text/plain": [
       "<Figure size 432x288 with 1 Axes>"
      ]
     },
     "metadata": {
      "needs_background": "light"
     },
     "output_type": "display_data"
    }
   ],
   "source": [
    "# import numpy as np\n",
    "# import matplotlib.pyplot as plt\n",
    "\n",
    "# mse_tensor = np.load('~/workspace_icon-ml/symbolic_regression/baselines/wang_tuning_dyamond/mse_tensor_9_42.npy')\n",
    "# plt.imshow(mse_tensor)\n",
    "# print(np.min(mse_tensor))"
   ]
  },
  {
   "cell_type": "code",
   "execution_count": 4,
   "metadata": {},
   "outputs": [
    {
     "name": "stdout",
     "output_type": "stream",
     "text": [
      "805.7359884400947\n"
     ]
    },
    {
     "data": {
      "image/png": "[encoded data removed]",
      "text/plain": [
       "<Figure size 432x288 with 1 Axes>"
      ]
     },
     "metadata": {
      "needs_background": "light"
     },
     "output_type": "display_data"
    }
   ],
   "source": [
    "# import numpy as np\n",
    "# import matplotlib.pyplot as plt\n",
    "\n",
    "# mse_tensor = np.load('~/workspace_icon-ml/symbolic_regression/baselines/wang_tuning_dyamond/mse_tensor_10_2.npy')\n",
    "# plt.imshow(mse_tensor)\n",
    "# print(np.min(mse_tensor))"
   ]
  },
  {
   "cell_type": "code",
   "execution_count": 6,
   "metadata": {},
   "outputs": [
    {
     "name": "stdout",
     "output_type": "stream",
     "text": [
      "777.0401394844681\n"
     ]
    },
    {
     "data": {
      "image/png": "[encoded data removed]",
      "text/plain": [
       "<Figure size 432x288 with 1 Axes>"
      ]
     },
     "metadata": {
      "needs_background": "light"
     },
     "output_type": "display_data"
    }
   ],
   "source": [
    "import numpy as np\n",
    "import matplotlib.pyplot as plt\n",
    "\n",
    "mse_tensor = np.load('~/workspace_icon-ml/symbolic_regression/baselines/wang_tuning_dyamond/mse_tensor_12_53.npy')\n",
    "plt.imshow(mse_tensor)\n",
    "print(np.min(mse_tensor))"
   ]
  },
  {
   "cell_type": "markdown",
   "metadata": {},
   "source": [
    "### Performance with the best hyperparameter setting (To run)"
   ]
  },
  {
   "cell_type": "code",
   "execution_count": 13,
   "metadata": {},
   "outputs": [],
   "source": [
    "def wang_eval(input_data, output_data, loc, par, alpha):\n",
    "    # What is the average error with this set of tuning parameters?\n",
    "    clw = input_data[:, loc['clw']]\n",
    "    cli = input_data[:, loc['cli']]\n",
    "    r = input_data[:, loc['rh']]\n",
    "\n",
    "    c = r**par*(1-np.exp(-alpha*(cli+clw)))\n",
    "\n",
    "    # c can exceed 1 very slightly\n",
    "    c = np.minimum(c, 1)\n",
    "\n",
    "    mse = np.mean((100*c - output_data)**2)\n",
    "    var = np.var(output_data)\n",
    "    r2 = 1-mse/var\n",
    "    \n",
    "    return mse, r2"
   ]
  },
  {
   "cell_type": "code",
   "execution_count": 14,
   "metadata": {},
   "outputs": [],
   "source": [
    "if output_var == 'cl_volume':\n",
    "    par_opt = 1.2\n",
    "    alpha_opt = 172932.3308\n",
    "elif output_var == 'cl_area':\n",
    "    par_opt = 0.9105\n",
    "    alpha_opt = 913984.9624"
   ]
  },
  {
   "cell_type": "code",
   "execution_count": 15,
   "metadata": {},
   "outputs": [],
   "source": [
    "mse_train, r2_train = wang_eval(input_train, output_train, loc, par_opt, alpha_opt)\n",
    "mse_valid, r2_valid = wang_eval(input_valid, output_valid, loc, par_opt, alpha_opt)"
   ]
  },
  {
   "cell_type": "code",
   "execution_count": 16,
   "metadata": {},
   "outputs": [],
   "source": [
    "with open('~/workspace_icon-ml/symbolic_regression/baselines/wang_tuning_dyamond/best_results.txt', 'a') as file:\n",
    "    file.write('Output variable: %s\\n'%output_var)\n",
    "    file.write('Training score:\\n')\n",
    "    file.write('MSE: %.3f, R2: %.3f\\n'%(mse_train, r2_train))\n",
    "    file.write('Validation score:\\n')\n",
    "    file.write('MSE: %.3f, R2: %.3f\\n\\n'%(mse_valid, r2_valid))"
   ]
  },
  {
   "cell_type": "code",
   "execution_count": null,
   "metadata": {},
   "outputs": [],
   "source": []
  }
 ],
 "metadata": {
  "kernelspec": {
   "display_name": "clouds",
   "language": "python",
   "name": "clouds"
  },
  "language_info": {
   "codemirror_mode": {
    "name": "ipython",
    "version": 3
   },
   "file_extension": ".py",
   "mimetype": "text/x-python",
   "name": "python",
   "nbconvert_exporter": "python",
   "pygments_lexer": "ipython3",
   "version": "3.7.10"
  }
 },
 "nbformat": 4,
 "nbformat_minor": 4
}
