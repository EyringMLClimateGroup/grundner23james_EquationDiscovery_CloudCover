{
 "cells": [
  {
   "cell_type": "markdown",
   "metadata": {},
   "source": [
    "### Sundqvist Scheme"
   ]
  },
  {
   "cell_type": "markdown",
   "metadata": {},
   "source": [
    "We split the data into two regimes and use Nelder-Mead.\n",
    "\n",
    "We let the parameters depend on whether they are taken over land or over the sea.\n",
    "\n",
    "Parameters optimized in two steps: 1) Manual optimization, 2) Nelder-Mead\n",
    "\n",
    "--> I use the best set of parameters from the manually tuned code as a starting point"
   ]
  },
  {
   "cell_type": "code",
   "execution_count": 1,
   "metadata": {},
   "outputs": [],
   "source": [
    "import numpy as np\n",
    "import sympy as sp\n",
    "import pandas as pd\n",
    "import matplotlib.pyplot as plt\n",
    "import json\n",
    "import sys\n",
    "import os\n",
    "import gc\n",
    "\n",
    "sys.path.insert(0, '/home/b/b309170/workspace_icon-ml/symbolic_regression')\n",
    "from functions import append_dict_to_json\n",
    "from sklearn import tree\n",
    "\n",
    "# Get the same result with 10**7\n",
    "subset_size = 10**6\n",
    "\n",
    "np.random.seed(10)"
   ]
  },
  {
   "cell_type": "markdown",
   "metadata": {},
   "source": [
    "**Read data**"
   ]
  },
  {
   "cell_type": "code",
   "execution_count": 2,
   "metadata": {},
   "outputs": [],
   "source": [
    "all_possible_features = ['hus', 'clw', 'cli', 'ta', 'pa', 'zg', 'fr_land', 'U', 'rh', 'ps', 'hus_z', 'hus_zz', 'clw_z', 'clw_zz', 'cli_z',\\\n",
    "            'cli_zz', 'ta_z', 'ta_zz', 'pa_z', 'pa_zz', 'U_z', 'U_zz', 'rh_z', 'rh_zz']\n",
    "\n",
    "loc_all = {}\n",
    "for i in range(len(all_possible_features)):\n",
    "    loc_all[all_possible_features[i]] = i\n",
    "    \n",
    "# Features\n",
    "features = ['clw', 'cli', 'rh', 'pa', 'ps', 'fr_land']\n",
    "no_features = len(features)\n",
    "\n",
    "loc = {}\n",
    "for i in range(len(features)):\n",
    "    loc[features[i]] = i"
   ]
  },
  {
   "cell_type": "code",
   "execution_count": 3,
   "metadata": {},
   "outputs": [],
   "source": [
    "path_data = os.path.join('/home/b/b309170/my_work/icon-ml_data/cloud_cover_parameterization/neighborhood_based_SR_DYAMOND')\n",
    "\n",
    "input_data = np.load(path_data + '/cloud_cover_input_dyamond.npy')\n",
    "input_data = np.concatenate([np.expand_dims(input_data[:, loc_all[sel_var]], axis=1) for sel_var in features], axis = 1)\n",
    "\n",
    "output_data = np.load(path_data + '/cloud_area_output_dyamond.npy')"
   ]
  },
  {
   "cell_type": "code",
   "execution_count": 4,
   "metadata": {},
   "outputs": [
    {
     "data": {
      "text/plain": [
       "(285179494, 6)"
      ]
     },
     "execution_count": 4,
     "metadata": {},
     "output_type": "execute_result"
    }
   ],
   "source": [
    "(samples_total, no_of_features) = input_data.shape\n",
    "(samples_total, no_of_features)"
   ]
  },
  {
   "cell_type": "code",
   "execution_count": 5,
   "metadata": {
    "tags": []
   },
   "outputs": [],
   "source": [
    "# Construct training and validation data\n",
    "training_folds = []\n",
    "validation_folds = []\n",
    "two_week_incr = samples_total//6\n",
    "\n",
    "for i in range(3):\n",
    "    # Note that this is a temporal split since time was the first dimension in the original tensor\n",
    "    first_incr = np.arange(samples_total//6*i, samples_total//6*(i+1))\n",
    "    second_incr = np.arange(samples_total//6*(i+3), samples_total//6*(i+4))\n",
    "\n",
    "    validation_folds.append(np.append(first_incr, second_incr))\n",
    "    training_folds.append(np.arange(samples_total))\n",
    "    training_folds[i] = np.delete(training_folds[i], validation_folds[i])"
   ]
  },
  {
   "cell_type": "code",
   "execution_count": 6,
   "metadata": {},
   "outputs": [
    {
     "data": {
      "text/plain": [
       "0"
      ]
     },
     "execution_count": 6,
     "metadata": {},
     "output_type": "execute_result"
    }
   ],
   "source": [
    "# The second fold yields the best model\n",
    "flattened_input_train = input_data[training_folds[1]]\n",
    "flattened_input_valid = input_data[validation_folds[1]]\n",
    "flattened_output_train = output_data[training_folds[1]]\n",
    "flattened_output_valid = output_data[validation_folds[1]]\n",
    "    \n",
    "# Remove input_data, output_data\n",
    "del input_data, output_data, training_folds, validation_folds\n",
    "gc.collect()"
   ]
  },
  {
   "cell_type": "markdown",
   "metadata": {},
   "source": [
    "**Already remove the regime with clw + cli = 0**"
   ]
  },
  {
   "cell_type": "code",
   "execution_count": 7,
   "metadata": {},
   "outputs": [],
   "source": [
    "reg_0_train = np.where(flattened_input_train[:, loc['clw']] + flattened_input_train[:, loc['cli']] <= 1e-20)[0]\n",
    "reg_not_0_train = np.where(flattened_input_train[:, loc['clw']] + flattened_input_train[:, loc['cli']] > 1e-20)[0]\n",
    "flattened_input_train = flattened_input_train[reg_not_0_train]\n",
    "flattened_output_train = flattened_output_train[reg_not_0_train]\n",
    "\n",
    "reg_0_valid = np.where(flattened_input_valid[:, loc['clw']] + flattened_input_valid[:, loc['cli']] <= 1e-20)[0]\n",
    "reg_not_0_valid = np.where(flattened_input_valid[:, loc['clw']] + flattened_input_valid[:, loc['cli']] > 1e-20)[0]\n",
    "\n",
    "# Relevant values to compute final MSE/R2-scores\n",
    "mse_reg_0 = np.mean(flattened_output_valid[reg_0_valid]**2)\n",
    "len_reg_0 = len(reg_0_valid)\n",
    "len_reg_not_0 = len(reg_not_0_valid)\n",
    "len_data_output = len(flattened_output_valid)\n",
    "var_data_output = np.var(flattened_output_valid)\n",
    "\n",
    "flattened_input_valid = flattened_input_valid[reg_not_0_valid]\n",
    "flattened_output_valid = flattened_output_valid[reg_not_0_valid]"
   ]
  },
  {
   "cell_type": "markdown",
   "metadata": {},
   "source": [
    "**Pick the subset**"
   ]
  },
  {
   "cell_type": "code",
   "execution_count": 8,
   "metadata": {},
   "outputs": [],
   "source": [
    "subset = np.random.randint(0, len(flattened_output_train), subset_size)"
   ]
  },
  {
   "cell_type": "markdown",
   "metadata": {},
   "source": [
    "Optimize coefficients"
   ]
  },
  {
   "cell_type": "code",
   "execution_count": 9,
   "metadata": {},
   "outputs": [],
   "source": [
    "def func(X, rsat_land,r0_top_land,r0_surf_land,n_land,rsat_sea,r0_top_sea,r0_surf_sea,n_sea):   \n",
    "    x0 = X[:, 0] # clw\n",
    "    x1 = X[:, 1] # cli\n",
    "    x2 = X[:, 2] # rh\n",
    "    x3 = X[:, 3] # pa\n",
    "    x4 = X[:, 4] # ps\n",
    "    x5 = X[:, 5] # fr_land\n",
    "    \n",
    "    r0 = np.where(x5 > 0.5, r0_top_land + (r0_surf_land - r0_top_land)*np.exp(1-(x4/x3)**n_land), r0_top_sea + (r0_surf_sea - r0_top_sea)*np.exp(1-(x4/x3)**n_sea))\n",
    "    c = np.where(x2 > r0, 100*(1-np.sqrt((np.minimum(x2, rsat_sea) - rsat_sea)/(r0 - rsat_sea))), 0)\n",
    "    return c"
   ]
  },
  {
   "cell_type": "code",
   "execution_count": 10,
   "metadata": {},
   "outputs": [],
   "source": [
    "import scipy as sci\n",
    "from scipy.optimize import minimize"
   ]
  },
  {
   "cell_type": "code",
   "execution_count": 11,
   "metadata": {},
   "outputs": [
    {
     "name": "stderr",
     "output_type": "stream",
     "text": [
      "/tmp/ipykernel_1317312/3894385113.py:10: RuntimeWarning: invalid value encountered in sqrt\n",
      "  c = np.where(x2 > r0, 100*(1-np.sqrt((np.minimum(x2, rsat_sea) - rsat_sea)/(r0 - rsat_sea))), 0)\n"
     ]
    },
    {
     "name": "stdout",
     "output_type": "stream",
     "text": [
      "Warning: Maximum number of function evaluations has been exceeded.\n"
     ]
    }
   ],
   "source": [
    "def objective(P, X,Y):\n",
    "    '''\n",
    "        The objective function.\n",
    "    '''\n",
    "    rsat_land,r0_top_land,r0_surf_land,n_land,rsat_sea,r0_top_sea,r0_surf_sea,n_sea = P\n",
    "    train_preds = np.minimum(np.maximum(func(X, rsat_land,r0_top_land,r0_surf_land,n_land,rsat_sea,r0_top_sea,r0_surf_sea,n_sea), 0), 100)\n",
    "    train_mse = np.mean((train_preds - Y)**2, dtype=np.float64)\n",
    "    return train_mse\n",
    "\n",
    "(rsat_land,r0_top_land,r0_surf_land,n_land,rsat_sea,r0_top_sea,r0_surf_sea,n_sea) = (0.9, 0.01, 0.55, 2.12, 0.95, 0.01, 0.55, 2.12)\n",
    "\n",
    "res = minimize(objective, (rsat_land,r0_top_land,r0_surf_land,n_land,rsat_sea,r0_top_sea,r0_surf_sea,n_sea), \\\n",
    "               args=(flattened_input_train[subset], flattened_output_train[subset]), \\\n",
    "               method='Nelder-Mead', options={'disp': True})"
   ]
  },
  {
   "cell_type": "code",
   "execution_count": 12,
   "metadata": {},
   "outputs": [
    {
     "name": "stdout",
     "output_type": "stream",
     "text": [
      "[ 6.83110619e+01  1.76982303e-02  2.27618725e-01  5.44378892e+00\n",
      "  9.59335154e-01 -1.53748587e+00  6.35431644e-01  9.81364296e-01]\n"
     ]
    }
   ],
   "source": [
    "print(res.x)"
   ]
  },
  {
   "cell_type": "markdown",
   "metadata": {},
   "source": [
    "Original values"
   ]
  },
  {
   "cell_type": "code",
   "execution_count": 13,
   "metadata": {
    "tags": []
   },
   "outputs": [
    {
     "data": {
      "text/plain": [
       "797.4786736338756"
      ]
     },
     "execution_count": 13,
     "metadata": {},
     "output_type": "execute_result"
    }
   ],
   "source": [
    "objective((rsat_land,r0_top_land,r0_surf_land,n_land,rsat_sea,r0_top_sea,r0_surf_sea,n_sea), flattened_input_train[subset], \\\n",
    "          flattened_output_train[subset])"
   ]
  },
  {
   "cell_type": "code",
   "execution_count": 14,
   "metadata": {
    "tags": []
   },
   "outputs": [
    {
     "data": {
      "text/plain": [
       "795.5823848879724"
      ]
     },
     "execution_count": 14,
     "metadata": {},
     "output_type": "execute_result"
    }
   ],
   "source": [
    "objective((rsat_land,r0_top_land,r0_surf_land,n_land,rsat_sea,r0_top_sea,r0_surf_sea,n_sea), flattened_input_train, \\\n",
    "          flattened_output_train)"
   ]
  },
  {
   "cell_type": "code",
   "execution_count": 15,
   "metadata": {},
   "outputs": [
    {
     "name": "stdout",
     "output_type": "stream",
     "text": [
      "525.9565700596274 0.6955585296681345\n"
     ]
    }
   ],
   "source": [
    "mse_reg_1 = objective((rsat_land,r0_top_land,r0_surf_land,n_land,rsat_sea,r0_top_sea,r0_surf_sea,n_sea), \\\n",
    "                      flattened_input_valid, flattened_output_valid)\n",
    "\n",
    "mse_orig_total = (mse_reg_0*len_reg_0 + mse_reg_1*len_reg_not_0)/len_data_output\n",
    "r2_orig_total = 1 - mse_orig_total/var_data_output\n",
    "\n",
    "print(mse_orig_total, r2_orig_total)"
   ]
  },
  {
   "cell_type": "markdown",
   "metadata": {},
   "source": [
    "New values"
   ]
  },
  {
   "cell_type": "code",
   "execution_count": 16,
   "metadata": {},
   "outputs": [
    {
     "data": {
      "text/plain": [
       "678.8514182068791"
      ]
     },
     "execution_count": 16,
     "metadata": {},
     "output_type": "execute_result"
    }
   ],
   "source": [
    "objective(res.x, flattened_input_train[subset], flattened_output_train[subset])"
   ]
  },
  {
   "cell_type": "code",
   "execution_count": 17,
   "metadata": {},
   "outputs": [],
   "source": [
    "mse_reg_1 = objective(res.x, flattened_input_valid, flattened_output_valid)"
   ]
  },
  {
   "cell_type": "code",
   "execution_count": 18,
   "metadata": {},
   "outputs": [
    {
     "name": "stdout",
     "output_type": "stream",
     "text": [
      "444.8444451787669 0.7425089738039907\n"
     ]
    }
   ],
   "source": [
    "results = {}\n",
    "\n",
    "mse_new_total = (mse_reg_0*len_reg_0 + mse_reg_1*len_reg_not_0)/len_data_output\n",
    "r2_new_total = 1 - mse_new_total/var_data_output\n",
    "\n",
    "print(mse_new_total, r2_new_total)\n",
    "\n",
    "results['MSE'] = mse_new_total\n",
    "results['R2'] = r2_new_total"
   ]
  },
  {
   "cell_type": "markdown",
   "metadata": {},
   "source": [
    "**Save results**"
   ]
  },
  {
   "cell_type": "code",
   "execution_count": 19,
   "metadata": {},
   "outputs": [],
   "source": [
    "# Dump results\n",
    "with open('results_Nelder-Mead_tuned_cl_area.json', 'w') as file:\n",
    "    json.dump(results, file)"
   ]
  },
  {
   "cell_type": "code",
   "execution_count": 20,
   "metadata": {},
   "outputs": [
    {
     "data": {
      "image/png": "[encoded data removed]",
      "text/plain": [
       "<Figure size 432x288 with 1 Axes>"
      ]
     },
     "metadata": {
      "needs_background": "light"
     },
     "output_type": "display_data"
    }
   ],
   "source": [
    "def predict(P,X):\n",
    "    '''\n",
    "        The objective function.\n",
    "    '''\n",
    "    rsat_land,r0_top_land,r0_surf_land,n_land,rsat_sea,r0_top_sea,r0_surf_sea,n_sea = P\n",
    "    preds = np.minimum(np.maximum(func(X, rsat_land,r0_top_land,r0_surf_land,n_land,rsat_sea,r0_top_sea,r0_surf_sea,n_sea), 0), 100)\n",
    "    return preds\n",
    "\n",
    "plt.hist(flattened_output_valid, bins=100, histtype='step', color='k')\n",
    "plt.hist(predict(res.x, flattened_input_valid),bins=100, histtype='step')\n",
    "\n",
    "plt.yscale('log')\n",
    "plt.legend(['DYAMOND', 'Sundqvist'])\n",
    "plt.savefig('results_Nelder-Mead_tuned_cl_area.pdf')"
   ]
  },
  {
   "cell_type": "code",
   "execution_count": null,
   "metadata": {},
   "outputs": [],
   "source": []
  }
 ],
 "metadata": {
  "kernelspec": {
   "display_name": "Python 3 (based on the module python3/2022.01)",
   "language": "python",
   "name": "python3_2022_01"
  },
  "language_info": {
   "codemirror_mode": {
    "name": "ipython",
    "version": 3
   },
   "file_extension": ".py",
   "mimetype": "text/x-python",
   "name": "python",
   "nbconvert_exporter": "python",
   "pygments_lexer": "ipython3",
   "version": "3.9.9"
  }
 },
 "nbformat": 4,
 "nbformat_minor": 4
}
