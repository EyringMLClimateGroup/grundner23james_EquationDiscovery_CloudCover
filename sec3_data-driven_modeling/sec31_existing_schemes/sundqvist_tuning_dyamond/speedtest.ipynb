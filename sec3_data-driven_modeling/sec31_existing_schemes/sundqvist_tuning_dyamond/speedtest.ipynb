{
 "cells": [
  {
   "cell_type": "code",
   "execution_count": 1,
   "id": "ed92df54-aca9-42c9-9857-4fd30f9c6261",
   "metadata": {},
   "outputs": [],
   "source": [
    "import time\n",
    "import numpy as np"
   ]
  },
  {
   "cell_type": "code",
   "execution_count": 2,
   "id": "27c8fe3e-820c-4538-ad96-c2f7036b160b",
   "metadata": {},
   "outputs": [],
   "source": [
    "A = np.random.randn(10**6, 10)"
   ]
  },
  {
   "cell_type": "code",
   "execution_count": 10,
   "id": "2ec08bda-9495-42d4-85db-d15951f27089",
   "metadata": {},
   "outputs": [
    {
     "data": {
      "text/plain": [
       "1.706902027130127"
      ]
     },
     "execution_count": 10,
     "metadata": {},
     "output_type": "execute_result"
    }
   ],
   "source": [
    "# Interactive node (max 12 hours)\n",
    "t0 = time.time()\n",
    "for i in range(A.shape[0]):\n",
    "    A[i]@A[i]\n",
    "\n",
    "time.time() - t0"
   ]
  },
  {
   "cell_type": "code",
   "execution_count": 5,
   "id": "19434da1-f52f-41ac-bae7-3dcb783a340a",
   "metadata": {},
   "outputs": [
    {
     "data": {
      "text/plain": [
       "1.6595237255096436"
      ]
     },
     "execution_count": 5,
     "metadata": {},
     "output_type": "execute_result"
    }
   ],
   "source": [
    "# Compute node (max 8 hours)\n",
    "t0 = time.time()\n",
    "for i in range(A.shape[0]):\n",
    "    A[i]@A[i]\n",
    "\n",
    "time.time() - t0"
   ]
  },
  {
   "cell_type": "markdown",
   "id": "594fe8d8-e0ec-470d-bb7a-2936187f8505",
   "metadata": {},
   "source": [
    "--> Use the interactive node with 12 hours to get a job done."
   ]
  },
  {
   "cell_type": "code",
   "execution_count": null,
   "id": "a144f99b-1044-4149-a149-84f760db0c50",
   "metadata": {},
   "outputs": [],
   "source": []
  }
 ],
 "metadata": {
  "kernelspec": {
   "display_name": "clouds",
   "language": "python",
   "name": "clouds"
  },
  "language_info": {
   "codemirror_mode": {
    "name": "ipython",
    "version": 3
   },
   "file_extension": ".py",
   "mimetype": "text/x-python",
   "name": "python",
   "nbconvert_exporter": "python",
   "pygments_lexer": "ipython3",
   "version": "3.7.10"
  }
 },
 "nbformat": 4,
 "nbformat_minor": 5
}
