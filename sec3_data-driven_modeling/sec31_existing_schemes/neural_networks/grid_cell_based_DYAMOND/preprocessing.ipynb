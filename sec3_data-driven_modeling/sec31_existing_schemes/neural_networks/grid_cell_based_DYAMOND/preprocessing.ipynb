{
 "cells": [
  {
   "cell_type": "markdown",
   "metadata": {
    "tags": []
   },
   "source": [
    "## Preprocessing Dyamond\n",
    "\n",
    "1) We read the data\n",
    "2) Reshape variables so that they have equal dimensionality\n",
    "3) Reshape into data samples fit for the NN and convert into a DataFrame\n",
    "4) Downsample the data: Remove data above 21kms, remove condensate-free clouds, combat class-imbalance\n",
    "5) Split into input and output\n",
    "6) Save as npy\n",
    "\n",
    "Note: We neither scale nor split the data into training/validation/test sets. <br>\n",
    "The reason is that i) in order to scale we need the entire dataset but this can only be done in conjunction with the dyamond dataset. Also for cross-validation different scalings will be necessary based on different subsets of the data, ii) The split into subsets will be done by the cross-validation procedure or not at all when training the final model."
   ]
  },
  {
   "cell_type": "code",
   "execution_count": 2,
   "metadata": {
    "scrolled": true
   },
   "outputs": [],
   "source": [
    "# Ran with 900GB\n",
    "import sys\n",
    "import xarray as xr\n",
    "import numpy as np\n",
    "import matplotlib.pyplot as plt\n",
    "import pandas as pd\n",
    "import time\n",
    "# import importlib\n",
    "# importlib.reload(my_classes)\n",
    "\n",
    "base_path = '/home/b/b309170'\n",
    "output_path = base_path + '/my_work/icon-ml_data/cloud_cover_parameterization/grid_cell_based_DYAMOND'\n",
    "\n",
    "# Add path with my_classes to sys.path\n",
    "sys.path.insert(0, base_path + '/workspace_icon-ml/cloud_cover_parameterization/')\n",
    "\n",
    "from my_classes import load_data\n",
    "\n",
    "VERT_LAYERS = 31\n",
    "\n",
    "## Parameters for the notebook\n",
    "# ['all', 'discard_spinup']\n",
    "days = 'discard_spinup'\n",
    "\n",
    "#Set a numpy seed for the permutation later on!\n",
    "np.random.seed(10)"
   ]
  },
  {
   "cell_type": "markdown",
   "metadata": {},
   "source": [
    "## 1) Reading the data\n",
    "### Input:\n",
    "- fr_land: Fraction of land\n",
    "- coriolis: Coriolis parameter\n",
    "- zg: Geometric height at full levels (3D)\n",
    "- qv: Specific water vapor content (3D)\n",
    "- qc: Specific cloud water content (3D)\n",
    "- qi: Specific cloud ice content (3D)\n",
    "- temp: Temperature (3D)\n",
    "- pres: Pressure (3D)\n",
    "- u: Zonal wind (3D)\n",
    "- v: Meridional wind (3D)\n",
    "\n",
    "$10$ input nodes\n",
    "\n",
    "### Output:\n",
    "- clc: Cloud Cover\n",
    "\n",
    "$1$ output nodes\n",
    "\n",
    "The data above 21km is capped."
   ]
  },
  {
   "cell_type": "code",
   "execution_count": 3,
   "metadata": {},
   "outputs": [],
   "source": [
    "order_of_vars_dyamond = ['hus', 'clw', 'cli', 'ta', 'pa', 'ua', 'va', 'zg', 'coriolis', 'fr_land', 'clc', 'cl_area']"
   ]
  },
  {
   "cell_type": "code",
   "execution_count": 4,
   "metadata": {},
   "outputs": [
    {
     "name": "stdout",
     "output_type": "stream",
     "text": [
      "hus\n",
      "clw\n",
      "cli\n",
      "ta\n",
      "pa\n",
      "ua\n",
      "va\n",
      "clc\n",
      "cl_area\n"
     ]
    }
   ],
   "source": [
    "# Load dyamond data\n",
    "data_dict = load_data(source='split_by_var_name', days=days, resolution='R02B05', order_of_vars=order_of_vars_dyamond, \n",
    "                      path='~/bd1179_work/DYAMOND/hvcg_data')"
   ]
  },
  {
   "cell_type": "code",
   "execution_count": 5,
   "metadata": {},
   "outputs": [
    {
     "name": "stdout",
     "output_type": "stream",
     "text": [
      "hus (467, 31, 79342)\n",
      "clw (467, 31, 79342)\n",
      "cli (467, 31, 79342)\n",
      "ta (467, 31, 79342)\n",
      "pa (467, 31, 79342)\n",
      "ua (467, 31, 79342)\n",
      "va (467, 31, 79342)\n",
      "zg (31, 79342)\n",
      "coriolis (79342,)\n",
      "fr_land (79342,)\n",
      "clc (467, 31, 79342)\n",
      "cl_area (467, 31, 79342)\n"
     ]
    }
   ],
   "source": [
    "for key in data_dict.keys():\n",
    "    print(key, data_dict[key].shape)"
   ]
  },
  {
   "cell_type": "code",
   "execution_count": 6,
   "metadata": {},
   "outputs": [],
   "source": [
    "(TIME_STEPS, VERT_LAYERS, HORIZ_FIELDS) = data_dict['clc'].shape"
   ]
  },
  {
   "cell_type": "code",
   "execution_count": 7,
   "metadata": {},
   "outputs": [],
   "source": [
    "try:\n",
    "    #Reshaping into nd-arrays of equaling shapes (don't reshape in the vertical)\n",
    "    data_dict['zg'] = np.repeat(np.expand_dims(data_dict['zg'], 0), TIME_STEPS, axis=0)\n",
    "    data_dict['coriolis'] = np.repeat(np.expand_dims(data_dict['coriolis'], 0), TIME_STEPS, axis=0)\n",
    "    data_dict['coriolis'] = np.repeat(np.expand_dims(data_dict['coriolis'], 1), VERT_LAYERS, axis=1)\n",
    "    data_dict['fr_land'] = np.repeat(np.expand_dims(data_dict['fr_land'], 0), TIME_STEPS, axis=0)\n",
    "    data_dict['fr_land'] = np.repeat(np.expand_dims(data_dict['fr_land'], 1), VERT_LAYERS, axis=1)\n",
    "except:\n",
    "    pass"
   ]
  },
  {
   "cell_type": "code",
   "execution_count": 8,
   "metadata": {},
   "outputs": [
    {
     "data": {
      "text/plain": [
       "[]"
      ]
     },
     "execution_count": 8,
     "metadata": {},
     "output_type": "execute_result"
    }
   ],
   "source": [
    "# Remove the first timesteps of the dyamond simulations since the clc values are 0 across the entire earth there \n",
    "remove_steps = []\n",
    "for i in range(data_dict['clc'].shape[0]):\n",
    "    if np.all(data_dict['clc'][i,4:,:] == 0):\n",
    "        remove_steps.append(i)\n",
    "        TIME_STEPS = TIME_STEPS - 1\n",
    "\n",
    "# Convert the data to float32!\n",
    "for key in data_dict.keys():\n",
    "    data_dict[key] = np.float32(np.delete(data_dict[key], remove_steps, axis=0))\n",
    "    \n",
    "remove_steps"
   ]
  },
  {
   "cell_type": "code",
   "execution_count": 9,
   "metadata": {},
   "outputs": [
    {
     "name": "stdout",
     "output_type": "stream",
     "text": [
      "100.000015\n",
      "100.0\n"
     ]
    }
   ],
   "source": [
    "# Our Neural Network has trained with clc in [0, 100]!\n",
    "data_dict['clc'] = 100*data_dict['clc']\n",
    "data_dict['cl_area'] = 100*data_dict['cl_area']\n",
    "print(np.max(data_dict['clc'][:, 4:, :]))\n",
    "print(np.max(data_dict['cl_area'][:, 4:, :]))"
   ]
  },
  {
   "cell_type": "code",
   "execution_count": 10,
   "metadata": {},
   "outputs": [
    {
     "data": {
      "text/plain": [
       "(467, 31, 79342)"
      ]
     },
     "execution_count": 10,
     "metadata": {},
     "output_type": "execute_result"
    }
   ],
   "source": [
    "# Carry along information about the vertical layer of a grid cell. int16 is sufficient for < 1000.\n",
    "vert_layers = np.int16(np.repeat(np.expand_dims(np.arange(1, VERT_LAYERS+1), 0), TIME_STEPS, axis=0))\n",
    "vert_layers = np.repeat(np.expand_dims(vert_layers, 2), HORIZ_FIELDS, axis=2)\n",
    "vert_layers.shape"
   ]
  },
  {
   "cell_type": "code",
   "execution_count": 11,
   "metadata": {},
   "outputs": [],
   "source": [
    "# Reshaping into 1D-arrays and converting dict into a DataFrame-object (the following is based on Aurelien Geron)\n",
    "# Remove data above 21kms\n",
    "for key in order_of_vars_dyamond:\n",
    "    data_dict[key] = np.reshape(data_dict[key][:, 4:, :], -1)\n",
    "\n",
    "vert_layers = np.reshape(vert_layers[:, 4:, :], -1)"
   ]
  },
  {
   "cell_type": "code",
   "execution_count": 12,
   "metadata": {},
   "outputs": [
    {
     "name": "stdout",
     "output_type": "stream",
     "text": [
      "hus (1000423278,)\n",
      "clw (1000423278,)\n",
      "cli (1000423278,)\n",
      "ta (1000423278,)\n",
      "pa (1000423278,)\n",
      "ua (1000423278,)\n",
      "va (1000423278,)\n",
      "zg (1000423278,)\n",
      "coriolis (1000423278,)\n",
      "fr_land (1000423278,)\n",
      "clc (1000423278,)\n",
      "cl_area (1000423278,)\n"
     ]
    }
   ],
   "source": [
    "for key in data_dict.keys():\n",
    "    print(key, data_dict[key].shape)"
   ]
  },
  {
   "cell_type": "code",
   "execution_count": 13,
   "metadata": {},
   "outputs": [
    {
     "data": {
      "text/plain": [
       "1000423278"
      ]
     },
     "execution_count": 13,
     "metadata": {},
     "output_type": "execute_result"
    }
   ],
   "source": [
    "df = pd.DataFrame.from_dict(data_dict)\n",
    "\n",
    "# Number of samples/rows\n",
    "len(df)"
   ]
  },
  {
   "cell_type": "code",
   "execution_count": 14,
   "metadata": {},
   "outputs": [
    {
     "data": {
      "text/plain": [
       "1600"
      ]
     },
     "execution_count": 14,
     "metadata": {},
     "output_type": "execute_result"
    }
   ],
   "source": [
    "import gc\n",
    "del data_dict\n",
    "gc.collect()"
   ]
  },
  {
   "cell_type": "markdown",
   "metadata": {},
   "source": [
    "**Downsampling the data (minority class: clc = 0)**"
   ]
  },
  {
   "cell_type": "code",
   "execution_count": 15,
   "metadata": {},
   "outputs": [],
   "source": [
    "# There are no nans left\n",
    "assert np.all(np.isnan(df) == False) == True"
   ]
  },
  {
   "cell_type": "code",
   "execution_count": 16,
   "metadata": {},
   "outputs": [],
   "source": [
    "if days == 'all':\n",
    "    # We ensure that clc != 0 is as large as clc = 0 (which then has 294 Mio samples) and keep the original order intact\n",
    "    df_noclc = df.loc[df['clc']==0]\n",
    "    print(len(df_noclc))\n",
    "\n",
    "    # len(downsample_indices) will be the number of noclc samples that remain\n",
    "    downsample_ratio = (len(df) - len(df_noclc))/len(df_noclc)\n",
    "    shuffled_indices = np.random.permutation(df_noclc.index)\n",
    "    size_noclc = int(len(df_noclc)*downsample_ratio)\n",
    "\n",
    "    del df_noclc\n",
    "    gc.collect()\n",
    "\n",
    "    downsample_indices = shuffled_indices[:size_noclc] \n",
    "\n",
    "    # Concatenate df.loc[df[output_var]!=0].index and downsample_indices\n",
    "    final_indices = np.concatenate((downsample_indices, df.loc[df['clc']!=0].index))\n",
    "\n",
    "    del shuffled_indices, downsample_indices\n",
    "    gc.collect()\n",
    "\n",
    "    # Sort final_indices so that we can more or less recover the timesteps\n",
    "    final_indices = np.sort(final_indices)\n",
    "elif days == 'discard_spinup':\n",
    "    final_indices = np.load('~/my_work/icon-ml_data/cloud_cover_parameterization/neighborhood_based_SR_DYAMOND/indices_to_keep_after_downsampling.npy')\n",
    "\n",
    "# Label-based (loc) not positional-based\n",
    "df = df.loc[final_indices]"
   ]
  },
  {
   "cell_type": "code",
   "execution_count": 17,
   "metadata": {},
   "outputs": [
    {
     "data": {
      "text/plain": [
       "285179494"
      ]
     },
     "execution_count": 17,
     "metadata": {},
     "output_type": "execute_result"
    }
   ],
   "source": [
    "# Number of samples after downsampling\n",
    "len(df)"
   ]
  },
  {
   "cell_type": "code",
   "execution_count": 18,
   "metadata": {},
   "outputs": [],
   "source": [
    "#Modifies df as well\n",
    "def split_input_output(dataset):\n",
    "    output_clc = dataset['clc']\n",
    "    output_cl_area = dataset['cl_area']\n",
    "    del dataset['clc']\n",
    "    del dataset['cl_area']\n",
    "    return output_clc, output_cl_area"
   ]
  },
  {
   "cell_type": "code",
   "execution_count": 19,
   "metadata": {},
   "outputs": [],
   "source": [
    "output_clc, output_cl_area = split_input_output(df)"
   ]
  },
  {
   "cell_type": "code",
   "execution_count": 20,
   "metadata": {},
   "outputs": [],
   "source": [
    "# Save the data\n",
    "if days == 'all':\n",
    "    np.save(output_path + '/cloud_cover_input_dyamond.npy', df)\n",
    "    np.save(output_path + '/cloud_cover_output_dyamond.npy', output_clc)\n",
    "    np.save(output_path + '/cloud_area_output_dyamond.npy', output_cl_area)\n",
    "    np.save(output_path + '/samples_vertical_layers_dyamond.npy', vert_layers[df.index])\n",
    "elif days == 'discard_spinup':\n",
    "    np.save(output_path + '/cloud_cover_input_dyamond_no_spinup.npy', df)\n",
    "    np.save(output_path + '/cloud_cover_output_dyamond_no_spinup.npy', output_clc)\n",
    "    np.save(output_path + '/cloud_area_output_dyamond_no_spinup.npy', output_cl_area)\n",
    "    np.save(output_path + '/samples_vertical_layers_dyamond_no_spinup.npy', vert_layers[df.index])"
   ]
  },
  {
   "cell_type": "markdown",
   "metadata": {},
   "source": [
    "Some tests of the cloud area output"
   ]
  },
  {
   "cell_type": "markdown",
   "metadata": {},
   "source": [
    "Test whether qi from the saved data coincides with the qi here"
   ]
  },
  {
   "cell_type": "code",
   "execution_count": 25,
   "metadata": {},
   "outputs": [
    {
     "data": {
      "text/plain": [
       "44.76352"
      ]
     },
     "execution_count": 25,
     "metadata": {},
     "output_type": "execute_result"
    }
   ],
   "source": [
    "np.mean(np.array(output_cl_area))"
   ]
  },
  {
   "cell_type": "code",
   "execution_count": 26,
   "metadata": {},
   "outputs": [
    {
     "data": {
      "text/plain": [
       "33.936203"
      ]
     },
     "execution_count": 26,
     "metadata": {},
     "output_type": "execute_result"
    }
   ],
   "source": [
    "np.mean(np.array(output_clc))"
   ]
  },
  {
   "cell_type": "code",
   "execution_count": null,
   "metadata": {},
   "outputs": [],
   "source": [
    "np.mean(diff)"
   ]
  },
  {
   "cell_type": "markdown",
   "metadata": {},
   "source": [
    "**The means of cloud volume and cloud area fraction look good**"
   ]
  },
  {
   "cell_type": "code",
   "execution_count": 17,
   "metadata": {
    "tags": []
   },
   "outputs": [
    {
     "data": {
      "image/png": "[encoded data removed]",
      "text/plain": [
       "<Figure size 432x288 with 1 Axes>"
      ]
     },
     "metadata": {
      "needs_background": "light"
     },
     "output_type": "display_data"
    }
   ],
   "source": [
    "a = np.arange(4, 31)\n",
    "plt.plot(np.mean(data_dict['cl_area'][:, 4:], axis=(0, 2)), a)\n",
    "plt.plot(np.mean(data_dict['clc'][:, 4:], axis=(0, 2)), a)\n",
    "plt.legend(['Mean cl_area', 'Mean cl_volume'])\n",
    "plt.gca().invert_yaxis()"
   ]
  },
  {
   "cell_type": "code",
   "execution_count": 28,
   "metadata": {},
   "outputs": [
    {
     "data": {
      "text/plain": [
       "0.01457981387223618"
      ]
     },
     "execution_count": 28,
     "metadata": {},
     "output_type": "execute_result"
    }
   ],
   "source": [
    "len(np.where(diff < 0)[0])/len(np.where(diff != 0)[0]) # 1.5% of cloudy data"
   ]
  },
  {
   "cell_type": "code",
   "execution_count": 29,
   "metadata": {},
   "outputs": [
    {
     "data": {
      "text/plain": [
       "0.00902974091038851"
      ]
     },
     "execution_count": 29,
     "metadata": {},
     "output_type": "execute_result"
    }
   ],
   "source": [
    "len(np.where(diff < 0)[0])/len(diff) # 0.9% of the data"
   ]
  },
  {
   "cell_type": "code",
   "execution_count": 30,
   "metadata": {},
   "outputs": [],
   "source": [
    "diff = np.array(output_cl_area) - np.array(output_clc)"
   ]
  },
  {
   "cell_type": "code",
   "execution_count": 31,
   "metadata": {},
   "outputs": [
    {
     "data": {
      "image/png": "[encoded data removed]",
      "text/plain": [
       "<Figure size 432x288 with 1 Axes>"
      ]
     },
     "metadata": {
      "needs_background": "light"
     },
     "output_type": "display_data"
    }
   ],
   "source": [
    "plt.hist(diff, bins = 100)\n",
    "plt.show()"
   ]
  },
  {
   "cell_type": "code",
   "execution_count": 32,
   "metadata": {},
   "outputs": [
    {
     "data": {
      "image/png": "[encoded data removed]",
      "text/plain": [
       "<Figure size 432x288 with 1 Axes>"
      ]
     },
     "metadata": {
      "needs_background": "light"
     },
     "output_type": "display_data"
    }
   ],
   "source": [
    "plt.hist(diff, bins = 100, log=True)\n",
    "plt.show()"
   ]
  },
  {
   "cell_type": "code",
   "execution_count": 33,
   "metadata": {},
   "outputs": [
    {
     "data": {
      "text/plain": [
       "3421827"
      ]
     },
     "execution_count": 33,
     "metadata": {},
     "output_type": "execute_result"
    }
   ],
   "source": [
    "# These should be anomalies existing due to differences in coarse-graining\n",
    "len(np.where(diff < 0)[0])"
   ]
  },
  {
   "cell_type": "code",
   "execution_count": 34,
   "metadata": {},
   "outputs": [
    {
     "data": {
      "text/plain": [
       "231274379"
      ]
     },
     "execution_count": 34,
     "metadata": {},
     "output_type": "execute_result"
    }
   ],
   "source": [
    "len(np.where(diff > 0)[0])"
   ]
  },
  {
   "cell_type": "code",
   "execution_count": 35,
   "metadata": {},
   "outputs": [
    {
     "data": {
      "text/plain": [
       "375528913"
      ]
     },
     "execution_count": 35,
     "metadata": {},
     "output_type": "execute_result"
    }
   ],
   "source": [
    "len(np.where(diff >= 0)[0])"
   ]
  }
 ],
 "metadata": {
  "kernelspec": {
   "display_name": "Python 3 (based on the module python3/2022.01)",
   "language": "python",
   "name": "python3_2022_01"
  },
  "language_info": {
   "codemirror_mode": {
    "name": "ipython",
    "version": 3
   },
   "file_extension": ".py",
   "mimetype": "text/x-python",
   "name": "python",
   "nbconvert_exporter": "python",
   "pygments_lexer": "ipython3",
   "version": "3.9.9"
  }
 },
 "nbformat": 4,
 "nbformat_minor": 4
}
