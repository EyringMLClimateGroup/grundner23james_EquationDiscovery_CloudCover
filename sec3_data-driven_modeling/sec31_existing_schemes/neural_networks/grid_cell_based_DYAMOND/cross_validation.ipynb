{
 "cells": [
  {
   "cell_type": "markdown",
   "metadata": {},
   "source": [
    "## Cross-Validation\n",
    "\n",
    "1. We read the data from the npy files\n",
    "2. We combine the QUBICC and NARVAL data\n",
    "4. Set up cross validation\n",
    "\n",
    "During cross-validation:\n",
    "\n",
    "1. We scale the data, convert to tf data\n",
    "2. Plot training progress, model biases \n",
    "3. Write losses and epochs into file"
   ]
  },
  {
   "cell_type": "code",
   "execution_count": 15,
   "metadata": {},
   "outputs": [
    {
     "name": "stdout",
     "output_type": "stream",
     "text": [
      "2.4.1\n"
     ]
    }
   ],
   "source": [
    "# Ran with 800GB (750GB should also be fine)\n",
    "\n",
    "import sys\n",
    "import numpy as np\n",
    "import time\n",
    "import pandas as pd\n",
    "import matplotlib.pyplot as plt\n",
    "import os\n",
    "import copy\n",
    "import gc\n",
    "\n",
    "#Import sklearn before tensorflow (static Thread-local storage)\n",
    "from sklearn.preprocessing import StandardScaler\n",
    "\n",
    "import tensorflow as tf\n",
    "from tensorflow.keras.models import load_model\n",
    "from tensorflow.keras.models import Sequential\n",
    "from tensorflow.keras.layers import Dense, Dropout, BatchNormalization\n",
    "from tensorflow.keras.regularizers import l1_l2\n",
    "\n",
    "from tensorflow.keras import backend as K\n",
    "from tensorflow.keras.layers import Activation\n",
    "\n",
    "# For Leaky_ReLU:\n",
    "from tensorflow import nn \n",
    "\n",
    "import matplotlib\n",
    "matplotlib.use('PDF')\n",
    "\n",
    "t0 = time.time()\n",
    "path = '/home/b/b309170'\n",
    "\n",
    "# Add path with my_classes to sys.path\n",
    "sys.path.insert(0, path + '/workspace_icon-ml/cloud_cover_parameterization/')\n",
    "\n",
    "# Reloading custom file to incorporate changes dynamically\n",
    "import importlib\n",
    "import my_classes\n",
    "importlib.reload(my_classes)\n",
    "\n",
    "from my_classes import write_infofile\n",
    "from my_classes import read_mean_and_std\n",
    "from my_classes import TimeOut\n",
    "\n",
    "# Cross-validation fold (in 0,1,2)\n",
    "fold = int(sys.argv[1])\n",
    "\n",
    "# 'all', 'no_spinup'\n",
    "days = 'no_spinup'\n",
    "\n",
    "# Minutes per fold\n",
    "timeout = 450 \n",
    "\n",
    "# Maximum amount of epochs for each model\n",
    "epochs = 25 \n",
    "\n",
    "# Set seed for reproducibility\n",
    "seed = 10\n",
    "tf.random.set_seed(seed)\n",
    "\n",
    "# gpus = tf.config.experimental.list_physical_devices('GPU')\n",
    "# tf.config.experimental.set_visible_devices(gpus[3], 'GPU')\n",
    "\n",
    "print(tf.__version__)"
   ]
  },
  {
   "cell_type": "code",
   "execution_count": 2,
   "metadata": {},
   "outputs": [],
   "source": [
    "# Cloud Cover or Cloud Area?\n",
    "output_var = sys.argv[2] # Set output_var to one of {'cl_volume', 'cl_area'}\n",
    "\n",
    "path_base = os.path.join(path, 'workspace_icon-ml/cloud_cover_parameterization/grid_cell_based_DYAMOND')\n",
    "path_data = os.path.join(path, 'my_work/icon-ml_data/cloud_cover_parameterization/grid_cell_based_DYAMOND')\n",
    "    \n",
    "path_model = os.path.join(path_base, 'saved_models')\n",
    "path_figures = os.path.join(path_base, 'figures')"
   ]
  },
  {
   "cell_type": "code",
   "execution_count": 5,
   "metadata": {},
   "outputs": [],
   "source": [
    "# Won't run on a CPU node\n",
    "try:\n",
    "    # Prevents crashes of the code\n",
    "    physical_devices = tf.config.list_physical_devices('GPU')\n",
    "    tf.config.set_visible_devices(physical_devices[0], 'GPU')\n",
    "    # Allow the growth of memory Tensorflow allocates (limits memory usage overall)\n",
    "    for gpu in gpus:\n",
    "        tf.config.experimental.set_memory_growth(gpu, True)\n",
    "except:\n",
    "    pass"
   ]
  },
  {
   "cell_type": "code",
   "execution_count": 6,
   "metadata": {},
   "outputs": [],
   "source": [
    "scaler = StandardScaler()"
   ]
  },
  {
   "cell_type": "markdown",
   "metadata": {},
   "source": [
    "### Load the data"
   ]
  },
  {
   "cell_type": "code",
   "execution_count": 8,
   "metadata": {},
   "outputs": [],
   "source": [
    "if days == 'all':\n",
    "    input_data = np.load(path_data + '/cloud_cover_input_dyamond.npy')\n",
    "\n",
    "    if output_var == 'cl_volume':\n",
    "        output_data = np.load(path_data + '/cloud_cover_output_dyamond.npy')\n",
    "    elif output_var == 'cl_area':\n",
    "        output_data = np.load(path_data + '/cloud_area_output_dyamond.npy')\n",
    "elif days == 'no_spinup':\n",
    "    input_data = np.load(path_data + '/cloud_cover_input_dyamond_no_spinup.npy')\n",
    "\n",
    "    if output_var == 'cl_volume':\n",
    "        output_data = np.load(path_data + '/cloud_cover_output_dyamond_no_spinup.npy')\n",
    "    elif output_var == 'cl_area':\n",
    "        output_data = np.load(path_data + '/cloud_area_output_dyamond_no_spinup.npy')"
   ]
  },
  {
   "cell_type": "code",
   "execution_count": 9,
   "metadata": {},
   "outputs": [
    {
     "data": {
      "text/plain": [
       "(378950740, 10)"
      ]
     },
     "execution_count": 9,
     "metadata": {},
     "output_type": "execute_result"
    }
   ],
   "source": [
    "(samples_total, no_of_features) = input_data.shape\n",
    "(samples_total, no_of_features)"
   ]
  },
  {
   "cell_type": "markdown",
   "metadata": {},
   "source": [
    "*Temporal cross-validation*\n",
    "\n",
    "Split into 2-weeks increments (when working with 3 months of data). It's 25 day increments with 5 months of data. <br>\n",
    "1.: Validate on increments 1 and 4 <br>\n",
    "2.: Validate on increments 2 and 5 <br>\n",
    "3.: Validate on increments 3 and 6\n",
    "\n",
    "--> 2/3 training data, 1/3 validation data"
   ]
  },
  {
   "cell_type": "code",
   "execution_count": 10,
   "metadata": {},
   "outputs": [],
   "source": [
    "training_folds = []\n",
    "validation_folds = []\n",
    "two_week_incr = samples_total//6\n",
    "\n",
    "for i in range(3):\n",
    "    # Note that this is a temporal split since time was the first dimension in the original tensor\n",
    "    first_incr = np.arange(samples_total//6*i, samples_total//6*(i+1))\n",
    "    second_incr = np.arange(samples_total//6*(i+3), samples_total//6*(i+4))\n",
    "\n",
    "    validation_folds.append(np.append(first_incr, second_incr))\n",
    "    training_folds.append(np.arange(samples_total))\n",
    "    training_folds[i] = np.delete(training_folds[i], validation_folds[i])"
   ]
  },
  {
   "cell_type": "markdown",
   "metadata": {},
   "source": [
    "### Define the model"
   ]
  },
  {
   "cell_type": "markdown",
   "metadata": {},
   "source": [
    "Activation function for the last layer"
   ]
  },
  {
   "cell_type": "code",
   "execution_count": null,
   "metadata": {},
   "outputs": [],
   "source": [
    "# Create the model\n",
    "model = Sequential()\n",
    "\n",
    "# First hidden layer\n",
    "model.add(Dense(units=64, activation='tanh', input_dim=no_of_features, \n",
    "                kernel_regularizer=l1_l2(l1=0.004749, l2=0.008732)))\n",
    "\n",
    "# Second hidden layer\n",
    "model.add(Dense(units=64, activation=nn.leaky_relu, kernel_regularizer=l1_l2(l1=0.004749, l2=0.008732)))\n",
    "# model.add(Dropout(0.221)) # We drop 18% of the hidden nodes\n",
    "model.add(BatchNormalization())\n",
    "\n",
    "# Third hidden layer\n",
    "model.add(Dense(units=64, activation='tanh', kernel_regularizer=l1_l2(l1=0.004749, l2=0.008732)))\n",
    "# model.add(Dropout(0.221)) # We drop 18% of the hidden nodes\n",
    "\n",
    "# Output layer\n",
    "model.add(Dense(1, activation='linear', kernel_regularizer=l1_l2(l1=0.004749, l2=0.008732)))"
   ]
  },
  {
   "cell_type": "markdown",
   "metadata": {},
   "source": [
    "Preliminary baselines"
   ]
  },
  {
   "cell_type": "code",
   "execution_count": 12,
   "metadata": {},
   "outputs": [
    {
     "data": {
      "text/plain": [
       "3729.57"
      ]
     },
     "execution_count": 12,
     "metadata": {},
     "output_type": "execute_result"
    }
   ],
   "source": [
    "# This would be the loss of a NN which outputs zeros everywhere\n",
    "np.mean(np.array(output_data)**2)"
   ]
  },
  {
   "cell_type": "code",
   "execution_count": 13,
   "metadata": {},
   "outputs": [
    {
     "data": {
      "text/plain": [
       "1726.0066"
      ]
     },
     "execution_count": 13,
     "metadata": {},
     "output_type": "execute_result"
    }
   ],
   "source": [
    "# This would be the loss of a NN which outputs the best constant value everywhere\n",
    "constant_mean = np.mean(np.array(output_data))\n",
    "np.mean((np.array(output_data) - constant_mean)**2)"
   ]
  },
  {
   "cell_type": "markdown",
   "metadata": {
    "jupyter": {
     "outputs_hidden": true
    }
   },
   "source": [
    "### 3-fold cross-validation\n",
    "\n",
    "When the training is lost in a local minimum, often a re-run helps with a different initialization of the model weights.\n",
    "Or possibly a different shuffling seed."
   ]
  },
  {
   "cell_type": "code",
   "execution_count": null,
   "metadata": {},
   "outputs": [],
   "source": [
    "# By decreasing timeout we make sure every fold gets the same amount of time\n",
    "# After all, data-loading took some time (Have 3 folds, 60 seconds/minute)\n",
    "# timeout = timeout - 1/3*1/60*(time.time() - t0)\n",
    "timeout = timeout - 1/60*(time.time() - t0)\n",
    "t0 = time.time()\n",
    "    \n",
    "if days == 'all':\n",
    "    filename = 'cross_validation_cell_based_%s_fold_%d'%(output_var, fold+1)\n",
    "elif days == 'no_spinup':\n",
    "    filename = 'cross_validation_cell_based_%s_fold_%d_no_spinup'%(output_var, fold+1)\n",
    "    \n",
    "#Standardize according to the fold\n",
    "scaler.fit(input_data[training_folds[fold]])\n",
    "\n",
    "# Write the accompanying info-file [only once]\n",
    "if not os.path.exists(os.path.join(path_model, filename + '.txt')):\n",
    "    # We save the scaling parameters in a file [only once]\n",
    "    if output_var == 'cl_volume':\n",
    "        seed_i = int(str(0) + str(fold))\n",
    "    elif output_var == 'cl_area':\n",
    "        seed_i = int(str(1) + str(fold))\n",
    "    with open(path_model+'/scaler_%d.txt'%seed_i, 'a') as file:\n",
    "        file.write('Standard Scaler mean values:\\n')\n",
    "        file.write(str(scaler.mean_))\n",
    "        file.write('\\nStandard Scaler standard deviation:\\n')\n",
    "        file.write(str(np.sqrt(scaler.var_)))\n",
    "\n",
    "    # Taken from preprocessing\n",
    "    in_and_out_variables = np.array(['hus', 'clw', 'cli', 'ta', 'pa', 'ua', 'va', 'zg', 'coriolis', 'fr_land', output_var])\n",
    "    input_variables = np.array(['hus', 'clw', 'cli', 'ta', 'pa', 'ua', 'va', 'zg', 'coriolis', 'fr_land'])\n",
    "    with open(os.path.join(path_model, filename + '.txt'), 'a') as file:\n",
    "        write_infofile(file, str(in_and_out_variables), str(input_variables), path_model, path_data, seed_i)\n",
    "\n",
    "#Load the data for the respective fold and convert it to tf data\n",
    "input_train = scaler.transform(input_data[training_folds[fold]])\n",
    "input_valid = scaler.transform(input_data[validation_folds[fold]]) \n",
    "output_train = output_data[training_folds[fold]]\n",
    "output_valid = output_data[validation_folds[fold]]\n",
    "\n",
    "# Clear memory (Reduces memory requirement to 151 GB)\n",
    "del input_data, output_data, first_incr, second_incr, validation_folds, training_folds\n",
    "gc.collect()\n",
    "\n",
    "# Column-based: batchsize of 128\n",
    "# Cell-based: batchsize of at least 512\n",
    "# Shuffle is actually very important because we start off with the uppermost layers with clc=0 basically throughout\n",
    "# This can push us into a local minimum, preferrably yielding clc=0.\n",
    "# The size of the shuffle buffer significantly impacts RAM requirements! Do not increase to above 10000.\n",
    "# Possibly better to use .apply(tf.data.experimental.copy_to_device(\"/gpu:0\")) before prefetch\n",
    "# We might want to cache before shuffling, however it seems to slow down training\n",
    "# We do not repeat after shuffle, because the validation set should be evaluated after each epoch\n",
    "train_ds = tf.data.Dataset.zip((tf.data.Dataset.from_tensor_slices(input_train), \n",
    "                            tf.data.Dataset.from_tensor_slices(output_train))) \\\n",
    "            .shuffle(10**5, seed=seed) \\\n",
    "            .batch(batch_size=1028, drop_remainder=True) \\\n",
    "            .prefetch(1)\n",
    "\n",
    "# Clear memory\n",
    "del input_train, output_train\n",
    "gc.collect()\n",
    "\n",
    "# No need to add prefetch.\n",
    "# tf data with batch_size=10**5 makes the validation evaluation 10 times faster\n",
    "valid_ds = tf.data.Dataset.zip((tf.data.Dataset.from_tensor_slices(input_valid), \n",
    "                            tf.data.Dataset.from_tensor_slices(output_valid))) \\\n",
    "            .batch(batch_size=10**5, drop_remainder=True)\n",
    "\n",
    "# Clear memory (Reduces memory requirement to 151 GB)\n",
    "del input_valid, output_valid\n",
    "gc.collect()\n",
    "\n",
    "#Feed the model. Increase the learning rate by a factor of 2 when increasing the batch size by a factor of 4\n",
    "model.compile(\n",
    "    optimizer=tf.keras.optimizers.Adam(learning_rate=0.000433, epsilon=0.1),\n",
    "    loss=tf.keras.losses.MeanSquaredError()\n",
    ")\n",
    "\n",
    "#Train the model\n",
    "#     time_callback = TimeOut(t0, timeout*(i+1))\n",
    "time_callback = TimeOut(t0, timeout)\n",
    "# 20 mins per epoch\n",
    "history = model.fit(train_ds, validation_data=valid_ds, epochs=epochs, verbose=2,\n",
    "                    callbacks=[time_callback])\n",
    "#     history = model.fit(train_ds, epochs=epochs, validation_data=valid_ds, callbacks=[time_callback])\n",
    "\n",
    "#Save the model     \n",
    "#Serialize model to YAML\n",
    "model_yaml = model.to_yaml()\n",
    "with open(os.path.join(path_model, filename+\".yaml\"), \"w\") as yaml_file:\n",
    "    yaml_file.write(model_yaml)\n",
    "#Serialize model and weights to a single HDF5-file\n",
    "model.save(os.path.join(path_model, filename+'.h5'), \"w\")\n",
    "print('Saved model to disk')\n",
    "\n",
    "#Plot the training history\n",
    "if len(history.history['loss']) > len(history.history['val_loss']):\n",
    "    del history.history['loss'][-1]\n",
    "pd.DataFrame(history.history).plot(figsize=(8,5))\n",
    "plt.grid(True)\n",
    "plt.ylabel('Mean Squared Error')\n",
    "plt.xlabel('Number of epochs')\n",
    "plt.savefig(os.path.join(path_figures, filename+'.pdf'))\n",
    "\n",
    "with open(os.path.join(path_model, filename+'.txt'), 'a') as file:\n",
    "    file.write('Results from the %d-th fold\\n'%(fold+1))\n",
    "    file.write('Training epochs: %d\\n'%(len(history.history['val_loss'])))\n",
    "    file.write('Weights restored from epoch: %d\\n\\n'%(1+np.argmin(history.history['val_loss'])))"
   ]
  },
  {
   "cell_type": "code",
   "execution_count": null,
   "metadata": {},
   "outputs": [],
   "source": []
  }
 ],
 "metadata": {
  "kernelspec": {
   "display_name": "Python 3 (based on the module python3/2022.01)",
   "language": "python",
   "name": "python3_2022_01"
  },
  "language_info": {
   "codemirror_mode": {
    "name": "ipython",
    "version": 3
   },
   "file_extension": ".py",
   "mimetype": "text/x-python",
   "name": "python",
   "nbconvert_exporter": "python",
   "pygments_lexer": "ipython3",
   "version": "3.9.9"
  }
 },
 "nbformat": 4,
 "nbformat_minor": 4
}
