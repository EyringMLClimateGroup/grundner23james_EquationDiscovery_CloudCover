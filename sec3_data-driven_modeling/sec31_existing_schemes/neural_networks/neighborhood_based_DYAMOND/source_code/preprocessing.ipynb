{
 "cells": [
  {
   "cell_type": "markdown",
   "metadata": {},
   "source": [
    "## Preprocessing Dyamond\n",
    "\n",
    "Converting the data into npy makes it possible for us to work with it efficiently; originally we require 500GB of RAM which is always difficult to guarantee. We preprocess dyamond in another ipynb notebook precisely because of this issue.\n",
    "\n",
    "1) We read the data\n",
    "2) Reshape variables so that they have equal dimensionality\n",
    "3) Reshape into data samples fit for the NN and convert into a DataFrame\n",
    "4) Downsample the data: Remove data above 21kms, remove condensate-free clouds, combat class-imbalance\n",
    "5) Split into input and output\n",
    "6) Save as npy\n",
    "\n",
    "Note: We neither scale nor split the data into training/validation/test sets. <br>\n",
    "The reason is that i) in order to scale we need the entire dataset but this can only be done in conjunction with the dyamond dataset. Also for cross-validation different scalings will be necessary based on different subsets of the data, ii) The split into subsets will be done by the cross-validation procedure or not at all when training the final model."
   ]
  },
  {
   "cell_type": "code",
   "execution_count": 1,
   "metadata": {
    "scrolled": true
   },
   "outputs": [],
   "source": [
    "# Ran with 450GB\n",
    "\n",
    "import sys\n",
    "import xarray as xr\n",
    "import numpy as np\n",
    "import matplotlib.pyplot as plt\n",
    "import pandas as pd\n",
    "import time\n",
    "import gc\n",
    "# import importlib\n",
    "# importlib.reload(my_classes)\n",
    "\n",
    "base_path = '/home/b/b309170'\n",
    "output_path = base_path + '/my_work/icon-ml_data/cloud_cover_parameterization/neighborhood_based_DYAMOND/'\n",
    "\n",
    "# Add path with my_classes to sys.path\n",
    "sys.path.insert(0, base_path + '/workspace_icon-ml/cloud_cover_parameterization/')\n",
    "\n",
    "from my_classes import load_data\n",
    "\n",
    "# ['all', 'discard_spinup']\n",
    "days = 'discard_spinup'\n",
    "\n",
    "VERT_LAYERS = 31\n",
    "\n",
    "#Set a numpy seed for the permutation later on!\n",
    "np.random.seed(10)"
   ]
  },
  {
   "cell_type": "markdown",
   "metadata": {},
   "source": [
    "## 1) Reading the data\n",
    "### Input:\n",
    "- fr_land: Fraction of land\n",
    "- coriolis: Coriolis parameter\n",
    "- zg: Geometric height at full levels (3D)\n",
    "- qv: Specific water vapor content (3D)\n",
    "- qc: Specific cloud water content (3D)\n",
    "- qi: Specific cloud ice content (3D)\n",
    "- temp: Temperature (3D)\n",
    "- pres: Pressure (3D)\n",
    "- u: Zonal wind (3D)\n",
    "- v: Meridional wind (3D)\n",
    "\n",
    "$10$ input nodes\n",
    "\n",
    "### Output:\n",
    "- clc: Cloud Cover\n",
    "\n",
    "$1$ output nodes\n",
    "\n",
    "The data above 21km is capped."
   ]
  },
  {
   "cell_type": "code",
   "execution_count": 2,
   "metadata": {},
   "outputs": [],
   "source": [
    "# For cl_area I only need the output as I already have the input\n",
    "# I still need 'clw', 'cli' for condensate-free clouds\n",
    "order_of_vars_dyamond = ['hus', 'clw', 'cli', 'ta', 'pa', 'ua', 'va', 'zg', 'coriolis', 'clc', 'cl_area']"
   ]
  },
  {
   "cell_type": "code",
   "execution_count": 3,
   "metadata": {},
   "outputs": [
    {
     "name": "stdout",
     "output_type": "stream",
     "text": [
      "hus\n",
      "clw\n",
      "cli\n",
      "ta\n",
      "pa\n",
      "ua\n",
      "va\n",
      "clc\n",
      "cl_area\n"
     ]
    }
   ],
   "source": [
    "# Load dyamond data\n",
    "data_dict = load_data(source='split_by_var_name', days=days, resolution='R02B05', order_of_vars=order_of_vars_dyamond, \n",
    "                      path='/home/b/b309170/bd1179_work/DYAMOND/hvcg_data')"
   ]
  },
  {
   "cell_type": "code",
   "execution_count": 4,
   "metadata": {},
   "outputs": [
    {
     "data": {
      "text/plain": [
       "1600"
      ]
     },
     "execution_count": 4,
     "metadata": {},
     "output_type": "execute_result"
    }
   ],
   "source": [
    "# Convert the data to float32 and remove layers above 21km asap!\n",
    "for key in data_dict.keys():\n",
    "    data_dict[key] = np.float32(data_dict[key])\n",
    "gc.collect()"
   ]
  },
  {
   "cell_type": "code",
   "execution_count": 5,
   "metadata": {},
   "outputs": [
    {
     "name": "stdout",
     "output_type": "stream",
     "text": [
      "hus (467, 31, 79342)\n",
      "clw (467, 31, 79342)\n",
      "cli (467, 31, 79342)\n",
      "ta (467, 31, 79342)\n",
      "pa (467, 31, 79342)\n",
      "ua (467, 31, 79342)\n",
      "va (467, 31, 79342)\n",
      "zg (31, 79342)\n",
      "coriolis (79342,)\n",
      "clc (467, 31, 79342)\n",
      "cl_area (467, 31, 79342)\n"
     ]
    }
   ],
   "source": [
    "for key in data_dict.keys():\n",
    "    print(key, data_dict[key].shape)"
   ]
  },
  {
   "cell_type": "code",
   "execution_count": 6,
   "metadata": {},
   "outputs": [],
   "source": [
    "(TIME_STEPS, VERT_LAYERS, HORIZ_FIELDS) = data_dict['clc'].shape"
   ]
  },
  {
   "cell_type": "code",
   "execution_count": 7,
   "metadata": {},
   "outputs": [],
   "source": [
    "#Reshaping into nd-arrays of equaling shapes (don't reshape in the vertical)\n",
    "data_dict['zg'] = np.repeat(np.expand_dims(data_dict['zg'], 0), TIME_STEPS, axis=0)\n",
    "try: \n",
    "    data_dict['coriolis'] = np.repeat(np.expand_dims(data_dict['coriolis'], 0), TIME_STEPS, axis=0)\n",
    "    data_dict['coriolis'] = np.repeat(np.expand_dims(data_dict['coriolis'], 1), VERT_LAYERS, axis=1)\n",
    "    # Surface temperature (Try without?)\n",
    "    temp_sfc = np.repeat(np.expand_dims(data_dict['ta'][:, -1, :], axis=1), VERT_LAYERS, axis=1)\n",
    "except: \n",
    "    print('There is probably no coriolis or temperature in order_of_vars_dyamond')\n",
    "    pass"
   ]
  },
  {
   "cell_type": "code",
   "execution_count": 8,
   "metadata": {},
   "outputs": [],
   "source": [
    "# Remove the first timesteps of the dyamond simulations since the clc values are 0 across the entire earth there \n",
    "remove_steps = []\n",
    "for i in range(data_dict['clc'].shape[0]):\n",
    "    if np.all(data_dict['clc'][i,4:,:] == 0):\n",
    "        remove_steps.append(i)\n",
    "        TIME_STEPS = TIME_STEPS - 1\n",
    "\n",
    "for key in data_dict.keys():\n",
    "    data_dict[key] = np.delete(data_dict[key], remove_steps, axis=0)\n",
    "        \n",
    "try:\n",
    "    temp_sfc = np.float32(np.delete(temp_sfc, remove_steps, axis=0))\n",
    "except:\n",
    "    print('There is probably no temperature in order_of_vars_dyamond')\n",
    "    pass"
   ]
  },
  {
   "cell_type": "code",
   "execution_count": 9,
   "metadata": {},
   "outputs": [
    {
     "name": "stdout",
     "output_type": "stream",
     "text": [
      "100.000015\n",
      "100.0\n"
     ]
    }
   ],
   "source": [
    "# Our Neural Network has trained with clc in [0, 100]!\n",
    "data_dict['clc'] = 100*data_dict['clc']\n",
    "data_dict['cl_area'] = 100*data_dict['cl_area']\n",
    "print(np.max(data_dict['clc'][:, 4:, :]))\n",
    "print(np.max(data_dict['cl_area'][:, 4:, :]))"
   ]
  },
  {
   "cell_type": "code",
   "execution_count": 10,
   "metadata": {},
   "outputs": [
    {
     "data": {
      "text/plain": [
       "(467, 31, 79342)"
      ]
     },
     "execution_count": 10,
     "metadata": {},
     "output_type": "execute_result"
    }
   ],
   "source": [
    "# Carry along information about the vertical layer of a grid cell. int16 is sufficient for < 1000.\n",
    "vert_layers = np.int16(np.repeat(np.expand_dims(np.arange(1, VERT_LAYERS+1), 0), TIME_STEPS, axis=0))\n",
    "vert_layers = np.repeat(np.expand_dims(vert_layers, 2), HORIZ_FIELDS, axis=2)\n",
    "vert_layers.shape"
   ]
  },
  {
   "cell_type": "code",
   "execution_count": 11,
   "metadata": {},
   "outputs": [],
   "source": [
    "# Add variables below and above\n",
    "\n",
    "def add_above_and_below(var_array):\n",
    "    '''\n",
    "        var_array: 3D tensor\n",
    "    '''\n",
    "    above = (np.insert(var_array, obj=0, values=1000*np.ones((TIME_STEPS, HORIZ_FIELDS)), axis=1))[:, :-1, :]\n",
    "    # Replace by the entry from the same cell if the one above is nan.\n",
    "    # It is a bit suboptimal that the ones above can be nan. \n",
    "    # But in dyamond this only pertains the cli, clw and hus which are zero anyways at 21kms.\n",
    "    nan_indices = np.where(np.isnan(above))\n",
    "    above[nan_indices] = above[nan_indices[0], nan_indices[1]+1, nan_indices[2]]\n",
    "    \n",
    "    # Below is the same value as the grid cell for surface-closest layer\n",
    "    below = (np.append(var_array, values=var_array[:, -1:, :], axis=1))[:, 1:, :]\n",
    "    return above, below\n",
    "\n",
    "above = {}\n",
    "below = {}\n",
    "\n",
    "# 1000 is a value that cannot be attained physically and serves as our way of checking whether the grid cell is at the model top\n",
    "# It makes sense to insert 0 as the difference at the lowest levels. (Note that the values won't stay 0 after normalization) \n",
    "# The NN could get around these values that are not really physical by weighing the influence from below with a zg-factor.\n",
    "# Alternatively we would have to remove the variable from below altogether\n",
    "\n",
    "for key in order_of_vars_dyamond[:-2]:\n",
    "    above[key], below[key] = add_above_and_below(data_dict[key])"
   ]
  },
  {
   "cell_type": "code",
   "execution_count": 12,
   "metadata": {},
   "outputs": [
    {
     "data": {
      "text/html": [
       "<div>\n",
       "<style scoped>\n",
       "    .dataframe tbody tr th:only-of-type {\n",
       "        vertical-align: middle;\n",
       "    }\n",
       "\n",
       "    .dataframe tbody tr th {\n",
       "        vertical-align: top;\n",
       "    }\n",
       "\n",
       "    .dataframe thead th {\n",
       "        text-align: right;\n",
       "    }\n",
       "</style>\n",
       "<table border=\"1\" class=\"dataframe\">\n",
       "  <thead>\n",
       "    <tr style=\"text-align: right;\">\n",
       "      <th></th>\n",
       "      <th>hus</th>\n",
       "      <th>clw</th>\n",
       "      <th>cli</th>\n",
       "      <th>ta</th>\n",
       "      <th>pa</th>\n",
       "      <th>ua</th>\n",
       "      <th>va</th>\n",
       "      <th>zg</th>\n",
       "      <th>coriolis</th>\n",
       "      <th>clc</th>\n",
       "      <th>...</th>\n",
       "      <th>ta_above</th>\n",
       "      <th>pa_below</th>\n",
       "      <th>pa_above</th>\n",
       "      <th>ua_below</th>\n",
       "      <th>ua_above</th>\n",
       "      <th>va_below</th>\n",
       "      <th>va_above</th>\n",
       "      <th>zg_below</th>\n",
       "      <th>zg_above</th>\n",
       "      <th>temp_sfc</th>\n",
       "    </tr>\n",
       "  </thead>\n",
       "  <tbody>\n",
       "    <tr>\n",
       "      <th>0</th>\n",
       "      <td>0.000003</td>\n",
       "      <td>0.0</td>\n",
       "      <td>0.0</td>\n",
       "      <td>219.129974</td>\n",
       "      <td>5136.635742</td>\n",
       "      <td>0.199283</td>\n",
       "      <td>0.779119</td>\n",
       "      <td>20784.626953</td>\n",
       "      <td>0.000116</td>\n",
       "      <td>0.0</td>\n",
       "      <td>...</td>\n",
       "      <td>219.532318</td>\n",
       "      <td>6663.091797</td>\n",
       "      <td>3941.898438</td>\n",
       "      <td>1.512052</td>\n",
       "      <td>0.767833</td>\n",
       "      <td>2.054968</td>\n",
       "      <td>0.747552</td>\n",
       "      <td>19153.337891</td>\n",
       "      <td>22500.869141</td>\n",
       "      <td>287.408600</td>\n",
       "    </tr>\n",
       "    <tr>\n",
       "      <th>1</th>\n",
       "      <td>0.000003</td>\n",
       "      <td>0.0</td>\n",
       "      <td>0.0</td>\n",
       "      <td>219.263229</td>\n",
       "      <td>5137.106445</td>\n",
       "      <td>0.513316</td>\n",
       "      <td>1.568327</td>\n",
       "      <td>20784.626953</td>\n",
       "      <td>0.000116</td>\n",
       "      <td>0.0</td>\n",
       "      <td>...</td>\n",
       "      <td>219.466461</td>\n",
       "      <td>6661.952637</td>\n",
       "      <td>3941.960693</td>\n",
       "      <td>1.693404</td>\n",
       "      <td>1.040440</td>\n",
       "      <td>2.050681</td>\n",
       "      <td>0.517685</td>\n",
       "      <td>19153.337891</td>\n",
       "      <td>22500.869141</td>\n",
       "      <td>288.236633</td>\n",
       "    </tr>\n",
       "    <tr>\n",
       "      <th>2</th>\n",
       "      <td>0.000003</td>\n",
       "      <td>0.0</td>\n",
       "      <td>0.0</td>\n",
       "      <td>218.753555</td>\n",
       "      <td>5136.911621</td>\n",
       "      <td>0.472010</td>\n",
       "      <td>0.123696</td>\n",
       "      <td>20784.626953</td>\n",
       "      <td>0.000116</td>\n",
       "      <td>0.0</td>\n",
       "      <td>...</td>\n",
       "      <td>219.898621</td>\n",
       "      <td>6661.618164</td>\n",
       "      <td>3942.130371</td>\n",
       "      <td>1.445639</td>\n",
       "      <td>0.097300</td>\n",
       "      <td>1.020722</td>\n",
       "      <td>1.078983</td>\n",
       "      <td>19153.337891</td>\n",
       "      <td>22500.869141</td>\n",
       "      <td>287.695953</td>\n",
       "    </tr>\n",
       "    <tr>\n",
       "      <th>3</th>\n",
       "      <td>0.000003</td>\n",
       "      <td>0.0</td>\n",
       "      <td>0.0</td>\n",
       "      <td>218.543854</td>\n",
       "      <td>5135.631348</td>\n",
       "      <td>-0.288119</td>\n",
       "      <td>1.658352</td>\n",
       "      <td>20784.626953</td>\n",
       "      <td>0.000115</td>\n",
       "      <td>0.0</td>\n",
       "      <td>...</td>\n",
       "      <td>219.964767</td>\n",
       "      <td>6666.223145</td>\n",
       "      <td>3940.980713</td>\n",
       "      <td>1.786568</td>\n",
       "      <td>0.386054</td>\n",
       "      <td>1.192030</td>\n",
       "      <td>0.172811</td>\n",
       "      <td>19153.337891</td>\n",
       "      <td>22500.869141</td>\n",
       "      <td>286.954590</td>\n",
       "    </tr>\n",
       "    <tr>\n",
       "      <th>4</th>\n",
       "      <td>0.000003</td>\n",
       "      <td>0.0</td>\n",
       "      <td>0.0</td>\n",
       "      <td>219.162125</td>\n",
       "      <td>5135.462891</td>\n",
       "      <td>0.390922</td>\n",
       "      <td>1.529522</td>\n",
       "      <td>20784.626953</td>\n",
       "      <td>0.000118</td>\n",
       "      <td>0.0</td>\n",
       "      <td>...</td>\n",
       "      <td>220.277863</td>\n",
       "      <td>6657.734863</td>\n",
       "      <td>3943.317627</td>\n",
       "      <td>1.525171</td>\n",
       "      <td>-0.314244</td>\n",
       "      <td>0.191374</td>\n",
       "      <td>0.846919</td>\n",
       "      <td>19153.337891</td>\n",
       "      <td>22500.869141</td>\n",
       "      <td>288.169342</td>\n",
       "    </tr>\n",
       "  </tbody>\n",
       "</table>\n",
       "<p>5 rows × 28 columns</p>\n",
       "</div>"
      ],
      "text/plain": [
       "        hus  clw  cli          ta           pa        ua        va  \\\n",
       "0  0.000003  0.0  0.0  219.129974  5136.635742  0.199283  0.779119   \n",
       "1  0.000003  0.0  0.0  219.263229  5137.106445  0.513316  1.568327   \n",
       "2  0.000003  0.0  0.0  218.753555  5136.911621  0.472010  0.123696   \n",
       "3  0.000003  0.0  0.0  218.543854  5135.631348 -0.288119  1.658352   \n",
       "4  0.000003  0.0  0.0  219.162125  5135.462891  0.390922  1.529522   \n",
       "\n",
       "             zg  coriolis  clc  ...    ta_above     pa_below     pa_above  \\\n",
       "0  20784.626953  0.000116  0.0  ...  219.532318  6663.091797  3941.898438   \n",
       "1  20784.626953  0.000116  0.0  ...  219.466461  6661.952637  3941.960693   \n",
       "2  20784.626953  0.000116  0.0  ...  219.898621  6661.618164  3942.130371   \n",
       "3  20784.626953  0.000115  0.0  ...  219.964767  6666.223145  3940.980713   \n",
       "4  20784.626953  0.000118  0.0  ...  220.277863  6657.734863  3943.317627   \n",
       "\n",
       "   ua_below  ua_above  va_below  va_above      zg_below      zg_above  \\\n",
       "0  1.512052  0.767833  2.054968  0.747552  19153.337891  22500.869141   \n",
       "1  1.693404  1.040440  2.050681  0.517685  19153.337891  22500.869141   \n",
       "2  1.445639  0.097300  1.020722  1.078983  19153.337891  22500.869141   \n",
       "3  1.786568  0.386054  1.192030  0.172811  19153.337891  22500.869141   \n",
       "4  1.525171 -0.314244  0.191374  0.846919  19153.337891  22500.869141   \n",
       "\n",
       "     temp_sfc  \n",
       "0  287.408600  \n",
       "1  288.236633  \n",
       "2  287.695953  \n",
       "3  286.954590  \n",
       "4  288.169342  \n",
       "\n",
       "[5 rows x 28 columns]"
      ]
     },
     "execution_count": 12,
     "metadata": {},
     "output_type": "execute_result"
    }
   ],
   "source": [
    "# Reshaping into 1D-arrays and converting dict into a DataFrame-object (the following is based on Aurelien Geron)\n",
    "for key in data_dict.keys():\n",
    "    data_dict[key] = np.reshape(data_dict[key][:, 4:], -1) \n",
    "vert_layers = np.reshape(vert_layers[:, 4:], -1)\n",
    "    \n",
    "for key in order_of_vars_dyamond[:-3]:\n",
    "    data_dict['%s_below'%key] = np.reshape(below[key][:, 4:], -1)\n",
    "    data_dict['%s_above'%key] = np.reshape(above[key][:, 4:], -1)\n",
    "    \n",
    "try:\n",
    "    data_dict['temp_sfc'] = np.reshape(temp_sfc[:, 4:], -1)\n",
    "except:\n",
    "    print('There is probably no (surface) temperature.')\n",
    "    pass\n",
    "\n",
    "import gc\n",
    "del above, below, temp_sfc\n",
    "gc.collect()\n",
    "\n",
    "# This line takes quite some memory\n",
    "df = pd.DataFrame.from_dict(data_dict)\n",
    "df.head()"
   ]
  },
  {
   "cell_type": "markdown",
   "metadata": {},
   "source": [
    "**Afterwards I removed coriolis_below and coriolis_above which were mistakenly included in the old code! I also updated the code here, just the output is old.**"
   ]
  },
  {
   "cell_type": "code",
   "execution_count": 13,
   "metadata": {},
   "outputs": [
    {
     "data": {
      "text/plain": [
       "0"
      ]
     },
     "execution_count": 13,
     "metadata": {},
     "output_type": "execute_result"
    }
   ],
   "source": [
    "import gc\n",
    "del data_dict\n",
    "gc.collect()"
   ]
  },
  {
   "cell_type": "markdown",
   "metadata": {},
   "source": [
    "**Downsampling the data (minority class: clc = 0)**"
   ]
  },
  {
   "cell_type": "code",
   "execution_count": 14,
   "metadata": {},
   "outputs": [],
   "source": [
    "# There are no nans left\n",
    "assert np.all(np.isnan(df) == False) == True"
   ]
  },
  {
   "cell_type": "code",
   "execution_count": 15,
   "metadata": {},
   "outputs": [],
   "source": [
    "# Some quick sanity checks regarding the input data\n",
    "assert np.all(df['ta'] > 150) and np.all(df['pa'] > 150)\n",
    "\n",
    "#The upper levels have been cut off so there are no wrong values in the data anymore\n",
    "assert df[df['ta_above']==1000].shape[0] == 0 "
   ]
  },
  {
   "cell_type": "code",
   "execution_count": 16,
   "metadata": {},
   "outputs": [
    {
     "data": {
      "text/html": [
       "<div>\n",
       "<style scoped>\n",
       "    .dataframe tbody tr th:only-of-type {\n",
       "        vertical-align: middle;\n",
       "    }\n",
       "\n",
       "    .dataframe tbody tr th {\n",
       "        vertical-align: top;\n",
       "    }\n",
       "\n",
       "    .dataframe thead th {\n",
       "        text-align: right;\n",
       "    }\n",
       "</style>\n",
       "<table border=\"1\" class=\"dataframe\">\n",
       "  <thead>\n",
       "    <tr style=\"text-align: right;\">\n",
       "      <th></th>\n",
       "      <th>hus</th>\n",
       "      <th>clw</th>\n",
       "      <th>cli</th>\n",
       "      <th>ta</th>\n",
       "      <th>pa</th>\n",
       "      <th>ua</th>\n",
       "      <th>va</th>\n",
       "      <th>zg</th>\n",
       "      <th>coriolis</th>\n",
       "      <th>clc</th>\n",
       "      <th>...</th>\n",
       "      <th>ta_above</th>\n",
       "      <th>pa_below</th>\n",
       "      <th>pa_above</th>\n",
       "      <th>ua_below</th>\n",
       "      <th>ua_above</th>\n",
       "      <th>va_below</th>\n",
       "      <th>va_above</th>\n",
       "      <th>zg_below</th>\n",
       "      <th>zg_above</th>\n",
       "      <th>temp_sfc</th>\n",
       "    </tr>\n",
       "  </thead>\n",
       "  <tbody>\n",
       "  </tbody>\n",
       "</table>\n",
       "<p>0 rows × 28 columns</p>\n",
       "</div>"
      ],
      "text/plain": [
       "Empty DataFrame\n",
       "Columns: [hus, clw, cli, ta, pa, ua, va, zg, coriolis, clc, cl_area, hus_below, hus_above, clw_below, clw_above, cli_below, cli_above, ta_below, ta_above, pa_below, pa_above, ua_below, ua_above, va_below, va_above, zg_below, zg_above, temp_sfc]\n",
       "Index: []\n",
       "\n",
       "[0 rows x 28 columns]"
      ]
     },
     "execution_count": 16,
     "metadata": {},
     "output_type": "execute_result"
    }
   ],
   "source": [
    "# There are no condensate-free clouds\n",
    "df.loc[((df['clc'] > 0) & (df['clw'] == 0) & (df['cli'] == 0))]"
   ]
  },
  {
   "cell_type": "code",
   "execution_count": 17,
   "metadata": {},
   "outputs": [
    {
     "name": "stdout",
     "output_type": "stream",
     "text": [
      "0.0016189927160011565\n",
      "0.0003966261168904948\n",
      "4.604451037173887e-05\n",
      "1.7092765008612685e-07\n"
     ]
    }
   ],
   "source": [
    "# Unfortunately this does not hold for cl_area which is not diagnosed perfectly due to the intermediate grid\n",
    "print(len(df.loc[((df['cl_area'] > 0) & (df['clw'] == 0) & (df['cli'] == 0))])/len(df))\n",
    "print(len(df.loc[((df['cl_area'] > 1) & (df['clw'] == 0) & (df['cli'] == 0))])/len(df))\n",
    "print(len(df.loc[((df['cl_area'] > 10) & (df['clw'] == 0) & (df['cli'] == 0))])/len(df))\n",
    "print(len(df.loc[((df['cl_area'] > 50) & (df['clw'] == 0) & (df['cli'] == 0))])/len(df))"
   ]
  },
  {
   "cell_type": "code",
   "execution_count": 18,
   "metadata": {
    "tags": []
   },
   "outputs": [],
   "source": [
    "if days == 'all':\n",
    "    # We ensure that clc != 0 is as large as clc = 0 (which then has 294 Mio samples) and keep the original order intact\n",
    "    df_noclc = df.loc[df['clc']==0]\n",
    "    print(len(df_noclc))\n",
    "\n",
    "    # len(downsample_indices) will be the number of noclc samples that remain\n",
    "    downsample_ratio = (len(df) - len(df_noclc))/len(df_noclc)\n",
    "    shuffled_indices = np.random.permutation(df_noclc.index)\n",
    "    size_noclc = int(len(df_noclc)*downsample_ratio)\n",
    "\n",
    "    del df_noclc\n",
    "    gc.collect()\n",
    "\n",
    "    downsample_indices = shuffled_indices[:size_noclc] \n",
    "\n",
    "    # Concatenate df.loc[df[output_var]!=0].index and downsample_indices\n",
    "    final_indices = np.concatenate((downsample_indices, df.loc[df['clc']!=0].index))\n",
    "\n",
    "    del shuffled_indices, downsample_indices\n",
    "    gc.collect()\n",
    "\n",
    "    # Sort final_indices so that we can more or less recover the timesteps\n",
    "    final_indices = np.sort(final_indices)\n",
    "elif days == 'discard_spinup':\n",
    "    final_indices = np.load('/home/b/b309170/my_work/icon-ml_data/cloud_cover_parameterization/neighborhood_based_SR_DYAMOND/indices_to_keep_after_downsampling.npy')\n",
    "\n",
    "# Label-based (loc) not positional-based\n",
    "df = df.loc[final_indices]"
   ]
  },
  {
   "cell_type": "code",
   "execution_count": 19,
   "metadata": {},
   "outputs": [
    {
     "data": {
      "text/plain": [
       "285179494"
      ]
     },
     "execution_count": 19,
     "metadata": {},
     "output_type": "execute_result"
    }
   ],
   "source": [
    "# Number of samples after downsampling\n",
    "len(df)"
   ]
  },
  {
   "cell_type": "code",
   "execution_count": 20,
   "metadata": {},
   "outputs": [],
   "source": [
    "#Modifies df as well\n",
    "def split_input_output(dataset):\n",
    "    output_clc = dataset['clc']\n",
    "    output_cl_area = dataset['cl_area']\n",
    "    del dataset['clc']\n",
    "    del dataset['cl_area']\n",
    "    return output_clc, output_cl_area"
   ]
  },
  {
   "cell_type": "code",
   "execution_count": 21,
   "metadata": {},
   "outputs": [],
   "source": [
    "output_clc, output_cl_area = split_input_output(df)"
   ]
  },
  {
   "cell_type": "code",
   "execution_count": 22,
   "metadata": {},
   "outputs": [],
   "source": [
    "# Save the data\n",
    "if days == 'all':\n",
    "    np.save(output_path + '/cloud_cover_input_dyamond.npy', np.float32(df))\n",
    "    np.save(output_path + '/cloud_cover_output_dyamond.npy', np.float32(output_clc))\n",
    "    np.save(output_path + '/cloud_area_output_dyamond.npy', np.float32(output_cl_area))\n",
    "    np.save(output_path + '/samples_vertical_layers_dyamond.npy', vert_layers[df.index])\n",
    "elif days == 'discard_spinup':\n",
    "    np.save(output_path + '/cloud_cover_input_dyamond_no_spinup.npy', df)\n",
    "    np.save(output_path + '/cloud_cover_output_dyamond_no_spinup.npy', output_clc)\n",
    "    np.save(output_path + '/cloud_area_output_dyamond_no_spinup.npy', output_cl_area)\n",
    "    np.save(output_path + '/samples_vertical_layers_dyamond_no_spinup.npy', vert_layers[df.index])"
   ]
  },
  {
   "cell_type": "markdown",
   "metadata": {},
   "source": [
    "Some tests of the cloud area output"
   ]
  },
  {
   "cell_type": "code",
   "execution_count": 26,
   "metadata": {},
   "outputs": [
    {
     "data": {
      "image/png": "[encoded data removed]",
      "text/plain": [
       "<Figure size 432x288 with 1 Axes>"
      ]
     },
     "metadata": {
      "needs_background": "light"
     },
     "output_type": "display_data"
    }
   ],
   "source": [
    "a = np.arange(5, 32)\n",
    "means_clc = []\n",
    "means_cl_area = []\n",
    "for k in range(5, 32):\n",
    "    means_clc.append(np.mean(output_clc[vert_layers == k]))\n",
    "    means_cl_area.append(np.mean(output_cl_area[vert_layers == k]))\n",
    "plt.plot(means_clc, a)\n",
    "plt.plot(means_cl_area, a)\n",
    "plt.legend(['Cloud volume', 'Cloud area'])\n",
    "plt.gca().invert_yaxis()"
   ]
  },
  {
   "cell_type": "code",
   "execution_count": 27,
   "metadata": {},
   "outputs": [],
   "source": [
    "diff = output_cl_area - output_clc"
   ]
  },
  {
   "cell_type": "code",
   "execution_count": 28,
   "metadata": {},
   "outputs": [
    {
     "data": {
      "image/png": "[encoded data removed]",
      "text/plain": [
       "<Figure size 432x288 with 1 Axes>"
      ]
     },
     "metadata": {
      "needs_background": "light"
     },
     "output_type": "display_data"
    }
   ],
   "source": [
    "plt.hist(diff, bins = 10)\n",
    "plt.show()"
   ]
  },
  {
   "cell_type": "code",
   "execution_count": 29,
   "metadata": {},
   "outputs": [
    {
     "data": {
      "image/png": "[encoded data removed]",
      "text/plain": [
       "<Figure size 432x288 with 1 Axes>"
      ]
     },
     "metadata": {
      "needs_background": "light"
     },
     "output_type": "display_data"
    }
   ],
   "source": [
    "plt.hist(diff, bins = 100, log=True)\n",
    "plt.show()"
   ]
  },
  {
   "cell_type": "code",
   "execution_count": 30,
   "metadata": {},
   "outputs": [
    {
     "data": {
      "text/plain": [
       "3421827"
      ]
     },
     "execution_count": 30,
     "metadata": {},
     "output_type": "execute_result"
    }
   ],
   "source": [
    "# These should be anomalies existing due to differences in coarse-graining\n",
    "len(np.where(diff < 0)[0])"
   ]
  },
  {
   "cell_type": "code",
   "execution_count": 31,
   "metadata": {},
   "outputs": [
    {
     "data": {
      "text/plain": [
       "231274379"
      ]
     },
     "execution_count": 31,
     "metadata": {},
     "output_type": "execute_result"
    }
   ],
   "source": [
    "len(np.where(diff > 0)[0])"
   ]
  },
  {
   "cell_type": "code",
   "execution_count": 32,
   "metadata": {},
   "outputs": [
    {
     "data": {
      "text/plain": [
       "375528913"
      ]
     },
     "execution_count": 32,
     "metadata": {},
     "output_type": "execute_result"
    }
   ],
   "source": [
    "len(np.where(diff >= 0)[0])"
   ]
  },
  {
   "cell_type": "code",
   "execution_count": 33,
   "metadata": {},
   "outputs": [
    {
     "data": {
      "text/plain": [
       "0.00902974091038851"
      ]
     },
     "execution_count": 33,
     "metadata": {},
     "output_type": "execute_result"
    }
   ],
   "source": [
    "len(np.where(diff < 0)[0])/len(diff) # 0.9% of the data"
   ]
  },
  {
   "cell_type": "code",
   "execution_count": 34,
   "metadata": {},
   "outputs": [
    {
     "data": {
      "text/plain": [
       "0.01457981387223618"
      ]
     },
     "execution_count": 34,
     "metadata": {},
     "output_type": "execute_result"
    }
   ],
   "source": [
    "len(np.where(diff < 0)[0])/len(np.where(diff != 0)[0]) # 1.4% of cloudy data"
   ]
  }
 ],
 "metadata": {
  "kernelspec": {
   "display_name": "Python 3 (based on the module python3/2022.01)",
   "language": "python",
   "name": "python3_2022_01"
  },
  "language_info": {
   "codemirror_mode": {
    "name": "ipython",
    "version": 3
   },
   "file_extension": ".py",
   "mimetype": "text/x-python",
   "name": "python",
   "nbconvert_exporter": "python",
   "pygments_lexer": "ipython3",
   "version": "3.9.9"
  }
 },
 "nbformat": 4,
 "nbformat_minor": 4
}
