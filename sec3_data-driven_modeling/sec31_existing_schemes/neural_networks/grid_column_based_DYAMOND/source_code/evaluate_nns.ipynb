{
 "cells": [
  {
   "cell_type": "markdown",
   "metadata": {},
   "source": [
    "## Cross-Validation\n",
    "\n",
    "1. We read the data from the npy files\n",
    "2. We combine the QUBICC and NARVAL data\n",
    "4. Set up cross validation\n",
    "\n",
    "During cross-validation:\n",
    "\n",
    "1. We scale the data, convert to tf data\n",
    "2. Plot training progress, model biases \n",
    "3. Write losses and epochs into file"
   ]
  },
  {
   "cell_type": "code",
   "execution_count": 1,
   "metadata": {},
   "outputs": [
    {
     "name": "stdout",
     "output_type": "stream",
     "text": [
      "2.4.1\n"
     ]
    }
   ],
   "source": [
    "# Ran with 800GB (750GB should also be fine)\n",
    "\n",
    "import sys\n",
    "import numpy as np\n",
    "import time\n",
    "import pandas as pd\n",
    "import matplotlib.pyplot as plt\n",
    "import os\n",
    "import copy\n",
    "import gc\n",
    "\n",
    "#Import sklearn before tensorflow (static Thread-local storage)\n",
    "from sklearn.preprocessing import StandardScaler\n",
    "\n",
    "import tensorflow as tf\n",
    "from tensorflow.keras.models import load_model\n",
    "from tensorflow.keras.models import Sequential\n",
    "from tensorflow.keras.layers import Dense, Dropout, BatchNormalization\n",
    "from tensorflow.keras.regularizers import l1_l2\n",
    "\n",
    "from tensorflow.keras import backend as K\n",
    "from tensorflow.keras.layers import Activation\n",
    "\n",
    "# For Leaky_ReLU:\n",
    "from tensorflow import nn \n",
    "\n",
    "t0 = time.time()\n",
    "path = '/home/b/b309170'\n",
    "\n",
    "# Add path with my_classes to sys.path\n",
    "sys.path.insert(0, path + '/workspace_icon-ml/cloud_cover_parameterization/')\n",
    "\n",
    "# Reloading custom file to incorporate changes dynamically\n",
    "import importlib\n",
    "import my_classes\n",
    "importlib.reload(my_classes)\n",
    "\n",
    "from my_classes import write_infofile\n",
    "from my_classes import read_mean_and_std\n",
    "from my_classes import TimeOut\n",
    "\n",
    "# Cross-validation fold (in 0,1,2)\n",
    "fold = int(sys.argv[1]) \n",
    "\n",
    "# Minutes per fold\n",
    "timeout = 450 \n",
    "\n",
    "# Maximum amount of epochs for each model\n",
    "epochs = 30 \n",
    "\n",
    "# Set seed for reproducibility\n",
    "seed = 10\n",
    "tf.random.set_seed(seed)\n",
    "\n",
    "# Do we want to evaluate a non_spinup model on no_spinup data?\n",
    "# Choose from ['all', 'no_spinup']\n",
    "days = sys.argv[2]\n",
    "\n",
    "# gpus = tf.config.experimental.list_physical_devices('GPU')\n",
    "# tf.config.experimental.set_visible_devices(gpus[3], 'GPU')\n",
    "\n",
    "print(tf.__version__)"
   ]
  },
  {
   "cell_type": "code",
   "execution_count": 2,
   "metadata": {},
   "outputs": [],
   "source": [
    "# Cloud Cover or Cloud Area?\n",
    "output_var = sys.argv[3] # Set output_var to one of {'cl_volume', 'cl_area'} \n",
    "\n",
    "path_base = os.path.join(path, 'workspace_icon-ml/cloud_cover_parameterization/grid_column_based_DYAMOND')\n",
    "path_data = os.path.join(path, 'my_work/icon-ml_data/cloud_cover_parameterization/grid_column_based_DYAMOND')\n",
    "    \n",
    "path_model = os.path.join(path_base, 'saved_models')\n",
    "path_figures = os.path.join(path_base, 'figures')"
   ]
  },
  {
   "cell_type": "code",
   "execution_count": 3,
   "metadata": {},
   "outputs": [],
   "source": [
    "# Won't run on a CPU node\n",
    "try:\n",
    "    # Prevents crashes of the code\n",
    "    physical_devices = tf.config.list_physical_devices('GPU')\n",
    "    tf.config.set_visible_devices(physical_devices[0], 'GPU')\n",
    "    # Allow the growth of memory Tensorflow allocates (limits memory usage overall)\n",
    "    for gpu in gpus:\n",
    "        tf.config.experimental.set_memory_growth(gpu, True)\n",
    "except:\n",
    "    pass"
   ]
  },
  {
   "cell_type": "code",
   "execution_count": 4,
   "metadata": {},
   "outputs": [],
   "source": [
    "scaler = StandardScaler()"
   ]
  },
  {
   "cell_type": "markdown",
   "metadata": {},
   "source": [
    "### Load the data"
   ]
  },
  {
   "cell_type": "code",
   "execution_count": 5,
   "metadata": {},
   "outputs": [],
   "source": [
    "if days == 'all':\n",
    "    input_data = np.transpose(np.load(path_data + '/cloud_cover_input_dyamond.npy'))\n",
    "\n",
    "    if output_var == 'cl_volume':\n",
    "        output_data = np.transpose(np.load(path_data + '/cloud_cover_output_dyamond.npy'))\n",
    "    elif output_var == 'cl_area':\n",
    "        output_data = np.transpose(np.load(path_data + '/cloud_area_output_dyamond.npy'))\n",
    "elif days == 'no_spinup':\n",
    "    input_data = np.transpose(np.load(path_data + '/cloud_cover_input_dyamond.npy'))\n",
    "\n",
    "    if output_var == 'cl_volume':\n",
    "        output_data = np.transpose(np.load(path_data + '/cloud_cover_output_dyamond.npy'))\n",
    "    elif output_var == 'cl_area':\n",
    "        output_data = np.transpose(np.load(path_data + '/cloud_area_output_dyamond.npy'))\n",
    "      \n",
    "    ## Remove the spin-up & reshape back (467*79342, 163)\n",
    "    # Actually, we have to remove the spinup here, if we want to have a model comparable to the other ones from symbolic regression!\n",
    "    t_steps = 619\n",
    "    h_fields = 79342\n",
    "    no_vars = 163\n",
    "\n",
    "    ## For the input data\n",
    "    B = np.zeros((t_steps, no_vars, h_fields))\n",
    "    # Invert reshaping\n",
    "    for i in range(no_vars):\n",
    "        B[:, i] = np.reshape(input_data[:, i], (t_steps, h_fields))\n",
    "    # Discard spinup\n",
    "    input_data = np.concatenate((B[80:329], B[(329+72):]), axis=0)\n",
    "\n",
    "    # Reshape back\n",
    "    B = [np.reshape(input_data[:, i], -1) for i in range(no_vars)]\n",
    "    input_data = np.array(B).T\n",
    "\n",
    "    no_vars = 27\n",
    "\n",
    "    ## For the output data\n",
    "    B = np.zeros((t_steps, no_vars, h_fields))\n",
    "    # Invert reshaping\n",
    "    for i in range(no_vars):\n",
    "        B[:, i] = np.reshape(output_data[:, i], (t_steps, h_fields))\n",
    "    # Discard spinup\n",
    "    output_data = np.concatenate((B[80:329], B[(329+72):]), axis=0)\n",
    "\n",
    "    # Reshape back\n",
    "    B = [np.reshape(output_data[:, i], -1) for i in range(no_vars)]\n",
    "    output_data = np.array(B).T"
   ]
  },
  {
   "cell_type": "code",
   "execution_count": 6,
   "metadata": {},
   "outputs": [
    {
     "data": {
      "text/plain": [
       "(49112698, 163)"
      ]
     },
     "execution_count": 6,
     "metadata": {},
     "output_type": "execute_result"
    }
   ],
   "source": [
    "(samples_total, no_of_features) = input_data.shape\n",
    "(samples_total, no_of_features)"
   ]
  },
  {
   "cell_type": "markdown",
   "metadata": {},
   "source": [
    "*Temporal cross-validation*\n",
    "\n",
    "Split into 2-weeks increments (when working with 3 months of data). It's 25 day increments with 5 months of data. <br>\n",
    "1.: Validate on increments 1 and 4 <br>\n",
    "2.: Validate on increments 2 and 5 <br>\n",
    "3.: Validate on increments 3 and 6\n",
    "\n",
    "--> 2/3 training data, 1/3 validation data"
   ]
  },
  {
   "cell_type": "code",
   "execution_count": 7,
   "metadata": {},
   "outputs": [],
   "source": [
    "training_folds = []\n",
    "validation_folds = []\n",
    "two_week_incr = samples_total//6\n",
    "\n",
    "for i in range(3):\n",
    "    # Note that this is a temporal split since time was the first dimension in the original tensor\n",
    "    first_incr = np.arange(samples_total//6*i, samples_total//6*(i+1))\n",
    "    second_incr = np.arange(samples_total//6*(i+3), samples_total//6*(i+4))\n",
    "\n",
    "    validation_folds.append(np.append(first_incr, second_incr))\n",
    "    training_folds.append(np.arange(samples_total))\n",
    "    training_folds[i] = np.delete(training_folds[i], validation_folds[i])"
   ]
  },
  {
   "cell_type": "markdown",
   "metadata": {},
   "source": [
    "Remove columns that are constant in at least one of the training folds"
   ]
  },
  {
   "cell_type": "code",
   "execution_count": 8,
   "metadata": {},
   "outputs": [],
   "source": [
    "remove_fields = [27, 28, 29, 30, 31, 32, 135, 136, 137]\n",
    "assert no_of_features == 163\n",
    "input_data = np.delete(input_data, remove_fields, axis=1)\n",
    "no_of_features = no_of_features - len(remove_fields)"
   ]
  },
  {
   "cell_type": "markdown",
   "metadata": {},
   "source": [
    "### Define the model"
   ]
  },
  {
   "cell_type": "markdown",
   "metadata": {},
   "source": [
    "Activation function for the last layer"
   ]
  },
  {
   "cell_type": "code",
   "execution_count": 9,
   "metadata": {},
   "outputs": [],
   "source": [
    "custom_objects = {}\n",
    "custom_objects['leaky_relu'] = nn.leaky_relu"
   ]
  },
  {
   "cell_type": "code",
   "execution_count": 10,
   "metadata": {
    "tags": []
   },
   "outputs": [],
   "source": [
    "if days == 'all':\n",
    "    model_name = 'cross_validation_column_based_%s_fold_%d.h5'%(output_var, (fold+1))\n",
    "elif days == 'no_spinup':\n",
    "    model_name = 'cross_validation_column_based_%s_fold_%d_no_spinup.h5'%(output_var, (fold+1))\n",
    "\n",
    "model = load_model(os.path.join(path_model, model_name), custom_objects)"
   ]
  },
  {
   "cell_type": "markdown",
   "metadata": {},
   "source": [
    "#### The data will need to be scaled according to the training folds"
   ]
  },
  {
   "cell_type": "code",
   "execution_count": 11,
   "metadata": {},
   "outputs": [],
   "source": [
    "scaler = StandardScaler()"
   ]
  },
  {
   "cell_type": "markdown",
   "metadata": {},
   "source": [
    "#### Useful functions to plot results"
   ]
  },
  {
   "cell_type": "code",
   "execution_count": 12,
   "metadata": {},
   "outputs": [],
   "source": [
    "def mean_clc_per_vertical_layer(model, input_data, output_data, batch_size=2**20):\n",
    "    '''\n",
    "        Model prediction and the Ground Truth\n",
    "    '''\n",
    "    # output_var means for first model\n",
    "    clc_data_mean = []\n",
    "    for i in range(27):\n",
    "        clc_data_mean.append(np.mean(output_data[:, i], dtype=np.float64))\n",
    "        \n",
    "    for i in range(input_data.shape[0]//batch_size): \n",
    "        if i == 0:\n",
    "            a = model.predict_on_batch(input_data[i*batch_size:(i+1)*batch_size])\n",
    "        else:\n",
    "            a = np.concatenate((a, model.predict_on_batch(input_data[i*batch_size:(i+1)*batch_size])), axis=0)\n",
    "        K.clear_session()\n",
    "        gc.collect()\n",
    "        \n",
    "    pred_adj = np.minimum(np.maximum(a, 0), 100) \n",
    "    \n",
    "    return list(np.mean(pred_adj, axis=0, dtype=np.float64)), clc_data_mean"
   ]
  },
  {
   "cell_type": "markdown",
   "metadata": {},
   "source": [
    "#### Evaluate the models on the data\n",
    "\n",
    "Add training and validation losses to the text files. <br>\n",
    "Print results per vertical layer (respective validation set)"
   ]
  },
  {
   "cell_type": "code",
   "execution_count": 13,
   "metadata": {},
   "outputs": [
    {
     "name": "stdout",
     "output_type": "stream",
     "text": [
      "328/328 - 18s - loss: 53.6250\n",
      "164/164 - 8s - loss: 56.1918\n"
     ]
    }
   ],
   "source": [
    "train_losses = [] ; valid_losses = [] ; valid_means = [] ; valid_model_predictions = [] ;\n",
    "narval_means = [] ; narval_model_predictions = [] ; qubicc_means = [] ; qubicc_model_predictions = [] ;\n",
    "qubicc_month_0 = [] ; qubicc_model_pred_month_0 = [] ; qubicc_month_1 = [] ; qubicc_model_pred_month_1 = [] ;\n",
    "qubicc_month_2 = [] ; qubicc_model_pred_month_2 = [] ;\n",
    "\n",
    "filename = 'cross_validation_column_based_%s_fold_%d'%(output_var, (fold+1))\n",
    "\n",
    "#Standardize according to the fold\n",
    "scaler.fit(input_data[training_folds[fold]])\n",
    "\n",
    "#Load the data for the respective fold\n",
    "input_train = scaler.transform(input_data[training_folds[fold]])\n",
    "input_valid = scaler.transform(input_data[validation_folds[fold]])\n",
    "output_train = output_data[training_folds[fold]]\n",
    "output_valid = output_data[validation_folds[fold]]\n",
    "\n",
    "## Training and validation losses\n",
    "train_loss = model.evaluate(input_train, output_train, verbose=2, batch_size=10**5)\n",
    "valid_loss = model.evaluate(input_valid, output_valid, verbose=2, batch_size=10**5)\n",
    "\n",
    "train_losses.append(train_loss)\n",
    "valid_losses.append(valid_loss)\n",
    "\n",
    "with open(os.path.join(path_model, filename+'.txt'), 'a') as file:\n",
    "    file.write('Unbounded training loss: %.4f\\n'%(train_loss))\n",
    "    file.write('Unbounded validation loss: %.4f\\n'%(valid_loss))\n",
    "\n",
    "## Compute mean cloud cover per vertical layer\n",
    "# On the respective validation sets (QUBICC and NARVAL)\n",
    "try:\n",
    "    clc_pred_mean, clc_data_mean = mean_clc_per_vertical_layer(model, input_valid, output_valid)\n",
    "except(ResourceExhaustedError):\n",
    "    print('Resource Exhausted Qubicc')\n",
    "    clc_pred_mean, clc_data_mean = mean_clc_per_vertical_layer(model, input_valid, output_valid, batch_size=2**15)\n",
    "valid_means.append(clc_data_mean)\n",
    "valid_model_predictions.append(clc_pred_mean)"
   ]
  },
  {
   "cell_type": "code",
   "execution_count": 14,
   "metadata": {},
   "outputs": [],
   "source": [
    "# In case we want to reproduce the plots without running everything again:\n",
    "with open(os.path.join(path_figures, 'values_for_figures_%s_fold_%d_%s.txt'%(output_var, fold, days)), 'w') as file:\n",
    "    file.write('On validation sets\\n')\n",
    "    file.write(str(valid_means))\n",
    "    file.write(str(valid_model_predictions))"
   ]
  },
  {
   "cell_type": "markdown",
   "metadata": {
    "tags": []
   },
   "source": [
    "#### Compute bounded losses\n",
    "\n",
    "We also save the scaling parameters for the fold-based models as we haven't done that yet."
   ]
  },
  {
   "cell_type": "code",
   "execution_count": 15,
   "metadata": {
    "tags": []
   },
   "outputs": [],
   "source": [
    "def compute_bounded_loss(model, input_data, output_data, batch_size=2**20):\n",
    "    for i in range(1 + input_data.shape[0]//batch_size):\n",
    "        if i == 0:\n",
    "            a = model.predict_on_batch(input_data[i*batch_size:(i+1)*batch_size])\n",
    "        else:\n",
    "            a = np.concatenate((a, model.predict_on_batch(input_data[i*batch_size:(i+1)*batch_size])), axis=0)\n",
    "        K.clear_session()\n",
    "        gc.collect()\n",
    "        \n",
    "    # Bounded output!\n",
    "    pred_adj = np.minimum(np.maximum(a, 0), 100) \n",
    "    \n",
    "    # Mean Squared Error\n",
    "    return np.mean((pred_adj - output_data)**2, dtype=np.float64)"
   ]
  },
  {
   "cell_type": "code",
   "execution_count": null,
   "metadata": {},
   "outputs": [],
   "source": [
    "train_loss = compute_bounded_loss(model, input_train, output_train, batch_size=2**15)\n",
    "valid_loss = compute_bounded_loss(model, input_valid, output_valid, batch_size=2**15)\n",
    "\n",
    "with open(os.path.join(path_model, filename+'.txt'), 'a') as file:\n",
    "    file.write('Bounded training loss: %.4f\\n'%(train_loss))\n",
    "    file.write('Bounded validation loss: %.4f\\n'%(valid_loss))"
   ]
  },
  {
   "cell_type": "code",
   "execution_count": null,
   "metadata": {},
   "outputs": [],
   "source": []
  }
 ],
 "metadata": {
  "kernelspec": {
   "display_name": "clouds",
   "language": "python",
   "name": "clouds"
  },
  "language_info": {
   "codemirror_mode": {
    "name": "ipython",
    "version": 3
   },
   "file_extension": ".py",
   "mimetype": "text/x-python",
   "name": "python",
   "nbconvert_exporter": "python",
   "pygments_lexer": "ipython3",
   "version": "3.7.12"
  }
 },
 "nbformat": 4,
 "nbformat_minor": 4
}
