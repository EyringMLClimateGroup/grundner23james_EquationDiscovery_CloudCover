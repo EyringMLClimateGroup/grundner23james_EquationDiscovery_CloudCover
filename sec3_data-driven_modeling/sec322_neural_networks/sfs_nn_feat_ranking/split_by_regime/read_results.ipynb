{
 "cells": [
  {
   "cell_type": "markdown",
   "id": "115f055d-0a5f-4eb2-b193-4a171727a45c",
   "metadata": {},
   "source": [
    "### Read results"
   ]
  },
  {
   "cell_type": "code",
   "execution_count": 17,
   "id": "7c767855-3990-4aaf-b852-4165ebec84a2",
   "metadata": {},
   "outputs": [],
   "source": [
    "import numpy as np\n",
    "import json\n",
    "import os"
   ]
  },
  {
   "cell_type": "code",
   "execution_count": 21,
   "id": "0aad5462-0e52-464e-9cdd-6dfdc70be57a",
   "metadata": {},
   "outputs": [],
   "source": [
    "# Current path\n",
    "path = '/home/b/b309170/my_work/published_code/grundner23james_EquationDiscovery_CloudCover_addressing_reviews/sec3_data-driven_modeling/sec322_neural_networks/sfs_nn_feat_ranking/split_by_regime/'"
   ]
  },
  {
   "cell_type": "markdown",
   "id": "bcab6354-b3dd-40fd-aa37-e4f32f75e495",
   "metadata": {},
   "source": [
    "### Averaged SFS order of variables over 10 seeds"
   ]
  },
  {
   "cell_type": "code",
   "execution_count": 26,
   "id": "020cac19-b487-43e2-bc44-4ef0ff7115e5",
   "metadata": {},
   "outputs": [],
   "source": [
    "def return_averaged_ranking(folder_abs_path, model_type, reg, max_no_features=10): \n",
    "    '''\n",
    "        folder_abs_path: Folder that contains the relevant files (absolute path)\n",
    "        model_type: 'nn', 'polynomial_degree_1', 'polynomial_degree_2', 'polynomial_degree_3'\n",
    "    '''\n",
    "    var_position = {}\n",
    "    \n",
    "    if model_type == 'nn':\n",
    "        substring = '0.json'\n",
    "        key_name = 'features_'\n",
    "    elif model_type.startswith('polynomial'):\n",
    "        substring = model_type.split('_', 1)[1]\n",
    "        key_name = 'Number of variables '\n",
    "\n",
    "    reg_files = [file for file in os.listdir(folder_abs_path) if '.json' in file and 'regime_%d'%reg in file]\n",
    "    for file_name in reg_files:\n",
    "        # Open the file if it is one of the 10 seeds\n",
    "        if substring in file_name:\n",
    "            with open(folder_abs_path + file_name, 'r') as file:\n",
    "                d = json.load(file)\n",
    "                # Either we can append to the list otherwise it needs to be initialized\n",
    "                if model_type == 'nn':\n",
    "                    try:\n",
    "                        var_position[d['%s%d'%(key_name,1)][0]].append(1)\n",
    "                    except:\n",
    "                        var_position[d['%s%d'%(key_name,1)][0]] = [1]\n",
    "                elif model_type.startswith('polynomial'):\n",
    "                    try:\n",
    "                        var_position[list(d['%s%d'%(key_name,1)].keys())[:-5][0]].append(1)\n",
    "                    except:\n",
    "                        var_position[list(d['%s%d'%(key_name,1)].keys())[:-5][0]] = [1]\n",
    "                for k in range(1, max_no_features):\n",
    "                    if model_type == 'nn':\n",
    "                        features_old = set(d['%s%d'%(key_name,k)])\n",
    "                        features_new = set(d['%s%d'%(key_name,k+1)])\n",
    "                    elif model_type.startswith('polynomial'):\n",
    "                        features_old = set(list(d['%s%d'%(key_name,k)].keys())[:-5])\n",
    "                        features_new = set(list(d['%s%d'%(key_name,k+1)].keys())[:-5])\n",
    "                    # The added feature (set containing a single element)\n",
    "                    added_feature_set = set(features_new).symmetric_difference(features_old)\n",
    "                    added_feature = added_feature_set.pop()\n",
    "                    try:\n",
    "                        var_position[added_feature].append(k+1)\n",
    "                    except:\n",
    "                        var_position[added_feature] = [k+1]\n",
    "\n",
    "    # Set position to max_no_features + 1 if they were not in the top max_no_features for all seeds.\n",
    "    for key in var_position.keys():\n",
    "        # There are 10 different seeds\n",
    "        while len(var_position[key]) < 10:\n",
    "            var_position[key].append(max_no_features + 1)\n",
    "\n",
    "    # Compute the average var_positions\n",
    "    var_position_avrg = {}\n",
    "    for key in var_position.keys():\n",
    "        var_position_avrg[key] = np.mean(var_position[key])\n",
    "\n",
    "    # Sort the variables according to their average position and return the resulting dictionary!\n",
    "    dict_keys = list(var_position_avrg.keys())\n",
    "    dict_values = list(var_position_avrg.values())\n",
    "    sorted_inds = np.argsort(dict_values)\n",
    "    sorted_dict = {dict_keys[ind]: dict_values[ind] for ind in sorted_inds}\n",
    "    \n",
    "    return sorted_dict"
   ]
  },
  {
   "cell_type": "code",
   "execution_count": 28,
   "id": "2c75546f-39c0-434f-8613-ab17a2f2f7ec",
   "metadata": {},
   "outputs": [
    {
     "data": {
      "text/plain": [
       "{'cli': 1.0,\n",
       " 'rh': 2.0,\n",
       " 'ta': 3.4,\n",
       " 'rh_z': 4.0,\n",
       " 'rh_zz': 6.4,\n",
       " 'ta_z': 7.2,\n",
       " 'pa_z': 8.9,\n",
       " 'zg': 9.0,\n",
       " 'ps': 9.3,\n",
       " 'clw': 9.5,\n",
       " 'cli_zz': 9.6,\n",
       " 'cli_z': 9.7,\n",
       " 'pa': 9.9,\n",
       " 'hus': 10.2,\n",
       " 'fr_land': 10.4,\n",
       " 'pa_zz': 10.8,\n",
       " 'U': 10.8,\n",
       " 'hus_zz': 10.9}"
      ]
     },
     "execution_count": 28,
     "metadata": {},
     "output_type": "execute_result"
    }
   ],
   "source": [
    "# Regime 1\n",
    "return_averaged_ranking(path, 'nn', reg=1)"
   ]
  },
  {
   "cell_type": "code",
   "execution_count": 29,
   "id": "d259d263-65cc-4086-8211-a9ab7942210c",
   "metadata": {},
   "outputs": [
    {
     "data": {
      "text/plain": [
       "{'cli': 1.0,\n",
       " 'clw': 2.0,\n",
       " 'rh': 3.0,\n",
       " 'rh_z': 4.5,\n",
       " 'pa_zz': 5.1,\n",
       " 'ta': 7.7,\n",
       " 'pa_z': 8.7,\n",
       " 'rh_zz': 9.1,\n",
       " 'hus': 9.1,\n",
       " 'fr_land': 9.2,\n",
       " 'zg': 9.6,\n",
       " 'cli_z': 9.9,\n",
       " 'ps': 10.3,\n",
       " 'pa': 10.6,\n",
       " 'hus_zz': 10.7,\n",
       " 'ta_zz': 10.8,\n",
       " 'ta_z': 10.9,\n",
       " 'clw_z': 10.9,\n",
       " 'U_zz': 10.9}"
      ]
     },
     "execution_count": 29,
     "metadata": {},
     "output_type": "execute_result"
    }
   ],
   "source": [
    "# Regime 2\n",
    "return_averaged_ranking(path, 'nn', reg=2)"
   ]
  },
  {
   "cell_type": "code",
   "execution_count": 30,
   "id": "bc5ed59f-66bf-40e0-827b-50527efef6a8",
   "metadata": {},
   "outputs": [
    {
     "data": {
      "text/plain": [
       "{'rh': 1.0,\n",
       " 'ta': 2.0,\n",
       " 'rh_z': 3.0,\n",
       " 'ps': 5.5,\n",
       " 'rh_zz': 5.6,\n",
       " 'pa_z': 6.2,\n",
       " 'clw': 7.5,\n",
       " 'cli': 8.0,\n",
       " 'pa': 9.6,\n",
       " 'ta_z': 9.7,\n",
       " 'hus_zz': 10.3,\n",
       " 'zg': 10.3,\n",
       " 'cli_z': 10.6,\n",
       " 'U': 10.6,\n",
       " 'cli_zz': 10.7,\n",
       " 'hus': 10.8,\n",
       " 'pa_zz': 10.9,\n",
       " 'hus_z': 10.9,\n",
       " 'U_z': 10.9,\n",
       " 'U_zz': 10.9}"
      ]
     },
     "execution_count": 30,
     "metadata": {},
     "output_type": "execute_result"
    }
   ],
   "source": [
    "# Regime 3\n",
    "return_averaged_ranking(path, 'nn', reg=3)"
   ]
  },
  {
   "cell_type": "code",
   "execution_count": 31,
   "id": "c92b8348-7ac5-4539-9e7f-ec8d3c03d83b",
   "metadata": {},
   "outputs": [
    {
     "data": {
      "text/plain": [
       "{'rh': 1.0,\n",
       " 'rh_z': 2.0,\n",
       " 'pa_zz': 3.0,\n",
       " 'rh_zz': 5.9,\n",
       " 'clw': 6.3,\n",
       " 'ta': 7.5,\n",
       " 'hus': 8.1,\n",
       " 'pa': 8.3,\n",
       " 'ps': 8.8,\n",
       " 'clw_z': 9.4,\n",
       " 'ta_z': 9.7,\n",
       " 'hus_z': 10.1,\n",
       " 'hus_zz': 10.3,\n",
       " 'zg': 10.5,\n",
       " 'U': 10.5,\n",
       " 'ta_zz': 10.5,\n",
       " 'clw_zz': 10.6,\n",
       " 'cli': 10.8,\n",
       " 'pa_z': 10.9,\n",
       " 'U_z': 10.9,\n",
       " 'cli_z': 10.9}"
      ]
     },
     "execution_count": 31,
     "metadata": {},
     "output_type": "execute_result"
    }
   ],
   "source": [
    "# Regime 4\n",
    "return_averaged_ranking(path, 'nn', reg=4)"
   ]
  }
 ],
 "metadata": {
  "kernelspec": {
   "display_name": "Python 3 (based on the module python3/2023.01)",
   "language": "python",
   "name": "python3_2023_01"
  },
  "language_info": {
   "codemirror_mode": {
    "name": "ipython",
    "version": 3
   },
   "file_extension": ".py",
   "mimetype": "text/x-python",
   "name": "python",
   "nbconvert_exporter": "python",
   "pygments_lexer": "ipython3",
   "version": "3.10.10"
  }
 },
 "nbformat": 4,
 "nbformat_minor": 5
}
