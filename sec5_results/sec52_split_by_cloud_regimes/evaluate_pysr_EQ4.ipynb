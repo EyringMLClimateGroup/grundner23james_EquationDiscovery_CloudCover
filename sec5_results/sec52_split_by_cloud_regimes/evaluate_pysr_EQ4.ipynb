{
 "cells": [
  {
   "cell_type": "code",
   "execution_count": 22,
   "id": "9f87e2ed-1fea-4c72-a990-e5c73e861aa3",
   "metadata": {},
   "outputs": [],
   "source": [
    "# With native Python3 environment -- It takes around 12 minutes to evaluate one day\n",
    "import os\n",
    "import sys\n",
    "import json\n",
    "import numpy as np\n",
    "import xarray as xr\n",
    "import sympy as sp\n",
    "import matplotlib.pyplot as plt\n",
    "\n",
    "sys.path.insert(0, '/home/b/b309170/workspace_icon-ml/cloud_cover_parameterization/')\n",
    "import my_classes\n",
    "from my_classes import load_data\n",
    "\n",
    "sys.path.insert(0, '/home/b/b309170/workspace_icon-ml/symbolic_regression/')\n",
    "from functions import add_derivatives\n",
    "from functions import append_dict_to_json"
   ]
  },
  {
   "cell_type": "markdown",
   "id": "2624fe28-4e22-4f3e-a9f8-028ec7fa1106",
   "metadata": {},
   "source": [
    "**Load data**"
   ]
  },
  {
   "cell_type": "code",
   "execution_count": 8,
   "id": "66dafce0-8c7a-4cc9-a8b9-45d5184005ff",
   "metadata": {
    "tags": []
   },
   "outputs": [],
   "source": [
    "all_features = ['hus', 'clw', 'cli', 'ta', 'pa', 'zg', 'fr_land', 'U', 'rh', 'ps', 'hus_z', 'hus_zz', 'clw_z', 'clw_zz', 'cli_z',\\\n",
    "              'cli_zz', 'ta_z', 'ta_zz', 'pa_z', 'pa_zz', 'U_z', 'U_zz', 'rh_z', 'rh_zz']\n",
    "path_data = os.path.join('/home/b/b309170/', 'my_work/icon-ml_data/cloud_cover_parameterization/neighborhood_based_SR_DYAMOND')\n",
    "input_data = np.load(path_data + '/cloud_cover_input_dyamond.npy')\n",
    "output_data = np.load(path_data + '/cloud_area_output_dyamond.npy')\n",
    "\n",
    "(samples_total, no_of_features) = input_data.shape\n",
    "(samples_total, no_of_features)\n",
    "\n",
    "loc_all = {}\n",
    "for i in range(len(all_features)):\n",
    "    loc_all[all_features[i]] = i"
   ]
  },
  {
   "cell_type": "markdown",
   "id": "b977761d-7894-4a9b-a6eb-983321f540ae",
   "metadata": {},
   "source": [
    "**We evaluate on cloud regimes**\n",
    "\n",
    "Refer to symbolic_regression/finding_symmetries/seq_feature_selector_dyamond_nns.ipynb."
   ]
  },
  {
   "cell_type": "code",
   "execution_count": 9,
   "id": "18a94f27-da39-4411-9bf0-d139e8fc4c4c",
   "metadata": {},
   "outputs": [
    {
     "name": "stdout",
     "output_type": "stream",
     "text": [
      "(58421418, 24)\n",
      "(58421418,)\n",
      "(35374362, 24)\n",
      "(35374362,)\n",
      "(35374356, 24)\n",
      "(35374356,)\n",
      "(58421401, 24)\n",
      "(58421401,)\n"
     ]
    }
   ],
   "source": [
    "a = 1\n",
    "\n",
    "cod_subs = a*input_data[:, loc_all['cli']] + input_data[:, loc_all['clw']]\n",
    "cod_subs_med = np.median(cod_subs[cod_subs != 0])\n",
    "\n",
    "pa_med = np.median(input_data[cod_subs != 0, loc_all['pa']])\n",
    "\n",
    "# For the training data\n",
    "input_data_reg_1 = input_data[(0 < cod_subs) & (cod_subs < cod_subs_med) & (input_data[:, loc_all['pa']] < pa_med)]\n",
    "input_data_reg_2 = input_data[(0 < cod_subs) & (cod_subs < cod_subs_med) & (input_data[:, loc_all['pa']] > pa_med)]\n",
    "input_data_reg_3 = input_data[(cod_subs > cod_subs_med) & (input_data[:, loc_all['pa']] < pa_med)]\n",
    "input_data_reg_4 = input_data[(cod_subs > cod_subs_med) & (input_data[:, loc_all['pa']] > pa_med)]\n",
    "\n",
    "output_data_reg_1 = output_data[(0 < cod_subs) & (cod_subs < cod_subs_med) & (input_data[:, loc_all['pa']] < pa_med)]\n",
    "output_data_reg_2 = output_data[(0 < cod_subs) & (cod_subs < cod_subs_med) & (input_data[:, loc_all['pa']] > pa_med)]\n",
    "output_data_reg_3 = output_data[(cod_subs > cod_subs_med) & (input_data[:, loc_all['pa']] < pa_med)]\n",
    "output_data_reg_4 = output_data[(cod_subs > cod_subs_med) & (input_data[:, loc_all['pa']] > pa_med)]\n",
    "\n",
    "# Do the regimes have a similar size?\n",
    "for i in range(1, 5):\n",
    "    print(locals()['input_data_reg_%d'%i].shape)\n",
    "    print(locals()['output_data_reg_%d'%i].shape)"
   ]
  },
  {
   "cell_type": "markdown",
   "id": "e1a35929-ef8a-41fa-98c1-3ff185a50d60",
   "metadata": {},
   "source": [
    "**Keeping only the relevant features**"
   ]
  },
  {
   "cell_type": "code",
   "execution_count": 10,
   "id": "8069bbad-9136-4ff5-9655-3dd9f7ebc969",
   "metadata": {},
   "outputs": [],
   "source": [
    "features = ['rh', 'ta', 'clw', 'cli', 'rh_z']\n",
    "inds = [loc_all[feat] for feat in features]\n",
    "for reg in range(1, 5):\n",
    "    locals()['input_data_reg_%d'%reg] = locals()['input_data_reg_%d'%reg][:, inds]\n",
    "no_features = input_data_reg_1.shape[1]"
   ]
  },
  {
   "cell_type": "code",
   "execution_count": 11,
   "id": "744384a9-b48b-4e29-b171-1b948ff799b0",
   "metadata": {},
   "outputs": [],
   "source": [
    "# Update loc\n",
    "loc = {}\n",
    "for i in range(len(features)):\n",
    "    loc[features[i]] = i"
   ]
  },
  {
   "cell_type": "markdown",
   "id": "dd5711b1-f92c-47db-bef5-f162a9559355",
   "metadata": {},
   "source": [
    "**Normalize the features**"
   ]
  },
  {
   "cell_type": "code",
   "execution_count": 12,
   "id": "f7d119dc-7b3a-4fa0-974c-a1b755b7b40b",
   "metadata": {
    "tags": []
   },
   "outputs": [],
   "source": [
    "features = ['rh', 'ta', 'clw', 'cli', 'rh_z']\n",
    "\n",
    "# Scale the data\n",
    "mean_all = [4.12205844e-03,2.25493498e-05,3.38180032e-06,2.57065512e+02,6.00030443e+04,5.64080139e+03,2.35046400e-01,1.32776682e+01,6.02512234e-01,9.86270417e+04,-1.27545273e-06,-4.02484958e-10,1.65204582e-08,-4.34660202e-11,4.29441131e-10,-1.82817316e-12,-4.68742483e-03,-7.54899040e-07,-7.51544542e+00,-1.06989723e-04,1.65615172e-03,-9.27604679e-06,-4.76200071e-05,-1.32246548e-07]\n",
    "std_all = [5.07648249e-03,5.69702638e-05,1.01308124e-05,3.00533874e+01,3.12514292e+04,5.66963918e+03,4.11184302e-01,1.11389888e+01,3.32494615e-01,6.24039256e+03,2.03179260e-06,1.17041141e-08,1.33311867e-07,1.42840744e-09,6.73384546e-09,5.07424672e-11,5.82875686e-03,6.34826092e-05,3.53136052e+00,1.13215264e-02,6.62892130e-03,6.08144307e-05,2.58065098e-04,2.49552692e-06]\n",
    "\n",
    "mean = np.concatenate([np.expand_dims(mean_all[loc_all[sel_var]], axis=0) for sel_var in features], axis = 0)\n",
    "std = np.concatenate([np.expand_dims(std_all[loc_all[sel_var]], axis=0) for sel_var in features], axis = 0)\n",
    "\n",
    "# Work with scaled regimes\n",
    "for reg in range(1, 5):\n",
    "    locals()['input_scaled_%d'%reg] = (locals()['input_data_reg_%d'%reg] - mean)/std"
   ]
  },
  {
   "cell_type": "code",
   "execution_count": 13,
   "id": "26e734a3-580a-48e4-b2c4-a891a42b5685",
   "metadata": {},
   "outputs": [],
   "source": [
    "def func(X):\n",
    "    # X = ['rh', 't', 'clwc', 'ciwc', 'rh_z']\n",
    "    x0 = X[:, 0] \n",
    "    x1 = X[:, 1] \n",
    "    x2 = X[:, 2] \n",
    "    x3 = X[:, 3]\n",
    "    x4 = X[:, 4]\n",
    "    return 19.784*x0*(1.13638*x0 + x1**2) + 38.6562*x0 - 43.535*x1 + x4**2*(0.352999*x4 + 4.04889) + 44.2173 - 2.03129/(x2 + 0.669716*x3 + 0.640902)"
   ]
  },
  {
   "cell_type": "code",
   "execution_count": 14,
   "id": "6f1fdcef-6f16-45f7-a22c-17e90674665e",
   "metadata": {
    "tags": []
   },
   "outputs": [],
   "source": [
    "# Regime-based evaluation\n",
    "\n",
    "results = {}\n",
    "all_preds = []\n",
    "\n",
    "for reg in range(1, 5):\n",
    "    X = locals()['input_scaled_%d'%reg]\n",
    "    y = locals()['output_data_reg_%d'%reg]\n",
    "    all_preds.append(np.minimum(np.maximum(func(X), 0), 100))\n",
    "    reg_mse = np.mean((all_preds[reg - 1] - y)**2, dtype=np.float64)\n",
    "    r2 = 1-reg_mse/np.var(y)\n",
    "    \n",
    "    results['Regime %d MSE'%reg] = reg_mse\n",
    "    results['Regime %d R2'%reg] = r2"
   ]
  },
  {
   "cell_type": "markdown",
   "id": "dec79f4a-7f92-4889-81bf-6f09cecee4da",
   "metadata": {},
   "source": [
    "**Save results**\n",
    "\n",
    "The high variance of the output data pushes the R2-score in the cirrus and cumulus regimes. <br>\n",
    "Note that in the json-file the R2-score and the MSE paint two very different pictures!"
   ]
  },
  {
   "cell_type": "code",
   "execution_count": 15,
   "id": "c9c0e3ae-f60f-4f7e-9720-c35edf47b70b",
   "metadata": {
    "tags": []
   },
   "outputs": [],
   "source": [
    "# Dump results\n",
    "with open('/home/b/b309170/workspace_icon-ml/symbolic_regression/evaluate_schemes/on_isccp_regimes/results/evaluate_EQ4.json', 'w') as file:\n",
    "    json.dump(results, file)"
   ]
  },
  {
   "cell_type": "code",
   "execution_count": 21,
   "id": "b860df40-464e-47c6-821c-9f975daf6904",
   "metadata": {},
   "outputs": [
    {
     "data": {
      "image/png": "[encoded data removed]",
      "text/plain": [
       "<Figure size 1440x1080 with 4 Axes>"
      ]
     },
     "metadata": {
      "needs_background": "light"
     },
     "output_type": "display_data"
    }
   ],
   "source": [
    "import matplotlib\n",
    "matplotlib.rcParams['legend.fontsize'] = 'x-large'\n",
    "matplotlib.rcParams['axes.labelsize'] = 'xx-large' # For an axes xlabel and ylabel\n",
    "matplotlib.rcParams['xtick.labelsize'] = 'xx-large'\n",
    "matplotlib.rcParams['ytick.labelsize'] = 'xx-large'\n",
    "\n",
    "plt.figure(figsize=(20, 15))\n",
    "plt.subplots_adjust(hspace=0.4)\n",
    "# plt.suptitle(\"Distributions on all validation data vs on the subset\", fontsize=18, y=.91)\n",
    "\n",
    "feats = ['Cirrus regime', 'Cumulus regime', 'Deep Convective Regime', 'Stratus regime']\n",
    "\n",
    "hist_data = {}\n",
    "hist_preds = {}\n",
    "\n",
    "axes = (0,1,2,3)\n",
    "for reg, par in enumerate(feats):\n",
    "    # Add new subplot iteratively\n",
    "    ax = plt.subplot(2, 2, reg + 1)\n",
    "    \n",
    "    axis = axes[:reg] + axes[(reg+1):]\n",
    "    hist_data['Data_reg_%d'%reg] = ax.hist(locals()['output_data_reg_%d'%(reg+1)], bins=80, histtype='step', color='k', linewidth=2)\n",
    "    hist_preds['Preds_reg_%d'%reg] = ax.hist(all_preds[reg], bins=80, alpha=.5, histtype='step', linewidth=4)\n",
    "    \n",
    "    plt.legend(['DYAMOND cl_area', 'PySR EQ4'], loc='upper left')\n",
    "    plt.xlabel(par)\n",
    "    plt.ylim((0, 2*10**7))\n",
    "    \n",
    "plt.savefig('/home/b/b309170/workspace_icon-ml/symbolic_regression/evaluate_schemes/on_isccp_regimes/results/evaluate_EQ4.pdf')"
   ]
  },
  {
   "cell_type": "code",
   "execution_count": 23,
   "id": "0af0c03f-2899-4978-83ca-814abda9f50d",
   "metadata": {},
   "outputs": [],
   "source": [
    "hist_data_json = {}\n",
    "for key in hist_data.keys():\n",
    "    hist_data_json[key + '_x'] = list(hist_data[key][0])\n",
    "    hist_data_json[key + '_y'] = list(np.array(hist_data[key][1], dtype='float64'))\n",
    "    \n",
    "hist_preds_json = {}\n",
    "for key in hist_preds.keys():\n",
    "    hist_preds_json[key + '_x'] = list(hist_preds[key][0])\n",
    "    hist_preds_json[key + '_y'] = list(np.array(hist_preds[key][1], dtype='float64'))"
   ]
  },
  {
   "cell_type": "code",
   "execution_count": 25,
   "id": "172cea09-6313-4947-832f-87994c8caf45",
   "metadata": {},
   "outputs": [],
   "source": [
    "append_dict_to_json(hist_data_json, '/home/b/b309170/workspace_icon-ml/symbolic_regression/evaluate_schemes/on_isccp_regimes/results/evaluate_EQ4.json')\n",
    "append_dict_to_json(hist_preds_json, '/home/b/b309170/workspace_icon-ml/symbolic_regression/evaluate_schemes/on_isccp_regimes/results/evaluate_EQ4.json')"
   ]
  },
  {
   "cell_type": "code",
   "execution_count": null,
   "id": "faf70695-d6b9-411f-9dcc-a8a90292a253",
   "metadata": {},
   "outputs": [],
   "source": []
  }
 ],
 "metadata": {
  "kernelspec": {
   "display_name": "Python 3 (based on the module python3/2022.01)",
   "language": "python",
   "name": "python3_2022_01"
  },
  "language_info": {
   "codemirror_mode": {
    "name": "ipython",
    "version": 3
   },
   "file_extension": ".py",
   "mimetype": "text/x-python",
   "name": "python",
   "nbconvert_exporter": "python",
   "pygments_lexer": "ipython3",
   "version": "3.9.9"
  }
 },
 "nbformat": 4,
 "nbformat_minor": 5
}
