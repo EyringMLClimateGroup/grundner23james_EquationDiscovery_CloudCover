{
 "cells": [
  {
   "cell_type": "markdown",
   "id": "a17cfb10-cb26-4a31-b80b-74691e5aa40e",
   "metadata": {},
   "source": [
    "### Check some of the most promising equations and possibly optimize their coefficients\n",
    "\n",
    "Executed through /home/b/b309170/scripts/run_era5_evalute_and_transfer_learn_5.sh"
   ]
  },
  {
   "cell_type": "code",
   "execution_count": 37,
   "id": "cf98bcfb-318d-4c82-83b6-c271721f15b2",
   "metadata": {},
   "outputs": [],
   "source": [
    "import numpy as np\n",
    "import sympy as sp\n",
    "import pandas as pd\n",
    "import matplotlib.pyplot as plt\n",
    "import json\n",
    "import sys\n",
    "import os\n",
    "import gc\n",
    "\n",
    "import scipy as sci\n",
    "from scipy.optimize import minimize\n",
    "\n",
    "sys.path.insert(0, '/home/b/b309170/workspace_icon-ml/cloud_cover_parameterization/')\n",
    "import my_classes\n",
    "from my_classes import load_data\n",
    "\n",
    "sys.path.insert(0, '/home/b/b309170/workspace_icon-ml/symbolic_regression/')\n",
    "from functions import append_dict_to_json\n",
    "\n",
    "subset_exp = int(sys.argv[1])\n",
    "number_horizontal_locations = 10**subset_exp\n",
    "\n",
    "tl_bool = True\n",
    "SEED = int(sys.argv[2])\n",
    "\n",
    "num_cells = int(sys.argv[3])"
   ]
  },
  {
   "cell_type": "markdown",
   "id": "3f60cb70-9b40-440d-a9c8-7133b0ab7c53",
   "metadata": {},
   "source": [
    "**Read data**"
   ]
  },
  {
   "cell_type": "code",
   "execution_count": 38,
   "id": "8342015a-1d75-48f2-904d-7fd72b051963",
   "metadata": {},
   "outputs": [
    {
     "name": "stdout",
     "output_type": "stream",
     "text": [
      "(24, 27, 66655)\n",
      "(24, 27, 66655)\n",
      "(24, 27, 66655)\n",
      "(24, 27, 66655)\n",
      "(24, 27, 66655)\n",
      "(24, 27, 66655)\n"
     ]
    }
   ],
   "source": [
    "order_of_vars = ['q', 'clwc', 'ciwc', 't', 'pa', 'zg', 'cc']\n",
    "data_dict = load_data(source='era5', days='all', order_of_vars=order_of_vars)\n",
    "\n",
    "TIMESTEPS, VLAYERS, HFIELDS = data_dict['q'].shape\n",
    "\n",
    "# Removing four upper-most levels\n",
    "for key in data_dict.keys():\n",
    "    data_dict[key] = data_dict[key][:, 4:].copy()\n",
    "\n",
    "# Data output\n",
    "data_output = data_dict['cc']\n",
    "del data_dict['cc']\n",
    "\n",
    "for key in data_dict.keys():\n",
    "    print(data_dict[key].shape)\n",
    "    assert data_dict[key].shape == data_dict[key].shape"
   ]
  },
  {
   "cell_type": "code",
   "execution_count": 39,
   "id": "1dc58632-c8a9-4f3c-b72a-d5f75ae6cefc",
   "metadata": {},
   "outputs": [],
   "source": [
    "# Add rh\n",
    "T0 = 273.15\n",
    "r = 0.00263*data_dict['pa']*data_dict['q']*np.exp((17.67*(data_dict['t']-T0))/(data_dict['t']-29.65))**(-1)\n",
    "data_dict['rh'] = r"
   ]
  },
  {
   "cell_type": "markdown",
   "id": "c32a6491-18c4-4e2e-a4d0-aebdd8943c77",
   "metadata": {},
   "source": [
    "**Reshaping and keeping only the relevant features**"
   ]
  },
  {
   "cell_type": "code",
   "execution_count": 40,
   "id": "f0c75015-1856-4b8c-ba25-abe3ce93751c",
   "metadata": {},
   "outputs": [],
   "source": [
    "features = ['rh', 't', 'clwc', 'ciwc']"
   ]
  },
  {
   "cell_type": "code",
   "execution_count": 41,
   "id": "fc80bbbb-df07-4379-afde-946033a74d27",
   "metadata": {},
   "outputs": [],
   "source": [
    "# Keeping only the relevant features\n",
    "for key in features:\n",
    "    data_dict[key] = np.reshape(data_dict[key], -1)\n",
    "    \n",
    "data_output = np.reshape(data_output, -1)\n",
    "\n",
    "del data_dict['q']\n",
    "del data_dict['pa']\n",
    "del data_dict['zg']\n",
    "\n",
    "no_features = len(data_dict.keys())"
   ]
  },
  {
   "cell_type": "markdown",
   "id": "ad988900-565d-4602-8466-93a3b7733088",
   "metadata": {},
   "source": [
    "**Cast dict into ndarray**"
   ]
  },
  {
   "cell_type": "code",
   "execution_count": 42,
   "id": "f133c60f-27ef-4ef8-adec-8e57bdb4c1b2",
   "metadata": {},
   "outputs": [
    {
     "name": "stdout",
     "output_type": "stream",
     "text": [
      "rh\n",
      "t\n",
      "clwc\n",
      "ciwc\n"
     ]
    }
   ],
   "source": [
    "# data_array = np.zeros((data_dict['q'].size, len(data_dict.keys())), dtype=np.float32)\n",
    "\n",
    "k = 0\n",
    "data_array_not_T = []\n",
    "for key in features:\n",
    "    print(key)\n",
    "    data_array_not_T.append(data_dict[key])\n",
    "    del data_dict[key]\n",
    "    k += 1\n",
    "\n",
    "# Convert into np array and transpose\n",
    "data_array = np.transpose(np.array(data_array_not_T, dtype=np.float32))"
   ]
  },
  {
   "cell_type": "code",
   "execution_count": 43,
   "id": "2fe27850-f311-4a27-a071-f71c6c4ac50b",
   "metadata": {},
   "outputs": [],
   "source": [
    "# Update loc\n",
    "loc = {}\n",
    "for i in range(len(features)):\n",
    "    loc[features[i]] = i"
   ]
  },
  {
   "cell_type": "markdown",
   "id": "4c483617-ef4b-4c21-8346-9ed3fed4e5f1",
   "metadata": {},
   "source": [
    "**Pick the subset**"
   ]
  },
  {
   "cell_type": "code",
   "execution_count": 44,
   "id": "a459679e-34fd-496c-a63a-4fb52a986cf4",
   "metadata": {},
   "outputs": [],
   "source": [
    "seed = np.random.seed(SEED)\n",
    "subset = np.random.randint(0, HFIELDS, number_horizontal_locations)\n",
    "# Convert to regular int to make check_sum JSON serializable\n",
    "check_sum = int(np.sum(subset))\n",
    "\n",
    "# Collecting all grid cell indices for the horizontal fields given by subset\n",
    "Z = np.zeros((TIMESTEPS, 27, HFIELDS), dtype=int)\n",
    "for k in range(HFIELDS):\n",
    "    Z[:,:,k] = k\n",
    "Z_res = np.reshape(Z, -1)\n",
    "subset_inds = np.concatenate([np.where(Z_res == s)[0] for s in subset])"
   ]
  },
  {
   "cell_type": "code",
   "execution_count": 45,
   "id": "df694d15-0f80-4892-b74f-23e27002a940",
   "metadata": {},
   "outputs": [],
   "source": [
    "train_input = data_array[subset_inds[:num_cells]] #num_hours*27\n",
    "train_output = data_output[subset_inds[:num_cells]] #num_hours*27"
   ]
  },
  {
   "cell_type": "markdown",
   "id": "ea8964f3-0f23-4c08-a123-873428d5cb10",
   "metadata": {},
   "source": [
    "**Already remove the regime with clw + cli = 0**"
   ]
  },
  {
   "cell_type": "code",
   "execution_count": 46,
   "id": "3c49bd41-a66f-40b5-9944-96f3e73e5059",
   "metadata": {},
   "outputs": [],
   "source": [
    "reg_0 = np.where(data_array[:, loc['clwc']] + data_array[:, loc['ciwc']] <= 1e-20)[0]\n",
    "reg_not_0 = np.where(data_array[:, loc['clwc']] + data_array[:, loc['ciwc']] > 1e-20)[0]\n",
    "\n",
    "# Relevant values to compute final MSE/R2-scores\n",
    "mse_reg_0 = np.mean(data_output[reg_0]**2)\n",
    "len_reg_0 = len(reg_0)\n",
    "len_reg_not_0 = len(reg_not_0)\n",
    "len_data_output = len(data_output)\n",
    "var_data_output = np.var(data_output)\n",
    "\n",
    "data_array = data_array[reg_not_0]\n",
    "data_output = data_output[reg_not_0]"
   ]
  },
  {
   "cell_type": "code",
   "execution_count": 47,
   "id": "560f01e5-9a18-4fc0-924a-1f0d81fd7a10",
   "metadata": {},
   "outputs": [
    {
     "name": "stdout",
     "output_type": "stream",
     "text": [
      "4.1247884e-05\n",
      "(19717305, 4)\n",
      "(19717305,)\n"
     ]
    },
    {
     "data": {
      "text/plain": [
       "23475135"
      ]
     },
     "execution_count": 47,
     "metadata": {},
     "output_type": "execute_result"
    }
   ],
   "source": [
    "print(mse_reg_0)\n",
    "print(data_array.shape)\n",
    "print(data_output.shape)\n",
    "\n",
    "# Should be 338023\n",
    "len_reg_0"
   ]
  },
  {
   "cell_type": "markdown",
   "id": "413263dc-6008-47b7-825d-ddccdac1fdac",
   "metadata": {},
   "source": [
    "**Normalize the features**"
   ]
  },
  {
   "cell_type": "code",
   "execution_count": 48,
   "id": "7165b109-3a19-4314-aca6-32a61801f80c",
   "metadata": {
    "tags": []
   },
   "outputs": [],
   "source": [
    "all_possible_features = ['hus', 'clwc', 'ciwc', 't', 'pa', 'zg', 'fr_land', 'U', 'rh', 'ps', 'hus_z', 'hus_zz', 'clw_z', 'clw_zz', 'cli_z',\\\n",
    "            'cli_zz', 'ta_z', 'ta_zz', 'pa_z', 'pa_zz', 'U_z', 'U_zz', 'rh_z', 'rh_zz']\n",
    "loc_all = {}\n",
    "for i in range(len(all_possible_features)):\n",
    "    loc_all[all_possible_features[i]] = i\n",
    "\n",
    "# Scale the data\n",
    "mean_all = [4.12205844e-03,2.25493498e-05,3.38180032e-06,2.57065512e+02,6.00030443e+04,5.64080139e+03,2.35046400e-01,1.32776682e+01,6.02512234e-01,9.86270417e+04,-1.27545273e-06,-4.02484958e-10,1.65204582e-08,-4.34660202e-11,4.29441131e-10,-1.82817316e-12,-4.68742483e-03,-7.54899040e-07,-7.51544542e+00,-1.06989723e-04,1.65615172e-03,-9.27604679e-06,-4.76200071e-05,-1.32246548e-07]\n",
    "std_all = [5.07648249e-03,5.69702638e-05,1.01308124e-05,3.00533874e+01,3.12514292e+04,5.66963918e+03,4.11184302e-01,1.11389888e+01,3.32494615e-01,6.24039256e+03,2.03179260e-06,1.17041141e-08,1.33311867e-07,1.42840744e-09,6.73384546e-09,5.07424672e-11,5.82875686e-03,6.34826092e-05,3.53136052e+00,1.13215264e-02,6.62892130e-03,6.08144307e-05,2.58065098e-04,2.49552692e-06]\n",
    "\n",
    "mean = np.concatenate([np.expand_dims(mean_all[loc_all[sel_var]], axis=0) for sel_var in features], axis = 0)\n",
    "std = np.concatenate([np.expand_dims(std_all[loc_all[sel_var]], axis=0) for sel_var in features], axis = 0)\n",
    "\n",
    "# Work with scaled training folds\n",
    "data_scaled = (data_array - mean)/std\n",
    "train_input = (train_input - mean)/std\n",
    "\n",
    "del data_array"
   ]
  },
  {
   "cell_type": "markdown",
   "id": "a6fe38df-93d7-40d7-8b18-8433215f5a19",
   "metadata": {},
   "source": [
    "**Define and optimize equations**"
   ]
  },
  {
   "cell_type": "code",
   "execution_count": 49,
   "id": "544e3b1d-e161-44f1-b8b0-57367dd467ac",
   "metadata": {},
   "outputs": [],
   "source": [
    "# Complexity = 11\n",
    "def eq_1(X, a=52.6708, b=23.4291, c=1, d=1, e=1, f=119.675, g=1, h=1, i=1, j=1, k=1):\n",
    "    x0 = X[:, 0]; x1 = X[:, 1]; x2 = X[:, 2]; x3 = X[:, 3]\n",
    "    return a - b*(-c*np.exp(d*x0) + e*np.sin(f + g*x1) + (np.sin(np.sqrt(np.abs(h*x3))))/(i*x2 + j*x3 + np.cos(k*x2)))\n",
    "\n",
    "# Complexity = 9\n",
    "def eq_2(X, a=1531.13, b=2.53774, c=-89.99, d=1, e=60.204, f=1, g=4.60663, h=-0.89465, i=1):\n",
    "    x0 = X[:, 0]; x1 = X[:, 1]; x2 = X[:, 2]; x3 = X[:, 3]\n",
    "    return a + b*(-np.sqrt(np.abs(c + d*x1))*(e - f*x0 + x1) + g/(h - i*x2 - x3))\n",
    "\n",
    "# Complexity = 7\n",
    "def eq_3(X, a=49.9941, b=13.4357, c=1, d=1, e=1, f=1, g=2):\n",
    "    x0 = X[:, 0]; x1 = X[:, 1]; x2 = X[:, 2]; x3 = X[:, 3]\n",
    "    return a + b*(np.exp(c*x0) - d*x2 + e*np.log(np.abs(np.exp(f*x2) + g*x3)))\n",
    "\n",
    "# Complexity = 10\n",
    "def eq_4(X, a=91.3875, b=1.7767, c=9.03952, d=1, e=2, f=1, g=1, h=1, i=1, j=1):\n",
    "    x0 = X[:, 0]; x1 = X[:, 1]; x2 = X[:, 2]; x3 = X[:, 3]\n",
    "    return a - (b*(c - d*np.exp(e*x0) + f*x0 + x1))/(g*np.exp(h*x2 + i*x3) + j*x3)"
   ]
  },
  {
   "cell_type": "code",
   "execution_count": 50,
   "id": "0d51bf4d-09de-4d87-83bb-c8a63640717e",
   "metadata": {
    "tags": []
   },
   "outputs": [],
   "source": [
    "# # Equation 1\n",
    "# def objective_eq_1(P, X,Y):\n",
    "#     '''\n",
    "#         The objective function.\n",
    "#     '''\n",
    "#     a,b,c,d,e,f,g,h,i,j,k = P\n",
    "#     train_preds = np.minimum(np.maximum(eq_1(X, a,b,c,d,e,f,g,h,i,j,k), 0), 100)\n",
    "#     train_mse = np.mean((train_preds - Y)**2, dtype=np.float64)\n",
    "#     return train_mse\n",
    "\n",
    "# (a,b,c,d,e,f,g,h,i,j,k) = (52.6708, 23.4291, 1, 1, 1, 119.675, 1, 1, 1, 1, 1)\n",
    "# res_1 = minimize(objective_eq_1, (a,b,c,d,e,f,g,h,i,j,k), args=(train_data_scaled[subset_inds], flattened_output_train[subset_inds]), \\\n",
    "#                method='BFGS', options={'disp': True})\n",
    "# res_1"
   ]
  },
  {
   "cell_type": "code",
   "execution_count": 51,
   "id": "8df00a7f-0b1a-4b31-a741-88e0d00fac8e",
   "metadata": {
    "tags": []
   },
   "outputs": [],
   "source": [
    "# # Equation 2\n",
    "# def objective_eq_2(P, X,Y):\n",
    "#     '''\n",
    "#         The objective function.\n",
    "#     '''\n",
    "#     a,b,c,d,e,f,g,h,i = P\n",
    "#     train_preds = np.minimum(np.maximum(eq_2(X, a,b,c,d,e,f,g,h,i), 0), 100)\n",
    "#     train_mse = np.mean((train_preds - Y)**2, dtype=np.float64)\n",
    "#     return train_mse\n",
    "\n",
    "# (a,b,c,d,e,f,g,h,i) = (1531.13, 2.53774, -89.99, 1, 60.204, 1, 4.60663, -0.89465, 1)\n",
    "# res_2 = minimize(objective_eq_2, (a,b,c,d,e,f,g,h,i), args=(train_data_scaled[subset_inds], flattened_output_train[subset_inds]), \\\n",
    "#                method='BFGS', options={'disp': True})\n",
    "# res_2"
   ]
  },
  {
   "cell_type": "code",
   "execution_count": 52,
   "id": "b8ec3f1e-cc9d-4ffb-b30d-47ad08182db2",
   "metadata": {
    "tags": []
   },
   "outputs": [
    {
     "name": "stdout",
     "output_type": "stream",
     "text": [
      "Warning: Desired error not necessarily achieved due to precision loss.\n",
      "         Current function value: 8.970821\n",
      "         Iterations: 327\n",
      "         Function evaluations: 3812\n",
      "         Gradient evaluations: 475\n"
     ]
    },
    {
     "data": {
      "text/plain": [
       "      fun: 8.970821087014626\n",
       " hess_inv: array([[ 1.80923127e+00, -2.99749886e-02,  1.29410103e+00,\n",
       "        -7.95576994e+00,  3.64161954e+00,  1.10436514e-01,\n",
       "         1.18793619e-01],\n",
       "       [-2.99749886e-02,  7.75291414e-04, -3.41574079e-02,\n",
       "         2.08787266e-01, -9.21310803e-02, -2.84480372e-03,\n",
       "        -2.96906573e-03],\n",
       "       [ 1.29410103e+00, -3.41574079e-02,  1.51628447e+00,\n",
       "        -9.47973906e+00,  4.23076498e+00,  1.24865745e-01,\n",
       "         1.30869867e-01],\n",
       "       [-7.95576995e+00,  2.08787266e-01, -9.47973906e+00,\n",
       "         7.80123019e+01, -3.90134451e+01, -7.60369638e-01,\n",
       "        -8.08442894e-01],\n",
       "       [ 3.64161955e+00, -9.21310803e-02,  4.23076498e+00,\n",
       "        -3.90134450e+01,  2.02699849e+01,  3.34737042e-01,\n",
       "         3.59398233e-01],\n",
       "       [ 1.10436514e-01, -2.84480372e-03,  1.24865745e-01,\n",
       "        -7.60369639e-01,  3.34737043e-01,  1.04644651e-02,\n",
       "         1.08838284e-02],\n",
       "       [ 1.18793619e-01, -2.96906573e-03,  1.30869867e-01,\n",
       "        -8.08442894e-01,  3.59398233e-01,  1.08838284e-02,\n",
       "         1.14396637e-02]])\n",
       "      jac: array([-2.02655792e-05,  1.06896400e-01,  2.26378441e-04,  2.71797180e-05,\n",
       "       -2.95639038e-05,  1.54031515e-02,  1.26358271e-02])\n",
       "  message: 'Desired error not necessarily achieved due to precision loss.'\n",
       "     nfev: 3812\n",
       "      nit: 327\n",
       "     njev: 475\n",
       "   status: 2\n",
       "  success: False\n",
       "        x: array([1.19616412e+01, 1.92872700e-02, 6.48754681e+00, 8.28411084e+03,\n",
       "       9.76775276e+03, 9.19673452e-01, 6.91263816e-02])"
      ]
     },
     "execution_count": 52,
     "metadata": {},
     "output_type": "execute_result"
    }
   ],
   "source": [
    "# Equation 3\n",
    "def objective_eq_3(P, X,Y):\n",
    "    '''\n",
    "        The objective function.\n",
    "    '''\n",
    "    a,b,c,d,e,f,g = P\n",
    "    train_preds = np.minimum(np.maximum(eq_3(X, a,b,c,d,e,f,g), 0), 100)\n",
    "    train_mse = np.mean((train_preds - Y)**2, dtype=np.float64)\n",
    "    return train_mse\n",
    "\n",
    "(a,b,c,d,e,f,g) = (49.9941,13.4357,1,1,1,1,2)\n",
    "\n",
    "if tl_bool:\n",
    "    res_3 = minimize(objective_eq_3, (a,b,c,d,e,f,g), args=(train_input, train_output), \\\n",
    "                   method='Nelder-Mead', options={'disp': True})\n",
    "    res_3\n",
    "else:\n",
    "    # Compute the MSE and terminate if not tl_bool\n",
    "    P = (a,b,c,d,e,f,g)\n",
    "    mse_reg_1 = objective(P, data_scaled, data_output)\n",
    "    \n",
    "    results = {}\n",
    "\n",
    "    mse_new_total = (mse_reg_0*len_reg_0 + mse_reg_1*len_reg_not_0)/len_data_output\n",
    "    r2_new_total = 1 - mse_new_total/var_data_output\n",
    "\n",
    "    print(mse_new_total, r2_new_total)\n",
    "\n",
    "    parent_key = 'gpgomea_eq_3_no_tl'\n",
    "    results[parent_key] = {}\n",
    "    results[parent_key]['MSE'] = mse_new_total\n",
    "    results[parent_key]['R2'] = r2_new_total\n",
    "    results[parent_key]['Coefficients'] = [a,b,c,d,e,f,g]\n",
    "    # Should be the same for all runs\n",
    "    results[parent_key]['Check_sum'] = check_sum"
   ]
  },
  {
   "cell_type": "code",
   "execution_count": 53,
   "id": "409b8b11-94fd-4970-aa75-f9a2264830b9",
   "metadata": {
    "tags": []
   },
   "outputs": [],
   "source": [
    "# # Equation 4\n",
    "# def objective_eq_4(P, X,Y):\n",
    "#     '''\n",
    "#         The objective function.\n",
    "#     '''\n",
    "#     a,b,c,d,e,f,g,h,i,j = P\n",
    "#     train_preds = np.minimum(np.maximum(eq_4(X, a,b,c,d,e,f,g,h,i,j), 0), 100)\n",
    "#     train_mse = np.mean((train_preds - Y)**2, dtype=np.float64)\n",
    "#     return train_mse\n",
    "\n",
    "# (a,b,c,d,e,f,g,h,i,j) = (91.3875,1.7767,9.03952,1,2,1,1,1,1,1)\n",
    "# res_4 = minimize(objective_eq_4, (a,b,c,d,e,f,g,h,i,j), args=(train_data_scaled[subset_inds], flattened_output_train[subset_inds]), \\\n",
    "#                method='BFGS', options={'disp': True})\n",
    "# res_4"
   ]
  },
  {
   "cell_type": "markdown",
   "id": "21e58d5d-8ecc-4cfa-82d3-93ea69be182e",
   "metadata": {},
   "source": [
    "**Evaluate optimized equations**"
   ]
  },
  {
   "cell_type": "code",
   "execution_count": 54,
   "id": "d94a22f8-9ea9-4350-bb65-3d062ce320e0",
   "metadata": {},
   "outputs": [],
   "source": [
    "mse_reg_1 = objective_eq_3(res_3.x, data_scaled, data_output)"
   ]
  },
  {
   "cell_type": "code",
   "execution_count": 55,
   "id": "d7990c7d-9b4d-4ac3-9b40-65aacd052741",
   "metadata": {},
   "outputs": [
    {
     "name": "stdout",
     "output_type": "stream",
     "text": [
      "108.17831548662839 0.6673503637157349\n"
     ]
    }
   ],
   "source": [
    "results = {}\n",
    "\n",
    "mse_new_total = (mse_reg_0*len_reg_0 + mse_reg_1*len_reg_not_0)/len_data_output\n",
    "r2_new_total = 1 - mse_new_total/var_data_output\n",
    "\n",
    "print(mse_new_total, r2_new_total)\n",
    "\n",
    "parent_key = 'gpgomea_eq_3_tl_%d_num_cells_%d_seed_%d'%(subset_exp,num_cells,SEED)\n",
    "results[parent_key] = {}\n",
    "results[parent_key]['MSE'] = mse_new_total\n",
    "results[parent_key]['R2'] = r2_new_total\n",
    "results[parent_key]['Coefficients'] = list(res_3.x)\n",
    "# Should be the same for all runs\n",
    "results[parent_key]['Check_sum'] = check_sum"
   ]
  },
  {
   "cell_type": "markdown",
   "id": "48fe63f3-20e0-4584-8f46-4ce273be8086",
   "metadata": {},
   "source": [
    "**Save results**"
   ]
  },
  {
   "cell_type": "code",
   "execution_count": 56,
   "id": "e944f237-d840-4859-bc14-285b269d4fbc",
   "metadata": {},
   "outputs": [],
   "source": [
    "# Dump results\n",
    "append_dict_to_json(results, '/home/b/b309170/workspace_icon-ml/symbolic_regression/evaluate_schemes/on_era5/results/era5_1979-2021/gpgomea_equations.json')"
   ]
  }
 ],
 "metadata": {
  "kernelspec": {
   "display_name": "Python 3 (based on the module python3/2022.01)",
   "language": "python",
   "name": "python3_2022_01"
  },
  "language_info": {
   "codemirror_mode": {
    "name": "ipython",
    "version": 3
   },
   "file_extension": ".py",
   "mimetype": "text/x-python",
   "name": "python",
   "nbconvert_exporter": "python",
   "pygments_lexer": "ipython3",
   "version": "3.9.9"
  }
 },
 "nbformat": 4,
 "nbformat_minor": 5
}
