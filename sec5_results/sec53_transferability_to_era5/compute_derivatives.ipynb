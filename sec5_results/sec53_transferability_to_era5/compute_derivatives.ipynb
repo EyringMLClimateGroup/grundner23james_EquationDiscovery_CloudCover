{
 "cells": [
  {
   "cell_type": "markdown",
   "id": "867c0ea0-1ecb-4102-be68-0a813a79c426",
   "metadata": {},
   "source": [
    "### Compute derivatives once!"
   ]
  },
  {
   "cell_type": "code",
   "execution_count": 1,
   "id": "762c00f5-d2b6-4cb8-9fe5-bdf4e68f2adf",
   "metadata": {
    "tags": []
   },
   "outputs": [],
   "source": [
    "import os\n",
    "import sys\n",
    "import json\n",
    "import time\n",
    "import numpy as np\n",
    "import xarray as xr\n",
    "\n",
    "sys.path.insert(0, '~/workspace_icon-ml/cloud_cover_parameterization/')\n",
    "import my_classes\n",
    "from my_classes import load_data\n",
    "\n",
    "sys.path.insert(0, '~/workspace_icon-ml/symbolic_regression/')\n",
    "from functions import add_derivatives\n",
    "from functions import append_dict_to_json\n",
    "\n",
    "# Possible days and years\n",
    "years = np.arange(1979, 2022)\n",
    "days = ['-01-01', '-04-01', '-07-01', '-10-01']"
   ]
  },
  {
   "cell_type": "code",
   "execution_count": null,
   "id": "cc5346f6-c28e-4a44-b614-e8190670e478",
   "metadata": {
    "collapsed": true,
    "jupyter": {
     "outputs_hidden": true
    },
    "tags": []
   },
   "outputs": [
    {
     "name": "stdout",
     "output_type": "stream",
     "text": [
      "1979-01-01\n",
      "1979-04-01\n",
      "1979-07-01\n",
      "1979-10-01\n",
      "1979-10-01\n",
      "Assertion warning. Max cc not 100. Instead:\n",
      "100.0\n",
      "CP1\n",
      "CP2\n",
      "CP3\n",
      "CP4\n"
     ]
    },
    {
     "name": "stderr",
     "output_type": "stream",
     "text": [
      "Process ForkPoolWorker-580:\n"
     ]
    },
    {
     "name": "stdout",
     "output_type": "stream",
     "text": [
      "An exception occurred: The argument is not treated as a dictionary but as a np array instead."
     ]
    },
    {
     "name": "stderr",
     "output_type": "stream",
     "text": [
      "Process ForkPoolWorker-611:\n"
     ]
    },
    {
     "name": "stdout",
     "output_type": "stream",
     "text": [
      "An exception occurred: The argument is not treated as a dictionary but as a np array instead.An exception occurred: The argument is not treated as a dictionary but as a np array instead."
     ]
    },
    {
     "name": "stderr",
     "output_type": "stream",
     "text": [
      "Process ForkPoolWorker-558:\n",
      "Process ForkPoolWorker-549:\n",
      "Process ForkPoolWorker-613:\n"
     ]
    },
    {
     "name": "stdout",
     "output_type": "stream",
     "text": [
      "An exception occurred: The argument is not treated as a dictionary but as a np array instead."
     ]
    },
    {
     "name": "stderr",
     "output_type": "stream",
     "text": [
      "Process ForkPoolWorker-573:\n",
      "Process ForkPoolWorker-593:\n",
      "Process ForkPoolWorker-638:\n",
      "Process ForkPoolWorker-610:\n",
      "Process ForkPoolWorker-542:\n",
      "Process ForkPoolWorker-533:\n",
      "Process ForkPoolWorker-514:\n",
      "Process ForkPoolWorker-563:\n",
      "Process ForkPoolWorker-621:\n",
      "Process ForkPoolWorker-584:\n",
      "Process ForkPoolWorker-633:\n"
     ]
    },
    {
     "name": "stdout",
     "output_type": "stream",
     "text": [
      "An exception occurred: The argument is not treated as a dictionary but as a np array instead."
     ]
    },
    {
     "name": "stderr",
     "output_type": "stream",
     "text": [
      "Process ForkPoolWorker-618:\n",
      "Process ForkPoolWorker-543:\n",
      "Process ForkPoolWorker-581:\n",
      "Process ForkPoolWorker-548:\n",
      "Process ForkPoolWorker-631:\n",
      "Process ForkPoolWorker-586:\n",
      "Process ForkPoolWorker-561:\n",
      "Process ForkPoolWorker-574:\n"
     ]
    },
    {
     "name": "stdout",
     "output_type": "stream",
     "text": [
      "An exception occurred: The argument is not treated as a dictionary but as a np array instead.An exception occurred: The argument is not treated as a dictionary but as a np array instead."
     ]
    },
    {
     "name": "stderr",
     "output_type": "stream",
     "text": [
      "Process ForkPoolWorker-515:\n",
      "Process ForkPoolWorker-529:\n",
      "Process ForkPoolWorker-522:\n",
      "Process ForkPoolWorker-520:\n",
      "Process ForkPoolWorker-551:\n",
      "Process ForkPoolWorker-605:\n",
      "Process ForkPoolWorker-532:\n",
      "Process ForkPoolWorker-591:\n",
      "Process ForkPoolWorker-615:\n",
      "Process ForkPoolWorker-524:\n",
      "Process ForkPoolWorker-639:\n",
      "Process ForkPoolWorker-527:\n",
      "Process ForkPoolWorker-553:\n",
      "Process ForkPoolWorker-516:\n"
     ]
    },
    {
     "name": "stdout",
     "output_type": "stream",
     "text": [
      "An exception occurred: The argument is not treated as a dictionary but as a np array instead."
     ]
    },
    {
     "name": "stderr",
     "output_type": "stream",
     "text": [
      "Process ForkPoolWorker-606:\n"
     ]
    }
   ],
   "source": [
    "for ind_year in range(len(years)):\n",
    "    for ind_day in range(len(days)):\n",
    "        day = str(years[ind_year])+days[ind_day]\n",
    "        print(day)\n",
    "        \n",
    "        existing_files = os.listdir('~/bd1179_work/ERA5/hvcg_data/clwc_z/')\n",
    "        if not 'int_var_%s_clwc_z_R02B05.npy'%day in existing_files:\n",
    "\n",
    "            t0 = time.time()\n",
    "            \n",
    "            # Create placeholder\n",
    "            np.save('~/bd1179_work/ERA5/hvcg_data/clwc_z/int_var_%s_clwc_z_R02B05.npy'%day, np.zeros(1))\n",
    "\n",
    "            order_of_vars = ['q', 'clwc', 'ciwc', 't', 'pa', 'u', 'v', 'zg', 'fr_land', 'cc']\n",
    "            data_dict = load_data(source='era5', days=day, order_of_vars=order_of_vars)\n",
    "\n",
    "            TIMESTEPS, VLAYERS, HFIELDS = data_dict['q'].shape\n",
    "\n",
    "            data_dict['fr_land'] = np.repeat(np.expand_dims(data_dict['fr_land'], axis=1), VLAYERS, axis=1)\n",
    "\n",
    "            print('CP1')\n",
    "\n",
    "            time.time() - t0\n",
    "\n",
    "            #---------------------------------------------------------------------------------------------------\n",
    "\n",
    "            # data_dict['cc'].shape\n",
    "            # (24, 31, 66655)\n",
    "\n",
    "            #---------------------------------------------------------------------------------------------------\n",
    "\n",
    "            # Add magnitude of horizontal wind\n",
    "            data_dict['U'] = np.sqrt(data_dict['u']**2 + data_dict['v']**2)\n",
    "            del data_dict['u']\n",
    "            del data_dict['v']\n",
    "\n",
    "            # Add RH\n",
    "            T0 = 273.15\n",
    "            r = 0.00263*data_dict['pa']*data_dict['q']*np.exp((17.67*(data_dict['t']-T0))/(data_dict['t']-29.65))**(-1)\n",
    "            data_dict['rh'] = r\n",
    "\n",
    "            # Add ps\n",
    "            ps = np.repeat(np.expand_dims(data_dict['pa'][:, -1], axis=1), VLAYERS, axis=1)\n",
    "            data_dict['ps'] = ps\n",
    "\n",
    "            # Removing four upper-most levels\n",
    "            for key in data_dict.keys():\n",
    "                data_dict[key] = data_dict[key][:, 4:]\n",
    "\n",
    "            # Data output\n",
    "            data_output = data_dict['cc']\n",
    "            del data_dict['cc']\n",
    "\n",
    "            print('CP2')\n",
    "\n",
    "            #---------------------------------------------------------------------------------------------------\n",
    "\n",
    "#             # OPTIONAL CELL - Don't consider all horizontal fields #!\n",
    "#             for key in data_dict.keys():\n",
    "#                 data_dict[key] = data_dict[key][:, :, :1000]\n",
    "#             data_output = data_output[:, :, :1000]\n",
    "\n",
    "#             # Otherwise it takes up to one hour for one day of data\n",
    "\n",
    "            #---------------------------------------------------------------------------------------------------\n",
    "\n",
    "            from contextlib import contextmanager\n",
    "            import multiprocessing as mlp\n",
    "            import gc\n",
    "\n",
    "            import time\n",
    "            t0 = time.time()\n",
    "\n",
    "            print('CP3')\n",
    "\n",
    "            @contextmanager\n",
    "            def poolcontext(*args, **kwargs):\n",
    "                pool = mlp.Pool(*args, **kwargs)\n",
    "                yield pool\n",
    "                pool.terminate()\n",
    "\n",
    "            def add_derivatives_par(data_dict):\n",
    "                # Define variables for add_derivatives (Add 'zg' at the end)\n",
    "                base_variables = ['q', 'clwc', 'ciwc', 't', 'pa', 'U', 'rh', 'zg']\n",
    "                return add_derivatives(data_dict, base_variables)\n",
    "\n",
    "            print('CP4')\n",
    "\n",
    "            procs = 128\n",
    "            with poolcontext(processes=procs) as pool:\n",
    "                # Every process received a part of data_dict\n",
    "                results = pool.map(add_derivatives_par, [{key: data_dict[key][k*TIMESTEPS//procs:(k+1)*TIMESTEPS//procs] for key in data_dict.keys()} for k in range(procs)])\n",
    "\n",
    "            print('CP5')    \n",
    "\n",
    "            data_dict = {}\n",
    "            for key in results[0].keys():\n",
    "                data_dict[key] = np.concatenate([results[k][key] for k in range(procs)])\n",
    "\n",
    "            print('CP6')      \n",
    "\n",
    "            del results\n",
    "            gc.collect()\n",
    "\n",
    "            print(time.time() - t0)\n",
    "\n",
    "            #---------------------------------------------------------------------------------------------------\n",
    "\n",
    "            print('CP7') \n",
    "\n",
    "            for key in data_dict.keys():\n",
    "                if key[-1] == 'z':\n",
    "                    np.save('~/bd1179_work/ERA5/hvcg_data/%s/int_var_%s_%s_R02B05.npy'%(key,day,key), data_dict[key])"
   ]
  }
 ],
 "metadata": {
  "kernelspec": {
   "display_name": "clouds",
   "language": "python",
   "name": "clouds"
  },
  "language_info": {
   "codemirror_mode": {
    "name": "ipython",
    "version": 3
   },
   "file_extension": ".py",
   "mimetype": "text/x-python",
   "name": "python",
   "nbconvert_exporter": "python",
   "pygments_lexer": "ipython3",
   "version": "3.7.10"
  }
 },
 "nbformat": 4,
 "nbformat_minor": 5
}
