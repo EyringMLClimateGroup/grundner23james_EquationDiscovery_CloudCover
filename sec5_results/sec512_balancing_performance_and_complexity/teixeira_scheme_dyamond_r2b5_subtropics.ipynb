{
 "cells": [
  {
   "cell_type": "markdown",
   "metadata": {
    "tags": []
   },
   "source": [
    "### Teixeira Scheme vs PySR equation in subtropics"
   ]
  },
  {
   "cell_type": "code",
   "execution_count": 4,
   "metadata": {},
   "outputs": [],
   "source": [
    "import numpy as np\n",
    "import pandas as pd\n",
    "import xarray as xr\n",
    "import matplotlib.pyplot as plt\n",
    "import json\n",
    "import sys\n",
    "import os\n",
    "import gc\n",
    "\n",
    "sys.path.insert(0, '/home/b/b309170/workspace_icon-ml/symbolic_regression')\n",
    "from functions import append_dict_to_json\n",
    "from sklearn import tree\n",
    "\n",
    "sys.path.insert(0, os.environ['HOME'] + '/my_work/published_code/grundner23james_EquationDiscovery_CloudCover_addressing_reviews/sec2_data/')\n",
    "import my_classes\n",
    "from my_classes import load_data\n",
    "\n",
    "subset_size = 10**8\n",
    "\n",
    "np.random.seed(10)"
   ]
  },
  {
   "cell_type": "markdown",
   "metadata": {},
   "source": [
    "**Read data**"
   ]
  },
  {
   "cell_type": "code",
   "execution_count": 5,
   "metadata": {
    "tags": []
   },
   "outputs": [],
   "source": [
    "# By coords sorts the time dimension correctly\n",
    "clc = xr.open_mfdataset('/home/b/b309170/bd1179_work/DYAMOND/hvcg_data/clc/*', combine='by_coords')\n",
    "\n",
    "# For relative humidity\n",
    "pa = xr.open_mfdataset('/home/b/b309170/bd1179_work/DYAMOND/hvcg_data/pa/*', combine='by_coords')\n",
    "ta = xr.open_mfdataset('/home/b/b309170/bd1179_work/DYAMOND/hvcg_data/ta/*', combine='by_coords')\n",
    "hus = xr.open_mfdataset('/home/b/b309170/bd1179_work/DYAMOND/hvcg_data/hus/*', combine='by_coords')\n",
    "\n",
    "T0 = 273.15\n",
    "r = 0.00263*pa.pa*hus.hus*np.exp((17.67*(ta.ta-T0))/(ta.ta-29.65))**(-1) \n",
    "\n",
    "# Remaining input features\n",
    "clw = xr.open_mfdataset('/home/b/b309170/bd1179_work/DYAMOND/hvcg_data/clw/*', combine='by_coords')\n",
    "cli = xr.open_mfdataset('/home/b/b309170/bd1179_work/DYAMOND/hvcg_data/cli/*', combine='by_coords')"
   ]
  },
  {
   "cell_type": "code",
   "execution_count": 6,
   "metadata": {
    "tags": []
   },
   "outputs": [],
   "source": [
    "# Select only subtropical region (+- 23.43622 to +- 35)\n",
    "\n",
    "# lon in [-pi, pi]\n",
    "# lat in [-pi/2, pi/2]\n",
    "\n",
    "def deg_to_rad(deg):\n",
    "    return deg/90*np.pi/2\n",
    "\n",
    "# Time, height, cell\n",
    "r_subtrop = r.loc[:, :, np.where(((r.lat < deg_to_rad(35)) & (deg_to_rad(23.43622) < r.lat)) | ((r.lat > deg_to_rad(-35)) & (deg_to_rad(-23.43622) > r.lat)))[0]]\n",
    "pa_subtrop = pa.pa.loc[:, :, np.where(((pa.lat < deg_to_rad(35)) & (deg_to_rad(23.43622) < pa.lat)) | ((pa.lat > deg_to_rad(-35)) & (deg_to_rad(-23.43622) > pa.lat)))[0]]\n",
    "ta_subtrop = ta.ta.loc[:, :, np.where(((ta.lat < deg_to_rad(35)) & (deg_to_rad(23.43622) < ta.lat)) | ((ta.lat > deg_to_rad(-35)) & (deg_to_rad(-23.43622) > ta.lat)))[0]]\n",
    "hus_subtrop = hus.hus.loc[:, :, np.where(((hus.lat < deg_to_rad(35)) & (deg_to_rad(23.43622) < hus.lat)) | ((hus.lat > deg_to_rad(-35)) & (deg_to_rad(-23.43622) > hus.lat)))[0]]\n",
    "clw_subtrop = clw.clw.loc[:, :, np.where(((clw.lat < deg_to_rad(35)) & (deg_to_rad(23.43622) < clw.lat)) | ((clw.lat > deg_to_rad(-35)) & (deg_to_rad(-23.43622) > clw.lat)))[0]]\n",
    "cli_subtrop = cli.cli.loc[:, :, np.where(((cli.lat < deg_to_rad(35)) & (deg_to_rad(23.43622) < cli.lat)) | ((cli.lat > deg_to_rad(-35)) & (deg_to_rad(-23.43622) > cli.lat)))[0]]\n",
    "clc_subtrop = clc.clc.loc[:, :, np.where(((clc.lat < deg_to_rad(35)) & (deg_to_rad(23.43622) < clc.lat)) | ((clc.lat > deg_to_rad(-35)) & (deg_to_rad(-23.43622) > clc.lat)))[0]]\n",
    "\n",
    "# # Sel and slice only works if we are doing it across a dimension not a coordinate of the array!!\n",
    "# r.sel(cell = r.lat == slice(1,2))"
   ]
  },
  {
   "cell_type": "code",
   "execution_count": 7,
   "metadata": {
    "tags": []
   },
   "outputs": [
    {
     "data": {
      "text/plain": [
       "(array([4355., 2990.,    0.,    0.,    0.,    0.,    0.,    0., 2990.,\n",
       "        4355.]),\n",
       " array([-6.10516632e-01, -4.88413306e-01, -3.66309979e-01, -2.44206653e-01,\n",
       "        -1.22103326e-01,  2.77555756e-15,  1.22103326e-01,  2.44206653e-01,\n",
       "         3.66309979e-01,  4.88413306e-01,  6.10516632e-01]),\n",
       " <BarContainer object of 10 artists>)"
      ]
     },
     "execution_count": 7,
     "metadata": {},
     "output_type": "execute_result"
    },
    {
     "data": {
      "image/png": "[encoded data removed]",
      "text/plain": [
       "<Figure size 432x288 with 1 Axes>"
      ]
     },
     "metadata": {
      "needs_background": "light"
     },
     "output_type": "display_data"
    }
   ],
   "source": [
    "plt.hist(pa_subtrop.lat)"
   ]
  },
  {
   "cell_type": "code",
   "execution_count": 8,
   "metadata": {
    "tags": []
   },
   "outputs": [],
   "source": [
    "# Compute vertical derivative of relative humidity. Try forward Euler for simplicity.\n",
    "zg = xr.open_mfdataset('/home/b/b309170/bd1179_work/DYAMOND/hvcg_data/zg/*', combine='by_coords')\n",
    "zg_subtrop = zg.zg.loc[:, np.where(((zg.clat < deg_to_rad(35)) & (deg_to_rad(23.43622) < zg.clat)) | (zg.clat > deg_to_rad(-35)) & (deg_to_rad(-23.43622) > zg.clat))[0]]\n",
    "zg_subtrop = np.repeat(np.expand_dims(zg_subtrop, axis=0), 619, axis=0)\n",
    "\n",
    "r_subtrop_val = r_subtrop.values\n",
    "\n",
    "dzrh_subtrop = (r_subtrop_val[:, 1:] - r_subtrop_val[:, :1])/(zg_subtrop[:, 1:] - zg_subtrop[:, :1])"
   ]
  },
  {
   "cell_type": "code",
   "execution_count": 9,
   "metadata": {
    "tags": []
   },
   "outputs": [],
   "source": [
    "# Reconcile vertical dimension\n",
    "r_subtrop = r_subtrop[:, -30:]\n",
    "pa_subtrop = pa_subtrop[:, -30:]\n",
    "ta_subtrop = ta_subtrop[:, -30:]\n",
    "hus_subtrop = hus_subtrop[:, -30:]\n",
    "clw_subtrop = clw_subtrop[:, -30:]\n",
    "cli_subtrop = cli_subtrop[:, -30:]\n",
    "clc_subtrop = clc_subtrop[:, -30:]"
   ]
  },
  {
   "cell_type": "code",
   "execution_count": 10,
   "metadata": {
    "tags": []
   },
   "outputs": [],
   "source": [
    "# Scale clc to be in [0, 100]\n",
    "clc_subtrop = 100*clc_subtrop"
   ]
  },
  {
   "cell_type": "markdown",
   "metadata": {},
   "source": [
    "**Models**"
   ]
  },
  {
   "cell_type": "code",
   "execution_count": 11,
   "metadata": {
    "tags": []
   },
   "outputs": [],
   "source": [
    "# Teixeira scheme\n",
    "def teixeira(clw, cli, ta, rh, pa):\n",
    "    # Clausius-Clapeyron assuming a constant latent heat of vaporization and the ideal gas law (Lohmann, eq. 2.60)\n",
    "    e0 = 611.2\n",
    "    Lv = 2.5*10**6\n",
    "    Rv = 461.5\n",
    "    T0 = 273.15\n",
    "    e = e0*np.exp(Lv/Rv*(1/T0-1/ta))\n",
    "    \n",
    "    # Tunable parameters\n",
    "    (D, K) = (0.01, 0.0001002516165413534)\n",
    "\n",
    "    # q_s (Saturation specific humidity): The specific humidity of water vapor corresponding to the saturation mixing ratio\n",
    "    # Assuming the water pressure to be much smaller than the atmospheric pressure (Lohmann, eq. 2.80)\n",
    "    eps = 0.622\n",
    "    qs = eps*e/pa\n",
    "\n",
    "    # Small threshold to avoid division by zero\n",
    "    thr = 1e-9\n",
    "    c = D*clw/(2*qs*(1-np.minimum(rh, 1-thr))*K)*(np.sqrt(np.maximum(0, 1 + (4*qs*(1-np.minimum(rh, 1-thr))*K)/(D*np.maximum(clw, thr)))) - 1)\n",
    "\n",
    "    # c can exceed 1 very slightly\n",
    "    c = np.minimum(c, 1)\n",
    "    \n",
    "    return np.minimum(np.maximum(100*c, 0), 100)"
   ]
  },
  {
   "cell_type": "code",
   "execution_count": 12,
   "metadata": {
    "tags": []
   },
   "outputs": [],
   "source": [
    "# PySR equation\n",
    "def pysr(clw, cli, ta, rh, rh_z):\n",
    "    # (a_1,a_2,a_3,a_4,a_5,a_6,a_7,a_8,a_9,a_10,a_11,eps,A,B) = (2.44602578e+02, 6.50754419e-02, 3.87865894e-02, 3.38579968e+01, 4.21678865e+03, 1.87848876e+01, 2.19807008e+03, 1.34231436e+05, 3.11805366e-03, 1.51425129e+00, 5.48080889e+00, 1.70666033e-06, 1.04823218e+00, 1.57514190e-04)\n",
    "    (a_1,a_2,a_3,a_4,a_5,a_6,a_7,a_8,a_9,a_10,a_11,eps,A,B) = (203, 0.06588, 0.03969, 33.87, 4224.6, 18.9586, 2202.6, 20000000000, 60000000, 8641, 32544, 0.0106, 1, 1)\n",
    "    \n",
    "    # Modified to always satisfy RH-constraint\n",
    "    rh = np.maximum(rh, -a_2/(2*a_1)*ta**2 + a_4/(2*a_1)*ta - a_5/(2*a_1))\n",
    "    \n",
    "    I1 = a_1*rh**2+ta**2*(a_2*rh-a_3)-a_4*rh*ta+a_5*rh+a_6*ta-a_7\n",
    "    I2 = (rh_z)**2*(a_8*rh_z+a_9) \n",
    "    I3 = -B/(a_10*clw+a_11*cli+eps)\n",
    "    \n",
    "    clc = np.minimum(np.maximum(I1 + I2 + I3, 0), 100) \n",
    "    clc_val = clc.values\n",
    "    \n",
    "    # 0 in the condensate-free regime\n",
    "    cond_free_inds = np.where(clw + cli < 1e-12)\n",
    "    clc_val[cond_free_inds] = 0\n",
    "    \n",
    "    return clc_val"
   ]
  },
  {
   "cell_type": "markdown",
   "metadata": {},
   "source": [
    "**Evaluation**"
   ]
  },
  {
   "cell_type": "code",
   "execution_count": 29,
   "metadata": {
    "tags": []
   },
   "outputs": [
    {
     "name": "stdout",
     "output_type": "stream",
     "text": [
      "Teixeira MSE: 290.294\n",
      "PySR MSE: 115.492\n"
     ]
    }
   ],
   "source": [
    "# Compute MSEs on subtropical region alone\n",
    "\n",
    "# Predict\n",
    "teixeira_pred = teixeira(clw_subtrop, cli_subtrop, ta_subtrop, r_subtrop, pa_subtrop)\n",
    "pysr_pred = pysr(clw_subtrop, cli_subtrop, ta_subtrop, r_subtrop, dzrh_subtrop)\n",
    "\n",
    "# Cast to numpy\n",
    "teixeira_pred_val = teixeira_pred.values\n",
    "clc_subtrop_val = clc_subtrop.values\n",
    "\n",
    "# Compute means (ignore nans)\n",
    "teixeira_mse = np.nanmean((teixeira_pred_val - clc_subtrop_val)**2)\n",
    "pysr_mse = np.nanmean((pysr_pred - clc_subtrop_val)**2)\n",
    "\n",
    "# Print results\n",
    "print('Teixeira MSE: %.3f'%(teixeira_mse))\n",
    "print('PySR MSE: %.3f'%(pysr_mse))"
   ]
  },
  {
   "cell_type": "code",
   "execution_count": 28,
   "metadata": {
    "tags": []
   },
   "outputs": [
    {
     "data": {
      "text/plain": [
       "<matplotlib.legend.Legend at 0x7ffe9879e250>"
      ]
     },
     "execution_count": 28,
     "metadata": {},
     "output_type": "execute_result"
    },
    {
     "data": {
      "image/png": "[encoded data removed]",
      "text/plain": [
       "<Figure size 432x288 with 1 Axes>"
      ]
     },
     "metadata": {
      "needs_background": "light"
     },
     "output_type": "display_data"
    }
   ],
   "source": [
    "# Checking cloud cover distributions\n",
    "plt.hist(np.reshape(teixeira_pred_val, -1), bins=20, alpha=.5)\n",
    "plt.hist(np.reshape(pysr_pred, -1), bins=20, alpha=.5)\n",
    "plt.hist(np.reshape(clc_subtrop_val, -1), bins=20, histtype='step', color='gray')\n",
    "plt.yscale('log')\n",
    "\n",
    "plt.legend(['Dyamond', 'Teixeira', 'PySR'])"
   ]
  }
 ],
 "metadata": {
  "kernelspec": {
   "display_name": "clouds",
   "language": "python",
   "name": "clouds"
  },
  "language_info": {
   "codemirror_mode": {
    "name": "ipython",
    "version": 3
   },
   "file_extension": ".py",
   "mimetype": "text/x-python",
   "name": "python",
   "nbconvert_exporter": "python",
   "pygments_lexer": "ipython3",
   "version": "3.7.12"
  }
 },
 "nbformat": 4,
 "nbformat_minor": 4
}
