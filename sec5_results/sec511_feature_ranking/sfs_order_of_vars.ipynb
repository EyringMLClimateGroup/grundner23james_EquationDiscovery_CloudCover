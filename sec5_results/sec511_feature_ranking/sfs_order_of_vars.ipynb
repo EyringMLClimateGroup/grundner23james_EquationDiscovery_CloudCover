{
 "cells": [
  {
   "cell_type": "markdown",
   "id": "57c94241-985a-4472-a37e-8cf58634f3fe",
   "metadata": {},
   "source": [
    "#### Return the order in which the vars were picked by the SFS methods\n",
    "\n",
    "Also extract whether the order is robust across subsets or if we remove condensate-free cells."
   ]
  },
  {
   "cell_type": "code",
   "execution_count": 42,
   "id": "8f2b1cb5-23b1-4bef-a559-c6485ae85e6f",
   "metadata": {},
   "outputs": [],
   "source": [
    "import os\n",
    "import json\n",
    "import numpy as np"
   ]
  },
  {
   "cell_type": "code",
   "execution_count": 4,
   "id": "7b5ca8ee-45e6-4016-bb0c-8f2d972965f7",
   "metadata": {},
   "outputs": [],
   "source": [
    "parent_pwd = '/home/b/b309170/workspace_icon-ml/symbolic_regression/'"
   ]
  },
  {
   "cell_type": "markdown",
   "id": "60ed75a5-392d-453f-9a36-daa116e799bc",
   "metadata": {},
   "source": [
    "**On the entire dataset**"
   ]
  },
  {
   "cell_type": "code",
   "execution_count": 89,
   "id": "76961805-57c9-43ca-bd61-6fe6c62b2c54",
   "metadata": {},
   "outputs": [],
   "source": [
    "# Produced by /home/b/b309170/workspace_icon-ml/symbolic_regression/baselines/linear_v2.ipynb\n",
    "p1_file = parent_pwd + 'baselines/linear_results_v2/dyamond_data/linear_function_fit_cl_area_with_derivatives.txt'\n",
    "# Produced by /home/b/b309170/workspace_icon-ml/symbolic_regression/baselines/multivariate_polynomial_fit_v2.ipynb\n",
    "p2_file = parent_pwd + 'baselines/polynomial_results_v2/dyamond_data/normalized_data/without_regimes/polynomial_fit_cl_area_with_derivatives_degree_2.json'\n",
    "p3_file = parent_pwd + 'baselines/polynomial_results_v2/dyamond_data/normalized_data/without_regimes/polynomial_fit_cl_area_with_derivatives_degree_3.json'\n",
    "# Produced by /home/b/b309170/workspace_icon-ml/symbolic_regression/finding_symmetries/seq_feature_selector_dyamond_nns.ipynb\n",
    "nn_file = parent_pwd + 'finding_symmetries/seq_feature_selector_dyamond_nns/'"
   ]
  },
  {
   "cell_type": "markdown",
   "id": "39a19f55-d2dc-4367-991d-4b3c6d0cb1c0",
   "metadata": {},
   "source": [
    "Linear model"
   ]
  },
  {
   "cell_type": "code",
   "execution_count": 47,
   "id": "ced53a2e-dfc4-40f5-8e73-dcea68ab18fd",
   "metadata": {},
   "outputs": [],
   "source": [
    "features = {}\n",
    "with open(p1_file, 'r') as file:\n",
    "    i = 0\n",
    "    print_bool = False\n",
    "    while True:\n",
    "        line = file.readline()\n",
    "\n",
    "        if 'The R2-score on the training data' in line:\n",
    "            print_bool = False\n",
    "            \n",
    "        if print_bool and '*' in line:\n",
    "            features[i][j] = line.split('*')[1][:-1]\n",
    "            j += 1\n",
    "            \n",
    "        if 'Linear function fit:' in line:\n",
    "            i += 1\n",
    "            features[i] = {}\n",
    "            print_bool = True\n",
    "            j = 0\n",
    "            \n",
    "        if i == 10:\n",
    "            break"
   ]
  },
  {
   "cell_type": "code",
   "execution_count": 73,
   "id": "474ed2b5-1e8b-4107-b56d-e899004d1668",
   "metadata": {},
   "outputs": [
    {
     "name": "stdout",
     "output_type": "stream",
     "text": [
      "{'rh'}\n",
      "{'ta'}\n",
      "{'cli'}\n",
      "{'clw'}\n",
      "{'hus'}\n",
      "{'U'}\n",
      "{'pa_zz'}\n",
      "{'rh_z'}\n",
      "{'hus_zz'}\n"
     ]
    }
   ],
   "source": [
    "print(set(features[1].values()))\n",
    "for k in range(1, 9):\n",
    "    print(set(features[k+1].values()).symmetric_difference(set(features[k].values())))"
   ]
  },
  {
   "cell_type": "markdown",
   "id": "785d0049-82e2-40fb-b239-ecde8f91c77d",
   "metadata": {},
   "source": [
    "Polynomial, degree 2"
   ]
  },
  {
   "cell_type": "code",
   "execution_count": 71,
   "id": "899d3c5f-414f-45fd-94d6-abcce5fc607d",
   "metadata": {},
   "outputs": [
    {
     "name": "stdout",
     "output_type": "stream",
     "text": [
      "{'rh'}\n",
      "{'ta'}\n",
      "{'clw cli'}\n",
      "{'rh^2'}\n",
      "{'ta rh'}\n",
      "{'pa hus_z'}\n",
      "{'hus rh'}\n",
      "{'pa U_z'}\n",
      "{'clw_z rh_z'}\n"
     ]
    }
   ],
   "source": [
    "with open(p2_file,'r') as file:\n",
    "    d = json.load(file)\n",
    "    print(set(list(d['Number of variables %d'%1].keys())[:-7]))\n",
    "    for k in range(1, 9):\n",
    "        features_old = list(d['Number of variables %d'%k].keys())[:-7]\n",
    "        features_new = list(d['Number of variables %d'%(k+1)].keys())[:-7]\n",
    "        print(set(features_new).symmetric_difference(features_old))"
   ]
  },
  {
   "cell_type": "markdown",
   "id": "1ffd7d99-fe48-4109-bba4-f957bc8540a8",
   "metadata": {},
   "source": [
    "Polynomial, degree 3"
   ]
  },
  {
   "cell_type": "code",
   "execution_count": 72,
   "id": "ef49b45e-b9ab-4803-8713-1b860e38c366",
   "metadata": {},
   "outputs": [
    {
     "name": "stdout",
     "output_type": "stream",
     "text": [
      "{'rh'}\n",
      "{'ta'}\n",
      "{'clw ta^2'}\n",
      "{'cli'}\n",
      "{'rh^2'}\n",
      "{'ta rh'}\n",
      "{'cli hus_z'}\n",
      "{'hus rh^2'}\n",
      "{'ta rh^2'}\n"
     ]
    }
   ],
   "source": [
    "with open(p3_file,'r') as file:\n",
    "    d = json.load(file)\n",
    "    print(set(list(d['Number of variables %d'%1].keys())[:-7]))\n",
    "    for k in range(1, 9):\n",
    "        features_old = list(d['Number of variables %d'%k].keys())[:-7]\n",
    "        features_new = list(d['Number of variables %d'%(k+1)].keys())[:-7]\n",
    "        print(set(features_new).symmetric_difference(features_old))"
   ]
  },
  {
   "cell_type": "markdown",
   "id": "4b700bd8-d02b-4cbd-b665-4989e4213fe6",
   "metadata": {},
   "source": [
    "Neural Networks (three different subsets)"
   ]
  },
  {
   "cell_type": "code",
   "execution_count": 95,
   "id": "bc4d7da4-9009-43f9-be72-49411eafe82e",
   "metadata": {},
   "outputs": [
    {
     "name": "stdout",
     "output_type": "stream",
     "text": [
      "{'rh'}\n",
      "{'cli'}\n",
      "{'clw'}\n",
      "{'ta'}\n",
      "{'rh_z'}\n",
      "{'pa_z'}\n",
      "{'pa_zz'}\n",
      "{'rh_zz'}\n",
      "{'ta_z'}\n"
     ]
    }
   ],
   "source": [
    "with open(nn_file + 'seq_feat_selector_training_data_cl_area_17_15.json', 'r') as file:\n",
    "    d = json.load(file)\n",
    "    print(set(d['features_%d'%1]))\n",
    "    for k in range(1, 9):\n",
    "        features_old = set(d['features_%d'%k])\n",
    "        features_new = set(d['features_%d'%(k+1)])\n",
    "        print(set(features_new).symmetric_difference(features_old))"
   ]
  },
  {
   "cell_type": "code",
   "execution_count": 96,
   "id": "b69233b5-de8a-435b-9569-c9a2bec9538c",
   "metadata": {},
   "outputs": [
    {
     "name": "stdout",
     "output_type": "stream",
     "text": [
      "{'rh'}\n",
      "{'cli'}\n",
      "{'clw'}\n",
      "{'rh_z'}\n",
      "{'ta'}\n",
      "{'pa_zz'}\n",
      "{'pa_z'}\n",
      "{'rh_zz'}\n",
      "{'hus'}\n"
     ]
    }
   ],
   "source": [
    "with open(nn_file + 'seq_feat_selector_training_data_cl_area_17_17.json', 'r') as file:\n",
    "    d = json.load(file)\n",
    "    print(set(d['features_%d'%1]))\n",
    "    for k in range(1, 9):\n",
    "        features_old = set(d['features_%d'%k])\n",
    "        features_new = set(d['features_%d'%(k+1)])\n",
    "        print(set(features_new).symmetric_difference(features_old))"
   ]
  },
  {
   "cell_type": "code",
   "execution_count": 97,
   "id": "37fe43c0-9442-49a0-b4b8-6cac2a1d589a",
   "metadata": {},
   "outputs": [
    {
     "name": "stdout",
     "output_type": "stream",
     "text": [
      "{'rh'}\n",
      "{'cli'}\n",
      "{'clw'}\n",
      "{'rh_z'}\n",
      "{'ta'}\n",
      "{'pa_zz'}\n",
      "{'rh_zz'}\n",
      "{'zg'}\n",
      "{'ta_z'}\n"
     ]
    }
   ],
   "source": [
    "with open(nn_file + 'seq_feat_selector_training_data_cl_area_17_19.json', 'r') as file:\n",
    "    d = json.load(file)\n",
    "    print(set(d['features_%d'%1]))\n",
    "    for k in range(1, 9):\n",
    "        features_old = set(d['features_%d'%k])\n",
    "        features_new = set(d['features_%d'%(k+1)])\n",
    "        print(set(features_new).symmetric_difference(features_old))"
   ]
  },
  {
   "cell_type": "markdown",
   "id": "244dc90d-624f-4af4-b971-3cdc53d3c228",
   "metadata": {},
   "source": [
    "**Features that we actually picked for the SFS NNs** <br>\n",
    "\n",
    "**--> The ones from seq_feat_selector_training_data_cl_area_17_15.json**"
   ]
  },
  {
   "cell_type": "code",
   "execution_count": 101,
   "id": "eb359eb1-c29a-42f8-a393-5112729bb771",
   "metadata": {},
   "outputs": [],
   "source": [
    "features = {}\n",
    "path_sfs_nns = '/home/b/b309170/workspace_icon-ml/cloud_cover_parameterization/neighborhood_based_on_seq_feat_sel_DYAMOND/saved_models/'\n",
    "for k in range(1, 11):\n",
    "    with open(path_sfs_nns + 'neighborhood_based_sfs_cl_area_no_features_%d.txt'%k, 'r') as file:\n",
    "        print_bool = False\n",
    "        while True:\n",
    "            line = file.readline()\n",
    "\n",
    "            if 'The (order of) input variables' in line:\n",
    "                print_bool = False\n",
    "                break\n",
    "\n",
    "            if print_bool:\n",
    "                features[k] = line\n",
    "\n",
    "            if 'Input and output variables' in line:\n",
    "                features[k] = {}\n",
    "                print_bool = True"
   ]
  },
  {
   "cell_type": "code",
   "execution_count": 117,
   "id": "a14ad058-9d45-4afc-8d77-6364fb093d2b",
   "metadata": {},
   "outputs": [
    {
     "name": "stdout",
     "output_type": "stream",
     "text": [
      "rh\n",
      "{'cli'}\n",
      "{'clw'}\n",
      "{'ta'}\n",
      "{'rh_z'}\n",
      "{'pa_z'}\n",
      "{'pa_zz'}\n",
      "{'rh_zz'}\n",
      "{'ta_z'}\n",
      "{'ps'}\n"
     ]
    }
   ],
   "source": [
    "print(features[1].split('\\'')[1])\n",
    "for k in range(1, 10):\n",
    "    features_old = set(features[k].split('\\'')[1:-1])\n",
    "    features_new = set(features[k+1].split('\\'')[1:-1])\n",
    "    print(set(features_new).symmetric_difference(features_old))"
   ]
  },
  {
   "cell_type": "markdown",
   "id": "173f72f8-3183-46ce-af3c-cb10e26f6ae9",
   "metadata": {},
   "source": [
    "**With the condensate-free cells removed**\n",
    "\n",
    "**--> These were the features I picked for the Pareto plot polynomials!**"
   ]
  },
  {
   "cell_type": "code",
   "execution_count": 74,
   "id": "002f5dc3-120c-43e9-89ba-18517830dea2",
   "metadata": {},
   "outputs": [],
   "source": [
    "p1_file = parent_pwd + 'baselines/polynomial_results_v2/dyamond_data/normalized_data/data_driven_regimes/polynomial_fit_cl_area_with_derivatives_degree_1_dt_basis_False_no_of_regimes_2_regime_1.json'\n",
    "p2_file = parent_pwd + 'baselines/polynomial_results_v2/dyamond_data/normalized_data/data_driven_regimes/polynomial_fit_cl_area_with_derivatives_degree_2_dt_basis_False_no_of_regimes_2_regime_1.json'\n",
    "p3_file = parent_pwd + 'baselines/polynomial_results_v2/dyamond_data/normalized_data/data_driven_regimes/polynomial_fit_cl_area_with_derivatives_degree_3_dt_basis_False_no_of_regimes_2_regime_1.json'"
   ]
  },
  {
   "cell_type": "markdown",
   "id": "4d4dd202-0708-4a93-baad-6c657ef7ee72",
   "metadata": {},
   "source": [
    "Linear model"
   ]
  },
  {
   "cell_type": "code",
   "execution_count": 80,
   "id": "3cb5d1ef-1bd8-471f-b5a7-2215c46821b9",
   "metadata": {},
   "outputs": [
    {
     "name": "stdout",
     "output_type": "stream",
     "text": [
      "{'rh'}\n",
      "{'ta'}\n",
      "{'rh_z'}\n",
      "{'cli'}\n",
      "{'pa_zz'}\n",
      "{'clw'}\n",
      "{'U'}\n",
      "{'clw_zz'}\n",
      "{'hus_z'}\n"
     ]
    }
   ],
   "source": [
    "with open(p1_file,'r') as file:\n",
    "    d = json.load(file)\n",
    "    print(set(list(d['Number of variables %d'%1].keys())[:-5]))\n",
    "    for k in range(1, 9):\n",
    "        features_old = list(d['Number of variables %d'%k].keys())[:-5]\n",
    "        features_new = list(d['Number of variables %d'%(k+1)].keys())[:-5]\n",
    "        print(set(features_new).symmetric_difference(features_old))"
   ]
  },
  {
   "cell_type": "code",
   "execution_count": 81,
   "id": "ce91fef4-0bef-476e-aa80-e018142bedc1",
   "metadata": {},
   "outputs": [
    {
     "name": "stdout",
     "output_type": "stream",
     "text": [
      "{'rh'}\n",
      "{'ta'}\n",
      "{'clw cli'}\n",
      "{'rh rh_z'}\n",
      "{'ta rh_z'}\n",
      "{'hus rh'}\n",
      "{'ta rh'}\n",
      "{'rh^2'}\n",
      "{'hus_z'}\n"
     ]
    }
   ],
   "source": [
    "with open(p2_file,'r') as file:\n",
    "    d = json.load(file)\n",
    "    print(set(list(d['Number of variables %d'%1].keys())[:-5]))\n",
    "    for k in range(1, 9):\n",
    "        features_old = list(d['Number of variables %d'%k].keys())[:-5]\n",
    "        features_new = list(d['Number of variables %d'%(k+1)].keys())[:-5]\n",
    "        print(set(features_new).symmetric_difference(features_old))"
   ]
  },
  {
   "cell_type": "code",
   "execution_count": 82,
   "id": "efbac2bc-c1a4-48d5-a374-e1233583edb0",
   "metadata": {},
   "outputs": [
    {
     "name": "stdout",
     "output_type": "stream",
     "text": [
      "{'rh'}\n",
      "{'ta'}\n",
      "{'clw cli'}\n",
      "{'ta^2 rh'}\n",
      "{'rh^2'}\n",
      "{'ta^2'}\n",
      "{'rh_z'}\n",
      "{'pa_zz pa^2'}\n",
      "{'rh rh_z'}\n"
     ]
    }
   ],
   "source": [
    "with open(p3_file,'r') as file:\n",
    "    d = json.load(file)\n",
    "    print(set(list(d['Number of variables %d'%1].keys())[:-5]))\n",
    "    for k in range(1, 9):\n",
    "        features_old = list(d['Number of variables %d'%k].keys())[:-5]\n",
    "        features_new = list(d['Number of variables %d'%(k+1)].keys())[:-5]\n",
    "        print(set(features_new).symmetric_difference(features_old))"
   ]
  },
  {
   "cell_type": "markdown",
   "id": "aaa369ee-71b6-4e7b-ac00-29a659549fe6",
   "metadata": {},
   "source": [
    "### Averaged SFS order of variables over 10 seeds"
   ]
  },
  {
   "cell_type": "code",
   "execution_count": 57,
   "id": "ad00b01c-fa11-499e-babc-3bb097056c72",
   "metadata": {},
   "outputs": [],
   "source": [
    "# Produced by /home/b/b309170/workspace_icon-ml/symbolic_regression/baselines/multivariate_polynomial_fit_v2.ipynb\n",
    "p_folder = parent_pwd + 'baselines/polynomial_results_v2/dyamond_data/normalized_data/data_driven_regimes/more_seeds/'\n",
    "# Produced by /home/b/b309170/workspace_icon-ml/symbolic_regression/finding_symmetries/seq_feature_selector_dyamond_nns.ipynb\n",
    "nn_folder = parent_pwd + 'finding_symmetries/seq_feature_selector_dyamond_nns/'\n",
    "nn_folder_no_cond_free = parent_pwd + 'finding_symmetries/seq_feature_selector_dyamond_nns/no_condensate_free_cells/'"
   ]
  },
  {
   "cell_type": "code",
   "execution_count": 95,
   "id": "230e509e-6ea6-4ed3-b1ec-175288716971",
   "metadata": {},
   "outputs": [],
   "source": [
    "def return_averaged_ranking(folder_abs_path, model_type, max_no_features=10): \n",
    "    '''\n",
    "        folder_abs_path: Folder that contains the relevant files (absolute path)\n",
    "        model_type: 'nn', 'polynomial_degree_1', 'polynomial_degree_2', 'polynomial_degree_3'\n",
    "    '''\n",
    "    var_position = {}\n",
    "    \n",
    "    if model_type == 'nn':\n",
    "        substring = '0.json'\n",
    "        key_name = 'features_'\n",
    "    elif model_type.startswith('polynomial'):\n",
    "        substring = model_type.split('_', 1)[1]\n",
    "        key_name = 'Number of variables '\n",
    "\n",
    "    for file_name in os.listdir(folder_abs_path):\n",
    "        # Open the file if it is one of the 10 seeds\n",
    "        if substring in file_name:\n",
    "            with open(folder_abs_path + file_name, 'r') as file:\n",
    "                d = json.load(file)\n",
    "                # Either we can append to the list otherwise it needs to be initialized\n",
    "                if model_type == 'nn':\n",
    "                    try:\n",
    "                        var_position[d['%s%d'%(key_name,1)][0]].append(1)\n",
    "                    except:\n",
    "                        var_position[d['%s%d'%(key_name,1)][0]] = [1]\n",
    "                elif model_type.startswith('polynomial'):\n",
    "                    try:\n",
    "                        var_position[list(d['%s%d'%(key_name,1)].keys())[:-5][0]].append(1)\n",
    "                    except:\n",
    "                        var_position[list(d['%s%d'%(key_name,1)].keys())[:-5][0]] = [1]\n",
    "                for k in range(1, max_no_features):\n",
    "                    if model_type == 'nn':\n",
    "                        features_old = set(d['%s%d'%(key_name,k)])\n",
    "                        features_new = set(d['%s%d'%(key_name,k+1)])\n",
    "                    elif model_type.startswith('polynomial'):\n",
    "                        features_old = set(list(d['%s%d'%(key_name,k)].keys())[:-5])\n",
    "                        features_new = set(list(d['%s%d'%(key_name,k+1)].keys())[:-5])\n",
    "                    # The added feature (set containing a single element)\n",
    "                    added_feature_set = set(features_new).symmetric_difference(features_old)\n",
    "                    added_feature = added_feature_set.pop()\n",
    "                    try:\n",
    "                        var_position[added_feature].append(k+1)\n",
    "                    except:\n",
    "                        var_position[added_feature] = [k+1]\n",
    "\n",
    "    # Set position to max_no_features + 1 if they were not in the top max_no_features for all seeds.\n",
    "    for key in var_position.keys():\n",
    "        # There are 10 different seeds\n",
    "        while len(var_position[key]) < 10:\n",
    "            var_position[key].append(max_no_features + 1)\n",
    "\n",
    "    # Compute the average var_positions\n",
    "    var_position_avrg = {}\n",
    "    for key in var_position.keys():\n",
    "        var_position_avrg[key] = np.mean(var_position[key])\n",
    "\n",
    "    # Sort the variables according to their average position and return the resulting dictionary!\n",
    "    dict_keys = list(var_position_avrg.keys())\n",
    "    dict_values = list(var_position_avrg.values())\n",
    "    sorted_inds = np.argsort(dict_values)\n",
    "    sorted_dict = {dict_keys[ind]: dict_values[ind] for ind in sorted_inds}\n",
    "    \n",
    "    return sorted_dict"
   ]
  },
  {
   "cell_type": "markdown",
   "id": "1b31b9f2-c0a1-40bd-9def-fe018604ef69",
   "metadata": {},
   "source": [
    "NNs, condensate-free cells included"
   ]
  },
  {
   "cell_type": "code",
   "execution_count": 96,
   "id": "58ad6088-d598-4945-9232-0b3f0c768c25",
   "metadata": {},
   "outputs": [
    {
     "data": {
      "text/plain": [
       "{'rh': 1.0,\n",
       " 'cli': 2.0,\n",
       " 'clw': 3.0,\n",
       " 'ta': 4.1,\n",
       " 'rh_z': 4.9,\n",
       " 'pa_zz': 7.1,\n",
       " 'rh_zz': 8.7,\n",
       " 'pa_z': 9.0,\n",
       " 'ps': 9.3,\n",
       " 'ta_z': 9.5,\n",
       " 'pa': 9.8,\n",
       " 'zg': 10.2,\n",
       " 'cli_z': 10.3,\n",
       " 'clw_z': 10.5,\n",
       " 'U_z': 10.8,\n",
       " 'hus_zz': 10.9,\n",
       " 'U': 10.9}"
      ]
     },
     "execution_count": 96,
     "metadata": {},
     "output_type": "execute_result"
    }
   ],
   "source": [
    "return_averaged_ranking(nn_folder, 'nn', max_no_features=10)"
   ]
  },
  {
   "cell_type": "markdown",
   "id": "0cea633e-4139-4d72-8002-2905ef207a89",
   "metadata": {},
   "source": [
    "NNs, no condensate-free cells"
   ]
  },
  {
   "cell_type": "code",
   "execution_count": 97,
   "id": "dd1c4b64-4c60-436d-bd84-c084db0a5e18",
   "metadata": {},
   "outputs": [
    {
     "data": {
      "text/plain": [
       "{'rh': 1.0,\n",
       " 'cli': 2.0,\n",
       " 'clw': 3.0,\n",
       " 'ta': 4.1,\n",
       " 'rh_z': 4.9,\n",
       " 'pa_zz': 6.7,\n",
       " 'pa_z': 8.1,\n",
       " 'rh_zz': 8.3,\n",
       " 'ta_z': 10.0,\n",
       " 'ps': 10.1,\n",
       " 'hus_zz': 10.1,\n",
       " 'zg': 10.2,\n",
       " 'cli_z': 10.5,\n",
       " 'pa': 10.6,\n",
       " 'clw_z': 10.7,\n",
       " 'cli_zz': 10.8,\n",
       " 'fr_land': 10.9}"
      ]
     },
     "execution_count": 97,
     "metadata": {},
     "output_type": "execute_result"
    }
   ],
   "source": [
    "return_averaged_ranking(nn_folder_no_cond_free, 'nn', max_no_features=10)"
   ]
  },
  {
   "cell_type": "markdown",
   "id": "597c2fb3-0b53-4898-a525-084509d76efe",
   "metadata": {},
   "source": [
    "Polynomials (no condensate-free cells)"
   ]
  },
  {
   "cell_type": "markdown",
   "id": "451d1d83-f11e-44a5-b7be-285f1f3bad2d",
   "metadata": {},
   "source": [
    "First-order"
   ]
  },
  {
   "cell_type": "code",
   "execution_count": 98,
   "id": "24d775b0-ec40-4bbd-84b4-eccac9eb02c7",
   "metadata": {},
   "outputs": [
    {
     "data": {
      "text/plain": [
       "{'rh': 1.0,\n",
       " 'ta': 2.0,\n",
       " 'rh_z': 3.0,\n",
       " 'cli': 4.3,\n",
       " 'pa_zz': 4.7,\n",
       " 'clw': 6.0,\n",
       " 'U': 7.0,\n",
       " 'clw_zz': 8.0,\n",
       " 'hus_z': 9.0,\n",
       " 'zg': 10.0}"
      ]
     },
     "execution_count": 98,
     "metadata": {},
     "output_type": "execute_result"
    }
   ],
   "source": [
    "return_averaged_ranking(p_folder, 'polynomial_degree_1', max_no_features=10)"
   ]
  },
  {
   "cell_type": "markdown",
   "id": "ee844cc1-1e10-40fe-ab9d-a7b0222f1b79",
   "metadata": {},
   "source": [
    "Second-order"
   ]
  },
  {
   "cell_type": "code",
   "execution_count": 105,
   "id": "98de4668-4605-4b9f-9cb1-5efd988e7b56",
   "metadata": {},
   "outputs": [
    {
     "data": {
      "text/plain": [
       "{'rh': 1.0,\n",
       " 'ta': 2.0,\n",
       " 'clw cli': 3.0,\n",
       " 'rh rh_z': 4.0,\n",
       " 'ta rh_z': 5.6,\n",
       " 'hus rh': 6.4,\n",
       " 'ta rh': 7.4,\n",
       " 'rh^2': 7.9,\n",
       " 'hus_z': 9.2,\n",
       " 'U': 10.1,\n",
       " 'pa hus_z': 10.4,\n",
       " 'zg^2': 10.5,\n",
       " 'zg ta_z': 10.7,\n",
       " 'zg pa_zz': 10.8}"
      ]
     },
     "execution_count": 105,
     "metadata": {},
     "output_type": "execute_result"
    }
   ],
   "source": [
    "return_averaged_ranking(p_folder, 'polynomial_degree_2', max_no_features=10)"
   ]
  },
  {
   "cell_type": "markdown",
   "id": "b89df6e7-018b-473b-a77a-182aae90f69b",
   "metadata": {},
   "source": [
    "Third-order"
   ]
  },
  {
   "cell_type": "code",
   "execution_count": 100,
   "id": "a9b01ff1-2c24-410e-9134-e19a674382b6",
   "metadata": {},
   "outputs": [
    {
     "data": {
      "text/plain": [
       "{'rh': 1.0,\n",
       " 'ta': 2.0,\n",
       " 'clw cli': 3.0,\n",
       " 'ta^2 rh': 4.4,\n",
       " 'rh^2': 5.4,\n",
       " 'ta^2': 6.7,\n",
       " 'rh rh_z': 7.4,\n",
       " 'rh_z': 8.3,\n",
       " 'pa_zz pa^2': 8.8,\n",
       " 'ta rh_z': 9.4,\n",
       " 'rh_z pa^2': 10.2,\n",
       " 'clw rh': 10.6,\n",
       " 'clw ta': 10.8}"
      ]
     },
     "execution_count": 100,
     "metadata": {},
     "output_type": "execute_result"
    }
   ],
   "source": [
    "return_averaged_ranking(p_folder, 'polynomial_degree_3', max_no_features=10)"
   ]
  }
 ],
 "metadata": {
  "kernelspec": {
   "display_name": "Python 3 (based on the module python3/2022.01)",
   "language": "python",
   "name": "python3_2022_01"
  },
  "language_info": {
   "codemirror_mode": {
    "name": "ipython",
    "version": 3
   },
   "file_extension": ".py",
   "mimetype": "text/x-python",
   "name": "python",
   "nbconvert_exporter": "python",
   "pygments_lexer": "ipython3",
   "version": "3.9.9"
  }
 },
 "nbformat": 4,
 "nbformat_minor": 5
}
