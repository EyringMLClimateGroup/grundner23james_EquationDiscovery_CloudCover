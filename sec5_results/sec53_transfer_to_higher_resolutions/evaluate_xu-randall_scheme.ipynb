{
 "cells": [
  {
   "cell_type": "markdown",
   "id": "aa049e24-a61c-4f11-bc50-bc2c1f6026bd",
   "metadata": {
    "tags": []
   },
   "source": [
    "### Evaluate the Xu-Randall Scheme\n",
    "\n",
    "- Data path: /home/b/b309170/bd1179_work/DYAMOND/hcg_data*"
   ]
  },
  {
   "cell_type": "code",
   "execution_count": 27,
   "id": "5db5411c-5ed7-4be9-8a8d-422e1b9ea56d",
   "metadata": {},
   "outputs": [],
   "source": [
    "import os\n",
    "import sys\n",
    "import json\n",
    "import numpy as np\n",
    "import xarray as xr\n",
    "import matplotlib.pyplot as plt\n",
    "\n",
    "sys.path.insert(0, os.environ['HOME'] + '/my_work/published_code/grundner23james_EquationDiscovery_CloudCover_addressing_reviews/sec2_data/')\n",
    "import my_classes\n",
    "from my_classes import read_mean_and_std\n",
    "from my_classes import load_data\n",
    "from functions import append_dict_to_json\n",
    "\n",
    "tl_bool = True\n",
    "SEED = 20\n",
    "\n",
    "# num_cells = int(sys.argv[3])"
   ]
  },
  {
   "cell_type": "markdown",
   "id": "2628a64e-799f-4d36-8de2-a2967236a2dc",
   "metadata": {},
   "source": [
    "**Load data**"
   ]
  },
  {
   "cell_type": "code",
   "execution_count": 28,
   "id": "5d4ab601-a111-46a2-ae02-dccd7e247d46",
   "metadata": {},
   "outputs": [
    {
     "name": "stderr",
     "output_type": "stream",
     "text": [
      "/home/b/b309170/my_work/published_code/grundner23james_EquationDiscovery_CloudCover_addressing_reviews/sec2_data/my_classes.py:403: FutureWarning: In xarray version 0.15 the default behaviour of `open_mfdataset`\n",
      "will change. To retain the existing behavior, pass\n",
      "combine='nested'. To use future default behavior, pass\n",
      "combine='by_coords'. See\n",
      "http://xarray.pydata.org/en/stable/combining.html#combining-multi\n",
      "\n",
      "  DS = xr.open_mfdataset(path+'/zg/zg*')\n",
      "/home/b/b309170/my_work/Miniconda3/envs/clouds/lib/python3.7/site-packages/xarray/backends/api.py:933: FutureWarning: The datasets supplied have global dimension coordinates. You may want\n",
      "to use the new `combine_by_coords` function (or the\n",
      "`combine='by_coords'` option to `open_mfdataset`) to order the datasets\n",
      "before concatenation. Alternatively, to continue concatenating based\n",
      "on the order the datasets are supplied in future, please use the new\n",
      "`combine_nested` function (or the `combine='nested'` option to\n",
      "open_mfdataset).\n",
      "  from_openmfds=True,\n"
     ]
    },
    {
     "name": "stdout",
     "output_type": "stream",
     "text": [
      "q\n",
      "qc\n",
      "qi\n",
      "t\n",
      "pres\n",
      "clc\n",
      "(80, 58, 327680)\n",
      "(80, 58, 327680)\n",
      "(80, 58, 327680)\n",
      "(80, 58, 327680)\n",
      "(80, 58, 327680)\n",
      "(80, 58, 327680)\n",
      "(80, 58, 327680)\n",
      "(80, 58, 327680)\n",
      "(80, 58, 327680)\n",
      "(80, 58, 327680)\n",
      "(80, 58, 327680)\n",
      "(80, 58, 327680)\n"
     ]
    }
   ],
   "source": [
    "order_of_vars = ['q', 'qc', 'qi', 't', 'pres', 'clc']\n",
    "\n",
    "data_path = '/home/b/b309170/bd1179_work/DYAMOND/hcg_data_r2b6'\n",
    "data_dict = load_data(source='split_by_var_name', days='all', vert_interp=False, \\\n",
    "                      resolution='R02B06', order_of_vars=order_of_vars, path=data_path)\n",
    "\n",
    "TIMESTEPS, VLAYERS, HFIELDS = data_dict['q'].shape\n",
    "\n",
    "# Only keep the lowest 60 levels (ensure that all fields have the same vertical grid)\n",
    "for key in data_dict.keys():\n",
    "    data_dict[key] = data_dict[key][:, -58:].copy()\n",
    "    print(data_dict[key].shape)\n",
    "    \n",
    "# Add RH\n",
    "T0 = 273.15\n",
    "r = 0.00263*data_dict['pres']*data_dict['q']*np.exp((17.67*(data_dict['t']-T0))/(data_dict['t']-29.65))**(-1)\n",
    "data_dict['rh'] = r\n",
    "\n",
    "# Data output\n",
    "data_output = 100*data_dict['clc']\n",
    "del data_dict['clc']\n",
    "\n",
    "for key in data_dict.keys():\n",
    "    print(data_dict[key].shape)\n",
    "    assert data_dict[key].shape == data_dict[key].shape"
   ]
  },
  {
   "cell_type": "markdown",
   "id": "79864d41-2f4f-49e2-a6f6-52f002d3a13f",
   "metadata": {},
   "source": [
    "**Reshaping and keeping only the relevant features**"
   ]
  },
  {
   "cell_type": "code",
   "execution_count": 29,
   "id": "3932d1ac-b967-47fd-9d5d-e919e40ebf77",
   "metadata": {},
   "outputs": [],
   "source": [
    "# Keeping only the relevant features\n",
    "features = ['qc', 'qi', 'rh']\n",
    "for key in features:\n",
    "    data_dict[key] = np.reshape(data_dict[key], -1)\n",
    "    \n",
    "data_output = np.reshape(data_output, -1)\n",
    "\n",
    "del data_dict['q']\n",
    "del data_dict['pres']\n",
    "del data_dict['t']\n",
    "\n",
    "no_features = len(data_dict.keys())"
   ]
  },
  {
   "cell_type": "markdown",
   "id": "640461bb-2e9c-4e5b-830b-9d097a3f1a4a",
   "metadata": {},
   "source": [
    "**Cast dict into ndarray**"
   ]
  },
  {
   "cell_type": "code",
   "execution_count": 30,
   "id": "7cd4a78d-f928-4633-8a84-903bfa828dcb",
   "metadata": {},
   "outputs": [
    {
     "name": "stdout",
     "output_type": "stream",
     "text": [
      "qc\n",
      "qi\n",
      "rh\n"
     ]
    }
   ],
   "source": [
    "# data_array = np.zeros((data_dict['q'].size, len(data_dict.keys())), dtype=np.float32)\n",
    "\n",
    "k = 0\n",
    "data_array_not_T = []\n",
    "for key in features:\n",
    "    print(key)\n",
    "    data_array_not_T.append(data_dict[key])\n",
    "    del data_dict[key]\n",
    "    k += 1\n",
    "\n",
    "# Convert into np array and transpose\n",
    "data_array = np.transpose(np.array(data_array_not_T, dtype=np.float32))"
   ]
  },
  {
   "cell_type": "code",
   "execution_count": 31,
   "id": "0dc02d62-0af3-45bb-8b76-bb4e65f96946",
   "metadata": {},
   "outputs": [],
   "source": [
    "# Update loc\n",
    "loc = {}\n",
    "for i in range(len(features)):\n",
    "    loc[features[i]] = i"
   ]
  },
  {
   "cell_type": "code",
   "execution_count": 32,
   "id": "cf9173e7-edac-4c04-9a34-59474ece5e3a",
   "metadata": {},
   "outputs": [],
   "source": [
    "def func(X, PAR, ALPHA):\n",
    "    x0 = X[:, 0] # clw\n",
    "    x1 = X[:, 1] # cli\n",
    "    x2 = X[:, 2] # RH\n",
    "\n",
    "    # x2 can be slightly negative which is problematic\n",
    "    c = np.maximum(0, x2)**PAR*(1-np.exp(-ALPHA*(x1+x0)))\n",
    "\n",
    "    # c can exceed 1 very slightly\n",
    "    c = np.minimum(c, 1)\n",
    "    \n",
    "    return 100*c"
   ]
  },
  {
   "cell_type": "code",
   "execution_count": 43,
   "id": "7f89564a-e0d0-4e46-8019-e029c840b415",
   "metadata": {
    "tags": []
   },
   "outputs": [
    {
     "name": "stdout",
     "output_type": "stream",
     "text": [
      "New file created or first entry added\n"
     ]
    }
   ],
   "source": [
    "def objective(P, X,Y):\n",
    "    '''\n",
    "        The objective function.\n",
    "    '''\n",
    "    PAR, ALPHA = P\n",
    "    train_preds = np.minimum(np.maximum(func(X, PAR, ALPHA), 0), 100)\n",
    "    train_mse = np.mean((train_preds - Y)**2, dtype=np.float64)\n",
    "\n",
    "    return train_mse\n",
    "\n",
    "(PAR, ALPHA) = 0.9105, 913984.9624\n",
    "\n",
    "# Compute the MSE and terminate if not tl_bool\n",
    "P = (PAR, ALPHA)\n",
    "mse = objective(P, data_array, data_output) #!!\n",
    "r2 = 1 - mse/np.var(data_output)\n",
    "\n",
    "results = {}\n",
    "\n",
    "parent_key = 'wang'\n",
    "results[parent_key] = {}\n",
    "results[parent_key]['MSE'] = mse\n",
    "results[parent_key]['R2'] = r2\n",
    "\n",
    "# Dump results\n",
    "append_dict_to_json(results, os.environ['HOME'] + '/my_work/published_code/grundner23james_EquationDiscovery_CloudCover_addressing_reviews/sec5_results/transfer_to_higher_resolutions/results/wang_r2b6.json')"
   ]
  },
  {
   "cell_type": "code",
   "execution_count": null,
   "id": "ce60fade-6e04-4b60-b13d-ca5989016863",
   "metadata": {},
   "outputs": [],
   "source": []
  },
  {
   "cell_type": "code",
   "execution_count": 36,
   "id": "e1a7239b-a86c-4abe-8a7a-f1a7ad203a4a",
   "metadata": {},
   "outputs": [
    {
     "data": {
      "image/png": "[encoded data removed]",
      "text/plain": [
       "<Figure size 432x288 with 1 Axes>"
      ]
     },
     "metadata": {
      "needs_background": "light"
     },
     "output_type": "display_data"
    }
   ],
   "source": [
    "plt.hist(train_preds)\n",
    "plt.yscale('log')"
   ]
  },
  {
   "cell_type": "code",
   "execution_count": 42,
   "id": "b84d64ff-6af8-4851-8218-1cb532b10c64",
   "metadata": {},
   "outputs": [
    {
     "data": {
      "image/png": "[encoded data removed]",
      "text/plain": [
       "<Figure size 432x288 with 1 Axes>"
      ]
     },
     "metadata": {
      "needs_background": "light"
     },
     "output_type": "display_data"
    }
   ],
   "source": [
    "plt.hist(data_output)\n",
    "plt.yscale('log')"
   ]
  }
 ],
 "metadata": {
  "kernelspec": {
   "display_name": "clouds",
   "language": "python",
   "name": "clouds"
  },
  "language_info": {
   "codemirror_mode": {
    "name": "ipython",
    "version": 3
   },
   "file_extension": ".py",
   "mimetype": "text/x-python",
   "name": "python",
   "nbconvert_exporter": "python",
   "pygments_lexer": "ipython3",
   "version": "3.7.12"
  }
 },
 "nbformat": 4,
 "nbformat_minor": 5
}
