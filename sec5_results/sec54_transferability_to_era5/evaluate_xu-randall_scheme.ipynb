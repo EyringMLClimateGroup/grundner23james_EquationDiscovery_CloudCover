{
 "cells": [
  {
   "cell_type": "markdown",
   "id": "aa049e24-a61c-4f11-bc50-bc2c1f6026bd",
   "metadata": {
    "tags": []
   },
   "source": [
    "### Evaluate the Xu-Randall Scheme\n",
    "\n",
    "Executed through ~scripts/run_era5_evalute_and_transfer_learn_2.sh"
   ]
  },
  {
   "cell_type": "code",
   "execution_count": 1,
   "id": "5db5411c-5ed7-4be9-8a8d-422e1b9ea56d",
   "metadata": {},
   "outputs": [],
   "source": [
    "import os\n",
    "import sys\n",
    "import json\n",
    "import numpy as np\n",
    "import xarray as xr\n",
    "import sympy as sp\n",
    "import matplotlib.pyplot as plt\n",
    "\n",
    "# Training samples to double-check with csv\n",
    "subset_exp = int(sys.argv[1])\n",
    "# subset_exp = 2\n",
    "number_horizontal_locations = 10**subset_exp\n",
    "\n",
    "sys.path.insert(0, '~/workspace_icon-ml/cloud_cover_parameterization/')\n",
    "import my_classes\n",
    "from my_classes import load_data\n",
    "\n",
    "sys.path.insert(0, '~/workspace_icon-ml/symbolic_regression/')\n",
    "from functions import append_dict_to_json\n",
    "\n",
    "tl_bool = True\n",
    "SEED = int(sys.argv[2])\n",
    "# SEED = 20\n",
    "\n",
    "num_cells = int(sys.argv[3])"
   ]
  },
  {
   "cell_type": "markdown",
   "id": "2628a64e-799f-4d36-8de2-a2967236a2dc",
   "metadata": {},
   "source": [
    "**Load data**"
   ]
  },
  {
   "cell_type": "code",
   "execution_count": 2,
   "id": "5d4ab601-a111-46a2-ae02-dccd7e247d46",
   "metadata": {},
   "outputs": [
    {
     "name": "stdout",
     "output_type": "stream",
     "text": [
      "(24, 27, 66655)\n",
      "(24, 27, 66655)\n",
      "(24, 27, 66655)\n",
      "(24, 27, 66655)\n",
      "(24, 27, 66655)\n"
     ]
    }
   ],
   "source": [
    "order_of_vars = ['q', 'clwc', 'ciwc', 't', 'pa', 'cc']\n",
    "data_dict = load_data(source='era5', days='all', order_of_vars=order_of_vars)\n",
    "\n",
    "TIMESTEPS, VLAYERS, HFIELDS = data_dict['q'].shape\n",
    "\n",
    "# Removing four upper-most levels\n",
    "for key in data_dict.keys():\n",
    "    data_dict[key] = data_dict[key][:, 4:].copy()\n",
    "\n",
    "# Data output\n",
    "data_output = data_dict['cc']\n",
    "del data_dict['cc']\n",
    "\n",
    "for key in data_dict.keys():\n",
    "    print(data_dict[key].shape)\n",
    "    assert data_dict[key].shape == data_dict[key].shape"
   ]
  },
  {
   "cell_type": "code",
   "execution_count": 4,
   "id": "5808119c-bf23-4d97-97fd-5b6a89c9af94",
   "metadata": {},
   "outputs": [],
   "source": [
    "import time\n",
    "t0 = time.time()\n",
    "\n",
    "# Add rh\n",
    "T0 = 273.15\n",
    "r = 0.00263*data_dict['pa']*data_dict['q']*np.exp((17.67*(data_dict['t']-T0))/(data_dict['t']-29.65))**(-1)\n",
    "data_dict['rh'] = r"
   ]
  },
  {
   "cell_type": "markdown",
   "id": "79864d41-2f4f-49e2-a6f6-52f002d3a13f",
   "metadata": {},
   "source": [
    "**Reshaping and keeping only the relevant features**"
   ]
  },
  {
   "cell_type": "code",
   "execution_count": 5,
   "id": "3932d1ac-b967-47fd-9d5d-e919e40ebf77",
   "metadata": {},
   "outputs": [],
   "source": [
    "# Keeping only the relevant features\n",
    "features = ['clwc', 'ciwc', 'rh']\n",
    "for key in features:\n",
    "    data_dict[key] = np.reshape(data_dict[key], -1)\n",
    "    \n",
    "data_output = np.reshape(data_output, -1)\n",
    "\n",
    "del data_dict['q']\n",
    "del data_dict['pa']\n",
    "del data_dict['t']\n",
    "\n",
    "no_features = len(data_dict.keys())"
   ]
  },
  {
   "cell_type": "markdown",
   "id": "640461bb-2e9c-4e5b-830b-9d097a3f1a4a",
   "metadata": {},
   "source": [
    "**Cast dict into ndarray**"
   ]
  },
  {
   "cell_type": "code",
   "execution_count": 6,
   "id": "7cd4a78d-f928-4633-8a84-903bfa828dcb",
   "metadata": {},
   "outputs": [
    {
     "name": "stdout",
     "output_type": "stream",
     "text": [
      "clwc\n",
      "ciwc\n",
      "rh\n"
     ]
    }
   ],
   "source": [
    "# data_array = np.zeros((data_dict['q'].size, len(data_dict.keys())), dtype=np.float32)\n",
    "\n",
    "k = 0\n",
    "data_array_not_T = []\n",
    "for key in features:\n",
    "    print(key)\n",
    "    data_array_not_T.append(data_dict[key])\n",
    "    del data_dict[key]\n",
    "    k += 1\n",
    "\n",
    "# Convert into np array and transpose\n",
    "data_array = np.transpose(np.array(data_array_not_T, dtype=np.float32))"
   ]
  },
  {
   "cell_type": "code",
   "execution_count": 7,
   "id": "0dc02d62-0af3-45bb-8b76-bb4e65f96946",
   "metadata": {},
   "outputs": [],
   "source": [
    "# Update loc\n",
    "loc = {}\n",
    "for i in range(len(features)):\n",
    "    loc[features[i]] = i"
   ]
  },
  {
   "cell_type": "markdown",
   "id": "90418c3d-a6b9-475d-84e4-8f6170bdb0ac",
   "metadata": {},
   "source": [
    "**Pick the subset to train on**"
   ]
  },
  {
   "cell_type": "code",
   "execution_count": 8,
   "id": "e8bd1380-2fe8-4a43-8cb8-8e1a2272d375",
   "metadata": {},
   "outputs": [],
   "source": [
    "seed = np.random.seed(SEED)\n",
    "subset = np.random.randint(0, HFIELDS, number_horizontal_locations)\n",
    "# Convert to regular int to make check_sum JSON serializable\n",
    "check_sum = int(np.sum(subset))\n",
    "\n",
    "# Collecting all grid cell indices for the horizontal fields given by subset\n",
    "Z = np.zeros((TIMESTEPS, 27, HFIELDS), dtype=int)\n",
    "for k in range(HFIELDS):\n",
    "    Z[:,:,k] = k\n",
    "Z_res = np.reshape(Z, -1)\n",
    "subset_inds = np.concatenate([np.where(Z_res == s)[0] for s in subset])"
   ]
  },
  {
   "cell_type": "code",
   "execution_count": 9,
   "id": "5df0117b-694a-421f-ac03-6b5f267717c7",
   "metadata": {},
   "outputs": [],
   "source": [
    "train_input = data_array[subset_inds[:num_cells]] #num_hours*27\n",
    "train_output = data_output[subset_inds[:num_cells]] #num_hours*27"
   ]
  },
  {
   "cell_type": "markdown",
   "id": "f31c15fb-fe81-4ab1-b77a-839ef433b18d",
   "metadata": {},
   "source": [
    "**Already remove the regime with clw + cli = 0**"
   ]
  },
  {
   "cell_type": "code",
   "execution_count": 10,
   "id": "0ba20584-51e3-4167-9256-34c30276761f",
   "metadata": {},
   "outputs": [],
   "source": [
    "reg_0 = np.where(data_array[:, loc['clwc']] + data_array[:, loc['ciwc']] <= 1e-20)[0]\n",
    "reg_not_0 = np.where(data_array[:, loc['clwc']] + data_array[:, loc['ciwc']] > 1e-20)[0]\n",
    "\n",
    "# Relevant values to compute final MSE/R2-scores\n",
    "mse_reg_0 = np.mean(data_output[reg_0]**2)\n",
    "len_reg_0 = len(reg_0)\n",
    "len_reg_not_0 = len(reg_not_0)\n",
    "len_data_output = len(data_output)\n",
    "var_data_output = np.var(data_output)\n",
    "\n",
    "data_array = data_array[reg_not_0].copy()\n",
    "data_output = data_output[reg_not_0].copy()"
   ]
  },
  {
   "cell_type": "code",
   "execution_count": 11,
   "id": "e1f0ad4b-f5b0-4f01-ba04-57f1a5d2b362",
   "metadata": {},
   "outputs": [
    {
     "name": "stdout",
     "output_type": "stream",
     "text": [
      "4.1247884e-05\n",
      "(19717305, 3)\n",
      "(19717305,)\n"
     ]
    },
    {
     "data": {
      "text/plain": [
       "23475135"
      ]
     },
     "execution_count": 11,
     "metadata": {},
     "output_type": "execute_result"
    }
   ],
   "source": [
    "print(mse_reg_0)\n",
    "print(data_array.shape)\n",
    "print(data_output.shape)\n",
    "\n",
    "# Should be 338023\n",
    "len_reg_0"
   ]
  },
  {
   "cell_type": "markdown",
   "id": "02772919-bf3f-494e-bcc2-b0e7709e15c5",
   "metadata": {},
   "source": [
    "Optimize coefficients"
   ]
  },
  {
   "cell_type": "code",
   "execution_count": 12,
   "id": "419e564c-1024-43a9-b195-8b75e84eabe9",
   "metadata": {},
   "outputs": [
    {
     "data": {
      "text/plain": [
       "(19717305, 3)"
      ]
     },
     "execution_count": 12,
     "metadata": {},
     "output_type": "execute_result"
    }
   ],
   "source": [
    "data_array.shape"
   ]
  },
  {
   "cell_type": "code",
   "execution_count": 13,
   "id": "cf9173e7-edac-4c04-9a34-59474ece5e3a",
   "metadata": {},
   "outputs": [],
   "source": [
    "def func(X, PAR, ALPHA):\n",
    "    x0 = X[:, 0] # clw\n",
    "    x1 = X[:, 1] # cli\n",
    "    x2 = X[:, 2] # RH\n",
    "\n",
    "    # x2 can be slightly negative which is problematic\n",
    "    c = np.maximum(0, x2)**PAR*(1-np.exp(-ALPHA*(x1+x0)))\n",
    "\n",
    "    # c can exceed 1 very slightly\n",
    "    c = np.minimum(c, 1)\n",
    "    \n",
    "    return 100*c"
   ]
  },
  {
   "cell_type": "code",
   "execution_count": 14,
   "id": "ee774e8e-3ff7-442d-beca-834483c650e5",
   "metadata": {},
   "outputs": [],
   "source": [
    "import scipy as sci\n",
    "from scipy.optimize import minimize"
   ]
  },
  {
   "cell_type": "code",
   "execution_count": 15,
   "id": "7f89564a-e0d0-4e46-8019-e029c840b415",
   "metadata": {
    "tags": []
   },
   "outputs": [
    {
     "name": "stdout",
     "output_type": "stream",
     "text": [
      "Optimization terminated successfully.\n",
      "         Current function value: 46.769210\n",
      "         Iterations: 14\n",
      "         Function evaluations: 45\n",
      "         Gradient evaluations: 15\n"
     ]
    }
   ],
   "source": [
    "def objective(P, X,Y):\n",
    "    '''\n",
    "        The objective function.\n",
    "    '''\n",
    "    PAR, ALPHA = P\n",
    "    train_preds = np.minimum(np.maximum(func(X, PAR, ALPHA), 0), 100)\n",
    "    train_mse = np.mean((train_preds - Y)**2, dtype=np.float64)\n",
    "\n",
    "    return train_mse\n",
    "\n",
    "(PAR, ALPHA) = 0.9105, 913984.9624\n",
    "\n",
    "# No iterations with CG or BFGS\n",
    "if tl_bool:\n",
    "    res = minimize(objective, (PAR, ALPHA), args=(train_input, train_output), \\\n",
    "                   method='Nelder-Mead', options={'disp': True})\n",
    "else:\n",
    "    # Compute the MSE and terminate if not tl_bool\n",
    "    P = (PAR, ALPHA)\n",
    "    mse_reg_1 = objective(P, data_array, data_output)\n",
    "    \n",
    "    results = {}\n",
    "    \n",
    "    mse_new_total = (mse_reg_0*len_reg_0 + mse_reg_1*len_reg_not_0)/len_data_output\n",
    "    r2_new_total = 1 - mse_new_total/var_data_output\n",
    "\n",
    "    print(mse_new_total, r2_new_total)\n",
    "\n",
    "    parent_key = 'xu_randall_no_tl'\n",
    "    results[parent_key] = {}\n",
    "    results[parent_key]['MSE_era5_tuned'] = mse_new_total\n",
    "    results[parent_key]['R2_era5_tuned'] = r2_new_total\n",
    "    results[parent_key]['Coefficients'] = list(res.x)\n",
    "    # Should be the same for all runs\n",
    "    results[parent_key]['Check_sum'] = check_sum\n",
    "    \n",
    "    # Finish the code\n",
    "    1/0"
   ]
  },
  {
   "cell_type": "code",
   "execution_count": 16,
   "id": "48fe235d-b3df-419f-8eea-543ce9a16241",
   "metadata": {},
   "outputs": [
    {
     "name": "stdout",
     "output_type": "stream",
     "text": [
      "[1.03745879e+01 9.13984962e+05]\n"
     ]
    }
   ],
   "source": [
    "print(res.x)"
   ]
  },
  {
   "cell_type": "code",
   "execution_count": 17,
   "id": "55374b43-993a-4cf9-91ca-00610cb38aa7",
   "metadata": {},
   "outputs": [
    {
     "data": {
      "text/plain": [
       "[10.37, 913984.96]"
      ]
     },
     "execution_count": 17,
     "metadata": {},
     "output_type": "execute_result"
    }
   ],
   "source": [
    "list(np.round(res.x, 2))"
   ]
  },
  {
   "cell_type": "code",
   "execution_count": 18,
   "id": "67e380ac-6587-4feb-ab66-1840d4fe2eed",
   "metadata": {},
   "outputs": [],
   "source": [
    "results = {}"
   ]
  },
  {
   "cell_type": "markdown",
   "id": "3582e78c-d711-460a-a17e-e66ed8155b49",
   "metadata": {},
   "source": [
    "Original values"
   ]
  },
  {
   "cell_type": "code",
   "execution_count": 19,
   "id": "bbecfba0-b9be-4e18-a2e2-97e4d8883a69",
   "metadata": {
    "tags": []
   },
   "outputs": [],
   "source": [
    "mse_reg_1 = objective((PAR, ALPHA), data_array, data_output)"
   ]
  },
  {
   "cell_type": "code",
   "execution_count": 20,
   "id": "442458b0-074b-40d6-8ca8-e7f1f6dafada",
   "metadata": {},
   "outputs": [
    {
     "name": "stdout",
     "output_type": "stream",
     "text": [
      "791.96438699287 -1.4353001255213025\n"
     ]
    }
   ],
   "source": [
    "mse_orig_total = (mse_reg_0*len_reg_0 + mse_reg_1*len_reg_not_0)/len_data_output\n",
    "r2_orig_total = 1 - mse_orig_total/var_data_output\n",
    "\n",
    "print(mse_orig_total, r2_orig_total)\n",
    "\n",
    "# results['MSE_dya_tuned'] = mse_orig_total\n",
    "# results['R2_dya_tuned'] = r2_orig_total"
   ]
  },
  {
   "cell_type": "markdown",
   "id": "0c1305bb-4dac-43e0-94e0-54daa1b5dfe1",
   "metadata": {},
   "source": [
    "New values"
   ]
  },
  {
   "cell_type": "code",
   "execution_count": 21,
   "id": "94dd8f4d-4a08-471a-946f-d72cefdfb1b7",
   "metadata": {
    "tags": []
   },
   "outputs": [],
   "source": [
    "mse_reg_1 = objective(res.x, data_array, data_output)"
   ]
  },
  {
   "cell_type": "code",
   "execution_count": 22,
   "id": "cde76ce4-5f05-48b6-b81c-9ae73a639e47",
   "metadata": {},
   "outputs": [
    {
     "name": "stdout",
     "output_type": "stream",
     "text": [
      "272.31244846409373 0.1626359078547921\n"
     ]
    }
   ],
   "source": [
    "mse_new_total = (mse_reg_0*len_reg_0 + mse_reg_1*len_reg_not_0)/len_data_output\n",
    "r2_new_total = 1 - mse_new_total/var_data_output\n",
    "\n",
    "print(mse_new_total, r2_new_total)\n",
    "\n",
    "parent_key = 'xu_randall_tl_%d_num_cells_%d_seed_%d'%(subset_exp,num_cells,SEED)\n",
    "results[parent_key] = {}\n",
    "results[parent_key]['MSE_era5_tuned'] = mse_new_total\n",
    "results[parent_key]['R2_era5_tuned'] = r2_new_total\n",
    "results[parent_key]['Coefficients'] = list(res.x)\n",
    "# Should be the same for all runs\n",
    "results[parent_key]['Check_sum'] = check_sum"
   ]
  },
  {
   "cell_type": "markdown",
   "id": "2400f62b-95b1-4377-946e-bd3a0e313c26",
   "metadata": {},
   "source": [
    "**Save results**"
   ]
  },
  {
   "cell_type": "code",
   "execution_count": 23,
   "id": "05af5c9c-db6f-4865-8954-222ba0bc216e",
   "metadata": {},
   "outputs": [],
   "source": [
    "# Dump results\n",
    "append_dict_to_json(results, '~/workspace_icon-ml/symbolic_regression/evaluate_schemes/on_era5/results/era5_1979-2021/era5_xu_randall.json')"
   ]
  },
  {
   "cell_type": "code",
   "execution_count": 24,
   "id": "cbf28044-4b38-47f9-8a3e-463df56b9c1d",
   "metadata": {},
   "outputs": [],
   "source": [
    "# def predict(P,X):\n",
    "#     '''\n",
    "#         The objective function.\n",
    "#     '''\n",
    "#     PAR, ALPHA = P\n",
    "#     preds = [np.minimum(np.maximum(func(X[k_ind], PAR, ALPHA), 0), 100) for k_ind in range(X.shape[0])]\n",
    "\n",
    "#     return preds\n",
    "\n",
    "# predict(res.x, data_array)\n",
    "\n",
    "# plt.hist(data_output,bins=100, histtype='step', color='k')\n",
    "# plt.hist(predict(res.x, data_array),bins=100, histtype='step')\n",
    "\n",
    "# plt.yscale('log')\n",
    "# plt.legend(['ERA5', 'Xu_randall Scheme'])\n",
    "# plt.savefig('~/workspace_icon-ml/symbolic_regression/evaluate_schemes/on_era5/results/era5_xu_randall.pdf')"
   ]
  },
  {
   "cell_type": "code",
   "execution_count": null,
   "id": "d8064164-6e6b-4c94-b87f-f268d4986caf",
   "metadata": {},
   "outputs": [],
   "source": []
  }
 ],
 "metadata": {
  "kernelspec": {
   "display_name": "clouds",
   "language": "python",
   "name": "clouds"
  },
  "language_info": {
   "codemirror_mode": {
    "name": "ipython",
    "version": 3
   },
   "file_extension": ".py",
   "mimetype": "text/x-python",
   "name": "python",
   "nbconvert_exporter": "python",
   "pygments_lexer": "ipython3",
   "version": "3.7.12"
  }
 },
 "nbformat": 4,
 "nbformat_minor": 5
}
