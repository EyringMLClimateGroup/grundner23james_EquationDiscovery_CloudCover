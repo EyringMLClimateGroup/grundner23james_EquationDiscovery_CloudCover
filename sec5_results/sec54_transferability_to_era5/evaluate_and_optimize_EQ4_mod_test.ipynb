{
 "cells": [
  {
   "cell_type": "markdown",
   "id": "f72e7804-7edc-4130-aa10-b2a5b4e5ba6e",
   "metadata": {},
   "source": [
    "**Test physical form of tuned equation on ERA5 data**\n",
    "\n",
    "*Delayed*"
   ]
  },
  {
   "cell_type": "code",
   "execution_count": 3,
   "id": "4ae7838b-c3ee-46f2-9a01-217d483dbe7a",
   "metadata": {},
   "outputs": [],
   "source": [
    "import os\n",
    "import sys\n",
    "import json\n",
    "import numpy as np\n",
    "import xarray as xr\n",
    "import sympy as sp\n",
    "import matplotlib.pyplot as plt\n",
    "\n",
    "subset_exp = 2\n",
    "# subset_exp = 2\n",
    "number_horizontal_locations = 10**subset_exp\n",
    "tl_bool = True\n",
    "\n",
    "sys.path.insert(0, os.environ['HOME'] + '/workspace_icon-ml/cloud_cover_parameterization/')\n",
    "import my_classes\n",
    "from my_classes import load_data\n",
    "\n",
    "sys.path.insert(0, os.environ['HOME'] + '/workspace_icon-ml/symbolic_regression/')\n",
    "from functions import add_derivatives\n",
    "from functions import append_dict_to_json\n",
    "\n",
    "SEED = 10\n",
    "\n",
    "num_cells = 1368"
   ]
  },
  {
   "cell_type": "markdown",
   "id": "f454881a-f4c8-4db7-8f38-dee94accfbab",
   "metadata": {},
   "source": [
    "**Load data**"
   ]
  },
  {
   "cell_type": "code",
   "execution_count": 6,
   "id": "79c6320b-e34b-4b8c-9031-12ffa5d7c887",
   "metadata": {
    "tags": []
   },
   "outputs": [
    {
     "name": "stdout",
     "output_type": "stream",
     "text": [
      "one\n",
      "Assertion warning. Max cc not 100. Instead:\n",
      "100.0\n",
      "(24, 27, 66655)\n",
      "(24, 27, 66655)\n",
      "(24, 27, 66655)\n",
      "(24, 27, 66655)\n",
      "(24, 27, 66655)\n",
      "(24, 27, 66655)\n"
     ]
    }
   ],
   "source": [
    "order_of_vars = ['q', 'clwc', 'ciwc', 't', 'pa', 'zg', 'cc']\n",
    "data_dict = load_data(source='era5', days='one', order_of_vars=order_of_vars)\n",
    "\n",
    "TIMESTEPS, VLAYERS, HFIELDS = data_dict['q'].shape\n",
    "\n",
    "# Removing four upper-most levels\n",
    "for key in data_dict.keys():\n",
    "    data_dict[key] = data_dict[key][:, 4:].copy()\n",
    "\n",
    "# Data output\n",
    "data_output = data_dict['cc']\n",
    "del data_dict['cc']\n",
    "\n",
    "for key in data_dict.keys():\n",
    "    print(data_dict[key].shape)\n",
    "    assert data_dict[key].shape == data_dict[key].shape"
   ]
  },
  {
   "cell_type": "code",
   "execution_count": 9,
   "id": "8d12bc58-524a-4b66-97d9-1287fbc42c09",
   "metadata": {
    "tags": []
   },
   "outputs": [
    {
     "data": {
      "text/plain": [
       "['int_var_1979-01-01_rh_z_R02B05.npy',\n",
       " 'int_var_1979-04-01_rh_z_R02B05.npy',\n",
       " 'int_var_1979-07-01_rh_z_R02B05.npy',\n",
       " 'int_var_1979-10-01_rh_z_R02B05.npy',\n",
       " 'int_var_1980-01-01_rh_z_R02B05.npy',\n",
       " 'int_var_1980-04-01_rh_z_R02B05.npy',\n",
       " 'int_var_1980-07-01_rh_z_R02B05.npy',\n",
       " 'int_var_1980-10-01_rh_z_R02B05.npy',\n",
       " 'int_var_1981-01-01_rh_z_R02B05.npy',\n",
       " 'int_var_1981-04-01_rh_z_R02B05.npy',\n",
       " 'int_var_1981-07-01_rh_z_R02B05.npy',\n",
       " 'int_var_1981-10-01_rh_z_R02B05.npy',\n",
       " 'int_var_1982-01-01_rh_z_R02B05.npy',\n",
       " 'int_var_1982-04-01_rh_z_R02B05.npy',\n",
       " 'int_var_1982-07-01_rh_z_R02B05.npy',\n",
       " 'int_var_1982-10-01_rh_z_R02B05.npy',\n",
       " 'int_var_1983-01-01_rh_z_R02B05.npy',\n",
       " 'int_var_1983-04-01_rh_z_R02B05.npy',\n",
       " 'int_var_1983-07-01_rh_z_R02B05.npy',\n",
       " 'int_var_1983-10-01_rh_z_R02B05.npy',\n",
       " 'int_var_1984-01-01_rh_z_R02B05.npy',\n",
       " 'int_var_1984-04-01_rh_z_R02B05.npy',\n",
       " 'int_var_1984-07-01_rh_z_R02B05.npy',\n",
       " 'int_var_1984-10-01_rh_z_R02B05.npy',\n",
       " 'int_var_1985-01-01_rh_z_R02B05.npy',\n",
       " 'int_var_1985-04-01_rh_z_R02B05.npy',\n",
       " 'int_var_1985-07-01_rh_z_R02B05.npy',\n",
       " 'int_var_1985-10-01_rh_z_R02B05.npy',\n",
       " 'int_var_1986-01-01_rh_z_R02B05.npy',\n",
       " 'int_var_1986-04-01_rh_z_R02B05.npy',\n",
       " 'int_var_1986-07-01_rh_z_R02B05.npy',\n",
       " 'int_var_1986-10-01_rh_z_R02B05.npy',\n",
       " 'int_var_1987-01-01_rh_z_R02B05.npy',\n",
       " 'int_var_1987-04-01_rh_z_R02B05.npy',\n",
       " 'int_var_1987-07-01_rh_z_R02B05.npy',\n",
       " 'int_var_1987-10-01_rh_z_R02B05.npy',\n",
       " 'int_var_1988-01-01_rh_z_R02B05.npy',\n",
       " 'int_var_1988-04-01_rh_z_R02B05.npy',\n",
       " 'int_var_1988-07-01_rh_z_R02B05.npy',\n",
       " 'int_var_1988-10-01_rh_z_R02B05.npy',\n",
       " 'int_var_1989-01-01_rh_z_R02B05.npy',\n",
       " 'int_var_1989-04-01_rh_z_R02B05.npy',\n",
       " 'int_var_1989-07-01_rh_z_R02B05.npy',\n",
       " 'int_var_1989-10-01_rh_z_R02B05.npy',\n",
       " 'int_var_1990-01-01_rh_z_R02B05.npy',\n",
       " 'int_var_1990-04-01_rh_z_R02B05.npy',\n",
       " 'int_var_1990-07-01_rh_z_R02B05.npy',\n",
       " 'int_var_1990-10-01_rh_z_R02B05.npy',\n",
       " 'int_var_1991-01-01_rh_z_R02B05.npy',\n",
       " 'int_var_1991-04-01_rh_z_R02B05.npy',\n",
       " 'int_var_1991-07-01_rh_z_R02B05.npy',\n",
       " 'int_var_1991-10-01_rh_z_R02B05.npy',\n",
       " 'int_var_1992-01-01_rh_z_R02B05.npy',\n",
       " 'int_var_1992-04-01_rh_z_R02B05.npy',\n",
       " 'int_var_1992-07-01_rh_z_R02B05.npy',\n",
       " 'int_var_1992-10-01_rh_z_R02B05.npy',\n",
       " 'int_var_1993-01-01_rh_z_R02B05.npy',\n",
       " 'int_var_1993-04-01_rh_z_R02B05.npy',\n",
       " 'int_var_1993-07-01_rh_z_R02B05.npy',\n",
       " 'int_var_1993-10-01_rh_z_R02B05.npy',\n",
       " 'int_var_1994-01-01_rh_z_R02B05.npy',\n",
       " 'int_var_1994-04-01_rh_z_R02B05.npy',\n",
       " 'int_var_1994-07-01_rh_z_R02B05.npy',\n",
       " 'int_var_1994-10-01_rh_z_R02B05.npy',\n",
       " 'int_var_1995-01-01_rh_z_R02B05.npy',\n",
       " 'int_var_1995-04-01_rh_z_R02B05.npy',\n",
       " 'int_var_1995-07-01_rh_z_R02B05.npy',\n",
       " 'int_var_1995-10-01_rh_z_R02B05.npy',\n",
       " 'int_var_1996-01-01_rh_z_R02B05.npy',\n",
       " 'int_var_1996-04-01_rh_z_R02B05.npy',\n",
       " 'int_var_1996-07-01_rh_z_R02B05.npy',\n",
       " 'int_var_1996-10-01_rh_z_R02B05.npy',\n",
       " 'int_var_1997-01-01_rh_z_R02B05.npy',\n",
       " 'int_var_1997-04-01_rh_z_R02B05.npy',\n",
       " 'int_var_1997-07-01_rh_z_R02B05.npy',\n",
       " 'int_var_1997-10-01_rh_z_R02B05.npy',\n",
       " 'int_var_1998-01-01_rh_z_R02B05.npy',\n",
       " 'int_var_1998-04-01_rh_z_R02B05.npy',\n",
       " 'int_var_1998-07-01_rh_z_R02B05.npy',\n",
       " 'int_var_1998-10-01_rh_z_R02B05.npy',\n",
       " 'int_var_1999-01-01_rh_z_R02B05.npy',\n",
       " 'int_var_1999-04-01_rh_z_R02B05.npy',\n",
       " 'int_var_1999-07-01_rh_z_R02B05.npy',\n",
       " 'int_var_1999-10-01_rh_z_R02B05.npy',\n",
       " 'int_var_2000-01-01_rh_z_R02B05.npy',\n",
       " 'int_var_2000-04-01_rh_z_R02B05.npy',\n",
       " 'int_var_2000-07-01_rh_z_R02B05.npy',\n",
       " 'int_var_2000-10-01_rh_z_R02B05.npy',\n",
       " 'int_var_2001-01-01_rh_z_R02B05.npy',\n",
       " 'int_var_2001-04-01_rh_z_R02B05.npy',\n",
       " 'int_var_2001-07-01_rh_z_R02B05.npy',\n",
       " 'int_var_2001-10-01_rh_z_R02B05.npy',\n",
       " 'int_var_2002-01-01_rh_z_R02B05.npy',\n",
       " 'int_var_2002-04-01_rh_z_R02B05.npy',\n",
       " 'int_var_2002-07-01_rh_z_R02B05.npy',\n",
       " 'int_var_2003-01-01_rh_z_R02B05.npy',\n",
       " 'int_var_2003-04-01_rh_z_R02B05.npy',\n",
       " 'int_var_2003-07-01_rh_z_R02B05.npy',\n",
       " 'int_var_2003-10-01_rh_z_R02B05.npy',\n",
       " 'int_var_2004-01-01_rh_z_R02B05.npy',\n",
       " 'int_var_2004-04-01_rh_z_R02B05.npy',\n",
       " 'int_var_2004-07-01_rh_z_R02B05.npy',\n",
       " 'int_var_2004-10-01_rh_z_R02B05.npy',\n",
       " 'int_var_2005-01-01_rh_z_R02B05.npy',\n",
       " 'int_var_2005-04-01_rh_z_R02B05.npy',\n",
       " 'int_var_2005-07-01_rh_z_R02B05.npy',\n",
       " 'int_var_2005-10-01_rh_z_R02B05.npy',\n",
       " 'int_var_2006-01-01_rh_z_R02B05.npy',\n",
       " 'int_var_2006-04-01_rh_z_R02B05.npy',\n",
       " 'int_var_2006-07-01_rh_z_R02B05.npy',\n",
       " 'int_var_2006-10-01_rh_z_R02B05.npy',\n",
       " 'int_var_2007-01-01_rh_z_R02B05.npy',\n",
       " 'int_var_2007-04-01_rh_z_R02B05.npy',\n",
       " 'int_var_2007-07-01_rh_z_R02B05.npy',\n",
       " 'int_var_2007-10-01_rh_z_R02B05.npy',\n",
       " 'int_var_2008-01-01_rh_z_R02B05.npy',\n",
       " 'int_var_2008-04-01_rh_z_R02B05.npy',\n",
       " 'int_var_2008-07-01_rh_z_R02B05.npy',\n",
       " 'int_var_2008-10-01_rh_z_R02B05.npy',\n",
       " 'int_var_2009-01-01_rh_z_R02B05.npy',\n",
       " 'int_var_2009-04-01_rh_z_R02B05.npy',\n",
       " 'int_var_2009-07-01_rh_z_R02B05.npy',\n",
       " 'int_var_2009-10-01_rh_z_R02B05.npy',\n",
       " 'int_var_2010-01-01_rh_z_R02B05.npy',\n",
       " 'int_var_2010-04-01_rh_z_R02B05.npy',\n",
       " 'int_var_2010-07-01_rh_z_R02B05.npy',\n",
       " 'int_var_2010-10-01_rh_z_R02B05.npy',\n",
       " 'int_var_2011-01-01_rh_z_R02B05.npy',\n",
       " 'int_var_2011-04-01_rh_z_R02B05.npy',\n",
       " 'int_var_2011-07-01_rh_z_R02B05.npy',\n",
       " 'int_var_2011-10-01_rh_z_R02B05.npy',\n",
       " 'int_var_2012-01-01_rh_z_R02B05.npy',\n",
       " 'int_var_2012-04-01_rh_z_R02B05.npy',\n",
       " 'int_var_2012-07-01_rh_z_R02B05.npy',\n",
       " 'int_var_2012-10-01_rh_z_R02B05.npy',\n",
       " 'int_var_2013-01-01_rh_z_R02B05.npy',\n",
       " 'int_var_2013-04-01_rh_z_R02B05.npy',\n",
       " 'int_var_2013-07-01_rh_z_R02B05.npy',\n",
       " 'int_var_2013-10-01_rh_z_R02B05.npy',\n",
       " 'int_var_2014-01-01_rh_z_R02B05.npy',\n",
       " 'int_var_2014-04-01_rh_z_R02B05.npy',\n",
       " 'int_var_2014-07-01_rh_z_R02B05.npy',\n",
       " 'int_var_2014-10-01_rh_z_R02B05.npy',\n",
       " 'int_var_2015-01-01_rh_z_R02B05.npy',\n",
       " 'int_var_2015-04-01_rh_z_R02B05.npy',\n",
       " 'int_var_2015-07-01_rh_z_R02B05.npy',\n",
       " 'int_var_2015-10-01_rh_z_R02B05.npy',\n",
       " 'int_var_2016-01-01_rh_z_R02B05.npy',\n",
       " 'int_var_2016-04-01_rh_z_R02B05.npy',\n",
       " 'int_var_2016-07-01_rh_z_R02B05.npy',\n",
       " 'int_var_2016-10-01_rh_z_R02B05.npy',\n",
       " 'int_var_2017-01-01_rh_z_R02B05.npy',\n",
       " 'int_var_2017-04-01_rh_z_R02B05.npy',\n",
       " 'int_var_2017-07-01_rh_z_R02B05.npy',\n",
       " 'int_var_2017-10-01_rh_z_R02B05.npy',\n",
       " 'int_var_2018-01-01_rh_z_R02B05.npy',\n",
       " 'int_var_2018-04-01_rh_z_R02B05.npy',\n",
       " 'int_var_2018-07-01_rh_z_R02B05.npy',\n",
       " 'int_var_2018-10-01_rh_z_R02B05.npy',\n",
       " 'int_var_2019-01-01_rh_z_R02B05.npy',\n",
       " 'int_var_2019-04-01_rh_z_R02B05.npy',\n",
       " 'int_var_2019-07-01_rh_z_R02B05.npy',\n",
       " 'int_var_2019-10-01_rh_z_R02B05.npy',\n",
       " 'int_var_2020-01-01_rh_z_R02B05.npy',\n",
       " 'int_var_2020-04-01_rh_z_R02B05.npy',\n",
       " 'int_var_2020-07-01_rh_z_R02B05.npy',\n",
       " 'int_var_2020-10-01_rh_z_R02B05.npy',\n",
       " 'int_var_2021-01-01_rh_z_R02B05.npy',\n",
       " 'int_var_2021-04-01_rh_z_R02B05.npy',\n",
       " 'int_var_2021-07-01_rh_z_R02B05.npy',\n",
       " 'int_var_2021-10-01_rh_z_R02B05.npy']"
      ]
     },
     "execution_count": 9,
     "metadata": {},
     "output_type": "execute_result"
    }
   ],
   "source": [
    "npy_file_names"
   ]
  },
  {
   "cell_type": "code",
   "execution_count": 8,
   "id": "3b1a97cb-ca8b-4cf1-ac64-5dd4a49d6a9d",
   "metadata": {},
   "outputs": [
    {
     "ename": "KeyboardInterrupt",
     "evalue": "",
     "output_type": "error",
     "traceback": [
      "\u001b[0;31m---------------------------------------------------------------------------\u001b[0m",
      "\u001b[0;31mKeyboardInterrupt\u001b[0m                         Traceback (most recent call last)",
      "Cell \u001b[0;32mIn [8], line 22\u001b[0m\n\u001b[1;32m     20\u001b[0m     npy_file \u001b[38;5;241m=\u001b[39m np\u001b[38;5;241m.\u001b[39mload(os\u001b[38;5;241m.\u001b[39menviron[\u001b[38;5;124m'\u001b[39m\u001b[38;5;124mHOME\u001b[39m\u001b[38;5;124m'\u001b[39m] \u001b[38;5;241m+\u001b[39m \u001b[38;5;124m'\u001b[39m\u001b[38;5;124m/bd1179_work/ERA5/hvcg_data/\u001b[39m\u001b[38;5;132;01m%s\u001b[39;00m\u001b[38;5;124m/\u001b[39m\u001b[38;5;132;01m%s\u001b[39;00m\u001b[38;5;124m'\u001b[39m\u001b[38;5;241m%\u001b[39m(folder,file), mmap_mode\u001b[38;5;241m=\u001b[39m\u001b[38;5;124m'\u001b[39m\u001b[38;5;124mr\u001b[39m\u001b[38;5;124m'\u001b[39m)\n\u001b[1;32m     21\u001b[0m     npy_file \u001b[38;5;241m=\u001b[39m np\u001b[38;5;241m.\u001b[39mfloat32(npy_file[\u001b[38;5;241m0\u001b[39m::\u001b[38;5;241m3\u001b[39m]\u001b[38;5;241m.\u001b[39mcopy())\n\u001b[0;32m---> 22\u001b[0m     all_npy_files \u001b[38;5;241m=\u001b[39m \u001b[43mnp\u001b[49m\u001b[38;5;241;43m.\u001b[39;49m\u001b[43mconcatenate\u001b[49m\u001b[43m(\u001b[49m\u001b[43m(\u001b[49m\u001b[43mall_npy_files\u001b[49m\u001b[43m,\u001b[49m\u001b[43m \u001b[49m\u001b[43mnpy_file\u001b[49m\u001b[43m)\u001b[49m\u001b[43m,\u001b[49m\u001b[43m \u001b[49m\u001b[43maxis\u001b[49m\u001b[38;5;241;43m=\u001b[39;49m\u001b[38;5;241;43m0\u001b[39;49m\u001b[43m)\u001b[49m\n\u001b[1;32m     23\u001b[0m data_dict[folder] \u001b[38;5;241m=\u001b[39m all_npy_files\n",
      "File \u001b[0;32m<__array_function__ internals>:180\u001b[0m, in \u001b[0;36mconcatenate\u001b[0;34m(*args, **kwargs)\u001b[0m\n",
      "\u001b[0;31mKeyboardInterrupt\u001b[0m: "
     ]
    }
   ],
   "source": [
    "import time\n",
    "t0 = time.time()\n",
    "\n",
    "# Add rh\n",
    "T0 = 273.15\n",
    "r = 0.00263*data_dict['pa']*data_dict['q']*np.exp((17.67*(data_dict['t']-T0))/(data_dict['t']-29.65))**(-1)\n",
    "data_dict['rh'] = r\n",
    "\n",
    "# Add rh_z\n",
    "folder = 'rh_z'\n",
    "\n",
    "# Initialize all_npy_files with empty tensor\n",
    "all_npy_files = np.zeros((0, VLAYERS-4, HFIELDS))\n",
    "\n",
    "# Load all filenames in the folder containing the derivatives. The filenames are sorted chronologically.\n",
    "npy_file_names = sorted(os.listdir(os.path.join(os.environ['HOME'] + '/bd1179_work/ERA5/hvcg_data', folder)))        \n",
    "\n",
    "for file in npy_file_names:\n",
    "    # Load three-hourly data and convert directly to float32\n",
    "    npy_file = np.load(os.environ['HOME'] + '/bd1179_work/ERA5/hvcg_data/%s/%s'%(folder,file), mmap_mode='r')\n",
    "    npy_file = np.float32(npy_file[0::3].copy())\n",
    "    all_npy_files = np.concatenate((all_npy_files, npy_file), axis=0)\n",
    "data_dict[folder] = all_npy_files "
   ]
  },
  {
   "cell_type": "markdown",
   "id": "5ae7f585-0a81-4a97-89b9-eb3b48eff176",
   "metadata": {},
   "source": [
    "**Reshaping and keeping only the relevant features**"
   ]
  },
  {
   "cell_type": "code",
   "execution_count": null,
   "id": "02554fbd-a45a-48a8-a130-e9dae58174c4",
   "metadata": {},
   "outputs": [],
   "source": [
    "# Keeping only the relevant features\n",
    "features = ['rh', 't', 'clwc', 'ciwc', 'rh_z']\n",
    "for key in features:\n",
    "    data_dict[key] = np.reshape(data_dict[key], -1)\n",
    "    \n",
    "data_output = np.reshape(data_output, -1)\n",
    "\n",
    "del data_dict['q']\n",
    "del data_dict['pa']\n",
    "del data_dict['zg']\n",
    "\n",
    "no_features = len(data_dict.keys())"
   ]
  },
  {
   "cell_type": "markdown",
   "id": "4a85c4cd-eb04-42e6-b93f-8e9d5e56eb2e",
   "metadata": {},
   "source": [
    "**Cast dict into ndarray**"
   ]
  },
  {
   "cell_type": "code",
   "execution_count": null,
   "id": "8c0dbaf8-d1de-4334-9035-0a6b6e4c94f0",
   "metadata": {},
   "outputs": [],
   "source": [
    "# data_array = np.zeros((data_dict['q'].size, len(data_dict.keys())), dtype=np.float32)\n",
    "\n",
    "k = 0\n",
    "data_array_not_T = []\n",
    "for key in features:\n",
    "    print(key)\n",
    "    data_array_not_T.append(np.reshape(data_dict[key], -1))\n",
    "    del data_dict[key]\n",
    "    k += 1\n",
    "\n",
    "# Convert into np array and transpose\n",
    "data_array = np.transpose(np.array(data_array_not_T, dtype=np.float32))"
   ]
  },
  {
   "cell_type": "code",
   "execution_count": null,
   "id": "7f8caec0-e181-4e8a-bc20-b31b952fb185",
   "metadata": {},
   "outputs": [],
   "source": [
    "# Update loc\n",
    "loc = {}\n",
    "for i in range(len(features)):\n",
    "    loc[features[i]] = i"
   ]
  },
  {
   "cell_type": "markdown",
   "id": "674fcce6-2a0e-4ed6-95a4-dca59ff6d50a",
   "metadata": {},
   "source": [
    "**Pick the subset**"
   ]
  },
  {
   "cell_type": "code",
   "execution_count": null,
   "id": "771ad081-e735-4f7d-8490-b0e7b9645d9f",
   "metadata": {},
   "outputs": [],
   "source": [
    "seed = np.random.seed(SEED)\n",
    "subset = np.random.randint(0, HFIELDS, number_horizontal_locations)\n",
    "# Convert to regular int to make check_sum JSON serializable\n",
    "check_sum = int(np.sum(subset))\n",
    "\n",
    "# Collecting all grid cell indices for the horizontal fields given by subset\n",
    "Z = np.zeros((TIMESTEPS, 27, HFIELDS), dtype=int)\n",
    "for k in range(HFIELDS):\n",
    "    Z[:,:,k] = k\n",
    "Z_res = np.reshape(Z, -1)\n",
    "subset_inds = np.concatenate([np.where(Z_res == s)[0] for s in subset])"
   ]
  },
  {
   "cell_type": "code",
   "execution_count": null,
   "id": "0a124893-d9d3-4477-b09d-4861fcc8f842",
   "metadata": {},
   "outputs": [],
   "source": [
    "train_input = data_array[subset_inds[:num_cells]] #num_hours*27\n",
    "train_output = data_output[subset_inds[:num_cells]] #num_hours*27"
   ]
  },
  {
   "cell_type": "markdown",
   "id": "8ee8eb97-f12a-41f8-8991-815e9b590cba",
   "metadata": {},
   "source": [
    "**Already remove the regime with clw + cli = 0**"
   ]
  },
  {
   "cell_type": "code",
   "execution_count": null,
   "id": "7b8be395-eefa-4c0a-aabb-3780d19ec06f",
   "metadata": {},
   "outputs": [],
   "source": [
    "reg_0 = np.where(data_array[:, loc['clwc']] + data_array[:, loc['ciwc']] <= 1e-20)[0]\n",
    "reg_not_0 = np.where(data_array[:, loc['clwc']] + data_array[:, loc['ciwc']] > 1e-20)[0]\n",
    "\n",
    "# Relevant values to compute final MSE/R2-scores\n",
    "mse_reg_0 = np.mean(data_output[reg_0]**2)\n",
    "len_reg_0 = len(reg_0)\n",
    "len_reg_not_0 = len(reg_not_0)\n",
    "len_data_output = len(data_output)\n",
    "var_data_output = np.var(data_output)\n",
    "\n",
    "data_array = data_array[reg_not_0]\n",
    "data_output = data_output[reg_not_0]"
   ]
  },
  {
   "cell_type": "code",
   "execution_count": null,
   "id": "dd0455a9-5010-44e9-abd6-35151b7a10a6",
   "metadata": {},
   "outputs": [],
   "source": [
    "print(mse_reg_0)\n",
    "print(data_array.shape)\n",
    "print(data_output.shape)\n",
    "\n",
    "# Should be 338023\n",
    "len_reg_0"
   ]
  },
  {
   "cell_type": "markdown",
   "id": "51702441-2dbb-4e54-ab31-796a587b2fb7",
   "metadata": {},
   "source": [
    "Optimize coefficients"
   ]
  },
  {
   "cell_type": "code",
   "execution_count": null,
   "id": "26e734a3-580a-48e4-b2c4-a891a42b5685",
   "metadata": {},
   "outputs": [],
   "source": [
    "# See ~/symbolic_regression/finding_symmetries/pysr_results_dyamond_on_regimes/optimize_coefs_EQ4.ipynb\n",
    "def func(X, a,b,c,d,e,f,g,h,i,j):\n",
    "    # features = ['rh', 't', 'clwc', 'ciwc', 'rh_z']\n",
    "    \n",
    "    rh = X[:, 0]\n",
    "    ta = X[:, 1]\n",
    "    clwc = X[:, 2]\n",
    "    ciwc = X[:, 3]\n",
    "    dzrh = X[:, 4]\n",
    "    \n",
    "    a1,a2,a3,a4,a5,a6,a7,a8,a9,eps = [0.31229407460832626, 1.1736956030268146, -0.013983869134317005, 2.6452281700144, 0.000430595940803418, 291.62153962516146, \\\n",
    "                                      32.3312283084943, 6.4948778178700745e-06, 1.8527761701740456e-06, 1.11263027094115]\n",
    "    \n",
    "    RH0 = 0.6025\n",
    "    T0 = 257.06\n",
    "    \n",
    "    I1 = a1 + a2*(rh - RH0) + a3(ta - T0) + a4/2*(rh - RH0)**2 + a5/2*(ta - T0)**2*(rh - RH0)\n",
    "    I2 = a6**3*(dzrh + 0.1/a7)*dzrh**2\n",
    "    I3 = -1/(clwc/a8 + ciwc/a9 + eps)\n",
    "    \n",
    "    return I1 + I2 + I3"
   ]
  },
  {
   "cell_type": "code",
   "execution_count": null,
   "id": "5e1685e5-d5ee-4ea7-b4e5-af0566792377",
   "metadata": {},
   "outputs": [],
   "source": [
    "import scipy as sci\n",
    "from scipy.optimize import minimize"
   ]
  },
  {
   "cell_type": "code",
   "execution_count": null,
   "id": "6f1fdcef-6f16-45f7-a22c-17e90674665e",
   "metadata": {},
   "outputs": [],
   "source": [
    "def objective(X,Y):\n",
    "    '''\n",
    "        The objective function.\n",
    "    '''\n",
    "    train_preds = np.minimum(np.maximum(100*func(X, a,b,c,d,e,f,g,h,i,j), 0), 100)\n",
    "    train_mse = np.mean((train_preds - Y)**2, dtype=np.float64)\n",
    "\n",
    "    return train_mse\n",
    "\n",
    "mse_reg_1 = objective(data_scaled, data_output)\n",
    "\n",
    "results = {}\n",
    "\n",
    "mse_new_total = (mse_reg_0*len_reg_0 + mse_reg_1*len_reg_not_0)/len_data_output\n",
    "r2_new_total = 1 - mse_new_total/var_data_output\n",
    "\n",
    "print(mse_new_total, r2_new_total)\n",
    "\n",
    "parent_key = 'pysr_EQ4_no_tl'\n",
    "results[parent_key] = {}\n",
    "results[parent_key]['MSE'] = mse_new_total\n",
    "results[parent_key]['R2'] = r2_new_total\n",
    "results[parent_key]['Coefficients'] = list(res.x)\n",
    "# Should be the same for all runs\n",
    "results[parent_key]['Check_sum'] = check_sum"
   ]
  },
  {
   "cell_type": "code",
   "execution_count": null,
   "id": "373a1caf-7c49-4937-8e50-11f244f3a26c",
   "metadata": {},
   "outputs": [],
   "source": [
    "results"
   ]
  },
  {
   "cell_type": "code",
   "execution_count": null,
   "id": "9cddd205-f903-4162-b1e6-da6de4bcbafe",
   "metadata": {},
   "outputs": [],
   "source": []
  }
 ],
 "metadata": {
  "kernelspec": {
   "display_name": "python399",
   "language": "python",
   "name": "python399"
  },
  "language_info": {
   "codemirror_mode": {
    "name": "ipython",
    "version": 3
   },
   "file_extension": ".py",
   "mimetype": "text/x-python",
   "name": "python",
   "nbconvert_exporter": "python",
   "pygments_lexer": "ipython3",
   "version": "3.9.12"
  }
 },
 "nbformat": 4,
 "nbformat_minor": 5
}
