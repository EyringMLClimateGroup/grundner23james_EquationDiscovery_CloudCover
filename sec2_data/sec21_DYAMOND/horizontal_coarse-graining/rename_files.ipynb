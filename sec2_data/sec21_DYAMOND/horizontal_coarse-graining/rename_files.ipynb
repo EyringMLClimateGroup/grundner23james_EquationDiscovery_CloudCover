{
 "cells": [
  {
   "cell_type": "markdown",
   "id": "fd04ee5b-037b-4962-ab51-9512e07c02a6",
   "metadata": {},
   "source": [
    "Rename variable names in file names"
   ]
  },
  {
   "cell_type": "code",
   "execution_count": 33,
   "id": "55a7faf1-8188-4faa-b005-13190afd8971",
   "metadata": {},
   "outputs": [],
   "source": [
    "import os"
   ]
  },
  {
   "cell_type": "code",
   "execution_count": 34,
   "id": "e65f2225-ba32-414c-b525-5683c52c79d1",
   "metadata": {
    "tags": []
   },
   "outputs": [],
   "source": [
    "path = '~/bd1179_work/DYAMOND/hcg_data_renamed'\n",
    "files = os.listdir(path)"
   ]
  },
  {
   "cell_type": "code",
   "execution_count": 35,
   "id": "0a8ee87b-23e7-4f30-9779-0b035a53363f",
   "metadata": {},
   "outputs": [],
   "source": [
    "vars_in = ['_pres_', '_qv_', '_t_', '_tot_qc_dia_', '_tot_qi_dia_', '_u_', '_v_']\n",
    "vars_out = ['_pa_', '_hus_', '_ta_', '_clw_', '_cli_', '_ua_', '_va_']"
   ]
  },
  {
   "cell_type": "code",
   "execution_count": 36,
   "id": "81b92f03-b842-44f3-b68d-a0d3e83ec3dd",
   "metadata": {},
   "outputs": [],
   "source": [
    "for file in files:\n",
    "    new_abs_name = path+'/'+file.replace('renamed_n', 'n')\n",
    "    os.rename(path+'/'+file, new_abs_name)\n",
    "    for k in range(len(vars_in)):\n",
    "        if vars_in[k] in file:\n",
    "            os.rename(new_abs_name, new_abs_name.replace(vars_in[k], vars_out[k]))"
   ]
  }
 ],
 "metadata": {
  "kernelspec": {
   "display_name": "Python 3 (based on the module python3/2022.01)",
   "language": "python",
   "name": "python3_2022_01"
  },
  "language_info": {
   "codemirror_mode": {
    "name": "ipython",
    "version": 3
   },
   "file_extension": ".py",
   "mimetype": "text/x-python",
   "name": "python",
   "nbconvert_exporter": "python",
   "pygments_lexer": "ipython3",
   "version": "3.9.9"
  }
 },
 "nbformat": 4,
 "nbformat_minor": 5
}
