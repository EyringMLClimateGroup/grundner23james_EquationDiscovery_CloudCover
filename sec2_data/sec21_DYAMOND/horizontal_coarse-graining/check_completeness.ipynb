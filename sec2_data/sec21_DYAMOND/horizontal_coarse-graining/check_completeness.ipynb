{
 "cells": [
  {
   "cell_type": "markdown",
   "metadata": {},
   "source": [
    "### Check whether the data is faulty",
    "If the file has the wrong number of time steps and has not been modified in the last hour, we directly remove it"
   ]
  },
  {
   "cell_type": "code",
   "execution_count": 1,
   "metadata": {},
   "outputs": [],
   "source": [
    "# Python 3 unstable\n",
    "import os\n",
    "import xarray as xr\n",
    "import numpy as np\n",
    "import datetime"
   ]
  },
  {
   "cell_type": "code",
   "execution_count": 7,
   "metadata": {},
   "outputs": [],
   "source": [
    "# Define all paths\n",
    "inpath = '/work/ka1081/DYAMOND/ICON-2.5km'\n",
    "outpath = '~/bd1179_work/DYAMOND/hvcg_data'\n",
    "\n",
    "path_content_in = os.listdir(inpath)\n",
    "path_content_out = os.listdir(outpath)\n",
    "\n",
    "# files_out = [path_content_out[k] for k in range(len(path_content_out)) if 'clc' not in path_content_out[k] and '.nc' in path_content_out[k]]\n",
    "files_out = [path_content_out[k] for k in range(len(path_content_out)) if '.nc' in path_content_out[k]]\n",
    "files_in = [files_out[k].replace('.nc','.grb').replace('_R02B05', '') for k in range(len(files_out))]"
   ]
  },
  {
   "cell_type": "markdown",
   "metadata": {},
   "source": [
    "*TEST 1*"
   ]
  },
  {
   "cell_type": "code",
   "execution_count": 8,
   "metadata": {},
   "outputs": [],
   "source": [
    "def time_since_last_modified(fpath):\n",
    "    '''\n",
    "        In hours\n",
    "    '''\n",
    "    \n",
    "    tfile = os.path.getmtime(fpath)\n",
    "    temp_file = '~scratch/temp.txt'\n",
    "    with open(temp_file, 'w') as file:\n",
    "        file.write('')\n",
    "    tnow = os.path.getmtime(temp_file)\n",
    "    os.remove(temp_file)\n",
    "    \n",
    "    return (tnow - tfile)/3600"
   ]
  },
  {
   "cell_type": "markdown",
   "metadata": {},
   "source": [
    "DYAMOND SUMMER"
   ]
  },
  {
   "cell_type": "code",
   "execution_count": 9,
   "metadata": {
    "tags": []
   },
   "outputs": [],
   "source": [
    "# All DYAMOND SUMMER files contain 8 timesteps of data.\n",
    "# With the only exception of 20160911T000000Z.\n",
    "\n",
    "# If the file has the wrong number of time steps and has not been modified in the last hour, we can directly remove it\n",
    "remove_files = False\n",
    "\n",
    "for k in range(len(files_out)):\n",
    "    file = files_out[k]\n",
    "    try:\n",
    "        time_steps = len(xr.open_dataset(os.path.join(outpath, file)).time)\n",
    "    except:\n",
    "        if time_since_last_modified(os.path.join(outpath, file)) > 1:\n",
    "            print('Could not open %s'%file)\n",
    "        # If the file is faulty, remove it\n",
    "        if time_since_last_modified(os.path.join(outpath, file)) > 1 and remove_files:\n",
    "            os.remove(os.path.join(outpath, file))\n",
    "            print('Removed %s'%file)\n",
    "            continue\n",
    "    \n",
    "    # If the file contains the wrong number of time steps\n",
    "    if (time_steps != 8 and '20160911T000000Z' not in file) or (time_steps != 1 and '20160911T000000Z' in file):\n",
    "        print('%s has %d time steps'%(file, time_steps))\n",
    "        \n",
    "        # If the file additionally has not been modified in the last hour, we can directly remove it\n",
    "        if time_since_last_modified(os.path.join(outpath, file)) > 1 and remove_files:\n",
    "            os.remove(os.path.join(outpath, file))\n",
    "            print('Removed %s'%file)"
   ]
  },
  {
   "cell_type": "markdown",
   "metadata": {},
   "source": [
    "DYAMOND WINTER"
   ]
  },
  {
   "cell_type": "code",
   "execution_count": 10,
   "metadata": {
    "tags": []
   },
   "outputs": [],
   "source": [
    "# All DYAMOND WINTER files contain 7 timesteps of data.\n",
    "# With the only exception of 20.1 and 23.1 (which consist of 8 timesteps each)\n",
    "\n",
    "# If the file has the wrong number of time steps and has not been modified in the last hour, we can directly remove it\n",
    "remove_files = False\n",
    "\n",
    "for k in range(len(files_out)):\n",
    "    file = files_out[k]\n",
    "    try:\n",
    "        time_steps = len(xr.open_dataset(os.path.join(outpath, file)).time)\n",
    "    except:\n",
    "        if time_since_last_modified(os.path.join(outpath, file)) > 1:\n",
    "            print('Could not open %s'%file)\n",
    "        # If the file is faulty, remove it\n",
    "        if time_since_last_modified(os.path.join(outpath, file)) > 1 and remove_files:\n",
    "            os.remove(os.path.join(outpath, file))\n",
    "            print('Removed %s'%file)\n",
    "            continue\n",
    "    \n",
    "    # If the file contains the wrong number of time steps\n",
    "    if time_steps != 7 and '20200120000000' not in file and '20200123000000' not in file:\n",
    "        print('%s has %d time steps'%(file, time_steps))\n",
    "        \n",
    "        # If the file additionally has not been modified in the last hour, we can directly remove it\n",
    "        if time_since_last_modified(os.path.join(outpath, file)) > 1 and remove_files:\n",
    "            os.remove(os.path.join(outpath, file))\n",
    "            print('Removed %s'%file)"
   ]
  },
  {
   "cell_type": "code",
   "execution_count": 6,
   "metadata": {
    "tags": []
   },
   "outputs": [
    {
     "name": "stdout",
     "output_type": "stream",
     "text": [
      "~/bd1179_work/DYAMOND/hcg_data/clw\n",
      "619\n",
      "~/bd1179_work/DYAMOND/hcg_data/cli\n",
      "619\n",
      "~/bd1179_work/DYAMOND/hcg_data/clc\n",
      "619\n",
      "~/bd1179_work/DYAMOND/hcg_data/hus\n",
      "619\n",
      "~/bd1179_work/DYAMOND/hcg_data/pa\n",
      "619\n",
      "~/bd1179_work/DYAMOND/hcg_data/ta\n",
      "619\n",
      "~/bd1179_work/DYAMOND/hcg_data/ua\n",
      "619\n",
      "~/bd1179_work/DYAMOND/hcg_data/va\n",
      "619\n"
     ]
    }
   ],
   "source": [
    "# Count all timesteps\n",
    "paths = ['~/bd1179_work/DYAMOND/hcg_data/clw', '~/bd1179_work/DYAMOND/hcg_data/cli', '~/bd1179_work/DYAMOND/hcg_data/clc', '~/bd1179_work/DYAMOND/hcg_data/hus', '~/bd1179_work/DYAMOND/hcg_data/pa', '~/bd1179_work/DYAMOND/hcg_data/ta', '~/bd1179_work/DYAMOND/hcg_data/ua', '~/bd1179_work/DYAMOND/hcg_data/va']\n",
    "for path in paths:\n",
    "    path_content_out = os.listdir(path)\n",
    "    files_out = [path_content_out[k] for k in range(len(path_content_out)) if '.nc' in path_content_out[k]]\n",
    "    \n",
    "    remove_files = False\n",
    "\n",
    "    time_steps = 0\n",
    "    for k in range(len(files_out)):\n",
    "        file = files_out[k]\n",
    "        time_steps += len(xr.open_dataset(os.path.join(path, file)).time)\n",
    "    print(path)\n",
    "    print(time_steps)"
   ]
  },
  {
   "cell_type": "code",
   "execution_count": 4,
   "metadata": {},
   "outputs": [
    {
     "name": "stdout",
     "output_type": "stream",
     "text": [
      "Total number of files: 299\n"
     ]
    },
    {
     "data": {
      "text/plain": [
       "{'tot_qc_dia': 42,\n",
       " 'tot_qi_dia': 42,\n",
       " 'u_ml': 42,\n",
       " '_v_ml': 42,\n",
       " '_t_ml': 42,\n",
       " 'qv_ml': 42,\n",
       " 'pres_ml': 42}"
      ]
     },
     "execution_count": 4,
     "metadata": {},
     "output_type": "execute_result"
    }
   ],
   "source": [
    "file_count = {key: 0 for key in ['tot_qc_dia', 'tot_qi_dia', 'u_ml', '_v_ml', '_t_ml', 'qv_ml', 'pres_ml']}\n",
    "files = os.listdir(outpath)\n",
    "\n",
    "for file in files:\n",
    "    for key in file_count.keys():\n",
    "        if key in file:\n",
    "            file_count[key] += 1\n",
    "            break\n",
    "\n",
    "print('Total number of files: %d'%len(files))\n",
    "\n",
    "# There should be 42 per variable in the end!\n",
    "file_count"
   ]
  },
  {
   "cell_type": "markdown",
   "metadata": {},
   "source": [
    "*TEST 2*"
   ]
  },
  {
   "cell_type": "code",
   "execution_count": 87,
   "metadata": {},
   "outputs": [],
   "source": [
    "# This is the test by comparing file size\n",
    "# Actually it does suprisingly bad!!\n",
    "\n",
    "# For the horizontally coarse-grained files we expect a **net reduction by a factor of around 260**\n",
    "# For the copied (converted to nc) files we expect a **net reduction by a factor of around 0.027**\n",
    "\n",
    "ratio_copied_files = {}\n",
    "ratio_hcg_files = {}\n",
    "\n",
    "for k in range(len(files_out)):\n",
    "    file_in_size = os.path.getsize(os.path.join(inpath, files_in[k]))\n",
    "    file_out_size = os.path.getsize(os.path.join(outpath, files_out[k]))\n",
    "    \n",
    "    if 'R02B05.nc' in files_out[k]:\n",
    "        ratio_hcg_files[files_out[k]] = file_in_size/file_out_size\n",
    "    else:\n",
    "        ratio_copied_files[files_out[k]] = file_in_size/file_out_size"
   ]
  },
  {
   "cell_type": "code",
   "execution_count": null,
   "metadata": {},
   "outputs": [],
   "source": []
  }
 ],
 "metadata": {
  "kernelspec": {
   "display_name": "Python 3 (based on the module python3/2022.01)",
   "language": "python",
   "name": "python3_2022_01"
  },
  "language_info": {
   "codemirror_mode": {
    "name": "ipython",
    "version": 3
   },
   "file_extension": ".py",
   "mimetype": "text/x-python",
   "name": "python",
   "nbconvert_exporter": "python",
   "pygments_lexer": "ipython3",
   "version": "3.9.9"
  }
 },
 "nbformat": 4,
 "nbformat_minor": 4
}
