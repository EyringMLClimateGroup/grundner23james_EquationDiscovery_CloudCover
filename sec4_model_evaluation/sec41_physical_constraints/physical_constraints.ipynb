{
 "cells": [
  {
   "cell_type": "markdown",
   "metadata": {
    "tags": []
   },
   "source": [
    "### Physical constraints\n",
    "\n",
    "Are the physical constraints satisfied in the dataset?"
   ]
  },
  {
   "cell_type": "code",
   "execution_count": 43,
   "metadata": {
    "tags": []
   },
   "outputs": [],
   "source": [
    "import gc\n",
    "import os\n",
    "import sys\n",
    "import json\n",
    "import time\n",
    "import sympy as sp\n",
    "import numpy as np\n",
    "import matplotlib.pyplot as plt \n",
    "\n",
    "from sklearn.linear_model import LinearRegression\n",
    "\n",
    "# Try 500,1000,5000,10000\n",
    "# subset_size = int(sys.argv[4])\n",
    "subset_size = 1000\n",
    "\n",
    "# 221108: Try eight input features\n",
    "no_features = 5"
   ]
  },
  {
   "cell_type": "markdown",
   "metadata": {},
   "source": [
    "**Load data**"
   ]
  },
  {
   "cell_type": "code",
   "execution_count": 44,
   "metadata": {},
   "outputs": [],
   "source": [
    "all_possible_features = ['hus', 'clw', 'cli', 'ta', 'pa', 'zg', 'fr_land', 'U', 'rh', 'ps', 'hus_z', 'hus_zz', 'clw_z', 'clw_zz', 'cli_z',\\\n",
    "            'cli_zz', 'ta_z', 'ta_zz', 'pa_z', 'pa_zz', 'U_z', 'U_zz', 'rh_z', 'rh_zz']\n",
    "\n",
    "loc = {}\n",
    "for i in range(len(all_possible_features)):\n",
    "    loc[all_possible_features[i]] = i\n",
    "    \n",
    "# Features\n",
    "if no_features == 5:\n",
    "    features = ['rh', 'ta', 'clw', 'cli', 'rh_z']\n",
    "elif no_features == 8:\n",
    "    features = ['rh', 'ta', 'clw', 'cli', 'rh_z', 'rh_zz', 'pa_z', 'pa_zz']"
   ]
  },
  {
   "cell_type": "code",
   "execution_count": 45,
   "metadata": {},
   "outputs": [],
   "source": [
    "path_data = os.path.join('~/my_work/icon-ml_data/cloud_cover_parameterization/neighborhood_based_SR_DYAMOND')\n",
    "\n",
    "# Load the input data and pick the five best features (rh, ta, clw, cli, rh_z)\n",
    "input_data = np.load(path_data + '/cloud_cover_input_dyamond.npy')\n",
    "input_data = np.concatenate([np.expand_dims(input_data[:, loc[sel_var]], axis=1) for sel_var in features], axis = 1)\n",
    "\n",
    "output_data = np.load(path_data + '/cloud_area_output_dyamond.npy')"
   ]
  },
  {
   "cell_type": "code",
   "execution_count": 48,
   "metadata": {},
   "outputs": [],
   "source": [
    "# Update loc\n",
    "loc = {}\n",
    "for i in range(len(features)):\n",
    "    loc[features[i]] = i"
   ]
  },
  {
   "cell_type": "code",
   "execution_count": 5,
   "metadata": {},
   "outputs": [
    {
     "data": {
      "text/plain": [
       "(285179494, 5)"
      ]
     },
     "execution_count": 5,
     "metadata": {},
     "output_type": "execute_result"
    }
   ],
   "source": [
    "(samples_total, no_of_features) = input_data.shape\n",
    "(samples_total, no_of_features)"
   ]
  },
  {
   "cell_type": "code",
   "execution_count": 6,
   "metadata": {},
   "outputs": [],
   "source": [
    "def split_into_parts(input_data, feat, root_nparts):\n",
    "    '''\n",
    "        We have to split the samples into bins of similar values for the features.\n",
    "        Actually we split the data into root_nparts**3 parts!\n",
    "    '''\n",
    "    parts = {}\n",
    "    \n",
    "    # inds w.r.t. which to NOT split the data\n",
    "    # So if feat = 'clw', then inds will be the indices corresponding to 'rh', 'ta', 'cli'\n",
    "    inds = np.delete(np.arange(4), loc[feat])\n",
    "    \n",
    "    mins = [np.min(input_data[:, ind]) for ind in inds]\n",
    "    maxs = [np.max(input_data[:, ind]) for ind in inds]\n",
    "    \n",
    "    # Define thresholds for the parts\n",
    "    thresholds = []\n",
    "    for i in range(len(inds)):\n",
    "        thresholds.append([mins[i] + (maxs[i] - mins[i])/root_nparts*k for k in range(root_nparts + 1)])\n",
    "    thresholds = np.array(thresholds)\n",
    "    \n",
    "    # Split inefficiently\n",
    "    for k in range(root_nparts):\n",
    "        for l in range(root_nparts):\n",
    "            for m in range(root_nparts):\n",
    "                k_cond = np.logical_and(thresholds[0, k] <= input_data[:, inds[0]], input_data[:, inds[0]] < thresholds[0, k+1])\n",
    "                l_cond = np.logical_and(thresholds[1, l] <= input_data[:, inds[1]], input_data[:, inds[1]] < thresholds[1, l+1])\n",
    "                m_cond = np.logical_and(thresholds[2, m] <= input_data[:, inds[2]], input_data[:, inds[2]] < thresholds[2, m+1])\n",
    "                parts['part_%d_%d_%d'%(k,l,m)] = np.logical_and(np.logical_and(k_cond, l_cond), m_cond)\n",
    "    \n",
    "    return parts"
   ]
  },
  {
   "cell_type": "code",
   "execution_count": 69,
   "metadata": {},
   "outputs": [],
   "source": [
    "no_boxes = {}"
   ]
  },
  {
   "cell_type": "markdown",
   "metadata": {},
   "source": [
    "**With root_nparts = 1**"
   ]
  },
  {
   "cell_type": "code",
   "execution_count": 16,
   "metadata": {},
   "outputs": [
    {
     "data": {
      "text/plain": [
       "array([ 1.07877389e+02, -4.35510412e-01,  1.22958557e+05,  7.94257603e+05,\n",
       "       -8.30559550e+03])"
      ]
     },
     "execution_count": 16,
     "metadata": {},
     "output_type": "execute_result"
    }
   ],
   "source": [
    "features = ['rh', 'ta', 'clw', 'cli', 'rh_z']\n",
    "reg = LinearRegression().fit(input_data, output_data)\n",
    "reg.coef_"
   ]
  },
  {
   "cell_type": "code",
   "execution_count": 71,
   "metadata": {},
   "outputs": [],
   "source": [
    "no_boxes[1] = [1,1,1,1]"
   ]
  },
  {
   "cell_type": "markdown",
   "metadata": {},
   "source": [
    "**With root_nparts = 2**"
   ]
  },
  {
   "cell_type": "code",
   "execution_count": 17,
   "metadata": {
    "tags": []
   },
   "outputs": [
    {
     "name": "stdout",
     "output_type": "stream",
     "text": [
      "rh\n",
      "[array([132.62618812]), array([109.11668485])]\n",
      "The slope is positive in 100 percent of the boxes.\n",
      "clw\n",
      "[array([2563736.09709541]), array([396716.23250383]), array([26406.65794995])]\n",
      "The slope is positive in 100 percent of the boxes.\n",
      "cli\n",
      "[array([1547820.89083941]), array([2092000.36446131]), array([192180.65852284])]\n",
      "The slope is positive in 100 percent of the boxes.\n",
      "ta\n",
      "[array([0.2535633]), array([-0.24201958])]\n",
      "The slope is positive in 50 percent of the boxes.\n"
     ]
    }
   ],
   "source": [
    "feats = ['rh', 'clw', 'cli', 'ta']\n",
    "\n",
    "for feat in feats:\n",
    "    data_parts = split_into_parts(input_data, feat, 2)\n",
    "\n",
    "    slope = []\n",
    "    for i, key in enumerate(data_parts.keys()):    \n",
    "        if np.sum(data_parts[key]) > 10**4:\n",
    "            reg = LinearRegression().fit(input_data[data_parts[key], loc[feat]].reshape(-1, 1), output_data[data_parts[key]])\n",
    "            slope.append(reg.coef_)\n",
    "\n",
    "    print(feat)\n",
    "    print(slope)\n",
    "    cond_check = np.sum(np.array([np.sign(slope[i][0]) for i in range(len(slope))]) >= 0)/len(slope)*100\n",
    "    print('The slope is positive in %d percent of the boxes.'%cond_check)"
   ]
  },
  {
   "cell_type": "code",
   "execution_count": 72,
   "metadata": {},
   "outputs": [],
   "source": [
    "no_boxes[2] = [2,3,3,2]"
   ]
  },
  {
   "cell_type": "markdown",
   "metadata": {},
   "source": [
    "**With root_nparts = 3**"
   ]
  },
  {
   "cell_type": "code",
   "execution_count": 22,
   "metadata": {
    "tags": []
   },
   "outputs": [
    {
     "name": "stdout",
     "output_type": "stream",
     "text": [
      "rh\n",
      "[array([131.31105334]), array([114.47521447]), array([115.88481455]), array([15.28992936])]\n",
      "The slope is positive in 100 percent of the boxes.\n",
      "clw\n",
      "[array([8.2812577e+09]), array([800828.11522331]), array([511281.79759947]), array([-39628654.82774796]), array([103975.60081398]), array([207812.11684276])]\n",
      "The slope is positive in 83 percent of the boxes.\n",
      "cli\n",
      "[array([1396348.59458826]), array([2154644.36480149]), array([25393686.1380742]), array([232378.01692896]), array([544603.85421473]), array([2358011.66940793]), array([-68261.983664])]\n",
      "The slope is positive in 85 percent of the boxes.\n",
      "ta\n",
      "[array([-0.20000514]), array([-0.62784529]), array([-0.00833442])]\n",
      "The slope is positive in 0 percent of the boxes.\n"
     ]
    }
   ],
   "source": [
    "feats = ['rh', 'clw', 'cli', 'ta']\n",
    "\n",
    "for feat in feats:\n",
    "    data_parts = split_into_parts(input_data, feat, 3)\n",
    "\n",
    "    slope = []\n",
    "    for i, key in enumerate(data_parts.keys()):    \n",
    "        if np.sum(data_parts[key]) > 10**4:\n",
    "            reg = LinearRegression().fit(input_data[data_parts[key], loc[feat]].reshape(-1, 1), output_data[data_parts[key]])\n",
    "            slope.append(reg.coef_)\n",
    "\n",
    "    print(feat)\n",
    "    print(slope)\n",
    "    cond_check = np.sum(np.array([np.sign(slope[i][0]) for i in range(len(slope))]) >= 0)/len(slope)*100\n",
    "    print('The slope is positive in %d percent of the boxes.'%cond_check)"
   ]
  },
  {
   "cell_type": "code",
   "execution_count": 73,
   "metadata": {},
   "outputs": [],
   "source": [
    "no_boxes[3] = [4,6,7,3]"
   ]
  },
  {
   "cell_type": "markdown",
   "metadata": {},
   "source": [
    "**With root_nparts = 4**"
   ]
  },
  {
   "cell_type": "code",
   "execution_count": 23,
   "metadata": {
    "tags": []
   },
   "outputs": [
    {
     "name": "stdout",
     "output_type": "stream",
     "text": [
      "rh\n",
      "[array([114.63558309]), array([132.64217213]), array([74.73201065]), array([112.02779825]), array([34.37866703]), array([126.98739487]), array([22.62710006])]\n",
      "The slope is positive in 100 percent of the boxes.\n",
      "clw\n",
      "[array([1.13344935e+10]), array([1558162.10051125]), array([719851.61702111]), array([535048.66586404]), array([2.1192347e+09]), array([-283257.38132629]), array([16460.79186508]), array([177901.42190844]), array([456303.98775238]), array([19823.20084268]), array([42804.10718712])]\n",
      "The slope is positive in 90 percent of the boxes.\n",
      "cli\n",
      "[array([1626919.97333788]), array([1738210.63393382]), array([5504987.28001411]), array([-1075867.37957506]), array([336331.54140396]), array([475217.40621034]), array([1439734.82491045]), array([-1455180.11179077]), array([-20907655.26595008]), array([-4.66230639e+09]), array([149379.84612343]), array([-51994.00224814]), array([-44441807.30470899]), array([-3.31797208e+09])]\n",
      "The slope is positive in 50 percent of the boxes.\n",
      "ta\n",
      "[array([-0.02775836]), array([-0.44722826]), array([0.06911316]), array([0.04601757]), array([-0.2472887]), array([-0.00621605])]\n",
      "The slope is positive in 33 percent of the boxes.\n"
     ]
    }
   ],
   "source": [
    "feats = ['rh', 'clw', 'cli', 'ta']\n",
    "\n",
    "for feat in feats:\n",
    "    data_parts = split_into_parts(input_data, feat, 4)\n",
    "\n",
    "    slope = []\n",
    "    for i, key in enumerate(data_parts.keys()):    \n",
    "        if np.sum(data_parts[key]) > 10**4:\n",
    "            reg = LinearRegression().fit(input_data[data_parts[key], loc[feat]].reshape(-1, 1), output_data[data_parts[key]])\n",
    "            slope.append(reg.coef_)\n",
    "\n",
    "    print(feat)\n",
    "    print(slope)\n",
    "    cond_check = np.sum(np.array([np.sign(slope[i][0]) for i in range(len(slope))]) >= 0)/len(slope)*100\n",
    "    print('The slope is positive in %d percent of the boxes.'%cond_check)"
   ]
  },
  {
   "cell_type": "code",
   "execution_count": 74,
   "metadata": {},
   "outputs": [],
   "source": [
    "no_boxes[4] = [7,11,14,6]"
   ]
  },
  {
   "cell_type": "markdown",
   "metadata": {},
   "source": [
    "**With root_nparts = 5**"
   ]
  },
  {
   "cell_type": "code",
   "execution_count": 7,
   "metadata": {
    "tags": []
   },
   "outputs": [
    {
     "name": "stdout",
     "output_type": "stream",
     "text": [
      "rh\n",
      "[array([101.13153635]), array([137.08265693]), array([133.22038293]), array([130.44044232]), array([12.74460267]), array([113.49787759]), array([42.94893701]), array([10.22364678]), array([123.80363171]), array([62.33500172])]\n",
      "The slope is positive in 100 percent of the boxes.\n",
      "clw\n",
      "[array([2.10907119e+10]), array([13983711.78884216]), array([1089457.71909217]), array([705999.48852718]), array([821453.37739304]), array([1.35712925e+10]), array([2125457.54918279]), array([-354792.3412919]), array([-53789.30519759]), array([496038.43777316]), array([808130.12835793]), array([-5671.96211642]), array([-56731.58747488]), array([121358.4573963]), array([547181.7167984])]\n",
      "The slope is positive in 73 percent of the boxes.\n",
      "cli\n",
      "[array([2777406.05489965]), array([1961366.9772224]), array([3277391.13253667]), array([18921094.23177182]), array([-381099.51009338]), array([836136.7180044]), array([507168.57812466]), array([1179955.28459967]), array([6723582.27038417]), array([-2585210.29627586]), array([316812.45339212]), array([946395.01711288]), array([48650.77477558]), array([30392.68248887]), array([-1.66082303e+08]), array([0.])]\n",
      "The slope is positive in 81 percent of the boxes.\n",
      "ta\n",
      "[array([-0.00424761]), array([-0.77868373]), array([0.09507021]), array([-0.82208387]), array([-0.0254324]), array([0.00281818]), array([-0.01270121])]\n",
      "The slope is positive in 28 percent of the boxes.\n"
     ]
    }
   ],
   "source": [
    "feats = ['rh', 'clw', 'cli', 'ta']\n",
    "\n",
    "for feat in feats:\n",
    "    data_parts = split_into_parts(input_data, feat, 5)\n",
    "\n",
    "    slope = []\n",
    "    for i, key in enumerate(data_parts.keys()):    \n",
    "        if np.sum(data_parts[key]) > 10**4:\n",
    "            reg = LinearRegression().fit(input_data[data_parts[key], loc[feat]].reshape(-1, 1), output_data[data_parts[key]])\n",
    "            slope.append(reg.coef_)\n",
    "\n",
    "    print(feat)\n",
    "    print(slope)\n",
    "    cond_check = np.sum(np.array([np.sign(slope[i][0]) for i in range(len(slope))]) >= 0)/len(slope)*100\n",
    "    print('The slope is positive in %d percent of the boxes.'%cond_check)"
   ]
  },
  {
   "cell_type": "code",
   "execution_count": 75,
   "metadata": {},
   "outputs": [],
   "source": [
    "no_boxes[5] = [10,15,16,7]"
   ]
  },
  {
   "cell_type": "markdown",
   "metadata": {},
   "source": [
    "**With root_nparts = 6**"
   ]
  },
  {
   "cell_type": "code",
   "execution_count": 8,
   "metadata": {
    "tags": []
   },
   "outputs": [
    {
     "name": "stdout",
     "output_type": "stream",
     "text": [
      "rh\n",
      "[array([86.28808323]), array([136.31314384]), array([183.80615386]), array([137.98854326]), array([90.38860043]), array([116.17204702]), array([27.93875349]), array([35.89628145]), array([117.50270767]), array([52.85766175]), array([15.61361588]), array([70.95556737])]\n",
      "The slope is positive in 100 percent of the boxes.\n",
      "clw\n",
      "[array([2.3160323e+10]), array([5.01425376e+09]), array([1156539.97866582]), array([1008480.43948086]), array([681365.37939976]), array([588834.02765456]), array([2.63390261e+10]), array([2.33875983e+09]), array([-7.33452546e+08]), array([143787.36070304]), array([924602.21441198]), array([494502.0436566]), array([1344729.58982811]), array([-93461384.11402944]), array([-391590.38080436]), array([-165839.95587909]), array([91560.70905048]), array([-57249.82031552]), array([287659.9204117]), array([2224500.63754626]), array([21235.03446042]), array([30636.79834285]), array([335599.65191493])]\n",
      "The slope is positive in 78 percent of the boxes.\n",
      "cli\n",
      "[array([6237235.77266811]), array([2052599.42825429]), array([2395696.4644175]), array([5653363.36785997]), array([43557850.11262489]), array([-5803.64393558]), array([1298509.9113045]), array([630161.72542601]), array([1274923.88451916]), array([3818571.46061862]), array([23336538.62912657]), array([-1167529.18215337]), array([207386.04780837]), array([305329.48650306]), array([895541.66997378]), array([2978825.02760915]), array([-1655723.97671504]), array([-3.13313948e+08]), array([89134.23838297]), array([61389.8773392]), array([285059.00580053]), array([37123.70869739]), array([12201.47366318]), array([0.])]\n",
      "The slope is positive in 83 percent of the boxes.\n",
      "ta\n",
      "[array([-0.00015739]), array([-0.61631519]), array([-0.28431158]), array([-0.73811836]), array([-0.05245999]), array([0.06084921]), array([-0.25916237]), array([-0.01835544]), array([-0.00767763])]\n",
      "The slope is positive in 11 percent of the boxes.\n"
     ]
    }
   ],
   "source": [
    "feats = ['rh', 'clw', 'cli', 'ta']\n",
    "\n",
    "for feat in feats:\n",
    "    data_parts = split_into_parts(input_data, feat, 6)\n",
    "\n",
    "    slope = []\n",
    "    for i, key in enumerate(data_parts.keys()):    \n",
    "        if np.sum(data_parts[key]) > 10**4:\n",
    "            reg = LinearRegression().fit(input_data[data_parts[key], loc[feat]].reshape(-1, 1), output_data[data_parts[key]])\n",
    "            slope.append(reg.coef_)\n",
    "\n",
    "    print(feat)\n",
    "    print(slope)\n",
    "    cond_check = np.sum(np.array([np.sign(slope[i][0]) for i in range(len(slope))]) >= 0)/len(slope)*100\n",
    "    print('The slope is positive in %d percent of the boxes.'%cond_check)"
   ]
  },
  {
   "cell_type": "code",
   "execution_count": 79,
   "metadata": {},
   "outputs": [],
   "source": [
    "no_boxes[6] = [12,23,24,9]"
   ]
  },
  {
   "cell_type": "markdown",
   "metadata": {},
   "source": [
    "**With root_nparts = 7**"
   ]
  },
  {
   "cell_type": "code",
   "execution_count": 9,
   "metadata": {
    "tags": []
   },
   "outputs": [
    {
     "name": "stdout",
     "output_type": "stream",
     "text": [
      "rh\n",
      "[array([56.7918629]), array([128.72639903]), array([235.46863821]), array([138.11247762]), array([137.91352006]), array([134.86350544]), array([28.1160334]), array([111.19198511]), array([68.27987444]), array([65.09380307]), array([28.12788068]), array([121.29934633]), array([57.57964825]), array([21.82596594]), array([7.93819771]), array([1.6783006])]\n",
      "The slope is positive in 100 percent of the boxes.\n",
      "clw\n",
      "[array([2.26854793e+10]), array([8.51004066e+09]), array([4359034.78576699]), array([816332.38561515]), array([807979.60126845]), array([682996.63950631]), array([93706.84668063]), array([4.72535171e+10]), array([6.49187539e+09]), array([-1.02964398e+09]), array([5573568.88279146]), array([-940880.08472876]), array([1091534.29409341]), array([769792.71508854]), array([494033.21963999]), array([1157388.86884833]), array([1.06987805e+10]), array([46442612.97758944]), array([-4.92641943e+08]), array([-1412335.04186535]), array([-1005837.65999334]), array([-289016.31314256]), array([-231123.99618608]), array([476049.00544433]), array([438859.63049717]), array([2065585.77504664]), array([-8827.17712907]), array([-90600.8557462]), array([80677.99878617]), array([13813.08593829]), array([148217.75326441]), array([2864245.08193675])]\n",
      "The slope is positive in 71 percent of the boxes.\n",
      "cli\n",
      "[array([6885594.4371363]), array([2915808.36843203]), array([2077216.84039584]), array([3208557.00334874]), array([11081492.00994798]), array([-554330.22355917]), array([-1653.19410039]), array([1307128.00922961]), array([939639.77155193]), array([1103319.06026458]), array([2781591.24859906]), array([9352773.0704271]), array([2731538.20966152]), array([-81733.88263396]), array([735099.32425972]), array([122641.93180514]), array([285571.90036456]), array([734089.09011938]), array([3362932.14055577]), array([861792.75932095]), array([-3348669.34842005]), array([-22889875.47148916]), array([0.]), array([148521.98987964]), array([588435.63206958]), array([160007.99674662]), array([-46778.0124794]), array([-9132288.85029828]), array([-12791612.55308203]), array([-23985813.1450489]), array([-6199182.39540866]), array([0.])]\n",
      "The slope is positive in 68 percent of the boxes.\n",
      "ta\n",
      "[array([0.00098704]), array([-0.32270742]), array([-0.7508049]), array([-1.17059901]), array([0.01564308]), array([0.34109149]), array([-0.79786846]), array([-0.05133083]), array([-0.0269568]), array([-0.00597875]), array([-0.01558068]), array([-1.05248216])]\n",
      "The slope is positive in 25 percent of the boxes.\n"
     ]
    }
   ],
   "source": [
    "feats = ['rh', 'clw', 'cli', 'ta']\n",
    "\n",
    "for feat in feats:\n",
    "    data_parts = split_into_parts(input_data, feat, 7)\n",
    "\n",
    "    slope = []\n",
    "    for i, key in enumerate(data_parts.keys()):    \n",
    "        if np.sum(data_parts[key]) > 10**4:\n",
    "            reg = LinearRegression().fit(input_data[data_parts[key], loc[feat]].reshape(-1, 1), output_data[data_parts[key]])\n",
    "            slope.append(reg.coef_)\n",
    "\n",
    "    print(feat)\n",
    "    print(slope)\n",
    "    cond_check = np.sum(np.array([np.sign(slope[i][0]) for i in range(len(slope))]) >= 0)/len(slope)*100\n",
    "    print('The slope is positive in %d percent of the boxes.'%cond_check)"
   ]
  },
  {
   "cell_type": "code",
   "execution_count": 81,
   "metadata": {},
   "outputs": [],
   "source": [
    "no_boxes[7] = [16,32,32,12]"
   ]
  },
  {
   "cell_type": "code",
   "execution_count": 21,
   "metadata": {},
   "outputs": [],
   "source": [
    "CB_color_cycle = ['#377eb8', '#ff7f00', '#4daf4a',\n",
    "                  '#f781bf', '#a65628', '#984ea3',\n",
    "                  '#999999', '#e41a1c', '#dede00']"
   ]
  },
  {
   "cell_type": "code",
   "execution_count": 93,
   "metadata": {},
   "outputs": [
    {
     "data": {
      "image/png": "[encoded data removed]",
      "text/plain": [
       "<Figure size 432x288 with 1 Axes>"
      ]
     },
     "metadata": {
      "needs_background": "light"
     },
     "output_type": "display_data"
    }
   ],
   "source": [
    "pc3 = 100*np.ones(7)\n",
    "pc4 = [100,100,83,90,73,78,71]\n",
    "pc5 = [100,100,85,50,81,83,68]\n",
    "pc6 = [100,50,100,67,72,89,75]\n",
    "\n",
    "plt.plot(['1','$2^3$','$3^3$','$4^3$','$5^3$','$6^3$','$7^3$'], pc3, '.', color=CB_color_cycle[0])\n",
    "plt.plot(['1','$2^3$','$3^3$','$4^3$','$5^3$','$6^3$','$7^3$'], pc4, '.', color=CB_color_cycle[1])\n",
    "plt.plot(['1','$2^3$','$3^3$','$4^3$','$5^3$','$6^3$','$7^3$'], pc5, '.', color=CB_color_cycle[2])\n",
    "plt.plot(['1','$2^3$','$3^3$','$4^3$','$5^3$','$6^3$','$7^3$'], pc6, '.', color=CB_color_cycle[3])\n",
    "\n",
    "mean_pc3 = np.sum([pc3[i]*np.array(no_boxes[i+1][0]) for i in range(7)])/np.sum([np.array(no_boxes[i][0]) for i in range(1, 8)])\n",
    "mean_pc4 = np.sum([pc4[i]*np.array(no_boxes[i+1][1]) for i in range(7)])/np.sum([np.array(no_boxes[i][1]) for i in range(1, 8)])\n",
    "mean_pc5 = np.sum([pc5[i]*np.array(no_boxes[i+1][2]) for i in range(7)])/np.sum([np.array(no_boxes[i][2]) for i in range(1, 8)])\n",
    "mean_pc6 = np.sum([pc6[i]*np.array(no_boxes[i+1][3]) for i in range(7)])/np.sum([np.array(no_boxes[i][3]) for i in range(1, 8)])\n",
    "\n",
    "plt.hlines(mean_pc3, 0, 6, color=CB_color_cycle[0])\n",
    "plt.hlines(mean_pc4, 0, 6, color=CB_color_cycle[1])\n",
    "plt.hlines(mean_pc5, 0, 6, color=CB_color_cycle[2])\n",
    "plt.hlines(mean_pc6, 0, 6, color=CB_color_cycle[3])\n",
    "\n",
    "plt.legend(['PC$_3$', 'PC$_4$', 'PC$_5$', 'PC$_6$'])\n",
    "plt.ylabel('Percentage of cubes that fulfill the PC')\n",
    "plt.xlabel('Number of data cubes')\n",
    "plt.savefig('physical_constraints/in_data.pdf')"
   ]
  },
  {
   "cell_type": "code",
   "execution_count": null,
   "metadata": {},
   "outputs": [],
   "source": [
    "# print(mean_pc3) - 100.0\n",
    "# print(mean_pc4) - 77.46\n",
    "# print(mean_pc5) - 73.80\n",
    "# print(mean_pc6) - 77.68"
   ]
  },
  {
   "cell_type": "markdown",
   "metadata": {},
   "source": [
    "**PC2**"
   ]
  },
  {
   "cell_type": "code",
   "execution_count": 66,
   "metadata": {},
   "outputs": [
    {
     "name": "stdout",
     "output_type": "stream",
     "text": [
      "0.9954588109560885\n",
      "0.9972440237020315\n",
      "0.9972440235608266\n",
      "0.9972440235608266\n"
     ]
    }
   ],
   "source": [
    "for epsilon in [1e-10, 1e-20, 1e-30, 1e-40]:\n",
    "    cond_free_output = output_data[input_data[:, loc['clw']] + input_data[:, loc['cli']] < epsilon]\n",
    "    print(np.sum(cond_free_output < epsilon)/len(cond_free_output))"
   ]
  }
 ],
 "metadata": {
  "kernelspec": {
   "display_name": "Python 3 (based on the module python3/2022.01)",
   "language": "python",
   "name": "python3_2022_01"
  },
  "language_info": {
   "codemirror_mode": {
    "name": "ipython",
    "version": 3
   },
   "file_extension": ".py",
   "mimetype": "text/x-python",
   "name": "python",
   "nbconvert_exporter": "python",
   "pygments_lexer": "ipython3",
   "version": "3.9.9"
  }
 },
 "nbformat": 4,
 "nbformat_minor": 4
}
