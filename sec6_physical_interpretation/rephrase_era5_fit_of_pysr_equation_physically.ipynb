{
 "cells": [
  {
   "cell_type": "markdown",
   "id": "bc164bbd-7201-4f06-bad0-699e1062e0b9",
   "metadata": {},
   "source": [
    "### Rephrase ERA5-fitted PySR equation in a physical way"
   ]
  },
  {
   "cell_type": "code",
   "execution_count": 26,
   "id": "5275d263-1b94-424d-a15c-a4b7736fe32f",
   "metadata": {},
   "outputs": [],
   "source": [
    "import numpy as np\n",
    "import sympy as sp"
   ]
  },
  {
   "cell_type": "code",
   "execution_count": 27,
   "id": "e73bc879-bdfc-42ea-b70b-50841c82c0ff",
   "metadata": {},
   "outputs": [],
   "source": [
    "# Best TL2 coefficients from home/b/b309170/my_work/published_code/grundner23james_EquationDiscovery_CloudCover_addressing_reviews/sec5_results/sec53_transferability_to_era5/era5_1979-2021/era5_tuned_pysr_EQ4_mod.json\n",
    "# In normalized space\n",
    "[a, b, c, d, e, f, g, h, i, j] = [39.00553647200795, 42.03463110460265, 6.465638378846791, 2.261470694652524, \\\n",
    "                                  0.04262325503419716, 0.502986898449626, 31.168968461162308, 11.400469972670322, \\\n",
    "                                  0.6233673793100785, 0.7307425434498263]"
   ]
  },
  {
   "cell_type": "code",
   "execution_count": 28,
   "id": "bb12f5b9-201d-42af-a651-7cf83e0b32cf",
   "metadata": {},
   "outputs": [],
   "source": [
    "# Where did those numbers come from (from mo_cover.f90)?\n",
    "\n",
    "# ! ! These were tuned on ERA5 data and yield worse results online:\n",
    "# ! ! Ensure dC/dRH >= 0 \n",
    "# ! rh_norm = max(rh_norm, 1/(2.*6.465638378846791*2.261470694652524)*(-6.465638378846791*T_norm**2-39.00553647200795))\n",
    "# ! !\n",
    "# ! ! Compute the three terms in the equation\n",
    "# ! I1 = 39.00553647200795*rh_norm - 42.03463110460265*T_norm + 6.465638378846791*rh_norm*(2.261470694652524*rh_norm + T_norm**2) + 31.168968461162308\n",
    "# ! I2 = rh_z_norm**2*(0.04262325503419716*rh_z_norm + 0.502986898449626)\n",
    "# ! I3 = 11.400469972670322/(qc_norm + 0.6233673793100785*qi_norm + 0.7307425434498263)"
   ]
  },
  {
   "cell_type": "code",
   "execution_count": 29,
   "id": "60f1c5ee-8dfa-4ecc-9815-14b447f40066",
   "metadata": {},
   "outputs": [
    {
     "name": "stdout",
     "output_type": "stream",
     "text": [
      "I1\n",
      "132.26140850072*rh**2 + 0.0215297970401709*rh*ta**2 - 11.0691365987752*rh*ta + 1380.68018421355*rh - 0.0129719661122399*ta**2 + 5.27062488727963*ta - 489.172781480643\n",
      "\n",
      "I2\n",
      "15015557.2872681*(rh_z + 4.76200071e-5)**2*(165.164740852315*rh_z + 0.510852044581683)\n",
      "\n",
      "I3\n",
      "-11.4004699726703/(61531.8253558894*cli + 17553.0168424461*clw + 0.126845079945486)\n"
     ]
    }
   ],
   "source": [
    "# Convert to physical form first!\n",
    "\n",
    "all_possible_features = ['hus', 'clw', 'cli', 'ta', 'pa', 'zg', 'fr_land', 'U', 'rh', 'ps', 'hus_z', 'hus_zz', 'clw_z', 'clw_zz', 'cli_z',\\\n",
    "            'cli_zz', 'ta_z', 'ta_zz', 'pa_z', 'pa_zz', 'U_z', 'U_zz', 'rh_z', 'rh_zz']\n",
    "\n",
    "loc = {}\n",
    "\n",
    "# Careful here; don't call i_loop just i!!! \n",
    "for i_loop in range(len(all_possible_features)):\n",
    "    loc[all_possible_features[i_loop]] = i_loop\n",
    "    \n",
    "# Features\n",
    "features = ['rh', 'ta', 'clw', 'cli', 'rh_z']\n",
    "no_features = len(features)\n",
    "\n",
    "# mean and std\n",
    "mean_all = [4.12205844e-03,2.25493498e-05,3.38180032e-06,2.57065512e+02,6.00030443e+04,5.64080139e+03,2.35046400e-01,1.32776682e+01,6.02512234e-01,9.86270417e+04,-1.27545273e-06,-4.02484958e-10,1.65204582e-08,-4.34660202e-11,4.29441131e-10,-1.82817316e-12,-4.68742483e-03,-7.54899040e-07,-7.51544542e+00,-1.06989723e-04,1.65615172e-03,-9.27604679e-06,-4.76200071e-05,-1.32246548e-07]\n",
    "std_all = [5.07648249e-03,5.69702638e-05,1.01308124e-05,3.00533874e+01,3.12514292e+04,5.66963918e+03,4.11184302e-01,1.11389888e+01,3.32494615e-01,6.24039256e+03,2.03179260e-06,1.17041141e-08,1.33311867e-07,1.42840744e-09,6.73384546e-09,5.07424672e-11,5.82875686e-03,6.34826092e-05,3.53136052e+00,1.13215264e-02,6.62892130e-03,6.08144307e-05,2.58065098e-04,2.49552692e-06]\n",
    "\n",
    "mean = np.concatenate([np.expand_dims(mean_all[loc[sel_var]], axis=0) for sel_var in features], axis = 0)\n",
    "std = np.concatenate([np.expand_dims(std_all[loc[sel_var]], axis=0) for sel_var in features], axis = 0)\n",
    "\n",
    "# Introduce variables\n",
    "# a, b, c, d, e, f, g, h, i, j, k, l, m, n, o, p, q, r = sp.symbols('a b c d e f g h i j k l m n o p q r')\n",
    "# x0, x1, x2, x3, x4 = sp.symbols('x0 x1 x2 x3 x4')\n",
    "rh, ta, clw, cli, rh_z = sp.symbols('rh ta clw cli rh_z')\n",
    "\n",
    "X0 = (rh - mean[0])/std[0]\n",
    "X1 = (ta - mean[1])/std[1]\n",
    "X2 = (clw - mean[2])/std[2]\n",
    "X3 = (cli - mean[3])/std[3]\n",
    "X4 = (rh_z - mean[4])/std[4]\n",
    "\n",
    "I1 = a*X0 - b*X1 + c*X0*(d*X0 + X1**2) + g\n",
    "I2 = X4**2*(e*X4 + f)\n",
    "I3 = -h/(X2 + i*X3 + j)\n",
    "\n",
    "print('I1')\n",
    "print(sp.expand(I1))\n",
    "\n",
    "print('\\nI2')\n",
    "print(I2)\n",
    "\n",
    "print('\\nI3')\n",
    "print(I3)"
   ]
  },
  {
   "cell_type": "code",
   "execution_count": 32,
   "id": "899da4c0-d03b-4a84-bb81-a879a739b922",
   "metadata": {},
   "outputs": [],
   "source": [
    "# Translate the coefficients of these I1, I2, I3 into the old form\n",
    "a1 = 132.26140850072\n",
    "a2 = 0.0215297970401709\n",
    "a3 = 0.0129719661122399\n",
    "a4 = 11.0691365987752\n",
    "a5 = 1380.68018421355\n",
    "a6 = 5.27062488727963\n",
    "a7 = 489.172781480643\n",
    "a8 = 165.164740852315*15015557.2872681\n",
    "a9 = 0.510852044581683*15015557.2872681\n",
    "a10 = 17553.0168424461/11.4004699726703\n",
    "a11 = 61531.8253558894/11.4004699726703\n",
    "eps = 0.126845079945486/11.4004699726703\n",
    "\n",
    "old_coef_form = [a1, a2, a3, a4, a5, a6, a7, a8, a9, a10, a11, eps]"
   ]
  },
  {
   "cell_type": "code",
   "execution_count": 33,
   "id": "4e21dc92-a56d-42aa-a325-84990f3a1ccd",
   "metadata": {},
   "outputs": [
    {
     "data": {
      "text/plain": [
       "[0.31229407460832626,\n",
       " 1.1736956030268146,\n",
       " -0.013983869134317005,\n",
       " 2.6452281700144,\n",
       " 0.000430595940803418,\n",
       " 291.62153962516146,\n",
       " 32.3312283084943,\n",
       " 6.4948778178700745e-06,\n",
       " 1.8527761701740456e-06,\n",
       " 1.11263027094115]"
      ]
     },
     "execution_count": 33,
     "metadata": {},
     "output_type": "execute_result"
    }
   ],
   "source": [
    "# Great method to convert from old formulation to the new one!\n",
    "def convert_coefficients(coefs):\n",
    "    '''\n",
    "        Convert 12 original coefficients into 10 new coefficients (all in physical space!).\n",
    "    '''\n",
    "    [a1, a2, a3, a4, a5, a6, a7, a8, a9, a10, a11, eps] = coefs\n",
    "\n",
    "    T0 = 257.06\n",
    "    R0 = 0.6025\n",
    "    \n",
    "    # We call the new coefficients b_i in this method\n",
    "    b5 = 2/100*a2\n",
    "    b4 = 2/100*a1\n",
    "    b3 = a6/100 - b5*T0*R0\n",
    "    b2 = a5/100 + b4*R0 - b5/2*T0**2\n",
    "    b1 = -a7/100 + b2*R0 + b3*T0 - (b4/2)*R0**2 + (b5/2)*T0**2*R0\n",
    "    \n",
    "    b6 = ((a8/100)**(1/3))\n",
    "    b7 = (0.1*a8/a9)\n",
    "    b8 = (1/(100*a10))\n",
    "    b9 = (1/(100*a11))\n",
    "    eps_new = (100*eps)\n",
    "    \n",
    "    return [b1, b2, b3, b4, b5, b6, b7, b8, b9, eps_new]\n",
    "\n",
    "convert_coefficients(old_coef_form)"
   ]
  },
  {
   "attachments": {
    "1307eed7-14da-4061-8ea7-7e2eaa623016.png": {
     "image/png": "[encoded data removed]"
    }
   },
   "cell_type": "markdown",
   "id": "83857f02-1eab-4dce-bdd7-d0101ce7c758",
   "metadata": {},
   "source": [
    "What they are on DYAMOND: <br>\n",
    "![grafik.png](attachment:1307eed7-14da-4061-8ea7-7e2eaa623016.png)"
   ]
  },
  {
   "cell_type": "code",
   "execution_count": null,
   "id": "69c408f1-acd7-4bd4-8a7e-6ad8ebad8726",
   "metadata": {
    "tags": []
   },
   "outputs": [],
   "source": [
    "Largest differences:\n",
    "    \n",
    "# I1\n",
    "a4: 4.06    -> 2.64  (factor 1.54)\n",
    "a5: 0.001   -> 0.0004\n",
    "\n",
    "# I2\n",
    "a6: 584     -> 291\n",
    "\n",
    "# I3\n",
    "a8: 1.15e-6 -> 6.49e-6\n",
    "a9: 3.07e-7 -> 1.85e-6"
   ]
  },
  {
   "cell_type": "code",
   "execution_count": 37,
   "id": "576b945b-9227-4a11-a2c1-a6ca97692456",
   "metadata": {},
   "outputs": [
    {
     "name": "stdout",
     "output_type": "stream",
     "text": [
      "5.643478260869565\n",
      "6.026058631921825\n"
     ]
    }
   ],
   "source": [
    "# Water [g/kg]\n",
    "print(6.49e-6/1.15e-6)\n",
    "\n",
    "# Ice [g/kg]\n",
    "print(1.85e-6/3.07e-7)"
   ]
  },
  {
   "cell_type": "markdown",
   "id": "36efae5d-bfe8-4ed8-bbbe-38603df1985d",
   "metadata": {},
   "source": [
    "**Another great set of parameters**"
   ]
  },
  {
   "cell_type": "code",
   "execution_count": 41,
   "id": "0deed5b7-dd89-453a-8c69-5d170e7f030b",
   "metadata": {},
   "outputs": [],
   "source": [
    "# Best TL2 coefficients from home/b/b309170/my_work/published_code/grundner23james_EquationDiscovery_CloudCover_addressing_reviews/sec5_results/sec53_transferability_to_era5/era5_1979-2021/era5_tuned_pysr_EQ4_mod.json\n",
    "# In normalized space\n",
    "[a, b, c, d, e, f, g, h, i, j] = [50.818449950078175, 43.23563288907758, 8.086596264765483, 0.0018823345059999037, 0.012696359778781446, \\\n",
    "                                  0.3402846000942713, 31.658641081563403, 9.883877885128662, 0.3907057858581737, 0.6398516948067148]"
   ]
  },
  {
   "cell_type": "code",
   "execution_count": 42,
   "id": "d028a03d-3fd7-4928-ba47-1c08567164f9",
   "metadata": {},
   "outputs": [],
   "source": [
    "# Where did those numbers come from (from mo_cover.f90)?\n",
    "\n",
    "# ! ! These were tuned on ERA5 data and yield worse results online:\n",
    "# ! ! Ensure dC/dRH >= 0 \n",
    "# ! rh_norm = max(rh_norm, 1/(2.*6.465638378846791*2.261470694652524)*(-6.465638378846791*T_norm**2-39.00553647200795))\n",
    "# ! !\n",
    "# ! ! Compute the three terms in the equation\n",
    "# ! I1 = 39.00553647200795*rh_norm - 42.03463110460265*T_norm + 6.465638378846791*rh_norm*(2.261470694652524*rh_norm + T_norm**2) + 31.168968461162308\n",
    "# ! I2 = rh_z_norm**2*(0.04262325503419716*rh_z_norm + 0.502986898449626)\n",
    "# ! I3 = 11.400469972670322/(qc_norm + 0.6233673793100785*qi_norm + 0.7307425434498263)"
   ]
  },
  {
   "cell_type": "code",
   "execution_count": 43,
   "id": "5bf8b977-2ee3-476e-92fa-b368e5368aad",
   "metadata": {},
   "outputs": [
    {
     "name": "stdout",
     "output_type": "stream",
     "text": [
      "I1\n",
      "0.137687125262507*rh**2 + 0.0269273915621086*rh*ta**2 - 13.8442073974759*rh*ta + 1932.10813385435*rh - 0.0162240828458788*ta**2 + 6.90267671696555*ta - 762.68858713935\n",
      "\n",
      "I2\n",
      "15015557.2872681*(rh_z + 4.76200071e-5)**2*(49.198283212949*rh_z + 0.34262742269018)\n",
      "\n",
      "I3\n",
      "-9.88387788512866/(38566.0863543553*cli + 17553.0168424461*clw + 0.113619774806799)\n"
     ]
    }
   ],
   "source": [
    "# Convert to physical form first!\n",
    "\n",
    "all_possible_features = ['hus', 'clw', 'cli', 'ta', 'pa', 'zg', 'fr_land', 'U', 'rh', 'ps', 'hus_z', 'hus_zz', 'clw_z', 'clw_zz', 'cli_z',\\\n",
    "            'cli_zz', 'ta_z', 'ta_zz', 'pa_z', 'pa_zz', 'U_z', 'U_zz', 'rh_z', 'rh_zz']\n",
    "\n",
    "loc = {}\n",
    "\n",
    "# Careful here; don't call i_loop just i!!! \n",
    "for i_loop in range(len(all_possible_features)):\n",
    "    loc[all_possible_features[i_loop]] = i_loop\n",
    "    \n",
    "# Features\n",
    "features = ['rh', 'ta', 'clw', 'cli', 'rh_z']\n",
    "no_features = len(features)\n",
    "\n",
    "# mean and std\n",
    "mean_all = [4.12205844e-03,2.25493498e-05,3.38180032e-06,2.57065512e+02,6.00030443e+04,5.64080139e+03,2.35046400e-01,1.32776682e+01,6.02512234e-01,9.86270417e+04,-1.27545273e-06,-4.02484958e-10,1.65204582e-08,-4.34660202e-11,4.29441131e-10,-1.82817316e-12,-4.68742483e-03,-7.54899040e-07,-7.51544542e+00,-1.06989723e-04,1.65615172e-03,-9.27604679e-06,-4.76200071e-05,-1.32246548e-07]\n",
    "std_all = [5.07648249e-03,5.69702638e-05,1.01308124e-05,3.00533874e+01,3.12514292e+04,5.66963918e+03,4.11184302e-01,1.11389888e+01,3.32494615e-01,6.24039256e+03,2.03179260e-06,1.17041141e-08,1.33311867e-07,1.42840744e-09,6.73384546e-09,5.07424672e-11,5.82875686e-03,6.34826092e-05,3.53136052e+00,1.13215264e-02,6.62892130e-03,6.08144307e-05,2.58065098e-04,2.49552692e-06]\n",
    "\n",
    "mean = np.concatenate([np.expand_dims(mean_all[loc[sel_var]], axis=0) for sel_var in features], axis = 0)\n",
    "std = np.concatenate([np.expand_dims(std_all[loc[sel_var]], axis=0) for sel_var in features], axis = 0)\n",
    "\n",
    "# Introduce variables\n",
    "# a, b, c, d, e, f, g, h, i, j, k, l, m, n, o, p, q, r = sp.symbols('a b c d e f g h i j k l m n o p q r')\n",
    "# x0, x1, x2, x3, x4 = sp.symbols('x0 x1 x2 x3 x4')\n",
    "rh, ta, clw, cli, rh_z = sp.symbols('rh ta clw cli rh_z')\n",
    "\n",
    "X0 = (rh - mean[0])/std[0]\n",
    "X1 = (ta - mean[1])/std[1]\n",
    "X2 = (clw - mean[2])/std[2]\n",
    "X3 = (cli - mean[3])/std[3]\n",
    "X4 = (rh_z - mean[4])/std[4]\n",
    "\n",
    "I1 = a*X0 - b*X1 + c*X0*(d*X0 + X1**2) + g\n",
    "I2 = X4**2*(e*X4 + f)\n",
    "I3 = -h/(X2 + i*X3 + j)\n",
    "\n",
    "print('I1')\n",
    "print(sp.expand(I1))\n",
    "\n",
    "print('\\nI2')\n",
    "print(I2)\n",
    "\n",
    "print('\\nI3')\n",
    "print(I3)"
   ]
  },
  {
   "cell_type": "code",
   "execution_count": 44,
   "id": "11f1249f-270c-40d0-868c-91f5f8253692",
   "metadata": {},
   "outputs": [],
   "source": [
    "# Translate the coefficients of these I1, I2, I3 into the old form\n",
    "a1 = 0.137687125262507\n",
    "a2 = 0.0269273915621086\n",
    "a3 = 0.0162240828458788\n",
    "a4 = 13.8442073974759\n",
    "a5 = 1932.10813385435\n",
    "a6 = 6.90267671696555\n",
    "a7 = 762.68858713935\n",
    "a8 = 49.198283212949*15015557.2872681\n",
    "a9 = 0.34262742269018*15015557.2872681\n",
    "a10 = 17553.0168424461/9.88387788512866\n",
    "a11 = 38566.0863543553/9.88387788512866\n",
    "eps = 0.113619774806799/9.88387788512866\n",
    "\n",
    "old_coef_form = [a1, a2, a3, a4, a5, a6, a7, a8, a9, a10, a11, eps]"
   ]
  },
  {
   "cell_type": "code",
   "execution_count": 45,
   "id": "4172bf4d-b385-417e-96a2-c74dc51fe0f6",
   "metadata": {},
   "outputs": [
    {
     "data": {
      "text/plain": [
       "[0.31732444967059337,\n",
       " 1.5291622386019519,\n",
       " -0.014382793893559925,\n",
       " 0.0027537425052501403,\n",
       " 0.000538547831242172,\n",
       " 194.75881995222122,\n",
       " 14.359120127239912,\n",
       " 5.630871304827673e-06,\n",
       " 2.5628418176303922e-06,\n",
       " 1.1495465254356487]"
      ]
     },
     "execution_count": 45,
     "metadata": {},
     "output_type": "execute_result"
    }
   ],
   "source": [
    "# Great method to convert from old formulation to the new one!\n",
    "def convert_coefficients(coefs):\n",
    "    '''\n",
    "        Convert 12 original coefficients into 10 new coefficients (all in physical space!).\n",
    "    '''\n",
    "    [a1, a2, a3, a4, a5, a6, a7, a8, a9, a10, a11, eps] = coefs\n",
    "\n",
    "    T0 = 257.06\n",
    "    R0 = 0.6025\n",
    "    \n",
    "    # We call the new coefficients b_i in this method\n",
    "    b5 = 2/100*a2\n",
    "    b4 = 2/100*a1\n",
    "    b3 = a6/100 - b5*T0*R0\n",
    "    b2 = a5/100 + b4*R0 - b5/2*T0**2\n",
    "    b1 = -a7/100 + b2*R0 + b3*T0 - (b4/2)*R0**2 + (b5/2)*T0**2*R0\n",
    "    \n",
    "    b6 = ((a8/100)**(1/3))\n",
    "    b7 = (0.1*a8/a9)\n",
    "    b8 = (1/(100*a10))\n",
    "    b9 = (1/(100*a11))\n",
    "    eps_new = (100*eps)\n",
    "    \n",
    "    return [b1, b2, b3, b4, b5, b6, b7, b8, b9, eps_new]\n",
    "\n",
    "convert_coefficients(old_coef_form)"
   ]
  },
  {
   "cell_type": "code",
   "execution_count": null,
   "id": "439e9863-6715-48af-aa92-1ba6a8c65848",
   "metadata": {},
   "outputs": [],
   "source": []
  }
 ],
 "metadata": {
  "kernelspec": {
   "display_name": "Python 3 (based on the module python3/2023.01)",
   "language": "python",
   "name": "python3_2023_01"
  },
  "language_info": {
   "codemirror_mode": {
    "name": "ipython",
    "version": 3
   },
   "file_extension": ".py",
   "mimetype": "text/x-python",
   "name": "python",
   "nbconvert_exporter": "python",
   "pygments_lexer": "ipython3",
   "version": "3.10.10"
  }
 },
 "nbformat": 4,
 "nbformat_minor": 5
}
