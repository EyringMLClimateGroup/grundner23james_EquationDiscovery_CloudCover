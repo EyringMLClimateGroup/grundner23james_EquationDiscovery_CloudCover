{
 "cells": [
  {
   "cell_type": "markdown",
   "id": "2e1eb9b8-ef59-40d3-854d-91ee4f68fa7a",
   "metadata": {},
   "source": [
    "**tmpw0h7p9s5, equation 22**"
   ]
  },
  {
   "cell_type": "markdown",
   "id": "a758a875-1c32-45f6-b133-702feb45b76f",
   "metadata": {},
   "source": [
    "Ablation study on the DYAMOND data -- setting parameters to 0 and re-tuning\n",
    "\n",
    "--> Here in the physical form of the equation (I hope Nelder-Mead and BFGS won't fail because of that)"
   ]
  },
  {
   "cell_type": "code",
   "execution_count": 31,
   "id": "56e4d405-d113-4c27-965b-bb01807ad169",
   "metadata": {},
   "outputs": [],
   "source": [
    "import numpy as np\n",
    "import sympy as sp\n",
    "import pandas as pd\n",
    "import matplotlib\n",
    "import matplotlib.pyplot as plt\n",
    "import json\n",
    "import sys\n",
    "import os\n",
    "import gc\n",
    "\n",
    "sys.path.insert(0, '~/workspace_icon-ml/symbolic_regression')\n",
    "from functions import append_dict_to_json\n",
    "from sklearn import tree\n",
    "\n",
    "SEED = int(sys.argv[1])\n",
    "np.random.seed(SEED)"
   ]
  },
  {
   "cell_type": "code",
   "execution_count": 32,
   "id": "67f91be4-799d-4915-8f85-4a3327ce92ee",
   "metadata": {},
   "outputs": [],
   "source": [
    "def round_expr(expr):\n",
    "    d = {}\n",
    "    for n in expr.atoms(sp.Number):\n",
    "        d[n] = sp.Number('%.6g'%n)\n",
    "    return expr.xreplace(d)"
   ]
  },
  {
   "cell_type": "code",
   "execution_count": 33,
   "id": "dd38bf0e-4407-4709-a661-41216c023ceb",
   "metadata": {},
   "outputs": [],
   "source": [
    "no_of_regimes = 2\n",
    "regime = 1"
   ]
  },
  {
   "cell_type": "markdown",
   "id": "af2f9173-f118-4d30-803c-db6b13cc05f5",
   "metadata": {},
   "source": [
    "**Read data**"
   ]
  },
  {
   "cell_type": "code",
   "execution_count": 34,
   "id": "9cb7228f-5656-4737-b862-c0072551e8bb",
   "metadata": {},
   "outputs": [],
   "source": [
    "all_possible_features = ['hus', 'clw', 'cli', 'ta', 'pa', 'zg', 'fr_land', 'U', 'rh', 'ps', 'hus_z', 'hus_zz', 'clw_z', 'clw_zz', 'cli_z',\\\n",
    "            'cli_zz', 'ta_z', 'ta_zz', 'pa_z', 'pa_zz', 'U_z', 'U_zz', 'rh_z', 'rh_zz']\n",
    "\n",
    "loc_all = {}\n",
    "for i in range(len(all_possible_features)):\n",
    "    loc_all[all_possible_features[i]] = i\n",
    "    \n",
    "# Features\n",
    "features = ['rh', 'ta', 'clw', 'cli', 'rh_z']\n",
    "no_features = len(features)\n",
    "\n",
    "loc = {}\n",
    "for i in range(len(features)):\n",
    "    loc[features[i]] = i"
   ]
  },
  {
   "cell_type": "code",
   "execution_count": 35,
   "id": "b8462c5d-87c6-4d8d-983f-7daf8582855a",
   "metadata": {},
   "outputs": [],
   "source": [
    "path_data = os.path.join('~/my_work/icon-ml_data/cloud_cover_parameterization/neighborhood_based_SR_DYAMOND')\n",
    "\n",
    "# Load the input data and pick the five best features (rh, ta, clw, cli, rh_z)\n",
    "input_data = np.load(path_data + '/cloud_cover_input_dyamond.npy')\n",
    "input_data = np.concatenate([np.expand_dims(input_data[:, loc_all[sel_var]], axis=1) for sel_var in features], axis = 1)\n",
    "\n",
    "output_data = np.load(path_data + '/cloud_area_output_dyamond.npy')"
   ]
  },
  {
   "cell_type": "code",
   "execution_count": 36,
   "id": "6831a5fb-6fcb-4785-86a9-700a0fe82730",
   "metadata": {},
   "outputs": [
    {
     "data": {
      "text/plain": [
       "(285179494, 5)"
      ]
     },
     "execution_count": 36,
     "metadata": {},
     "output_type": "execute_result"
    }
   ],
   "source": [
    "(samples_total, no_of_features) = input_data.shape\n",
    "(samples_total, no_of_features)"
   ]
  },
  {
   "cell_type": "code",
   "execution_count": 37,
   "id": "9b0eaa09-11a3-485e-b9ff-6befe674d5b0",
   "metadata": {
    "tags": []
   },
   "outputs": [],
   "source": [
    "# Construct training and validation data\n",
    "training_folds = []\n",
    "validation_folds = []\n",
    "two_week_incr = samples_total//6\n",
    "\n",
    "for i in range(3):\n",
    "    # Note that this is a temporal split since time was the first dimension in the original tensor\n",
    "    first_incr = np.arange(samples_total//6*i, samples_total//6*(i+1))\n",
    "    second_incr = np.arange(samples_total//6*(i+3), samples_total//6*(i+4))\n",
    "\n",
    "    validation_folds.append(np.append(first_incr, second_incr))\n",
    "    training_folds.append(np.arange(samples_total))\n",
    "    training_folds[i] = np.delete(training_folds[i], validation_folds[i])"
   ]
  },
  {
   "cell_type": "code",
   "execution_count": 38,
   "id": "ff49c846-d3de-4b64-b8d5-42f1db80e37d",
   "metadata": {},
   "outputs": [
    {
     "data": {
      "text/plain": [
       "1274"
      ]
     },
     "execution_count": 38,
     "metadata": {},
     "output_type": "execute_result"
    }
   ],
   "source": [
    "# The second fold yields the best model\n",
    "flattened_input_train = input_data[training_folds[1]]\n",
    "flattened_input_valid = input_data[validation_folds[1]]\n",
    "flattened_output_train = output_data[training_folds[1]]\n",
    "flattened_output_valid = output_data[validation_folds[1]]\n",
    "    \n",
    "# Remove input_data, output_data\n",
    "del input_data, output_data, training_folds, validation_folds\n",
    "gc.collect()"
   ]
  },
  {
   "cell_type": "code",
   "execution_count": 39,
   "id": "18a94f27-da39-4411-9bf0-d139e8fc4c4c",
   "metadata": {},
   "outputs": [],
   "source": [
    "if no_of_regimes > 1:\n",
    "    # Already remove the regime with clw + cli = 0\n",
    "    reg_not_0_train = np.where(flattened_input_train[:, loc['clw']] + flattened_input_train[:, loc['cli']] > 1e-20)[0]\n",
    "    flattened_input_train = flattened_input_train[reg_not_0_train]\n",
    "    flattened_output_train = flattened_output_train[reg_not_0_train]\n",
    "\n",
    "    reg_not_0_valid = np.where(flattened_input_valid[:, loc['clw']] + flattened_input_valid[:, loc['cli']] > 1e-20)[0]\n",
    "    flattened_input_valid = flattened_input_valid[reg_not_0_valid]\n",
    "    flattened_output_valid = flattened_output_valid[reg_not_0_valid]"
   ]
  },
  {
   "cell_type": "markdown",
   "id": "51702441-2dbb-4e54-ab31-796a587b2fb7",
   "metadata": {},
   "source": [
    "**Optimize coefficients in physical equation**"
   ]
  },
  {
   "cell_type": "code",
   "execution_count": 60,
   "id": "26e734a3-580a-48e4-b2c4-a891a42b5685",
   "metadata": {},
   "outputs": [],
   "source": [
    "# See ~/workspace_icon-ml/symbolic_regression/finding_symmetries/pysr_results_dyamond_on_regimes/no_of_regimes_2/notes.txt\n",
    "def func(X, a_1,a_2,a_3,a_4,a_5,a_6,a_7,a_8,a_9,a_10,a_11,eps,A,B):\n",
    "    rh = X[:, loc['rh']] \n",
    "    ta = X[:, loc['ta']] \n",
    "    clw = X[:, loc['clw']] \n",
    "    cli = X[:, loc['cli']]\n",
    "    rh_z = X[:, loc['rh_z']]\n",
    "    \n",
    "    if np.abs(a_1) > 1e-5:\n",
    "        rh = np.maximum(rh, -a_2/(2*a_1)*ta**2 + a_4/(2*a_1)*ta - a_5/(2*a_1))\n",
    "    \n",
    "    return a_1*rh**2+ta**2*(a_2*rh-a_3)-a_4*rh*ta+a_5*rh+a_6*ta-a_7 + (a_8*rh_z)**2*(A*rh_z+a_9) - B/(a_10*clw+a_11*cli+eps)"
   ]
  },
  {
   "cell_type": "code",
   "execution_count": 61,
   "id": "5e1685e5-d5ee-4ea7-b4e5-af0566792377",
   "metadata": {},
   "outputs": [],
   "source": [
    "import scipy as sci\n",
    "from scipy.optimize import minimize"
   ]
  },
  {
   "cell_type": "code",
   "execution_count": 62,
   "id": "6f1fdcef-6f16-45f7-a22c-17e90674665e",
   "metadata": {},
   "outputs": [],
   "source": [
    "def objective(P, X,Y,force_zero=None):\n",
    "    '''\n",
    "        The objective function.\n",
    "    '''\n",
    "    a_1,a_2,a_3,a_4,a_5,a_6,a_7,a_8,a_9,a_10,a_11,eps,A,B = P\n",
    "    \n",
    "    # A way to remove terms using a list. Somehow I cannot use locals or exec here...\n",
    "    if force_zero == 'a_1': a_1 = 0\n",
    "    elif force_zero == 'a_2': a_2 = 0\n",
    "    elif force_zero == 'a_3': a_3 = 0\n",
    "    elif force_zero == 'a_4': a_4 = 0\n",
    "    elif force_zero == 'a_5': a_5 = 0\n",
    "    elif force_zero == 'a_6': a_6 = 0\n",
    "    elif force_zero == 'a_7': a_7 = 0\n",
    "    elif force_zero == 'a_8': a_8 = 0\n",
    "    elif force_zero == 'a_9': a_9 = 0\n",
    "    elif force_zero == 'a_10': a_10 = 0\n",
    "    elif force_zero == 'a_11': a_11 = 0\n",
    "    elif force_zero == 'eps': eps = 0\n",
    "    elif force_zero == 'A': A = 0\n",
    "    \n",
    "    elif force_zero == 'I1': (a_1, a_2, a_3, a_4, a_5, a_6, a_7) = (0,0,0,0,0,0,0)\n",
    "    elif force_zero == 'I2': (a_8, a_9, A) = (0,0,0)\n",
    "    elif force_zero == 'I3': B = 0\n",
    "            \n",
    "    train_preds = np.minimum(np.maximum(func(X, a_1,a_2,a_3,a_4,a_5,a_6,a_7,a_8,a_9,a_10,a_11,eps,A,B), 0), 100) \n",
    "    train_mse = np.mean((train_preds - Y)**2, dtype=np.float64)\n",
    "\n",
    "    return train_mse\n",
    "\n",
    "T_subset = 10**6\n",
    "inds = np.random.randint(0, flattened_input_train.shape[0], T_subset)\n",
    "\n",
    "(a_1,a_2,a_3,a_4,a_5,a_6,a_7,a_8,a_9,a_10,a_11,eps,A,B) = (203, 0.06588, 0.03969, 33.87, 4224.6, 18.9586, 2202.6, 146715, 0.00286, 8641, 32544, 0.0106, 1, 1)"
   ]
  },
  {
   "cell_type": "markdown",
   "id": "ef5f6259-12f9-433a-a904-9cb6c7d87127",
   "metadata": {},
   "source": [
    "**Evaluate reduced equations**"
   ]
  },
  {
   "cell_type": "code",
   "execution_count": 66,
   "id": "d042d40d-7150-4c7c-86b1-cb31e6ecd2ed",
   "metadata": {},
   "outputs": [],
   "source": [
    "valid_mses = {}"
   ]
  },
  {
   "cell_type": "code",
   "execution_count": 67,
   "id": "101e7cad-761a-414a-b5a1-88daee663d9b",
   "metadata": {
    "tags": []
   },
   "outputs": [
    {
     "name": "stdout",
     "output_type": "stream",
     "text": [
      "Warning: Desired error not necessarily achieved due to precision loss.\n",
      "         Current function value: 162.457646\n",
      "         Iterations: 11\n",
      "         Function evaluations: 822\n",
      "         Gradient evaluations: 54\n",
      "Warning: Maximum number of function evaluations has been exceeded.\n",
      "On the entire dataset\n",
      "Valid MSE: 106.29836\n",
      "Warning: Desired error not necessarily achieved due to precision loss.\n",
      "         Current function value: 170.113452\n",
      "         Iterations: 14\n",
      "         Function evaluations: 1077\n",
      "         Gradient evaluations: 71\n",
      "Warning: Maximum number of function evaluations has been exceeded.\n",
      "On the entire dataset\n",
      "Valid MSE: 111.53663\n",
      "Warning: Desired error not necessarily achieved due to precision loss.\n",
      "         Current function value: 665.323165\n",
      "         Iterations: 99\n",
      "         Function evaluations: 3818\n",
      "         Gradient evaluations: 254\n",
      "Warning: Maximum number of function evaluations has been exceeded.\n",
      "On the entire dataset\n",
      "Valid MSE: 244.32678\n"
     ]
    },
    {
     "name": "stderr",
     "output_type": "stream",
     "text": [
      "/tmp/ipykernel_793185/2135525553.py:9: RuntimeWarning: divide by zero encountered in double_scalars\n",
      "  rh = np.maximum(rh, -a_2/(2*a_1)*ta**2 + a_4/(2*a_1)*ta - a_5/(2*a_1))\n",
      "/tmp/ipykernel_793185/2135525553.py:9: RuntimeWarning: invalid value encountered in add\n",
      "  rh = np.maximum(rh, -a_2/(2*a_1)*ta**2 + a_4/(2*a_1)*ta - a_5/(2*a_1))\n"
     ]
    },
    {
     "name": "stdout",
     "output_type": "stream",
     "text": [
      "Warning: NaN result encountered.\n",
      "         Current function value: nan\n",
      "         Iterations: 0\n",
      "         Function evaluations: 15\n",
      "         Gradient evaluations: 1\n",
      "Warning: Maximum number of function evaluations has been exceeded.\n",
      "On the entire dataset\n",
      "Valid MSE: nan\n",
      "Warning: Desired error not necessarily achieved due to precision loss.\n",
      "         Current function value: 185.340603\n",
      "         Iterations: 44\n",
      "         Function evaluations: 1497\n",
      "         Gradient evaluations: 99\n",
      "Warning: Maximum number of function evaluations has been exceeded.\n",
      "On the entire dataset\n",
      "Valid MSE: 121.17449\n"
     ]
    }
   ],
   "source": [
    "parameters = [None,'a_1','a_2','a_3','a_4','a_5','a_6','a_7','a_8','a_9','a_10','a_11','A','I1','I2','I3']\n",
    "\n",
    "for par_ind in range(len(parameters)):\n",
    "    force_zero = parameters[par_ind]\n",
    "\n",
    "    # Nelder-Mead gives me the same result\n",
    "    res_bfgs = minimize(objective, (a_1,a_2,a_3,a_4,a_5,a_6,a_7,a_8,a_9,a_10,a_11,eps,A,B), args=(flattened_input_train[inds], flattened_output_train[inds], force_zero), \\\n",
    "                   method='BFGS', options={'disp': True})\n",
    "\n",
    "    res_nm = minimize(objective, (a_1,a_2,a_3,a_4,a_5,a_6,a_7,a_8,a_9,a_10,a_11,eps,A,B), args=(flattened_input_train[inds], flattened_output_train[inds], force_zero), \\\n",
    "                   method='Nelder-Mead', options={'disp': True})\n",
    "\n",
    "    # Compute objective for both minima\n",
    "    valid_reg_mse_bfgs = objective(res_bfgs.x, flattened_input_valid, flattened_output_valid, force_zero)\n",
    "    valid_reg_mse_nm = objective(res_nm.x, flattened_input_valid, flattened_output_valid, force_zero)\n",
    "\n",
    "    # Compute full valid mse\n",
    "    mse_reg_0 = 0.0353\n",
    "    n_0 = 32419018\n",
    "    n_21 = 62640812\n",
    "    N = n_0 + n_21\n",
    "\n",
    "    valid_reg_mse = np.minimum(valid_reg_mse_bfgs, valid_reg_mse_nm)\n",
    "\n",
    "    print('On the entire dataset')\n",
    "    print('Valid MSE: %.5f'%((n_0*mse_reg_0 + n_21*valid_reg_mse)/N))\n",
    "\n",
    "    # Add to dictionary\n",
    "    if force_zero == None:\n",
    "        valid_mses['full_eq'] = ((n_0*mse_reg_0 + n_21*valid_reg_mse)/N)\n",
    "    else:      \n",
    "        valid_mses[force_zero] = ((n_0*mse_reg_0 + n_21*valid_reg_mse)/N)"
   ]
  },
  {
   "cell_type": "code",
   "execution_count": 59,
   "id": "244a5f2f-b0a0-41b4-a2bf-c540250a4947",
   "metadata": {},
   "outputs": [],
   "source": [
    "with open('~/workspace_icon-ml/symbolic_regression/finding_symmetries/pysr_results_dyamond_on_regimes/no_of_regimes_2/ablation_study/ablation_study_phys_seed_%d.json'%SEED, 'w') as file:\n",
    "    json.dump(valid_mses, file)"
   ]
  },
  {
   "cell_type": "markdown",
   "id": "5c5b8d64-6f36-4a16-a43e-e2ea795a96f0",
   "metadata": {},
   "source": [
    "**Plot results**"
   ]
  },
  {
   "cell_type": "code",
   "execution_count": 41,
   "id": "7a417331-554d-4496-a15a-71ff0dc94642",
   "metadata": {},
   "outputs": [],
   "source": [
    "with open('~/workspace_icon-ml/symbolic_regression/finding_symmetries/pysr_results_dyamond_on_regimes/no_of_regimes_2/ablation_study/ablation_study_phys_seed_%d.json'%SEED, 'r') as file:\n",
    "    valid_mses = json.load(file)"
   ]
  },
  {
   "cell_type": "code",
   "execution_count": 63,
   "id": "190736a7-028c-473e-bd6e-dc2d33276029",
   "metadata": {
    "tags": []
   },
   "outputs": [
    {
     "data": {
      "text/plain": [
       "Text(0.5, 0, 'Coefficient set to 0')"
      ]
     },
     "execution_count": 63,
     "metadata": {},
     "output_type": "execute_result"
    },
    {
     "data": {
      "image/png": "[encoded data removed]",
      "text/plain": [
       "<Figure size 640x480 with 1 Axes>"
      ]
     },
     "metadata": {},
     "output_type": "display_data"
    }
   ],
   "source": [
    "sorted_inds = np.argsort(list(valid_mses.values()))\n",
    "plt.plot(np.delete(np.array(list(valid_mses.keys()))[sorted_inds], 4), np.delete(np.array(list(valid_mses.values()))[sorted_inds], 4), 'bo')\n",
    "plt.ylabel('MSE on validation set')\n",
    "plt.xlabel('Coefficient set to 0')\n",
    "plt.savefig('~/workspace_icon-ml/symbolic_regression/finding_symmetries/pysr_results_dyamond_on_regimes/no_of_regimes_2/ablation_study/ablation_study_phys_seed_%d.pdf'%SEED)"
   ]
  },
  {
   "cell_type": "code",
   "execution_count": 64,
   "id": "4e4a4c11-ef8c-4b00-8687-e873d565e540",
   "metadata": {
    "tags": []
   },
   "outputs": [
    {
     "data": {
      "text/plain": [
       "Text(0.5, 0, 'Coefficient set to 0')"
      ]
     },
     "execution_count": 64,
     "metadata": {},
     "output_type": "execute_result"
    },
    {
     "data": {
      "image/png": "[encoded data removed]",
      "text/plain": [
       "<Figure size 640x480 with 1 Axes>"
      ]
     },
     "metadata": {},
     "output_type": "display_data"
    }
   ],
   "source": [
    "sorted_inds = np.argsort(list(valid_mses.values()))\n",
    "plt.plot(np.delete(np.array(list(valid_mses.keys()))[sorted_inds], 4)[:-4], np.delete(np.array(list(valid_mses.values()))[sorted_inds], 4)[:-4], 'bo')\n",
    "plt.ylabel('MSE on validation set')\n",
    "plt.xlabel('Coefficient set to 0')"
   ]
  }
 ],
 "metadata": {
  "kernelspec": {
   "display_name": "clouds",
   "language": "python",
   "name": "clouds"
  },
  "language_info": {
   "codemirror_mode": {
    "name": "ipython",
    "version": 3
   },
   "file_extension": ".py",
   "mimetype": "text/x-python",
   "name": "python",
   "nbconvert_exporter": "python",
   "pygments_lexer": "ipython3",
   "version": "3.7.12"
  }
 },
 "nbformat": 4,
 "nbformat_minor": 5
}
