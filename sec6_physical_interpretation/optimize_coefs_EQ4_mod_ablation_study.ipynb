{
 "cells": [
  {
   "cell_type": "markdown",
   "id": "2e1eb9b8-ef59-40d3-854d-91ee4f68fa7a",
   "metadata": {},
   "source": [
    "**tmpw0h7p9s5, equation 22**"
   ]
  },
  {
   "cell_type": "markdown",
   "id": "a758a875-1c32-45f6-b133-702feb45b76f",
   "metadata": {},
   "source": [
    "Ablation study on the DYAMOND data -- setting parameters to 0 and re-tuning"
   ]
  },
  {
   "cell_type": "code",
   "execution_count": 35,
   "id": "56e4d405-d113-4c27-965b-bb01807ad169",
   "metadata": {},
   "outputs": [],
   "source": [
    "import numpy as np\n",
    "import sympy as sp\n",
    "import pandas as pd\n",
    "import matplotlib\n",
    "import matplotlib.pyplot as plt\n",
    "import json\n",
    "import sys\n",
    "import os\n",
    "import gc\n",
    "\n",
    "sys.path.insert(0, '/home/b/b309170/workspace_icon-ml/symbolic_regression')\n",
    "from functions import append_dict_to_json\n",
    "from sklearn import tree\n",
    "\n",
    "SEED = int(sys.argv[1])\n",
    "np.random.seed(SEED)"
   ]
  },
  {
   "cell_type": "code",
   "execution_count": 36,
   "id": "67f91be4-799d-4915-8f85-4a3327ce92ee",
   "metadata": {},
   "outputs": [],
   "source": [
    "def round_expr(expr):\n",
    "    d = {}\n",
    "    for n in expr.atoms(sp.Number):\n",
    "        d[n] = sp.Number('%.6g'%n)\n",
    "    return expr.xreplace(d)"
   ]
  },
  {
   "cell_type": "code",
   "execution_count": 37,
   "id": "dd38bf0e-4407-4709-a661-41216c023ceb",
   "metadata": {},
   "outputs": [],
   "source": [
    "no_of_regimes = 2\n",
    "regime = 1"
   ]
  },
  {
   "cell_type": "markdown",
   "id": "af2f9173-f118-4d30-803c-db6b13cc05f5",
   "metadata": {},
   "source": [
    "**Read data**"
   ]
  },
  {
   "cell_type": "code",
   "execution_count": 38,
   "id": "9cb7228f-5656-4737-b862-c0072551e8bb",
   "metadata": {},
   "outputs": [],
   "source": [
    "all_possible_features = ['hus', 'clw', 'cli', 'ta', 'pa', 'zg', 'fr_land', 'U', 'rh', 'ps', 'hus_z', 'hus_zz', 'clw_z', 'clw_zz', 'cli_z',\\\n",
    "            'cli_zz', 'ta_z', 'ta_zz', 'pa_z', 'pa_zz', 'U_z', 'U_zz', 'rh_z', 'rh_zz']\n",
    "\n",
    "loc_all = {}\n",
    "for i in range(len(all_possible_features)):\n",
    "    loc_all[all_possible_features[i]] = i\n",
    "    \n",
    "# Features\n",
    "features = ['rh', 'ta', 'clw', 'cli', 'rh_z']\n",
    "no_features = len(features)\n",
    "\n",
    "loc = {}\n",
    "for i in range(len(features)):\n",
    "    loc[features[i]] = i"
   ]
  },
  {
   "cell_type": "code",
   "execution_count": 39,
   "id": "b8462c5d-87c6-4d8d-983f-7daf8582855a",
   "metadata": {},
   "outputs": [],
   "source": [
    "path_data = os.path.join('/home/b/b309170/my_work/icon-ml_data/cloud_cover_parameterization/neighborhood_based_SR_DYAMOND')\n",
    "\n",
    "# Load the input data and pick the five best features (rh, ta, clw, cli, rh_z)\n",
    "input_data = np.load(path_data + '/cloud_cover_input_dyamond.npy')\n",
    "input_data = np.concatenate([np.expand_dims(input_data[:, loc_all[sel_var]], axis=1) for sel_var in features], axis = 1)\n",
    "\n",
    "output_data = np.load(path_data + '/cloud_area_output_dyamond.npy')"
   ]
  },
  {
   "cell_type": "code",
   "execution_count": 40,
   "id": "6831a5fb-6fcb-4785-86a9-700a0fe82730",
   "metadata": {},
   "outputs": [
    {
     "data": {
      "text/plain": [
       "(285179494, 5)"
      ]
     },
     "execution_count": 40,
     "metadata": {},
     "output_type": "execute_result"
    }
   ],
   "source": [
    "(samples_total, no_of_features) = input_data.shape\n",
    "(samples_total, no_of_features)"
   ]
  },
  {
   "cell_type": "code",
   "execution_count": 41,
   "id": "9b0eaa09-11a3-485e-b9ff-6befe674d5b0",
   "metadata": {
    "tags": []
   },
   "outputs": [],
   "source": [
    "# Construct training and validation data\n",
    "training_folds = []\n",
    "validation_folds = []\n",
    "two_week_incr = samples_total//6\n",
    "\n",
    "for i in range(3):\n",
    "    # Note that this is a temporal split since time was the first dimension in the original tensor\n",
    "    first_incr = np.arange(samples_total//6*i, samples_total//6*(i+1))\n",
    "    second_incr = np.arange(samples_total//6*(i+3), samples_total//6*(i+4))\n",
    "\n",
    "    validation_folds.append(np.append(first_incr, second_incr))\n",
    "    training_folds.append(np.arange(samples_total))\n",
    "    training_folds[i] = np.delete(training_folds[i], validation_folds[i])"
   ]
  },
  {
   "cell_type": "code",
   "execution_count": 42,
   "id": "ff49c846-d3de-4b64-b8d5-42f1db80e37d",
   "metadata": {},
   "outputs": [
    {
     "data": {
      "text/plain": [
       "14575"
      ]
     },
     "execution_count": 42,
     "metadata": {},
     "output_type": "execute_result"
    }
   ],
   "source": [
    "# The second fold yields the best model\n",
    "flattened_input_train = input_data[training_folds[1]]\n",
    "flattened_input_valid = input_data[validation_folds[1]]\n",
    "flattened_output_train = output_data[training_folds[1]]\n",
    "flattened_output_valid = output_data[validation_folds[1]]\n",
    "    \n",
    "# Remove input_data, output_data\n",
    "del input_data, output_data, training_folds, validation_folds\n",
    "gc.collect()"
   ]
  },
  {
   "cell_type": "code",
   "execution_count": 43,
   "id": "18a94f27-da39-4411-9bf0-d139e8fc4c4c",
   "metadata": {},
   "outputs": [],
   "source": [
    "if no_of_regimes > 1:\n",
    "    # Already remove the regime with clw + cli = 0\n",
    "    reg_not_0_train = np.where(flattened_input_train[:, loc['clw']] + flattened_input_train[:, loc['cli']] > 1e-20)[0]\n",
    "    flattened_input_train = flattened_input_train[reg_not_0_train]\n",
    "    flattened_output_train = flattened_output_train[reg_not_0_train]\n",
    "\n",
    "    reg_not_0_valid = np.where(flattened_input_valid[:, loc['clw']] + flattened_input_valid[:, loc['cli']] > 1e-20)[0]\n",
    "    flattened_input_valid = flattened_input_valid[reg_not_0_valid]\n",
    "    flattened_output_valid = flattened_output_valid[reg_not_0_valid]"
   ]
  },
  {
   "cell_type": "markdown",
   "id": "dd5711b1-f92c-47db-bef5-f162a9559355",
   "metadata": {},
   "source": [
    "**Normalize the features**"
   ]
  },
  {
   "cell_type": "code",
   "execution_count": 44,
   "id": "f7d119dc-7b3a-4fa0-974c-a1b755b7b40b",
   "metadata": {
    "tags": []
   },
   "outputs": [],
   "source": [
    "# Scale the data\n",
    "mean_all = [4.12205844e-03,2.25493498e-05,3.38180032e-06,2.57065512e+02,6.00030443e+04,5.64080139e+03,2.35046400e-01,1.32776682e+01,6.02512234e-01,9.86270417e+04,-1.27545273e-06,-4.02484958e-10,1.65204582e-08,-4.34660202e-11,4.29441131e-10,-1.82817316e-12,-4.68742483e-03,-7.54899040e-07,-7.51544542e+00,-1.06989723e-04,1.65615172e-03,-9.27604679e-06,-4.76200071e-05,-1.32246548e-07]\n",
    "std_all = [5.07648249e-03,5.69702638e-05,1.01308124e-05,3.00533874e+01,3.12514292e+04,5.66963918e+03,4.11184302e-01,1.11389888e+01,3.32494615e-01,6.24039256e+03,2.03179260e-06,1.17041141e-08,1.33311867e-07,1.42840744e-09,6.73384546e-09,5.07424672e-11,5.82875686e-03,6.34826092e-05,3.53136052e+00,1.13215264e-02,6.62892130e-03,6.08144307e-05,2.58065098e-04,2.49552692e-06]\n",
    "\n",
    "mean = np.concatenate([np.expand_dims(mean_all[loc_all[sel_var]], axis=0) for sel_var in features], axis = 0)\n",
    "std = np.concatenate([np.expand_dims(std_all[loc_all[sel_var]], axis=0) for sel_var in features], axis = 0)\n",
    "\n",
    "# Work with scaled training folds\n",
    "train_data_scaled = (flattened_input_train - mean)/std\n",
    "valid_data_scaled = (flattened_input_valid - mean)/std"
   ]
  },
  {
   "cell_type": "markdown",
   "id": "51702441-2dbb-4e54-ab31-796a587b2fb7",
   "metadata": {},
   "source": [
    "Optimize coefficients"
   ]
  },
  {
   "cell_type": "code",
   "execution_count": 45,
   "id": "26e734a3-580a-48e4-b2c4-a891a42b5685",
   "metadata": {},
   "outputs": [],
   "source": [
    "# See ~/workspace_icon-ml/symbolic_regression/finding_symmetries/pysr_results_dyamond_on_regimes/no_of_regimes_2/notes.txt\n",
    "def func(X, a,b,c,d,e,f,g,h,i,j,k):\n",
    "    x0 = X[:, 0] \n",
    "    x1 = X[:, 1] \n",
    "    x2 = X[:, 2] \n",
    "    x3 = X[:, 3]\n",
    "    x4 = X[:, 4]\n",
    "    \n",
    "    return a*x0 - b*x1 + c*x0*(d*x0 + x1**2) + x4**2*(e*x4 + f) + g - h/(k*x2 + i*x3 + j)"
   ]
  },
  {
   "cell_type": "code",
   "execution_count": 46,
   "id": "5e1685e5-d5ee-4ea7-b4e5-af0566792377",
   "metadata": {},
   "outputs": [],
   "source": [
    "import scipy as sci\n",
    "from scipy.optimize import minimize"
   ]
  },
  {
   "cell_type": "code",
   "execution_count": 47,
   "id": "6f1fdcef-6f16-45f7-a22c-17e90674665e",
   "metadata": {},
   "outputs": [],
   "source": [
    "def objective(P, X,Y,force_zero=None):\n",
    "    '''\n",
    "        The objective function.\n",
    "    '''\n",
    "    a,b,c,d,e,f,g,h,i,j,k = P\n",
    "    \n",
    "    # A way to remove terms using a list. Somehow I cannot use locals or exec here...\n",
    "    if force_zero == 'a': a = 0\n",
    "    elif force_zero == 'b': b = 0\n",
    "    elif force_zero == 'c': c = 0\n",
    "    elif force_zero == 'd': d = 0\n",
    "    elif force_zero == 'e': e = 0\n",
    "    elif force_zero == 'f': f = 0\n",
    "    elif force_zero == 'g': g = 0\n",
    "    elif force_zero == 'h': h = 0\n",
    "    elif force_zero == 'i': i = 0\n",
    "    elif force_zero == 'j': j = 0\n",
    "    elif force_zero == 'k': k = 0\n",
    "    \n",
    "    elif force_zero == 'I1': a = 0; b = 0; c = 0; g = 0\n",
    "    elif force_zero == 'I2': e = 0; f = 0\n",
    "            \n",
    "    train_preds = np.minimum(np.maximum(func(X, a,b,c,d,e,f,g,h,i,j,k), 0), 100) \n",
    "    train_mse = np.mean((train_preds - Y)**2, dtype=np.float64)\n",
    "\n",
    "    return train_mse\n",
    "\n",
    "T_subset = 10**6\n",
    "inds = np.random.randint(0, train_data_scaled.shape[0], T_subset)\n",
    "\n",
    "(a,b,c,d,e,f,g,h,i,j,k) = (38.6562122, 43.53500518, 19.78403208, 1.13637902, 0.35299939, 4.04888686, 44.21730274, 2.03128527, 0.66971589, 0.6409019, 1)"
   ]
  },
  {
   "cell_type": "markdown",
   "id": "ef5f6259-12f9-433a-a904-9cb6c7d87127",
   "metadata": {},
   "source": [
    "**Evaluate reduced equations**"
   ]
  },
  {
   "cell_type": "code",
   "execution_count": 48,
   "id": "d042d40d-7150-4c7c-86b1-cb31e6ecd2ed",
   "metadata": {},
   "outputs": [],
   "source": [
    "valid_mses = {}"
   ]
  },
  {
   "cell_type": "code",
   "execution_count": 49,
   "id": "101e7cad-761a-414a-b5a1-88daee663d9b",
   "metadata": {
    "collapsed": true,
    "jupyter": {
     "outputs_hidden": true
    },
    "tags": []
   },
   "outputs": [
    {
     "name": "stdout",
     "output_type": "stream",
     "text": [
      "Warning: Desired error not necessarily achieved due to precision loss.\n",
      "         Current function value: 159.724808\n",
      "         Iterations: 2\n",
      "         Function evaluations: 429\n",
      "         Gradient evaluations: 38\n",
      "Optimization terminated successfully.\n",
      "         Current function value: 159.724808\n",
      "         Iterations: 257\n",
      "         Function evaluations: 420\n",
      "On the entire dataset\n",
      "Valid MSE: 103.94659\n",
      "Warning: Desired error not necessarily achieved due to precision loss.\n",
      "         Current function value: 225.985551\n",
      "         Iterations: 47\n",
      "         Function evaluations: 869\n",
      "         Gradient evaluations: 79\n",
      "Warning: Maximum number of function evaluations has been exceeded.\n",
      "On the entire dataset\n",
      "Valid MSE: 146.57637\n",
      "Warning: Desired error not necessarily achieved due to precision loss.\n",
      "         Current function value: 274.349883\n",
      "         Iterations: 62\n",
      "         Function evaluations: 880\n",
      "         Gradient evaluations: 80\n",
      "Warning: Maximum number of function evaluations has been exceeded.\n",
      "On the entire dataset\n",
      "Valid MSE: 178.64328\n",
      "Warning: Desired error not necessarily achieved due to precision loss.\n",
      "         Current function value: 547.750377\n",
      "         Iterations: 5\n",
      "         Function evaluations: 658\n",
      "         Gradient evaluations: 59\n",
      "Optimization terminated successfully.\n",
      "         Current function value: 203.445506\n",
      "         Iterations: 1226\n",
      "         Function evaluations: 1738\n",
      "On the entire dataset\n",
      "Valid MSE: 132.55075\n",
      "Warning: Desired error not necessarily achieved due to precision loss.\n",
      "         Current function value: 352.808855\n",
      "         Iterations: 3\n",
      "         Function evaluations: 1019\n",
      "         Gradient evaluations: 92\n",
      "Optimization terminated successfully.\n",
      "         Current function value: 176.131464\n",
      "         Iterations: 1153\n",
      "         Function evaluations: 1653\n",
      "On the entire dataset\n",
      "Valid MSE: 114.73097\n",
      "Warning: Desired error not necessarily achieved due to precision loss.\n",
      "         Current function value: 164.005108\n",
      "         Iterations: 25\n",
      "         Function evaluations: 793\n",
      "         Gradient evaluations: 71\n",
      "Optimization terminated successfully.\n",
      "         Current function value: 164.005108\n",
      "         Iterations: 1202\n",
      "         Function evaluations: 1725\n",
      "On the entire dataset\n",
      "Valid MSE: 106.98917\n",
      "Warning: Desired error not necessarily achieved due to precision loss.\n",
      "         Current function value: 172.906712\n",
      "         Iterations: 22\n",
      "         Function evaluations: 749\n",
      "         Gradient evaluations: 67\n",
      "Warning: Maximum number of function evaluations has been exceeded.\n",
      "On the entire dataset\n",
      "Valid MSE: 113.12233\n",
      "Warning: Desired error not necessarily achieved due to precision loss.\n",
      "         Current function value: 231.133451\n",
      "         Iterations: 31\n",
      "         Function evaluations: 1470\n",
      "         Gradient evaluations: 133\n",
      "Warning: Maximum number of function evaluations has been exceeded.\n",
      "On the entire dataset\n",
      "Valid MSE: 150.34700\n",
      "Warning: Desired error not necessarily achieved due to precision loss.\n",
      "         Current function value: 343.646350\n",
      "         Iterations: 44\n",
      "         Function evaluations: 880\n",
      "         Gradient evaluations: 80\n",
      "Optimization terminated successfully.\n",
      "         Current function value: 343.646350\n",
      "         Iterations: 800\n",
      "         Function evaluations: 1160\n",
      "On the entire dataset\n",
      "Valid MSE: 224.48818\n",
      "Warning: Desired error not necessarily achieved due to precision loss.\n",
      "         Current function value: 311.405867\n",
      "         Iterations: 75\n",
      "         Function evaluations: 1463\n",
      "         Gradient evaluations: 133\n",
      "Warning: Maximum number of function evaluations has been exceeded.\n",
      "On the entire dataset\n",
      "Valid MSE: 202.98561\n",
      "Warning: Desired error not necessarily achieved due to precision loss.\n",
      "         Current function value: 343.647053\n",
      "         Iterations: 33\n",
      "         Function evaluations: 1110\n",
      "         Gradient evaluations: 100\n",
      "Optimization terminated successfully.\n",
      "         Current function value: 356.219621\n",
      "         Iterations: 1323\n",
      "         Function evaluations: 1949\n",
      "On the entire dataset\n",
      "Valid MSE: 224.49942\n"
     ]
    }
   ],
   "source": [
    "# First set of parameters\n",
    "parameters = [None,'a','b','c','d','e','f','g','h','i','j','k','I1','I2']\n",
    "\n",
    "for par_ind in range(len(parameters)):\n",
    "    force_zero = parameters[par_ind]\n",
    "\n",
    "    # Nelder-Mead gives me the same result\n",
    "    res_bfgs = minimize(objective, (a,b,c,d,e,f,g,h,i,j,k), args=(train_data_scaled[inds], flattened_output_train[inds], force_zero), \\\n",
    "                   method='BFGS', options={'disp': True})\n",
    "\n",
    "    res_nm = minimize(objective, (a,b,c,d,e,f,g,h,i,j,k), args=(train_data_scaled[inds], flattened_output_train[inds], force_zero), \\\n",
    "                   method='Nelder-Mead', options={'disp': True})\n",
    "\n",
    "    # Compute objective for both minima\n",
    "    valid_reg_mse_bfgs = objective(res_bfgs.x, valid_data_scaled, flattened_output_valid, force_zero)\n",
    "    valid_reg_mse_nm = objective(res_nm.x, valid_data_scaled, flattened_output_valid, force_zero)\n",
    "\n",
    "    # Compute full valid mse\n",
    "    mse_reg_0 = 0.0353\n",
    "    n_0 = 32419018\n",
    "    n_21 = 62640812\n",
    "    N = n_0 + n_21\n",
    "\n",
    "    valid_reg_mse = np.minimum(valid_reg_mse_bfgs, valid_reg_mse_nm)\n",
    "\n",
    "    print('On the entire dataset')\n",
    "    print('Valid MSE: %.5f'%((n_0*mse_reg_0 + n_21*valid_reg_mse)/N))\n",
    "\n",
    "    # Add to dictionary\n",
    "    if force_zero == None:\n",
    "        valid_mses['full_eq'] = ((n_0*mse_reg_0 + n_21*valid_reg_mse)/N)\n",
    "    else:      \n",
    "        valid_mses[force_zero] = ((n_0*mse_reg_0 + n_21*valid_reg_mse)/N)"
   ]
  },
  {
   "cell_type": "code",
   "execution_count": 50,
   "id": "20b39db2-9c48-4d60-a833-d4ca4c89c1e3",
   "metadata": {},
   "outputs": [],
   "source": [
    "with open('/home/b/b309170/workspace_icon-ml/symbolic_regression/finding_symmetries/pysr_results_dyamond_on_regimes/no_of_regimes_2/ablation_study/ablation_study_seed_%d.json'%SEED, 'w') as file:\n",
    "    json.dump(valid_mses, file)"
   ]
  },
  {
   "cell_type": "markdown",
   "id": "80c688a2-025d-4eaa-b83e-f498a0994e4e",
   "metadata": {},
   "source": [
    "**Plot results**"
   ]
  },
  {
   "cell_type": "code",
   "execution_count": 5,
   "id": "5e0a1033-69f2-47f0-b83f-0cca5bc63733",
   "metadata": {},
   "outputs": [],
   "source": [
    "with open('/home/b/b309170/workspace_icon-ml/symbolic_regression/finding_symmetries/pysr_results_dyamond_on_regimes/no_of_regimes_2/ablation_study/ablation_study_seed_%d.json'%SEED, 'r') as file:\n",
    "    valid_mses = json.load(file)"
   ]
  },
  {
   "cell_type": "code",
   "execution_count": 31,
   "id": "6efdc680-925a-47ef-a3ef-fee3cd236864",
   "metadata": {},
   "outputs": [
    {
     "data": {
      "image/png": "[encoded data removed]",
      "text/plain": [
       "<Figure size 640x480 with 1 Axes>"
      ]
     },
     "metadata": {},
     "output_type": "display_data"
    }
   ],
   "source": [
    "sorted_inds = np.argsort(list(valid_mses.values()))\n",
    "plt.plot(np.array(list(valid_mses.keys()))[sorted_inds], np.array(list(valid_mses.values()))[sorted_inds], 'bo')\n",
    "plt.ylabel('MSE on validation set')\n",
    "plt.xlabel('Coefficient set to 0')\n",
    "plt.savefig('/home/b/b309170/workspace_icon-ml/symbolic_regression/finding_symmetries/pysr_results_dyamond_on_regimes/no_of_regimes_2/ablation_study/ablation_study_seed_%d.pdf'%SEED)"
   ]
  },
  {
   "cell_type": "code",
   "execution_count": 2,
   "id": "c0226350-b10a-4e55-948b-bf02b086a2b0",
   "metadata": {},
   "outputs": [],
   "source": [
    "# Translate coefficients in the normalized form of the equation (a, ..., j) into coefficients (a_1, ..., a_{12}) of the physical form of the equation\n",
    "translate = {'a': '~$a_5$', 'b': '$a_6$', 'c': '$a_1$, $a_2$, $a_3$, $a_4$', 'd': '$a_1$', 'e': '$a_{10}$', 'f': '$a_{10}$',\n",
    "            'g': '~$a_7$', 'h': '$I_3 = 0$', 'i': '~$a_{12}$', 'j': '$\\epsilon$', 'k': '~$a_{11}$', 'I1': 'I1', 'I2': 'I2', 'full_eq': 'full_eq'}"
   ]
  },
  {
   "cell_type": "code",
   "execution_count": 3,
   "id": "1582e656-da0f-4e6a-8de9-1a1d83a3b496",
   "metadata": {
    "collapsed": true,
    "jupyter": {
     "outputs_hidden": true
    },
    "tags": []
   },
   "outputs": [
    {
     "ename": "NameError",
     "evalue": "name 'plt' is not defined",
     "output_type": "error",
     "traceback": [
      "\u001b[0;31m---------------------------------------------------------------------------\u001b[0m",
      "\u001b[0;31mNameError\u001b[0m                                 Traceback (most recent call last)",
      "\u001b[0;32m/tmp/ipykernel_444646/1055896750.py\u001b[0m in \u001b[0;36m<module>\u001b[0;34m\u001b[0m\n\u001b[0;32m----> 1\u001b[0;31m \u001b[0mplt\u001b[0m\u001b[0;34m.\u001b[0m\u001b[0mfigure\u001b[0m\u001b[0;34m(\u001b[0m\u001b[0mfigsize\u001b[0m\u001b[0;34m=\u001b[0m\u001b[0;34m(\u001b[0m\u001b[0;36m15\u001b[0m\u001b[0;34m,\u001b[0m \u001b[0;36m5\u001b[0m\u001b[0;34m)\u001b[0m\u001b[0;34m)\u001b[0m\u001b[0;34m\u001b[0m\u001b[0;34m\u001b[0m\u001b[0m\n\u001b[0m\u001b[1;32m      2\u001b[0m \u001b[0msorted_inds\u001b[0m \u001b[0;34m=\u001b[0m \u001b[0mnp\u001b[0m\u001b[0;34m.\u001b[0m\u001b[0margsort\u001b[0m\u001b[0;34m(\u001b[0m\u001b[0mlist\u001b[0m\u001b[0;34m(\u001b[0m\u001b[0mvalid_mses\u001b[0m\u001b[0;34m.\u001b[0m\u001b[0mvalues\u001b[0m\u001b[0;34m(\u001b[0m\u001b[0;34m)\u001b[0m\u001b[0;34m)\u001b[0m\u001b[0;34m)\u001b[0m\u001b[0;34m\u001b[0m\u001b[0;34m\u001b[0m\u001b[0m\n\u001b[1;32m      3\u001b[0m \u001b[0mtranslated_keys\u001b[0m \u001b[0;34m=\u001b[0m \u001b[0;34m[\u001b[0m\u001b[0mtranslate\u001b[0m\u001b[0;34m[\u001b[0m\u001b[0mkey\u001b[0m\u001b[0;34m]\u001b[0m \u001b[0;32mfor\u001b[0m \u001b[0mkey\u001b[0m \u001b[0;32min\u001b[0m \u001b[0mnp\u001b[0m\u001b[0;34m.\u001b[0m\u001b[0marray\u001b[0m\u001b[0;34m(\u001b[0m\u001b[0mlist\u001b[0m\u001b[0;34m(\u001b[0m\u001b[0mvalid_mses\u001b[0m\u001b[0;34m.\u001b[0m\u001b[0mkeys\u001b[0m\u001b[0;34m(\u001b[0m\u001b[0;34m)\u001b[0m\u001b[0;34m)\u001b[0m\u001b[0;34m)\u001b[0m\u001b[0;34m[\u001b[0m\u001b[0msorted_inds\u001b[0m\u001b[0;34m]\u001b[0m\u001b[0;34m]\u001b[0m\u001b[0;34m\u001b[0m\u001b[0;34m\u001b[0m\u001b[0m\n\u001b[1;32m      4\u001b[0m \u001b[0;34m\u001b[0m\u001b[0m\n\u001b[1;32m      5\u001b[0m \u001b[0mplt\u001b[0m\u001b[0;34m.\u001b[0m\u001b[0mplot\u001b[0m\u001b[0;34m(\u001b[0m\u001b[0mtranslated_keys\u001b[0m\u001b[0;34m,\u001b[0m \u001b[0mnp\u001b[0m\u001b[0;34m.\u001b[0m\u001b[0marray\u001b[0m\u001b[0;34m(\u001b[0m\u001b[0mlist\u001b[0m\u001b[0;34m(\u001b[0m\u001b[0mvalid_mses\u001b[0m\u001b[0;34m.\u001b[0m\u001b[0mvalues\u001b[0m\u001b[0;34m(\u001b[0m\u001b[0;34m)\u001b[0m\u001b[0;34m)\u001b[0m\u001b[0;34m)\u001b[0m\u001b[0;34m[\u001b[0m\u001b[0msorted_inds\u001b[0m\u001b[0;34m]\u001b[0m\u001b[0;34m,\u001b[0m \u001b[0;34m'bo'\u001b[0m\u001b[0;34m)\u001b[0m\u001b[0;34m\u001b[0m\u001b[0;34m\u001b[0m\u001b[0m\n",
      "\u001b[0;31mNameError\u001b[0m: name 'plt' is not defined"
     ]
    }
   ],
   "source": [
    "plt.figure(figsize=(15, 5))\n",
    "sorted_inds = np.argsort(list(valid_mses.values()))\n",
    "translated_keys = [translate[key] for key in np.array(list(valid_mses.keys()))[sorted_inds]]\n",
    "\n",
    "plt.plot(translated_keys, np.array(list(valid_mses.values()))[sorted_inds], 'bo')\n",
    "plt.ylabel('MSE on validation set')\n",
    "plt.xlabel('Coefficient set to 0')\n",
    "plt.savefig('/home/b/b309170/workspace_icon-ml/symbolic_regression/finding_symmetries/pysr_results_dyamond_on_regimes/no_of_regimes_2/ablation_study/ablation_study_seed_%d_translated.pdf'%SEED)"
   ]
  },
  {
   "cell_type": "code",
   "execution_count": null,
   "id": "bf52e89a-e452-40a7-aea4-f44a603e7529",
   "metadata": {},
   "outputs": [],
   "source": []
  }
 ],
 "metadata": {
  "kernelspec": {
   "display_name": "sherpa",
   "language": "python",
   "name": "sherpa"
  },
  "language_info": {
   "codemirror_mode": {
    "name": "ipython",
    "version": 3
   },
   "file_extension": ".py",
   "mimetype": "text/x-python",
   "name": "python",
   "nbconvert_exporter": "python",
   "pygments_lexer": "ipython3",
   "version": "3.7.10"
  }
 },
 "nbformat": 4,
 "nbformat_minor": 5
}
