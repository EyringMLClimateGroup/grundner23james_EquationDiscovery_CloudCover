{
 "cells": [
  {
   "cell_type": "markdown",
   "metadata": {
    "id": "IxsCs8EUo6SX"
   },
   "source": [
    "# Imports"
   ]
  },
  {
   "cell_type": "code",
   "execution_count": 55,
   "metadata": {
    "id": "Q5UBfuxvaxig"
   },
   "outputs": [],
   "source": [
    "import sympy"
   ]
  },
  {
   "cell_type": "code",
   "execution_count": 56,
   "metadata": {
    "id": "ozxdcwOjaKUT"
   },
   "outputs": [],
   "source": [
    "from sympy import *\n",
    "from sympy.stats import Exponential, density"
   ]
  },
  {
   "cell_type": "markdown",
   "metadata": {
    "id": "jP6CN0FppF-M"
   },
   "source": [
    "# Expressing the liquid and ice PDFs as a function of their expected values"
   ]
  },
  {
   "cell_type": "code",
   "execution_count": 57,
   "metadata": {
    "id": "2EPt_0fLagvz"
   },
   "outputs": [],
   "source": [
    "# Define the symbol and parameters\n",
    "x = symbols('x', nonnegative=True)\n",
    "lambdliq = symbols('lambda_liq', positive=True)\n",
    "wliq = symbols('w_liq', positive=True)"
   ]
  },
  {
   "cell_type": "code",
   "execution_count": 58,
   "metadata": {
    "id": "gDQO2wXZhSB-"
   },
   "outputs": [],
   "source": [
    "# Create the exponential distribution\n",
    "expliq = lambdliq * exp(-lambdliq*x)\n",
    "# Create the weighted sum\n",
    "histliq = wliq*DiracDelta(x) + expliq\n",
    "# Integrate it to normalize it\n",
    "int_histliq = integrate(histliq, (x, 0, oo))\n",
    "# Create normalized pdf\n",
    "pdfliq = histliq/int_histliq"
   ]
  },
  {
   "cell_type": "code",
   "execution_count": 59,
   "metadata": {
    "colab": {
     "base_uri": "https://localhost:8080/",
     "height": 61
    },
    "id": "NtxGT45ThxgU",
    "outputId": "2dccc3a5-2c88-4960-9488-3c2fdfae2174"
   },
   "outputs": [
    {
     "data": {
      "text/latex": [
       "$\\displaystyle \\frac{\\lambda_{liq} e^{- \\lambda_{liq} x} + w_{liq} \\delta\\left(x\\right)}{\\frac{w_{liq}}{2} + 1}$"
      ],
      "text/plain": [
       "(lambda_liq*exp(-lambda_liq*x) + w_liq*DiracDelta(x))/(w_liq/2 + 1)"
      ]
     },
     "execution_count": 59,
     "metadata": {},
     "output_type": "execute_result"
    }
   ],
   "source": [
    "pdfliq"
   ]
  },
  {
   "cell_type": "code",
   "execution_count": 60,
   "metadata": {
    "id": "CyfXVptYi8Id"
   },
   "outputs": [],
   "source": [
    "# Now reexpress pdfliq as a function of its mean and lambda parameter\n",
    "\n",
    "# Calculate mean\n",
    "mu_liq = simplify(integrate(x*pdfliq, (x, 0, oo)))\n",
    "\n",
    "# Solve for w_liq as a function of mean\n",
    "mu_l = symbols('mu_l')\n",
    "wl = solve(mu_liq-mu_l,wliq)\n",
    "\n",
    "# Reexpress the pdf accordingly\n",
    "pdfl = (wl[0]*DiracDelta(x) + expliq)/(1+wl[0]/2)"
   ]
  },
  {
   "cell_type": "code",
   "execution_count": 62,
   "metadata": {},
   "outputs": [
    {
     "data": {
      "text/latex": [
       "$\\displaystyle \\mu_{l}$"
      ],
      "text/plain": [
       "mu_l"
      ]
     },
     "execution_count": 62,
     "metadata": {},
     "output_type": "execute_result"
    }
   ],
   "source": [
    "mu_l"
   ]
  },
  {
   "cell_type": "code",
   "execution_count": 61,
   "metadata": {},
   "outputs": [
    {
     "data": {
      "text/plain": [
       "[-2 + 2/(lambda_liq*mu_l)]"
      ]
     },
     "execution_count": 61,
     "metadata": {},
     "output_type": "execute_result"
    }
   ],
   "source": [
    "wl"
   ]
  },
  {
   "cell_type": "code",
   "execution_count": 8,
   "metadata": {
    "id": "mNFWgr9SoqGh"
   },
   "outputs": [],
   "source": [
    "# Finalizing the distributions for liquid and ice\n",
    "lambice = symbols('lambda_ice', positive=True, real=True)\n",
    "muice = symbols('mu_ice', positive=True, real=True)\n",
    "pdfice = pdfl.subs({lambdliq:lambice,mu_l:muice})\n",
    "\n",
    "lambliq = symbols('lambda_liq', positive=True, real=True)\n",
    "muliq = symbols('mu_liq', positive=True, real=True)\n",
    "pdfliq = pdfice.subs({lambice:lambliq,muice:muliq})"
   ]
  },
  {
   "cell_type": "code",
   "execution_count": 65,
   "metadata": {
    "colab": {
     "base_uri": "https://localhost:8080/",
     "height": 58
    },
    "id": "7KiOYM4jqmNS",
    "outputId": "6fc21ce1-dce8-4b84-d7c1-ef0c540e3e5b"
   },
   "outputs": [
    {
     "data": {
      "text/latex": [
       "$\\displaystyle \\lambda_{liq} \\mu_{l} \\left(\\lambda_{liq} e^{- \\lambda_{liq} x} + \\left(-2 + \\frac{2}{\\lambda_{liq} \\mu_{l}}\\right) \\delta\\left(x\\right)\\right)$"
      ],
      "text/plain": [
       "lambda_liq*mu_l*(lambda_liq*exp(-lambda_liq*x) + (-2 + 2/(lambda_liq*mu_l))*DiracDelta(x))"
      ]
     },
     "execution_count": 65,
     "metadata": {},
     "output_type": "execute_result"
    }
   ],
   "source": [
    "pdfl"
   ]
  },
  {
   "cell_type": "code",
   "execution_count": 66,
   "metadata": {},
   "outputs": [
    {
     "name": "stdout",
     "output_type": "stream",
     "text": [
      "lambda_liq*mu_l*(lambda_liq*exp(-lambda_liq*x) + (-2 + 2/(lambda_liq*mu_l))*DiracDelta(x))\n"
     ]
    }
   ],
   "source": [
    "print(pdfl)"
   ]
  },
  {
   "cell_type": "code",
   "execution_count": 10,
   "metadata": {
    "colab": {
     "base_uri": "https://localhost:8080/",
     "height": 37
    },
    "id": "vhFXLxj4q456",
    "outputId": "26586aa4-1154-4e40-af76-9f5b8e3a01ea"
   },
   "outputs": [
    {
     "data": {
      "text/latex": [
       "$\\displaystyle 1$"
      ],
      "text/plain": [
       "1"
      ]
     },
     "execution_count": 10,
     "metadata": {},
     "output_type": "execute_result"
    }
   ],
   "source": [
    "# Testing integral\n",
    "simplify(integrate(pdfliq,(x,0,oo)))"
   ]
  },
  {
   "cell_type": "code",
   "execution_count": 11,
   "metadata": {
    "colab": {
     "base_uri": "https://localhost:8080/",
     "height": 39
    },
    "id": "-2a3Qv-WrLhI",
    "outputId": "8779b21c-7767-4d8a-e201-e054fefa74ea"
   },
   "outputs": [
    {
     "data": {
      "text/latex": [
       "$\\displaystyle \\mu_{liq}$"
      ],
      "text/plain": [
       "mu_liq"
      ]
     },
     "execution_count": 11,
     "metadata": {},
     "output_type": "execute_result"
    }
   ],
   "source": [
    "# Testing mean\n",
    "integrate(x*pdfliq,(x,0,oo))"
   ]
  },
  {
   "cell_type": "markdown",
   "metadata": {
    "id": "AM2j9AK7rQQo"
   },
   "source": [
    "# Convolving the PDFs to get the PDF of condensed water"
   ]
  },
  {
   "cell_type": "code",
   "execution_count": 12,
   "metadata": {
    "id": "yvgNn-tArmob"
   },
   "outputs": [],
   "source": [
    "# Calculating the convolution of pdfliq and pdfice to get pdfqt\n",
    "qt = symbols('q_T', nonnegative=True, real=True)\n",
    "z = symbols('z', real=True)"
   ]
  },
  {
   "cell_type": "code",
   "execution_count": 13,
   "metadata": {
    "id": "G3eXobVYaiN_"
   },
   "outputs": [],
   "source": [
    "lambda_ice = symbols('lambda_ice', positive=True, real=True)\n",
    "mu_ice = symbols('mu_ice', positive=True, real=True)\n",
    "lambda_liq = symbols('lambda_liq', positive=True, real=True)\n",
    "mu_liq = symbols('mu_liq', positive=True, real=True)\n",
    "q_T = symbols('q_T', nonnegative=True, real=True)"
   ]
  },
  {
   "cell_type": "markdown",
   "metadata": {
    "id": "br6tzKvKQRvq"
   },
   "source": [
    "## Term by term"
   ]
  },
  {
   "cell_type": "code",
   "execution_count": 14,
   "metadata": {
    "id": "-N3s3UqPQTcF"
   },
   "outputs": [],
   "source": [
    "convol = pdfliq.subs({x:z})*pdfice.subs({x:(qt-z)})"
   ]
  },
  {
   "cell_type": "code",
   "execution_count": 15,
   "metadata": {
    "colab": {
     "base_uri": "https://localhost:8080/",
     "height": 58
    },
    "id": "SMUvg2HuaYZz",
    "outputId": "299cbcc9-67b4-4ff9-daa3-c389a2074d2f"
   },
   "outputs": [
    {
     "data": {
      "text/latex": [
       "$\\displaystyle \\lambda_{ice} \\lambda_{liq} \\mu_{ice} \\mu_{liq} \\left(\\lambda_{ice} e^{- \\lambda_{ice} \\left(q_{T} - z\\right)} + \\left(-2 + \\frac{2}{\\lambda_{ice} \\mu_{ice}}\\right) \\delta\\left(q_{T} - z\\right)\\right) \\left(\\lambda_{liq} e^{- \\lambda_{liq} z} + \\left(-2 + \\frac{2}{\\lambda_{liq} \\mu_{liq}}\\right) \\delta\\left(z\\right)\\right)$"
      ],
      "text/plain": [
       "lambda_ice*lambda_liq*mu_ice*mu_liq*(lambda_ice*exp(-lambda_ice*(q_T - z)) + (-2 + 2/(lambda_ice*mu_ice))*DiracDelta(q_T - z))*(lambda_liq*exp(-lambda_liq*z) + (-2 + 2/(lambda_liq*mu_liq))*DiracDelta(z))"
      ]
     },
     "execution_count": 15,
     "metadata": {},
     "output_type": "execute_result"
    }
   ],
   "source": [
    "convol"
   ]
  },
  {
   "cell_type": "code",
   "execution_count": 16,
   "metadata": {
    "colab": {
     "base_uri": "https://localhost:8080/",
     "height": 0
    },
    "id": "j6nusMIsakUq",
    "outputId": "24d7bf3c-38e4-43c7-c3db-4a61633e5876"
   },
   "outputs": [
    {
     "name": "stdout",
     "output_type": "stream",
     "text": [
      "lambda_ice*lambda_liq*mu_ice*mu_liq*(lambda_ice*exp(-lambda_ice*(q_T - z)) + (-2 + 2/(lambda_ice*mu_ice))*DiracDelta(q_T - z))*(lambda_liq*exp(-lambda_liq*z) + (-2 + 2/(lambda_liq*mu_liq))*DiracDelta(z))\n"
     ]
    }
   ],
   "source": [
    "print(convol)"
   ]
  },
  {
   "cell_type": "code",
   "execution_count": 17,
   "metadata": {
    "id": "JrvmD4FsbMWS"
   },
   "outputs": [],
   "source": [
    "a_1 = symbols('a_1', positive=True, real=True)\n",
    "a_2 = symbols('a_2', positive=True, real=True)\n",
    "a_3 = symbols('a_3', positive=True, real=True)\n",
    "a_4 = symbols('a_4', positive=True, real=True)"
   ]
  },
  {
   "cell_type": "code",
   "execution_count": 18,
   "metadata": {
    "id": "3dt-3gahQXof"
   },
   "outputs": [],
   "source": [
    "to_integrate = a_1*exp(-lambda_ice*(q_T - z))*exp(-lambda_liq*z) + a_2*exp(-lambda_ice*(q_T - z))*DiracDelta(z) + a_3*exp(-lambda_liq*z)*DiracDelta(q_T - z) + a_4*DiracDelta(z)*DiracDelta(q_T - z)"
   ]
  },
  {
   "cell_type": "code",
   "execution_count": 19,
   "metadata": {
    "colab": {
     "base_uri": "https://localhost:8080/",
     "height": 40
    },
    "id": "-lL1c1bHRZbj",
    "outputId": "67928264-6d74-4a82-c9b9-9ed11bd3a2db"
   },
   "outputs": [
    {
     "data": {
      "text/latex": [
       "$\\displaystyle a_{1} e^{- \\lambda_{ice} \\left(q_{T} - z\\right)} e^{- \\lambda_{liq} z} + a_{2} e^{- \\lambda_{ice} \\left(q_{T} - z\\right)} \\delta\\left(z\\right) + a_{3} e^{- \\lambda_{liq} z} \\delta\\left(q_{T} - z\\right) + a_{4} \\delta\\left(z\\right) \\delta\\left(q_{T} - z\\right)$"
      ],
      "text/plain": [
       "a_1*exp(-lambda_ice*(q_T - z))*exp(-lambda_liq*z) + a_2*exp(-lambda_ice*(q_T - z))*DiracDelta(z) + a_3*exp(-lambda_liq*z)*DiracDelta(q_T - z) + a_4*DiracDelta(z)*DiracDelta(q_T - z)"
      ]
     },
     "execution_count": 19,
     "metadata": {},
     "output_type": "execute_result"
    }
   ],
   "source": [
    "to_integrate"
   ]
  },
  {
   "cell_type": "code",
   "execution_count": 20,
   "metadata": {
    "id": "5XHxdZqtkbp9"
   },
   "outputs": [],
   "source": [
    "I = integrate( a_1*exp(-lambda_ice*(q_T - z))*exp(-lambda_liq*z),(z,0,q_T))"
   ]
  },
  {
   "cell_type": "code",
   "execution_count": 21,
   "metadata": {
    "colab": {
     "base_uri": "https://localhost:8080/",
     "height": 69
    },
    "id": "iMRrq85fkfz8",
    "outputId": "de09afd5-3494-44e3-883d-dae32bbe618c"
   },
   "outputs": [
    {
     "data": {
      "text/latex": [
       "$\\displaystyle \\begin{cases} \\frac{a_{1} e^{- \\lambda_{liq} q_{T}}}{\\lambda_{ice} - \\lambda_{liq}} - \\frac{a_{1} e^{- \\lambda_{ice} q_{T}}}{\\lambda_{ice} - \\lambda_{liq}} & \\text{for}\\: \\lambda_{ice} \\neq \\lambda_{liq} \\\\a_{1} q_{T} e^{- \\lambda_{liq} q_{T}} & \\text{otherwise} \\end{cases}$"
      ],
      "text/plain": [
       "Piecewise((a_1*exp(-lambda_liq*q_T)/(lambda_ice - lambda_liq) - a_1*exp(-lambda_ice*q_T)/(lambda_ice - lambda_liq), Ne(lambda_ice, lambda_liq)), (a_1*q_T*exp(-lambda_liq*q_T), True))"
      ]
     },
     "execution_count": 21,
     "metadata": {},
     "output_type": "execute_result"
    }
   ],
   "source": [
    "I.simplify()"
   ]
  },
  {
   "cell_type": "markdown",
   "metadata": {},
   "source": [
    "**Missing a delta-term here for qt = 0!**"
   ]
  },
  {
   "cell_type": "code",
   "execution_count": 22,
   "metadata": {
    "id": "EONgL5o_djeX"
   },
   "outputs": [],
   "source": [
    "I = a_1*(exp(-lambda_liq*q_T)-exp(-lambda_ice*q_T))/(lambda_ice - lambda_liq)+\\\n",
    "a_2*exp(-lambda_ice*q_T) + a_3*exp(-lambda_liq*q_T)"
   ]
  },
  {
   "cell_type": "code",
   "execution_count": 23,
   "metadata": {
    "id": "_VIDTqgLd5ok"
   },
   "outputs": [],
   "source": [
    "a_1 = lambda_ice*lambda_liq*mu_liq*mu_ice*lambda_ice*lambda_liq\n",
    "a_2 = lambda_ice*lambda_liq*mu_liq*mu_ice*2*lambda_ice*(1/(lambda_liq*mu_liq)-1)\n",
    "a_3 = lambda_ice*lambda_liq*mu_liq*mu_ice*2*lambda_liq*(1/(lambda_ice*mu_ice)-1)"
   ]
  },
  {
   "cell_type": "code",
   "execution_count": 24,
   "metadata": {
    "colab": {
     "base_uri": "https://localhost:8080/",
     "height": 60
    },
    "id": "5IJXSfHDe4IY",
    "outputId": "8cc60e23-aee5-4b56-b68a-cfdff3b30adc"
   },
   "outputs": [
    {
     "data": {
      "text/latex": [
       "$\\displaystyle \\frac{a_{1} \\left(e^{- \\lambda_{liq} q_{T}} - e^{- \\lambda_{ice} q_{T}}\\right)}{\\lambda_{ice} - \\lambda_{liq}} + a_{2} e^{- \\lambda_{ice} q_{T}} + a_{3} e^{- \\lambda_{liq} q_{T}}$"
      ],
      "text/plain": [
       "a_1*(exp(-lambda_liq*q_T) - exp(-lambda_ice*q_T))/(lambda_ice - lambda_liq) + a_2*exp(-lambda_ice*q_T) + a_3*exp(-lambda_liq*q_T)"
      ]
     },
     "execution_count": 24,
     "metadata": {},
     "output_type": "execute_result"
    }
   ],
   "source": [
    "I"
   ]
  },
  {
   "cell_type": "code",
   "execution_count": 25,
   "metadata": {
    "colab": {
     "base_uri": "https://localhost:8080/",
     "height": 62
    },
    "id": "fawOP3wcmvoV",
    "outputId": "4820fe6e-3c28-4306-cec0-25505ea05c27"
   },
   "outputs": [
    {
     "data": {
      "text/latex": [
       "$\\displaystyle \\frac{a_{1} \\left(e^{- \\lambda_{liq} q_{T}} - e^{- \\lambda_{ice} q_{T}}\\right)}{\\lambda_{ice} - \\lambda_{liq}} + a_{2} e^{- \\lambda_{ice} q_{T}} + a_{3} e^{- \\lambda_{liq} q_{T}}$"
      ],
      "text/plain": [
       "a_1*(exp(-lambda_liq*q_T) - exp(-lambda_ice*q_T))/(lambda_ice - lambda_liq) + a_2*exp(-lambda_ice*q_T) + a_3*exp(-lambda_liq*q_T)"
      ]
     },
     "execution_count": 25,
     "metadata": {},
     "output_type": "execute_result"
    }
   ],
   "source": [
    "I"
   ]
  },
  {
   "cell_type": "markdown",
   "metadata": {
    "id": "mhsePFTIfa5v"
   },
   "source": [
    "# Cloud cover"
   ]
  },
  {
   "cell_type": "code",
   "execution_count": 43,
   "metadata": {
    "id": "1oM9PuCEfcpK"
   },
   "outputs": [],
   "source": [
    "a = symbols('a')"
   ]
  },
  {
   "cell_type": "code",
   "execution_count": 44,
   "metadata": {
    "colab": {
     "base_uri": "https://localhost:8080/",
     "height": 71
    },
    "id": "k1Q2OaK0k576",
    "outputId": "910145bb-8bc6-4d3c-b2a1-60d608acb706"
   },
   "outputs": [
    {
     "data": {
      "text/latex": [
       "$\\displaystyle - \\frac{a_{1} \\left(- \\frac{e^{- a \\lambda_{liq}}}{\\lambda_{liq}} + \\frac{e^{- a \\lambda_{ice}}}{\\lambda_{ice}}\\right)}{\\lambda_{ice} - \\lambda_{liq}} + \\frac{a_{2} e^{- a \\lambda_{ice}}}{\\lambda_{ice}} + \\frac{a_{3} e^{- a \\lambda_{liq}}}{\\lambda_{liq}}$"
      ],
      "text/plain": [
       "-a_1*(-exp(-a*lambda_liq)/lambda_liq + exp(-a*lambda_ice)/lambda_ice)/(lambda_ice - lambda_liq) + a_2*exp(-a*lambda_ice)/lambda_ice + a_3*exp(-a*lambda_liq)/lambda_liq"
      ]
     },
     "execution_count": 44,
     "metadata": {},
     "output_type": "execute_result"
    }
   ],
   "source": [
    "integrate(I,(q_T,a,oo))"
   ]
  },
  {
   "cell_type": "code",
   "execution_count": 50,
   "metadata": {
    "colab": {
     "base_uri": "https://localhost:8080/",
     "height": 71
    },
    "id": "oufbIySJlLH4",
    "outputId": "ccf56748-1617-4004-975a-8f70a6886407"
   },
   "outputs": [
    {
     "data": {
      "text/latex": [
       "$\\displaystyle - \\frac{a_{1} \\left(- \\frac{e^{1000000.0 \\lambda_{liq}}}{\\lambda_{liq}} + \\frac{e^{1000000.0 \\lambda_{ice}}}{\\lambda_{ice}}\\right)}{\\lambda_{ice} - \\lambda_{liq}} + \\frac{a_{2} e^{1000000.0 \\lambda_{ice}}}{\\lambda_{ice}} + \\frac{a_{3} e^{1000000.0 \\lambda_{liq}}}{\\lambda_{liq}}$"
      ],
      "text/plain": [
       "-a_1*(-exp(1000000.0*lambda_liq)/lambda_liq + exp(1000000.0*lambda_ice)/lambda_ice)/(lambda_ice - lambda_liq) + a_2*exp(1000000.0*lambda_ice)/lambda_ice + a_3*exp(1000000.0*lambda_liq)/lambda_liq"
      ]
     },
     "execution_count": 50,
     "metadata": {},
     "output_type": "execute_result"
    }
   ],
   "source": [
    "integrate(I,(q_T,a,oo)).subs({a:-1e6})"
   ]
  },
  {
   "cell_type": "code",
   "execution_count": 51,
   "metadata": {
    "colab": {
     "base_uri": "https://localhost:8080/",
     "height": 39
    },
    "id": "PaEo9jwLfYGO",
    "outputId": "790476ba-7dd3-42ec-9c92-0aed7f4eb31b"
   },
   "outputs": [
    {
     "data": {
      "text/latex": [
       "$\\displaystyle \\frac{a_{1} \\left(\\frac{e^{- 1.0 \\cdot 10^{-6} \\lambda_{liq}}}{\\lambda_{liq}} - \\frac{e^{- 1.0 \\cdot 10^{-6} \\lambda_{ice}}}{\\lambda_{ice}}\\right)}{\\lambda_{ice} - \\lambda_{liq}} + \\frac{a_{2} e^{- 1.0 \\cdot 10^{-6} \\lambda_{ice}}}{\\lambda_{ice}} + \\frac{a_{3} e^{- 1.0 \\cdot 10^{-6} \\lambda_{liq}}}{\\lambda_{liq}}$"
      ],
      "text/plain": [
       "a_1*(exp(-1.0e-6*lambda_liq)/lambda_liq - exp(-1.0e-6*lambda_ice)/lambda_ice)/(lambda_ice - lambda_liq) + a_2*exp(-1.0e-6*lambda_ice)/lambda_ice + a_3*exp(-1.0e-6*lambda_liq)/lambda_liq"
      ]
     },
     "execution_count": 51,
     "metadata": {},
     "output_type": "execute_result"
    }
   ],
   "source": [
    "integrate(I,(q_T,a,oo)).subs({a:1e-6}).simplify()"
   ]
  },
  {
   "cell_type": "code",
   "execution_count": 52,
   "metadata": {
    "id": "O21eI4gqf4jp"
   },
   "outputs": [],
   "source": [
    "A = symbols('A',real=True)\n",
    "A = integrate(a_1*(exp(-lambda_liq*q_T)-exp(-lambda_ice*q_T))/(lambda_ice - lambda_liq)+\\\n",
    "a_2*exp(-lambda_ice*q_T) + a_3*exp(-lambda_liq*q_T),(q_T,a,oo)).subs({a:0}).simplify()"
   ]
  },
  {
   "cell_type": "code",
   "execution_count": 68,
   "metadata": {
    "colab": {
     "base_uri": "https://localhost:8080/",
     "height": 57
    },
    "id": "ilUsALiVhbnd",
    "outputId": "acac2720-9a0b-4b18-d86f-12862afed5ff"
   },
   "outputs": [
    {
     "name": "stdout",
     "output_type": "stream",
     "text": [
      "-3*lambda_ice*lambda_liq*mu_ice*mu_liq + 2*lambda_ice*mu_ice + 2*lambda_liq*mu_liq\n"
     ]
    }
   ],
   "source": [
    "print(A)"
   ]
  },
  {
   "cell_type": "code",
   "execution_count": 54,
   "metadata": {
    "id": "2a6z7qm9hcxM"
   },
   "outputs": [],
   "source": [
    "a_1 = lambda_ice*lambda_liq*mu_liq*mu_ice*lambda_ice*lambda_liq\n",
    "a_2 = lambda_ice*lambda_liq*mu_liq*mu_ice*2*lambda_ice*(1/(lambda_liq*mu_liq)-1)\n",
    "a_3 = lambda_ice*lambda_liq*mu_liq*mu_ice*2*lambda_liq*(1/(lambda_ice*mu_ice)-1)"
   ]
  },
  {
   "cell_type": "code",
   "execution_count": 37,
   "metadata": {
    "colab": {
     "base_uri": "https://localhost:8080/",
     "height": 39
    },
    "id": "5YO3rvHMhgJH",
    "outputId": "4449c69e-8cfe-4503-ff22-095b074ec212"
   },
   "outputs": [
    {
     "data": {
      "text/latex": [
       "$\\displaystyle - 3 \\lambda_{ice} \\lambda_{liq} \\mu_{ice} \\mu_{liq} + 2 \\lambda_{ice} \\mu_{ice} + 2 \\lambda_{liq} \\mu_{liq}$"
      ],
      "text/plain": [
       "-3*lambda_ice*lambda_liq*mu_ice*mu_liq + 2*lambda_ice*mu_ice + 2*lambda_liq*mu_liq"
      ]
     },
     "execution_count": 37,
     "metadata": {},
     "output_type": "execute_result"
    }
   ],
   "source": [
    "A"
   ]
  },
  {
   "cell_type": "markdown",
   "metadata": {
    "id": "yJ8ogg2UdiJ8"
   },
   "source": [
    "## Showing that integrals of DIRAC delta are not trustworthy below"
   ]
  },
  {
   "cell_type": "code",
   "execution_count": 366,
   "metadata": {
    "id": "ZVn8nQ6ebciN"
   },
   "outputs": [],
   "source": [
    "I = integrate( a_1*exp(-lambda_ice*(q_T - z))*exp(-lambda_liq*z),(z,0,q_T))"
   ]
  },
  {
   "cell_type": "code",
   "execution_count": 368,
   "metadata": {
    "colab": {
     "base_uri": "https://localhost:8080/",
     "height": 69
    },
    "id": "kjO_O3vgbhRS",
    "outputId": "0f3bae4a-753c-46f4-829b-d16431e52e36"
   },
   "outputs": [
    {
     "data": {
      "text/latex": [
       "$\\displaystyle \\begin{cases} \\frac{a_{1} e^{- \\lambda_{liq} q_{T}}}{\\lambda_{ice} - \\lambda_{liq}} - \\frac{a_{1} e^{- \\lambda_{ice} q_{T}}}{\\lambda_{ice} - \\lambda_{liq}} & \\text{for}\\: \\lambda_{ice} \\neq \\lambda_{liq} \\\\a_{1} q_{T} e^{- \\lambda_{liq} q_{T}} & \\text{otherwise} \\end{cases}$"
      ],
      "text/plain": [
       "Piecewise((a_1*exp(-lambda_liq*q_T)/(lambda_ice - lambda_liq) - a_1*exp(-lambda_ice*q_T)/(lambda_ice - lambda_liq), Ne(lambda_ice, lambda_liq)), (a_1*q_T*exp(-lambda_liq*q_T), True))"
      ]
     },
     "execution_count": 368,
     "metadata": {},
     "output_type": "execute_result"
    }
   ],
   "source": [
    "I.simplify()"
   ]
  },
  {
   "cell_type": "code",
   "execution_count": 364,
   "metadata": {
    "id": "MHDu3UilbkF_"
   },
   "outputs": [],
   "source": [
    "I = integrate(a_3*exp(-lambda_liq*z)*DiracDelta(q_T - z),(z,0,q_T))"
   ]
  },
  {
   "cell_type": "code",
   "execution_count": 365,
   "metadata": {
    "colab": {
     "base_uri": "https://localhost:8080/",
     "height": 54
    },
    "id": "SMSAO5a9cNJT",
    "outputId": "940cc4af-360e-486e-e4e5-f1b24f9c263b"
   },
   "outputs": [
    {
     "data": {
      "text/latex": [
       "$\\displaystyle - a_{3} e^{- \\lambda_{liq} q_{T}} \\theta\\left(- q_{T}\\right) + \\frac{a_{3} e^{- \\lambda_{liq} q_{T}}}{2}$"
      ],
      "text/plain": [
       "-a_3*exp(-lambda_liq*q_T)*Heaviside(-q_T) + a_3*exp(-lambda_liq*q_T)/2"
      ]
     },
     "execution_count": 365,
     "metadata": {},
     "output_type": "execute_result"
    }
   ],
   "source": [
    "I"
   ]
  },
  {
   "cell_type": "code",
   "execution_count": 295,
   "metadata": {
    "colab": {
     "base_uri": "https://localhost:8080/",
     "height": 0
    },
    "id": "RgGgdQOOQndk",
    "outputId": "3ad25893-844f-4755-cd98-eef0482ec0fd"
   },
   "outputs": [
    {
     "name": "stdout",
     "output_type": "stream",
     "text": [
      "lambda_ice**2*lambda_liq**2*mu_ice*mu_liq*exp(-lambda_ice*q_T)*exp(lambda_ice*z)*exp(-lambda_liq*z) - 2*lambda_ice**2*lambda_liq*mu_ice*mu_liq*exp(-lambda_ice*q_T)*exp(lambda_ice*z)*DiracDelta(z) + 2*lambda_ice**2*mu_ice*exp(-lambda_ice*q_T)*exp(lambda_ice*z)*DiracDelta(z) - 2*lambda_ice*lambda_liq**2*mu_ice*mu_liq*exp(-lambda_liq*z)*DiracDelta(q_T - z) + 4*lambda_ice*lambda_liq*mu_ice*mu_liq*DiracDelta(z)*DiracDelta(q_T - z) - 4*lambda_ice*mu_ice*DiracDelta(z)*DiracDelta(q_T - z) + 2*lambda_liq**2*mu_liq*exp(-lambda_liq*z)*DiracDelta(q_T - z) - 4*lambda_liq*mu_liq*DiracDelta(z)*DiracDelta(q_T - z) + 4*DiracDelta(z)*DiracDelta(q_T - z)\n"
     ]
    }
   ],
   "source": [
    "print(to_integrate)"
   ]
  },
  {
   "cell_type": "code",
   "execution_count": 309,
   "metadata": {
    "id": "vbL9UdTHQ3hu"
   },
   "outputs": [],
   "source": [
    "term_1 = lambda_ice**2*lambda_liq**2*mu_ice*mu_liq*exp(-lambda_ice*q_T)*exp(lambda_ice*z)*exp(-lambda_liq*z)\n",
    "term_1_int = integrate(term_1,(z,0,q_T))"
   ]
  },
  {
   "cell_type": "code",
   "execution_count": 310,
   "metadata": {
    "colab": {
     "base_uri": "https://localhost:8080/",
     "height": 78
    },
    "id": "Wq2h1cQaRrFx",
    "outputId": "12c4a972-3509-4c5c-f6f9-9c4cd259f734"
   },
   "outputs": [
    {
     "data": {
      "text/latex": [
       "$\\displaystyle \\begin{cases} \\frac{\\lambda_{ice}^{2} \\lambda_{liq}^{2} \\mu_{ice} \\mu_{liq}}{\\lambda_{ice} e^{\\lambda_{liq} q_{T}} - \\lambda_{liq} e^{\\lambda_{liq} q_{T}}} - \\frac{\\lambda_{ice}^{2} \\lambda_{liq}^{2} \\mu_{ice} \\mu_{liq} e^{- \\lambda_{ice} q_{T}}}{\\lambda_{ice} - \\lambda_{liq}} & \\text{for}\\: \\lambda_{ice} \\neq \\lambda_{liq} \\\\\\lambda_{ice}^{2} \\lambda_{liq}^{2} \\mu_{ice} \\mu_{liq} q_{T} e^{- \\lambda_{ice} q_{T}} & \\text{otherwise} \\end{cases}$"
      ],
      "text/plain": [
       "Piecewise((lambda_ice**2*lambda_liq**2*mu_ice*mu_liq/(lambda_ice*exp(lambda_liq*q_T) - lambda_liq*exp(lambda_liq*q_T)) - lambda_ice**2*lambda_liq**2*mu_ice*mu_liq*exp(-lambda_ice*q_T)/(lambda_ice - lambda_liq), Ne(lambda_ice, lambda_liq)), (lambda_ice**2*lambda_liq**2*mu_ice*mu_liq*q_T*exp(-lambda_ice*q_T), True))"
      ]
     },
     "execution_count": 310,
     "metadata": {},
     "output_type": "execute_result"
    }
   ],
   "source": [
    "term_1_int"
   ]
  },
  {
   "cell_type": "code",
   "execution_count": 300,
   "metadata": {
    "colab": {
     "base_uri": "https://localhost:8080/",
     "height": 0
    },
    "id": "_xJzucWWR2-O",
    "outputId": "43eb1a85-59a0-4907-d910-51584c660c7f"
   },
   "outputs": [
    {
     "name": "stdout",
     "output_type": "stream",
     "text": [
      "Piecewise((-lambda_ice*lambda_liq**2*mu_ice*mu_liq*exp(-lambda_ice*q_T)/(1 - lambda_liq/lambda_ice), (lambda_ice - lambda_liq < 0) & Ne(lambda_liq/lambda_ice, 1)), (Integral(lambda_ice**2*lambda_liq**2*mu_ice*mu_liq*exp(-lambda_ice*q_T)*exp(lambda_ice*z)*exp(-lambda_liq*z), (z, 0, oo)), True))\n"
     ]
    }
   ],
   "source": [
    "print(term_1_int)"
   ]
  },
  {
   "cell_type": "code",
   "execution_count": 303,
   "metadata": {
    "id": "dugRKRP8R4ss"
   },
   "outputs": [],
   "source": [
    "term1I = (-lambda_ice*lambda_liq**2*mu_ice*mu_liq*exp(-lambda_ice*q_T)/(1 - lambda_liq/lambda_ice)).simplify()"
   ]
  },
  {
   "cell_type": "code",
   "execution_count": 304,
   "metadata": {
    "colab": {
     "base_uri": "https://localhost:8080/",
     "height": 62
    },
    "id": "3HwkUArUSAct",
    "outputId": "2c90a1c2-3a6b-41a5-a522-7caffafe5fc5"
   },
   "outputs": [
    {
     "data": {
      "text/latex": [
       "$\\displaystyle - \\frac{\\lambda_{ice}^{2} \\lambda_{liq}^{2} \\mu_{ice} \\mu_{liq} e^{- \\lambda_{ice} q_{T}}}{\\lambda_{ice} - \\lambda_{liq}}$"
      ],
      "text/plain": [
       "-lambda_ice**2*lambda_liq**2*mu_ice*mu_liq*exp(-lambda_ice*q_T)/(lambda_ice - lambda_liq)"
      ]
     },
     "execution_count": 304,
     "metadata": {},
     "output_type": "execute_result"
    }
   ],
   "source": [
    "term1I"
   ]
  },
  {
   "cell_type": "markdown",
   "metadata": {
    "id": "VBeq5OY8QQH9"
   },
   "source": [
    "## All at once"
   ]
  },
  {
   "cell_type": "code",
   "execution_count": 339,
   "metadata": {
    "id": "uH-ZzEmYSn2H"
   },
   "outputs": [],
   "source": [
    "pdfqt = integrate(pdfliq.subs({x:z})*pdfice.subs({x:(qt-z)}),(z,0,qt))\n",
    "pdfqt = pdfqt.expand().simplify()"
   ]
  },
  {
   "cell_type": "code",
   "execution_count": 340,
   "metadata": {
    "colab": {
     "base_uri": "https://localhost:8080/",
     "height": 88
    },
    "id": "i-TRPNhTSsNP",
    "outputId": "b2a5743e-cacb-420d-c521-9c79a4578e95"
   },
   "outputs": [
    {
     "data": {
      "text/latex": [
       "$\\displaystyle \\begin{cases} \\frac{\\lambda_{liq}^{2} \\mu_{liq} \\left(- \\lambda_{ice}^{2} \\mu_{ice} \\left(1 - e^{q_{T} \\left(\\lambda_{ice} - \\lambda_{liq}\\right)}\\right) e^{\\lambda_{liq} q_{T}} + \\left(\\lambda_{ice} - \\lambda_{liq}\\right) \\left(2 \\lambda_{ice} \\mu_{ice} \\theta\\left(- q_{T}\\right) - \\lambda_{ice} \\mu_{ice} - 2 \\theta\\left(- q_{T}\\right) + 1\\right) e^{\\lambda_{ice} q_{T}}\\right) e^{- q_{T} \\left(\\lambda_{ice} + \\lambda_{liq}\\right)}}{\\lambda_{ice} - \\lambda_{liq}} & \\text{for}\\: \\lambda_{ice} \\neq \\lambda_{liq} \\\\\\lambda_{liq}^{2} \\mu_{liq} \\left(\\lambda_{ice}^{2} \\mu_{ice} q_{T} e^{\\lambda_{liq} q_{T}} + \\left(2 \\lambda_{ice} \\mu_{ice} \\theta\\left(- q_{T}\\right) - \\lambda_{ice} \\mu_{ice} - 2 \\theta\\left(- q_{T}\\right) + 1\\right) e^{\\lambda_{ice} q_{T}}\\right) e^{- q_{T} \\left(\\lambda_{ice} + \\lambda_{liq}\\right)} & \\text{otherwise} \\end{cases}$"
      ],
      "text/plain": [
       "Piecewise((lambda_liq**2*mu_liq*(-lambda_ice**2*mu_ice*(1 - exp(q_T*(lambda_ice - lambda_liq)))*exp(lambda_liq*q_T) + (lambda_ice - lambda_liq)*(2*lambda_ice*mu_ice*Heaviside(-q_T) - lambda_ice*mu_ice - 2*Heaviside(-q_T) + 1)*exp(lambda_ice*q_T))*exp(-q_T*(lambda_ice + lambda_liq))/(lambda_ice - lambda_liq), Ne(lambda_ice, lambda_liq)), (lambda_liq**2*mu_liq*(lambda_ice**2*mu_ice*q_T*exp(lambda_liq*q_T) + (2*lambda_ice*mu_ice*Heaviside(-q_T) - lambda_ice*mu_ice - 2*Heaviside(-q_T) + 1)*exp(lambda_ice*q_T))*exp(-q_T*(lambda_ice + lambda_liq)), True))"
      ]
     },
     "execution_count": 340,
     "metadata": {},
     "output_type": "execute_result"
    }
   ],
   "source": [
    "pdfqt"
   ]
  },
  {
   "cell_type": "code",
   "execution_count": 322,
   "metadata": {
    "colab": {
     "base_uri": "https://localhost:8080/",
     "height": 0
    },
    "id": "JBZERvsqS5mk",
    "outputId": "20bc302a-4ec7-47c4-b3be-f02534a6bfd4"
   },
   "outputs": [
    {
     "name": "stdout",
     "output_type": "stream",
     "text": [
      "Piecewise((lambda_liq**2*mu_liq*(-lambda_ice**2*mu_ice*(1 - exp(q_T*(lambda_ice - lambda_liq)))*exp(lambda_liq*q_T) + (lambda_ice - lambda_liq)*(2*lambda_ice*mu_ice*Heaviside(-q_T) - lambda_ice*mu_ice - 2*Heaviside(-q_T) + 1)*exp(lambda_ice*q_T))*exp(-q_T*(lambda_ice + lambda_liq))/(lambda_ice - lambda_liq), Ne(lambda_ice, lambda_liq)), (lambda_liq**2*mu_liq*(lambda_ice**2*mu_ice*q_T*exp(lambda_liq*q_T) + (2*lambda_ice*mu_ice*Heaviside(-q_T) - lambda_ice*mu_ice - 2*Heaviside(-q_T) + 1)*exp(lambda_ice*q_T))*exp(-q_T*(lambda_ice + lambda_liq)), True))\n"
     ]
    }
   ],
   "source": [
    "print(pdfqt)"
   ]
  },
  {
   "cell_type": "code",
   "execution_count": 326,
   "metadata": {
    "id": "uBGGej6yT_Vg"
   },
   "outputs": [],
   "source": [
    "pdfqt_tmp = (lambda_liq**2*mu_liq*(-lambda_ice**2*mu_ice*(1 - exp(q_T*(lambda_ice - lambda_liq)))*exp(lambda_liq*q_T) + (lambda_ice - lambda_liq)*(2*lambda_ice*mu_ice*Heaviside(-q_T)*0 - lambda_ice*mu_ice - 2*Heaviside(-q_T)*0 + 1)*exp(lambda_ice*q_T))*exp(-q_T*(lambda_ice + lambda_liq))/(lambda_ice - lambda_liq))"
   ]
  },
  {
   "cell_type": "code",
   "execution_count": 331,
   "metadata": {
    "colab": {
     "base_uri": "https://localhost:8080/",
     "height": 62
    },
    "id": "ydfAUrm2U8Sp",
    "outputId": "2867a140-6200-4de9-afc2-d4949cda041e"
   },
   "outputs": [
    {
     "data": {
      "text/latex": [
       "$\\displaystyle \\frac{\\lambda_{liq}^{2} \\mu_{liq} \\left(- \\lambda_{ice}^{2} \\mu_{ice} \\left(1 - e^{q_{T} \\left(\\lambda_{ice} - \\lambda_{liq}\\right)}\\right) e^{\\lambda_{liq} q_{T}} + \\left(\\lambda_{ice} - \\lambda_{liq}\\right) \\left(- \\lambda_{ice} \\mu_{ice} + 1\\right) e^{\\lambda_{ice} q_{T}}\\right) e^{- q_{T} \\left(\\lambda_{ice} + \\lambda_{liq}\\right)}}{\\lambda_{ice} - \\lambda_{liq}}$"
      ],
      "text/plain": [
       "lambda_liq**2*mu_liq*(-lambda_ice**2*mu_ice*(1 - exp(q_T*(lambda_ice - lambda_liq)))*exp(lambda_liq*q_T) + (lambda_ice - lambda_liq)*(-lambda_ice*mu_ice + 1)*exp(lambda_ice*q_T))*exp(-q_T*(lambda_ice + lambda_liq))/(lambda_ice - lambda_liq)"
      ]
     },
     "execution_count": 331,
     "metadata": {},
     "output_type": "execute_result"
    }
   ],
   "source": [
    "pdfqt_tmp"
   ]
  },
  {
   "cell_type": "code",
   "execution_count": 345,
   "metadata": {
    "colab": {
     "base_uri": "https://localhost:8080/",
     "height": 62
    },
    "id": "mIIHOBA_UHyD",
    "outputId": "0efd743d-e9a0-464f-9272-6b39dcce6e5d"
   },
   "outputs": [
    {
     "data": {
      "text/latex": [
       "$\\displaystyle \\frac{\\lambda_{liq}^{2} \\mu_{liq} \\left(- \\lambda_{ice}^{2} \\mu_{ice} e^{\\lambda_{liq} q_{T}} + \\lambda_{ice} \\lambda_{liq} \\mu_{ice} e^{\\lambda_{ice} q_{T}} + \\lambda_{ice} e^{\\lambda_{ice} q_{T}} - \\lambda_{liq} e^{\\lambda_{ice} q_{T}}\\right) e^{- q_{T} \\left(\\lambda_{ice} + \\lambda_{liq}\\right)}}{\\lambda_{ice} - \\lambda_{liq}}$"
      ],
      "text/plain": [
       "lambda_liq**2*mu_liq*(-lambda_ice**2*mu_ice*exp(lambda_liq*q_T) + lambda_ice*lambda_liq*mu_ice*exp(lambda_ice*q_T) + lambda_ice*exp(lambda_ice*q_T) - lambda_liq*exp(lambda_ice*q_T))*exp(-q_T*(lambda_ice + lambda_liq))/(lambda_ice - lambda_liq)"
      ]
     },
     "execution_count": 345,
     "metadata": {},
     "output_type": "execute_result"
    }
   ],
   "source": [
    "pdfqt_tmp.factor().expand().simplify().collect(q_T)"
   ]
  },
  {
   "cell_type": "code",
   "execution_count": 346,
   "metadata": {
    "id": "f_yxGzVnWp6i"
   },
   "outputs": [],
   "source": [
    "a = symbols('a',positive=True)\n",
    "CC = integrate(pdfqt_tmp,(q_T,a,oo))"
   ]
  },
  {
   "cell_type": "code",
   "execution_count": 350,
   "metadata": {
    "colab": {
     "base_uri": "https://localhost:8080/",
     "height": 71
    },
    "id": "F6c-otqPXzwD",
    "outputId": "8a1bf11a-0332-4815-9d3a-89fd4e9b1651"
   },
   "outputs": [
    {
     "data": {
      "text/latex": [
       "$\\displaystyle - \\frac{\\lambda_{liq}^{2} \\mu_{liq} \\left(- \\frac{\\lambda_{ice} e^{- a \\lambda_{liq}}}{\\lambda_{liq}} + \\mu_{ice} \\left(- \\lambda_{ice} e^{- a \\lambda_{liq}} + \\lambda_{ice} e^{- a \\lambda_{ice}}\\right) + e^{- a \\lambda_{liq}}\\right)}{\\lambda_{ice} - \\lambda_{liq}}$"
      ],
      "text/plain": [
       "-lambda_liq**2*mu_liq*(-lambda_ice*exp(-a*lambda_liq)/lambda_liq + mu_ice*(-lambda_ice*exp(-a*lambda_liq) + lambda_ice*exp(-a*lambda_ice)) + exp(-a*lambda_liq))/(lambda_ice - lambda_liq)"
      ]
     },
     "execution_count": 350,
     "metadata": {},
     "output_type": "execute_result"
    }
   ],
   "source": [
    "CC.collect(mu_ice)"
   ]
  },
  {
   "cell_type": "code",
   "execution_count": 353,
   "metadata": {
    "colab": {
     "base_uri": "https://localhost:8080/",
     "height": 39
    },
    "id": "Duyqr92cYckh",
    "outputId": "4c3a5aff-1605-48c0-d68c-fa5b2cc8b0ef"
   },
   "outputs": [
    {
     "data": {
      "text/latex": [
       "$\\displaystyle \\lambda_{liq} \\mu_{liq}$"
      ],
      "text/plain": [
       "lambda_liq*mu_liq"
      ]
     },
     "execution_count": 353,
     "metadata": {},
     "output_type": "execute_result"
    }
   ],
   "source": [
    "CC.subs({a:0}).simplify()"
   ]
  }
 ],
 "metadata": {
  "colab": {
   "provenance": []
  },
  "kernelspec": {
   "display_name": "Python 3 (based on the module python3/2023.01)",
   "language": "python",
   "name": "python3_2023_01"
  },
  "language_info": {
   "codemirror_mode": {
    "name": "ipython",
    "version": 3
   },
   "file_extension": ".py",
   "mimetype": "text/x-python",
   "name": "python",
   "nbconvert_exporter": "python",
   "pygments_lexer": "ipython3",
   "version": "3.10.10"
  }
 },
 "nbformat": 4,
 "nbformat_minor": 4
}
